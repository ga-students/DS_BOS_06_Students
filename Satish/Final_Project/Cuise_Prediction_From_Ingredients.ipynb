{
 "cells": [
  {
   "cell_type": "markdown",
   "metadata": {},
   "source": [
    "##Cuisine Prediction Based on Ingredients"
   ]
  },
  {
   "cell_type": "markdown",
   "metadata": {},
   "source": [
    "The inspiration for this machine learning project comes from two things I love- food and economics,in that order. Or specifically from this article called [What Are the Defining Ingredients of a Culture’s Cuisine?](http://priceonomics.com/what-are-the-defining-ingredients-of-a-cultures/).  As Dan argues in the article, every cuisine (or most of them) seem to have some specific ingredients that underpin the most if not all dishes from that cusines. See [here](https://tableagent.com/article/an-overview-of-indias-regional-cuisines/), [here](http://www.splendidtable.org/story/the-very-definition-of-mexican-food-is-a-multicultural-cuisine) and [here](http://www.travelchinaguide.com/intro/cuisine_drink/cuisine/) for some examples of what I mean by the above. "
   ]
  },
  {
   "cell_type": "markdown",
   "metadata": {},
   "source": [
    "Anyway, what interesting from a data perspective is that, having certain defining ingredient(s) simply translates to saying there are certain specific axes or vectors  which a prediction algorithm ought to be able to identify that helps you predict with some accuracy that a dish belongs to a certain cuisine given its ingredients.\n",
    "\n",
    "[Prof.Yong-Yeol “YY” Ahn](http://yongyeol.com/) of Indian University,Bloomington provides such a [dataset](http://yongyeol.com/data/). The dataset accumulated from various recipes from magazines like [Epicurious](http://www.epicurious.com/),[Gourmet](http://www.gourmet.com/) and others."
   ]
  },
  {
   "cell_type": "code",
   "execution_count": 1,
   "metadata": {
    "collapsed": true
   },
   "outputs": [],
   "source": [
    "#Import the usual tools\n",
    "__author__ = 'satish'\n",
    "import numpy as np\n",
    "import pandas as pd\n",
    "from sklearn.feature_extraction.text import CountVectorizer,HashingVectorizer\n",
    "from sklearn.cross_validation import train_test_split\n",
    "from sklearn.naive_bayes import BernoulliNB\n",
    "from sklearn.naive_bayes import MultinomialNB,GaussianNB\n",
    "from sklearn.linear_model import LogisticRegression,RidgeClassifier,Perceptron,PassiveAggressiveClassifier\n",
    "from sklearn.neighbors import KNeighborsClassifier\n",
    "from sklearn.neighbors import NearestCentroid\n",
    "from sklearn.utils.extmath import density\n",
    "from sklearn import cross_validation\n",
    "from sklearn.metrics import confusion_matrix\n",
    "from sklearn.metrics import classification_report\n",
    "from sklearn.cross_validation import cross_val_score\n",
    "from sklearn import clone\n",
    "from sklearn.datasets import load_iris\n",
    "from sklearn.linear_model import SGDClassifier\n",
    "from sklearn.feature_extraction.text import TfidfTransformer,TfidfVectorizer\n",
    "from sklearn.ensemble import (RandomForestClassifier, ExtraTreesClassifier,\n",
    "                              AdaBoostClassifier)\n",
    "from sklearn.externals.six.moves import xrange\n",
    "from sklearn.tree import DecisionTreeClassifier\n",
    "from sklearn.feature_selection import SelectKBest, chi2\n",
    "from sklearn.pipeline import Pipeline\n",
    "from sklearn.svm import SVC,LinearSVC\n",
    "from sklearn.decomposition import PCA\n",
    "from sklearn.grid_search import GridSearchCV\n",
    "from sklearn.cross_validation import KFold\n",
    "from sklearn.metrics import confusion_matrix, f1_score,accuracy_score\n",
    "from time import time\n",
    "import matplotlib.pyplot as plt\n",
    "#Set seed to replicate results.\n",
    "np.random.seed(0)\n",
    "%matplotlib inline"
   ]
  },
  {
   "cell_type": "markdown",
   "metadata": {},
   "source": [
    "##Read Data\n",
    "Using Pandas read csv method to read the data. Since there are no header columns , we read in the data as is and then later split the data using a tab as the delimiter. "
   ]
  },
  {
   "cell_type": "code",
   "execution_count": 2,
   "metadata": {
    "collapsed": false
   },
   "outputs": [
    {
     "data": {
      "text/html": [
       "<div>\n",
       "<table border=\"1\" class=\"dataframe\">\n",
       "  <thead>\n",
       "    <tr style=\"text-align: right;\">\n",
       "      <th></th>\n",
       "      <th>col</th>\n",
       "    </tr>\n",
       "  </thead>\n",
       "  <tbody>\n",
       "    <tr>\n",
       "      <th>0</th>\n",
       "      <td>Vietnamese\\tvinegar\\tcilantro\\tmint\\tolive_oil...</td>\n",
       "    </tr>\n",
       "    <tr>\n",
       "      <th>1</th>\n",
       "      <td>Vietnamese\\tonion\\tcayenne\\tfish\\tblack_pepper...</td>\n",
       "    </tr>\n",
       "    <tr>\n",
       "      <th>2</th>\n",
       "      <td>Vietnamese\\tgarlic\\tsoy_sauce\\tlime_juice\\ttha...</td>\n",
       "    </tr>\n",
       "    <tr>\n",
       "      <th>3</th>\n",
       "      <td>Vietnamese\\tcilantro\\tshallot\\tlime_juice\\tfis...</td>\n",
       "    </tr>\n",
       "    <tr>\n",
       "      <th>4</th>\n",
       "      <td>Vietnamese\\tcoriander\\tvinegar\\tlemon\\tlime_ju...</td>\n",
       "    </tr>\n",
       "  </tbody>\n",
       "</table>\n",
       "</div>"
      ],
      "text/plain": [
       "                                                 col\n",
       "0  Vietnamese\\tvinegar\\tcilantro\\tmint\\tolive_oil...\n",
       "1  Vietnamese\\tonion\\tcayenne\\tfish\\tblack_pepper...\n",
       "2  Vietnamese\\tgarlic\\tsoy_sauce\\tlime_juice\\ttha...\n",
       "3  Vietnamese\\tcilantro\\tshallot\\tlime_juice\\tfis...\n",
       "4  Vietnamese\\tcoriander\\tvinegar\\tlemon\\tlime_ju..."
      ]
     },
     "execution_count": 2,
     "metadata": {},
     "output_type": "execute_result"
    }
   ],
   "source": [
    "epic_df = pd.read_csv('data/epic_recipes.txt',names=['col'],header=None)\n",
    "epic_df.head(5)"
   ]
  },
  {
   "cell_type": "markdown",
   "metadata": {},
   "source": [
    "As is evident from the data above, the data is not clearly tabulated to create a useable dataframe. Some amount of data munging would be need to done before the data is in a usable format. First thing we need to do is to split the 'col' column into Cuisine and the corresponding ingredients. The first element when split by '\\t' we get is the cuisine. Further the rest of the columns would be split by '\\t' and then joined by ',' and reset into the dataframe for pandas to parse it correctly. Since there are 3 files in all to parse, we encapsulate the clean up and parsing logic into a simple function that we apply on all data sources."
   ]
  },
  {
   "cell_type": "code",
   "execution_count": 3,
   "metadata": {
    "collapsed": true
   },
   "outputs": [],
   "source": [
    "def clean_data(filenames):\n",
    "    dfs=[]\n",
    "    for filename in filenames:\n",
    "        epic_df = pd.read_csv(filename,names=['col'],header=None)\n",
    "        epic_df['cuisine']=epic_df['col'].apply(lambda x : x.split('\\t')[0])\n",
    "        epic_df['ingredients'] = epic_df['col'].apply(lambda x:(',').join (x.split('\\t')[1:]))\n",
    "        epic_df.drop('col',inplace=True,axis=1)\n",
    "        dfs.append(epic_df)\n",
    "    return dfs"
   ]
  },
  {
   "cell_type": "code",
   "execution_count": 4,
   "metadata": {
    "collapsed": false
   },
   "outputs": [
    {
     "name": "stdout",
     "output_type": "stream",
     "text": [
      "<class 'pandas.core.frame.DataFrame'>\n",
      "Int64Index: 13408 entries, 0 to 13407\n",
      "Data columns (total 2 columns):\n",
      "cuisine        13408 non-null object\n",
      "ingredients    13408 non-null object\n",
      "dtypes: object(2)\n",
      "memory usage: 314.2+ KB\n",
      "None\n",
      "<class 'pandas.core.frame.DataFrame'>\n",
      "Int64Index: 41825 entries, 0 to 41824\n",
      "Data columns (total 2 columns):\n",
      "cuisine        41825 non-null object\n",
      "ingredients    41825 non-null object\n",
      "dtypes: object(2)\n",
      "memory usage: 980.3+ KB\n",
      "None\n",
      "<class 'pandas.core.frame.DataFrame'>\n",
      "Int64Index: 2458 entries, 0 to 2457\n",
      "Data columns (total 2 columns):\n",
      "cuisine        2458 non-null object\n",
      "ingredients    2458 non-null object\n",
      "dtypes: object(2)\n",
      "memory usage: 57.6+ KB\n",
      "None\n"
     ]
    },
    {
     "data": {
      "text/html": [
       "<div>\n",
       "<table border=\"1\" class=\"dataframe\">\n",
       "  <thead>\n",
       "    <tr style=\"text-align: right;\">\n",
       "      <th></th>\n",
       "      <th>cuisine</th>\n",
       "      <th>ingredients</th>\n",
       "    </tr>\n",
       "  </thead>\n",
       "  <tbody>\n",
       "    <tr>\n",
       "      <th>0</th>\n",
       "      <td>chinese</td>\n",
       "      <td>onion,beef,starch,sake,soy_sauce,scallion,lett...</td>\n",
       "    </tr>\n",
       "    <tr>\n",
       "      <th>1</th>\n",
       "      <td>chinese</td>\n",
       "      <td>pork,onion,black_pepper,cayenne,scallion,bean,...</td>\n",
       "    </tr>\n",
       "    <tr>\n",
       "      <th>2</th>\n",
       "      <td>chinese</td>\n",
       "      <td>tomato,vinegar,celery_oil,onion,corn,cayenne,g...</td>\n",
       "    </tr>\n",
       "    <tr>\n",
       "      <th>3</th>\n",
       "      <td>chinese</td>\n",
       "      <td>wheat,sesame_oil,starch,sake,soy_sauce,cayenne...</td>\n",
       "    </tr>\n",
       "  </tbody>\n",
       "</table>\n",
       "</div>"
      ],
      "text/plain": [
       "   cuisine                                        ingredients\n",
       "0  chinese  onion,beef,starch,sake,soy_sauce,scallion,lett...\n",
       "1  chinese  pork,onion,black_pepper,cayenne,scallion,bean,...\n",
       "2  chinese  tomato,vinegar,celery_oil,onion,corn,cayenne,g...\n",
       "3  chinese  wheat,sesame_oil,starch,sake,soy_sauce,cayenne..."
      ]
     },
     "execution_count": 4,
     "metadata": {},
     "output_type": "execute_result"
    }
   ],
   "source": [
    "datas= clean_data(['data/epic_recipes.txt','data/allr_recipes.txt','data/menu_recipes.txt'])\n",
    "for data in datas:\n",
    "    print data.info()\n",
    "data.head(4)"
   ]
  },
  {
   "cell_type": "markdown",
   "metadata": {},
   "source": [
    "So we end up with 3 dataframes each with two columns - cuisine and ingredients,each with the cuisine seperated from rest of the ingredients which are left as comma seperated values in the dataframe. We then join the three seperate dataframes into a single dataframe by concatenating. "
   ]
  },
  {
   "cell_type": "code",
   "execution_count": 5,
   "metadata": {
    "collapsed": false
   },
   "outputs": [
    {
     "data": {
      "text/html": [
       "<div>\n",
       "<table border=\"1\" class=\"dataframe\">\n",
       "  <thead>\n",
       "    <tr style=\"text-align: right;\">\n",
       "      <th></th>\n",
       "      <th>cuisine</th>\n",
       "      <th>ingredients</th>\n",
       "    </tr>\n",
       "  </thead>\n",
       "  <tbody>\n",
       "    <tr>\n",
       "      <th>0</th>\n",
       "      <td>Vietnamese</td>\n",
       "      <td>vinegar,cilantro,mint,olive_oil,cayenne,fish,l...</td>\n",
       "    </tr>\n",
       "    <tr>\n",
       "      <th>1</th>\n",
       "      <td>Vietnamese</td>\n",
       "      <td>onion,cayenne,fish,black_pepper,seed,garlic</td>\n",
       "    </tr>\n",
       "    <tr>\n",
       "      <th>2</th>\n",
       "      <td>Vietnamese</td>\n",
       "      <td>garlic,soy_sauce,lime_juice,thai_pepper</td>\n",
       "    </tr>\n",
       "  </tbody>\n",
       "</table>\n",
       "</div>"
      ],
      "text/plain": [
       "      cuisine                                        ingredients\n",
       "0  Vietnamese  vinegar,cilantro,mint,olive_oil,cayenne,fish,l...\n",
       "1  Vietnamese        onion,cayenne,fish,black_pepper,seed,garlic\n",
       "2  Vietnamese            garlic,soy_sauce,lime_juice,thai_pepper"
      ]
     },
     "execution_count": 5,
     "metadata": {},
     "output_type": "execute_result"
    }
   ],
   "source": [
    "df = pd.concat(datas)\n",
    "df.head(3)"
   ]
  },
  {
   "cell_type": "markdown",
   "metadata": {},
   "source": [
    "###Data Standardization\n",
    "Now that we have a concatenated set of dataframes, lets for a unique data uniqueness issues. Printing the 15 of sorted list of  cuisines reveal issues such as spelling mistakes, duplicate classification (china,chinese) and other errors. We run a simple standardization method on all cuisine column values to fix those issues."
   ]
  },
  {
   "cell_type": "code",
   "execution_count": 6,
   "metadata": {
    "collapsed": false
   },
   "outputs": [
    {
     "data": {
      "text/plain": [
       "['african',\n",
       " 'american',\n",
       " 'asian',\n",
       " 'asian',\n",
       " 'austria',\n",
       " 'bangladesh',\n",
       " 'belgium',\n",
       " 'cajun_creole',\n",
       " 'canada',\n",
       " 'caribbean',\n",
       " 'central_southamerican',\n",
       " 'china',\n",
       " 'chinese',\n",
       " 'chinese',\n",
       " 'east-african']"
      ]
     },
     "execution_count": 6,
     "metadata": {},
     "output_type": "execute_result"
    }
   ],
   "source": [
    "sorted([x.lower() for x in df.cuisine.unique().tolist()])[:15]"
   ]
  },
  {
   "cell_type": "code",
   "execution_count": 7,
   "metadata": {
    "collapsed": true
   },
   "outputs": [],
   "source": [
    "def standardize_cuisine_names(cuisine):\n",
    "    return {\n",
    "        'italian':'Italian',\n",
    "        'asian':'Asian',\n",
    "        'mexico':'Mexico',\n",
    "        'japanese':'Japanese',\n",
    "        'chinese':'Chinese',\n",
    "        'China'  :'Chinese', \n",
    "        'korean' : 'Korean',\n",
    "        'Korea'  : 'Korean',\n",
    "        'Japan':'Japanese',\n",
    "        'Korea':'Korean',\n",
    "        'France' :'French',\n",
    "        'India'  :'Indian',\n",
    "        'Italy'  :'Italian',\n",
    "        'Thailand' :'Thai',\n",
    "        'Mexico':'Mexican',\n",
    "        'Scandinavia':'Scandinavian',\n",
    "        'Germany':'German'\n",
    "        \n",
    "    }.get(cuisine,cuisine)"
   ]
  },
  {
   "cell_type": "code",
   "execution_count": 8,
   "metadata": {
    "collapsed": true
   },
   "outputs": [],
   "source": [
    "df.cuisine= df.cuisine.apply(lambda x : standardize_cuisine_names(x))"
   ]
  },
  {
   "cell_type": "code",
   "execution_count": 9,
   "metadata": {
    "collapsed": false
   },
   "outputs": [
    {
     "data": {
      "text/plain": [
       "['african',\n",
       " 'american',\n",
       " 'asian',\n",
       " 'austria',\n",
       " 'bangladesh',\n",
       " 'belgium',\n",
       " 'cajun_creole',\n",
       " 'canada',\n",
       " 'caribbean',\n",
       " 'central_southamerican',\n",
       " 'chinese',\n",
       " 'east-african',\n",
       " 'east_asian',\n",
       " 'eastern-europe',\n",
       " 'easterneuropean_russian']"
      ]
     },
     "execution_count": 9,
     "metadata": {},
     "output_type": "execute_result"
    }
   ],
   "source": [
    "sorted([x.lower() for x in df.cuisine.unique().tolist()])[:15]"
   ]
  },
  {
   "cell_type": "markdown",
   "metadata": {},
   "source": [
    "Another level of classification would be to move from a simple country specific cuisine to a regional specific cuisine. This will help us move away from issues such eastern_europe and easterneurpoean_russian. Fortunately the map.txt in the dataset already classifies all cuisines to each of the region specific. We read this mapping - country specific cuisine to a particular region mapping into dict to make the look ups simple. The we use the apply function in pandas to apply the lambda function to look up the region for each of the cuisines."
   ]
  },
  {
   "cell_type": "code",
   "execution_count": 10,
   "metadata": {
    "collapsed": false
   },
   "outputs": [],
   "source": [
    "map_dict = {}\n",
    "with open('data/map.txt') as f:\n",
    "    for line in f:\n",
    "        keys = line.split()\n",
    "        if(len(keys)>1):\n",
    "            (key,val)=keys\n",
    "            map_dict[key]=val"
   ]
  },
  {
   "cell_type": "code",
   "execution_count": 11,
   "metadata": {
    "collapsed": true
   },
   "outputs": [],
   "source": [
    "df['cuisine_group']= df.cuisine.apply(lambda x : map_dict.get(x))"
   ]
  },
  {
   "cell_type": "code",
   "execution_count": 12,
   "metadata": {
    "collapsed": false
   },
   "outputs": [
    {
     "data": {
      "text/html": [
       "<div>\n",
       "<table border=\"1\" class=\"dataframe\">\n",
       "  <thead>\n",
       "    <tr style=\"text-align: right;\">\n",
       "      <th></th>\n",
       "      <th>cuisine</th>\n",
       "      <th>ingredients</th>\n",
       "      <th>cuisine_group</th>\n",
       "    </tr>\n",
       "  </thead>\n",
       "  <tbody>\n",
       "    <tr>\n",
       "      <th>0</th>\n",
       "      <td>Vietnamese</td>\n",
       "      <td>vinegar,cilantro,mint,olive_oil,cayenne,fish,l...</td>\n",
       "      <td>SoutheastAsian</td>\n",
       "    </tr>\n",
       "    <tr>\n",
       "      <th>1</th>\n",
       "      <td>Vietnamese</td>\n",
       "      <td>onion,cayenne,fish,black_pepper,seed,garlic</td>\n",
       "      <td>SoutheastAsian</td>\n",
       "    </tr>\n",
       "    <tr>\n",
       "      <th>2</th>\n",
       "      <td>Vietnamese</td>\n",
       "      <td>garlic,soy_sauce,lime_juice,thai_pepper</td>\n",
       "      <td>SoutheastAsian</td>\n",
       "    </tr>\n",
       "    <tr>\n",
       "      <th>3</th>\n",
       "      <td>Vietnamese</td>\n",
       "      <td>cilantro,shallot,lime_juice,fish,cayenne,ginge...</td>\n",
       "      <td>SoutheastAsian</td>\n",
       "    </tr>\n",
       "    <tr>\n",
       "      <th>4</th>\n",
       "      <td>Vietnamese</td>\n",
       "      <td>coriander,vinegar,lemon,lime_juice,fish,cayenn...</td>\n",
       "      <td>SoutheastAsian</td>\n",
       "    </tr>\n",
       "  </tbody>\n",
       "</table>\n",
       "</div>"
      ],
      "text/plain": [
       "      cuisine                                        ingredients  \\\n",
       "0  Vietnamese  vinegar,cilantro,mint,olive_oil,cayenne,fish,l...   \n",
       "1  Vietnamese        onion,cayenne,fish,black_pepper,seed,garlic   \n",
       "2  Vietnamese            garlic,soy_sauce,lime_juice,thai_pepper   \n",
       "3  Vietnamese  cilantro,shallot,lime_juice,fish,cayenne,ginge...   \n",
       "4  Vietnamese  coriander,vinegar,lemon,lime_juice,fish,cayenn...   \n",
       "\n",
       "    cuisine_group  \n",
       "0  SoutheastAsian  \n",
       "1  SoutheastAsian  \n",
       "2  SoutheastAsian  \n",
       "3  SoutheastAsian  \n",
       "4  SoutheastAsian  "
      ]
     },
     "execution_count": 12,
     "metadata": {},
     "output_type": "execute_result"
    }
   ],
   "source": [
    "df.head(5)"
   ]
  },
  {
   "cell_type": "markdown",
   "metadata": {},
   "source": [
    "###Data Exploration.\n",
    "Lets look at some patterns in the data before we try our hand aat any of the prediction algorithms"
   ]
  },
  {
   "cell_type": "code",
   "execution_count": 38,
   "metadata": {
    "collapsed": false
   },
   "outputs": [
    {
     "name": "stdout",
     "output_type": "stream",
     "text": [
      "57691\n",
      "                    cuisine  ingredients\n",
      "cuisine_group                           \n",
      "African            0.610147     0.610147\n",
      "EastAsian          6.422146     6.422146\n",
      "EasternEuropean    0.660415     0.660415\n",
      "LatinAmerican      5.056248     5.056248\n",
      "MiddleEastern      1.118025     1.118025\n",
      "NorthAmerican     71.976565    71.976565\n",
      "NorthernEuropean   0.433343     0.433343\n",
      "SouthAsian         1.076424     1.076424\n",
      "SoutheastAsian     0.792151     0.792151\n",
      "SouthernEuropean   7.245498     7.245498\n",
      "WesternEuropean    4.609038     4.609038\n"
     ]
    },
    {
     "data": {
      "text/plain": [
       "<matplotlib.axes._subplots.AxesSubplot at 0x10a45e110>"
      ]
     },
     "execution_count": 38,
     "metadata": {},
     "output_type": "execute_result"
    },
    {
     "data": {
      "image/png": "[encoded data removed]",
      "text/plain": [
       "<matplotlib.figure.Figure at 0x10ddb2dd0>"
      ]
     },
     "metadata": {},
     "output_type": "display_data"
    }
   ],
   "source": [
    "print len(df.cuisine_group)\n",
    "##Examine the cuisine groups. \n",
    "#print df.cuisine_group.value_counts().apply(lambda x : 100*x/float(x.sum()))\n",
    "print df.groupby('cuisine_group').count().apply(lambda x : 100*x/float(x.sum()))\n",
    "df.groupby('cuisine_group')['cuisine'].count().plot(kind='bar')"
   ]
  },
  {
   "cell_type": "markdown",
   "metadata": {},
   "source": [
    "Clearly no suprise there. As most of the recipes came from American Magazines,North American cuisine is defintely overreprested as compared to the other regions, followed by Southern European and others. "
   ]
  },
  {
   "cell_type": "markdown",
   "metadata": {},
   "source": [
    "##Vectorization\n",
    "The features in this data set are the ingredients of the dish themselves.Each ingredient specific to that dish becomes a feature of that dish and hence the cuisine.Since this is text, we use a count vectorizer to do that. Now in this case since an ingredient will either occur or not in a dish ,this fits the Boolean Occurence model of the Bag of Words model. The appropriate vectorizer to choose in this case would be the Binary Vectorizer..essentially setting the binary property of CountVectorizer to true.\n",
    "Once we vectorize using a binary vectorizer, we build a document term matrix using the ingredients of each recipe as the document. "
   ]
  },
  {
   "cell_type": "code",
   "execution_count": 14,
   "metadata": {
    "collapsed": false
   },
   "outputs": [
    {
     "name": "stdout",
     "output_type": "stream",
     "text": [
      "[[0 0 0 ..., 0 0 0]\n",
      " [0 0 0 ..., 0 0 0]\n",
      " [0 0 0 ..., 0 0 0]\n",
      " ..., \n",
      " [0 0 0 ..., 0 0 0]\n",
      " [0 0 0 ..., 0 0 0]\n",
      " [0 0 0 ..., 0 0 0]] [u'almond', u'angelica', u'anise', u'anise_seed', u'apple', u'apple_brandy', u'apricot', u'armagnac', u'artemisia', u'artichoke', u'asparagus', u'avocado', u'bacon', u'baked_potato', u'balm', u'banana', u'barley', u'bartlett_pear', u'basil', u'bay', u'bean', u'beech', u'beef', u'beef_broth', u'beef_liver', u'beer', u'beet', u'bell_pepper', u'bergamot', u'berry', u'bitter_orange', u'black_bean', u'black_currant', u'black_mustard_seed_oil', u'black_pepper', u'black_raspberry', u'black_sesame_seed', u'black_tea', u'blackberry', u'blackberry_brandy', u'blue_cheese', u'blueberry', u'bone_oil', u'bourbon_whiskey', u'brandy', u'brassica', u'bread', u'broccoli', u'brown_rice', u'brussels_sprout', u'buckwheat', u'butter', u'buttermilk', u'cabbage', u'cabernet_sauvignon_wine', u'cacao', u'camembert_cheese', u'cane_molasses', u'caraway', u'cardamom', u'carnation', u'carob', u'carrot', u'cashew', u'cassava', u'catfish', u'cauliflower', u'caviar', u'cayenne', u'celery', u'celery_oil', u'cereal', u'chamomile', u'champagne_wine', u'chayote', u'cheddar_cheese', u'cheese', u'cherry', u'cherry_brandy', u'chervil', u'chicken', u'chicken_broth', u'chicken_liver', u'chickpea', u'chicory', u'chinese_cabbage', u'chive', u'cider', u'cilantro', u'cinnamon', u'citrus', u'citrus_peel', u'clam', u'clove', u'cocoa', u'coconut', u'coconut_oil', u'cod', u'coffee', u'cognac', u'concord_grape', u'condiment', u'coriander', u'corn', u'corn_flake', u'corn_grit', u'cottage_cheese', u'crab', u'cranberry', u'cream', u'cream_cheese', u'cucumber', u'cumin', u'cured_pork', u'currant', u'date', u'dill', u'durian', u'eel', u'egg', u'egg_noodle', u'elderberry', u'emmental_cheese', u'endive', u'enokidake', u'fennel', u'fenugreek', u'feta_cheese', u'fig', u'fish', u'flower', u'frankfurter', u'fruit', u'galanga', u'gardenia', u'garlic', u'gelatin', u'geranium', u'gin', u'ginger', u'goat_cheese', u'grape', u'grape_brandy', u'grape_juice', u'grapefruit', u'green_bell_pepper', u'green_tea', u'gruyere_cheese', u'guava', u'haddock', u'ham', u'hazelnut', u'herring', u'holy_basil', u'honey', u'hop', u'horseradish', u'huckleberry', u'jamaican_rum', u'japanese_plum', u'jasmine', u'jasmine_tea', u'juniper_berry', u'kaffir_lime', u'kale', u'katsuobushi', u'kelp', u'kidney_bean', u'kiwi', u'kohlrabi', u'kumquat', u'lamb', u'lard', u'laurel', u'lavender', u'leaf', u'leek', u'lemon', u'lemon_juice', u'lemon_peel', u'lemongrass', u'lentil', u'lettuce', u'licorice', u'lilac_flower_oil', u'lima_bean', u'lime', u'lime_juice', u'lime_peel_oil', u'lingonberry', u'litchi', u'liver', u'lobster', u'long_pepper', u'lovage', u'macadamia_nut', u'macaroni', u'mace', u'mackerel', u'malt', u'mandarin', u'mandarin_peel', u'mango', u'maple_syrup', u'marjoram', u'mate', u'matsutake', u'meat', u'melon', u'milk', u'milk_fat', u'mint', u'mozzarella_cheese', u'mung_bean', u'munster_cheese', u'muscat_grape', u'mushroom', u'mussel', u'mustard', u'mutton', u'nectarine', u'nira', u'nut', u'nutmeg', u'oat', u'oatmeal', u'octopus', u'okra', u'olive', u'olive_oil', u'onion', u'orange', u'orange_flower', u'orange_juice', u'orange_peel', u'oregano', u'ouzo', u'oyster', u'palm', u'papaya', u'parmesan_cheese', u'parsley', u'parsnip', u'passion_fruit', u'pea', u'peach', u'peanut', u'peanut_butter', u'peanut_oil', u'pear', u'pear_brandy', u'pecan', u'pelargonium', u'pepper', u'peppermint', u'peppermint_oil', u'pimenta', u'pimento', u'pineapple', u'pistachio', u'plum', u'popcorn', u'porcini', u'pork', u'pork_liver', u'pork_sausage', u'port_wine', u'potato', u'potato_chip', u'prawn', u'prickly_pear', u'provolone_cheese', u'pumpkin', u'quince', u'radish', u'raisin', u'rapeseed', u'raspberry', u'raw_beef', u'red_algae', u'red_bean', u'red_kidney_bean', u'red_wine', u'rhubarb', u'rice', u'roasted_almond', u'roasted_beef', u'roasted_hazelnut', u'roasted_meat', u'roasted_nut', u'roasted_peanut', u'roasted_pecan', u'roasted_pork', u'roasted_sesame_seed', u'romano_cheese', u'root', u'roquefort_cheese', u'rose', u'rosemary', u'rum', u'rutabaga', u'rye_bread', u'rye_flour', u'saffron', u'sage', u'sake', u'salmon', u'salmon_roe', u'sassafras', u'sauerkraut', u'savory', u'scallion', u'scallop', u'sea_algae', u'seaweed', u'seed', u'sesame_oil', u'sesame_seed', u'shallot', u'sheep_cheese', u'shellfish', u'sherry', u'shiitake', u'shrimp', u'smoke', u'smoked_fish', u'smoked_salmon', u'smoked_sausage', u'sour_cherry', u'sour_milk', u'soy_sauce', u'soybean', u'soybean_oil', u'spearmint', u'squash', u'squid', u'star_anise', u'starch', u'strawberry', u'strawberry_jam', u'strawberry_juice', u'sturgeon_caviar', u'sumac', u'sunflower_oil', u'sweet_potato', u'swiss_cheese', u'tabasco_pepper', u'tamarind', u'tangerine', u'tarragon', u'tea', u'tequila', u'thai_pepper', u'thyme', u'tomato', u'tomato_juice', u'truffle', u'tuna', u'turkey', u'turmeric', u'turnip', u'vanilla', u'veal', u'vegetable', u'vegetable_oil', u'vinegar', u'violet', u'walnut', u'wasabi', u'watercress', u'watermelon', u'wheat', u'wheat_bread', u'whiskey', u'white_bread', u'white_wine', u'whole_grain_wheat_flour', u'wine', u'wood', u'yam', u'yeast', u'yogurt', u'zucchini']\n"
     ]
    }
   ],
   "source": [
    "# Create a TFIDF vectorizer\n",
    "count_vect = CountVectorizer(decode_error = 'ignore', binary=True)\n",
    "# Call fit to do our frequency vectorization\n",
    "df_dtm =  count_vect.fit_transform(df.ingredients)\n",
    "print df_dtm.toarray(),count_vect.get_feature_names()"
   ]
  },
  {
   "cell_type": "markdown",
   "metadata": {},
   "source": [
    "####TBD - Look for patterns such as what ingredients occur most across all cuisines, across each cuisine, whats most rarest among all cuisines, among each cuisine. Types of meats and other specific ingredients across each cuisine"
   ]
  },
  {
   "cell_type": "markdown",
   "metadata": {},
   "source": [
    "### Lets fit some models.   - Round 1 - Stick to Standard Text Classification Algorithms"
   ]
  },
  {
   "cell_type": "code",
   "execution_count": 15,
   "metadata": {
    "collapsed": false
   },
   "outputs": [
    {
     "data": {
      "text/plain": [
       "array(['African', 'EastAsian', 'EasternEuropean', 'LatinAmerican',\n",
       "       'MiddleEastern', 'NorthAmerican', 'NorthernEuropean', 'SouthAsian',\n",
       "       'SoutheastAsian', 'SouthernEuropean', 'WesternEuropean'], \n",
       "      dtype='|S16')"
      ]
     },
     "execution_count": 15,
     "metadata": {},
     "output_type": "execute_result"
    }
   ],
   "source": [
    "##Before any thing, lets split the entire data set into training and test. \n",
    "# Split the data into a 70/30 train/test split\n",
    "X_train, X_test, y_train, y_test = train_test_split(df.ingredients, df.cuisine_group, test_size=0.3)\n",
    "unique_cuisine_group = df.cuisine_group.unique().tolist()\n",
    "##For us to be able to use any of the prediction models we need turn the cuisine groups from earlier into numerical labels.\n",
    "## We use the standard Label Encoder to this.\n",
    "from sklearn.preprocessing import LabelEncoder\n",
    "le= LabelEncoder()\n",
    "le.fit(unique_cuisine_group)\n",
    "y_train =  le.transform(y_train)\n",
    "y_test =  le.transform(y_test)\n",
    "le.classes_"
   ]
  },
  {
   "cell_type": "code",
   "execution_count": 16,
   "metadata": {
    "collapsed": false
   },
   "outputs": [
    {
     "data": {
      "text/plain": [
       "0.70776519528541715"
      ]
     },
     "execution_count": 16,
     "metadata": {},
     "output_type": "execute_result"
    }
   ],
   "source": [
    "##Build the Document Term Matrix based on the vectorizer that was created earler. \n",
    "train_simple_dtm = count_vect.transform(X_train)\n",
    "test_simple_dtm = count_vect.transform(X_test)\n",
    "\n",
    "##Given that we have a set of feature vectors that have a binary occurence probability in a certain dish/document, we \n",
    "#look at the naive bayseien model as our initial model. \n",
    "# Create the model\n",
    "bnb = BernoulliNB()\n",
    "# Fit the model to the training data\n",
    "bnb.fit(train_simple_dtm, y_train)\n",
    "# Score the model against the test data\n",
    "bnb.score(test_simple_dtm, y_test)"
   ]
  },
  {
   "cell_type": "markdown",
   "metadata": {},
   "source": [
    "So a simple Bernoulli Naive Bayes model with no frills is able to predict with about 71.1% accuracy on our test data set. "
   ]
  },
  {
   "cell_type": "markdown",
   "metadata": {},
   "source": [
    "###Set up a pipeline for vectorization , transformation and classification\n",
    "classfication with a Multinomial Bayesian classifier while also looking building a TF-IDF Transformer\n",
    "\n",
    "\n",
    "I use a stratified K fold classifier to ensure I have equally weighted sample of different classes in my train and test samples. I do this because as I showed earlier I have lop-sided percentage of various types of my cuisine groups in my data set. \n",
    "Similarly I set up a pipe line to build a document term matrix for each train sample using a binary vectorizer with a TF-IDF document transformer.\n",
    "\n",
    "Similarly I use a simple accuracy score function to measure the accuracy of the prediction. I also set up methods to generate a confusion matrix and plotting of a confusion matrix for on hand later.\n",
    "\n",
    "###QQQ - Is a simple accuracy score a good measure of accuracy in this case, or should I also weight the accuracy based on the class i.e. use f1-score with average = weighted ??\n"
   ]
  },
  {
   "cell_type": "code",
   "execution_count": 17,
   "metadata": {
    "collapsed": false
   },
   "outputs": [],
   "source": [
    "from  sklearn.base import TransformerMixin\n",
    "class DenseTransformer(TransformerMixin):\n",
    "\n",
    "    def transform(self, X, y=None, **fit_params):\n",
    "        return X.todense()\n",
    "\n",
    "    def fit_transform(self, X, y=None, **fit_params):\n",
    "        self.fit(X, y, **fit_params)\n",
    "        return self.transform(X)\n",
    "\n",
    "    def fit(self, X, y=None, **fit_params):\n",
    "        return self\n",
    "\n",
    "\n",
    "def plot_confusion_matrix(cm, df,title='Confusion matrix', cmap=plt.cm.Blues):\n",
    "    plt.figure()\n",
    "    plt.imshow(cm, interpolation='nearest', cmap=cmap)\n",
    "    plt.title(title)\n",
    "    plt.colorbar()\n",
    "    tick_marks = np.arange(len(df.cuisine_group))\n",
    "    plt.xticks(tick_marks, df.cuisine_group, rotation=45)\n",
    "    plt.yticks(tick_marks, df.cuisine_group)\n",
    "    plt.tight_layout()\n",
    "    plt.ylabel('True label')\n",
    "    plt.xlabel('Predicted label')\n",
    "    plt.show()\n",
    "    \n",
    "    \n",
    "def compute_cm(y_test,y_pred,df):\n",
    "    cm = confusion_matrix(test_y,predictions)\n",
    "    np.set_printoptions(precision=2)\n",
    "    print('Confusion matrix, without normalization')\n",
    "    print(cm)\n",
    "    plot_confusion_matrix(cm,data)\n",
    "    # Normalize the confusion matrix by row (i.e by the number of samples\n",
    "    # in each class)\n",
    "    cm_normalized = cm.astype('float') / cm.sum(axis=1)[:, np.newaxis]\n",
    "    print('Normalized confusion matrix')\n",
    "    print(cm_normalized)\n",
    "    plot_confusion_matrix(cm_normalized,data, title='Normalized confusion matrix')\n",
    "    \n",
    "\n",
    "    \n",
    "def kfold_pipeline_classifier(pipeline,data):\n",
    "    #sss = cross_validation.StratifiedShuffleSplit(le.transform(data.cuisine_group),test_size =0.3,random_state=42)\n",
    "    sss = cross_validation.StratifiedKFold(le.transform(data.cuisine_group),n_folds=6,shuffle=True,random_state=42)\n",
    "    scores = []\n",
    "    confusion = np.array([[0, 0], [0, 0]])\n",
    "    for train_indices, test_indices in sss:\n",
    "        train_text = data.iloc[train_indices]['ingredients'].values\n",
    "        train_y = le.transform(data.iloc[train_indices]['cuisine_group'].values)\n",
    "        test_text = data.iloc[test_indices]['ingredients'].values\n",
    "        test_y = le.transform(data.iloc[test_indices]['cuisine_group'].values)\n",
    "        pipeline.fit(train_text, train_y)\n",
    "        predictions = pipeline.predict(test_text)\n",
    "        #score = f1_score(test_y, predictions, average='weighted') \n",
    "        score =accuracy_score(test_y,predictions)\n",
    "        scores.append(score)\n",
    "    return scores\n"
   ]
  },
  {
   "cell_type": "code",
   "execution_count": 18,
   "metadata": {
    "collapsed": false
   },
   "outputs": [
    {
     "name": "stdout",
     "output_type": "stream",
     "text": [
      "Cross Validation Scores \n",
      "[0.70491632886394351, 0.70763152422541065, 0.70576003327095027, 0.70782192635739549, 0.7104058272632674, 0.70322580645161292]\n",
      " Mean accuracy with BernoulliNB 0.7066\n"
     ]
    }
   ],
   "source": [
    "bernouli_pipeline = Pipeline([('vect',CountVectorizer(decode_error = 'ignore', binary=True)),\n",
    "                     ('tfidf', TfidfTransformer()),\n",
    "                     ('to_dense', DenseTransformer()),\n",
    "                     ('clf',BernoulliNB())])\n",
    "scores = kfold_pipeline_classifier(bernouli_pipeline,df)\n",
    "print \"Cross Validation Scores \"\n",
    "print scores\n",
    "print \" Mean accuracy with BernoulliNB %.4f\" % np.mean(scores)\n"
   ]
  },
  {
   "cell_type": "code",
   "execution_count": 19,
   "metadata": {
    "collapsed": false
   },
   "outputs": [
    {
     "name": "stdout",
     "output_type": "stream",
     "text": [
      "Cross Validation Scores \n",
      "[0.76967051242074624, 0.77573300062383033, 0.77521314202536906, 0.77366340753068441, 0.77273673257023934, 0.7734651404786681]\n",
      " Mean accuracy with MultinomialNB 0.7734\n"
     ]
    }
   ],
   "source": [
    "multinomial_pipeline = Pipeline([('vect',CountVectorizer(decode_error = 'ignore', binary=True)),\n",
    "                     ('tfidf', TfidfTransformer()),\n",
    "                     ('to_dense', DenseTransformer()),\n",
    "                     ('clf',MultinomialNB())])\n",
    "\n",
    "scores = kfold_pipeline_classifier(multinomial_pipeline,df)\n",
    "print \"Cross Validation Scores \"\n",
    "print scores\n",
    "print \" Mean accuracy with MultinomialNB %.4f\" % np.mean(scores)\n",
    "\n"
   ]
  },
  {
   "cell_type": "markdown",
   "metadata": {},
   "source": [
    "While we are at it, lets also look at the commonly used classifiers for text classification before moving to feature engineering or grid searches for optimal parameters."
   ]
  },
  {
   "cell_type": "code",
   "execution_count": 20,
   "metadata": {
    "collapsed": false
   },
   "outputs": [
    {
     "name": "stdout",
     "output_type": "stream",
     "text": [
      "Cross Validation Scores \n",
      "[0.061843883172227422, 0.060095653982116866, 0.064150551050114371, 0.060120657374661948, 0.060874089490114462, 0.05442247658688866]\n",
      " Mean accuracy with GaussianNB 0.0603\n"
     ]
    }
   ],
   "source": [
    "guassian_pipeline = Pipeline([('vect',CountVectorizer(decode_error = 'ignore', binary=True)),\n",
    "                     ('tfidf', TfidfTransformer()),\n",
    "                     ('to_dense', DenseTransformer()),\n",
    "                     ('clf',GaussianNB())])\n",
    "\n",
    "scores = kfold_pipeline_classifier(guassian_pipeline,df)\n",
    "print \"Cross Validation Scores \"\n",
    "print scores\n",
    "print \" Mean accuracy with GaussianNB %.4f\" % np.mean(scores)\n",
    "\n"
   ]
  },
  {
   "cell_type": "markdown",
   "metadata": {},
   "source": [
    "###Logistic Regression \n",
    "Another workhorse model of text classification ,trying the Logistic regression for multi class set up case."
   ]
  },
  {
   "cell_type": "code",
   "execution_count": 21,
   "metadata": {
    "collapsed": false
   },
   "outputs": [
    {
     "name": "stdout",
     "output_type": "stream",
     "text": [
      "Cross Validation Scores \n",
      "[0.78318262134913208, 0.78800166354751511, 0.78966521106259102, 0.78884959434158519, 0.78886576482830384, 0.78688865764828309]\n",
      " Mean accuracy with Logistic regression 0.7876\n"
     ]
    }
   ],
   "source": [
    "logistic_regr_pipeline_l2 = Pipeline([('vect',CountVectorizer(decode_error = 'ignore', binary=True)),\n",
    "                     ('tfidf', TfidfTransformer()),\n",
    "                     ('to_dense', DenseTransformer()),\n",
    "                     ('clf',LogisticRegression(multi_class='ovr',random_state=42,penalty='l2', tol=.01,C=1e5))])\n",
    "\n",
    "scores = kfold_pipeline_classifier(logistic_regr_pipeline_l2,df)\n",
    "print \"Cross Validation Scores \"\n",
    "print scores\n",
    "print \" Mean accuracy with Logistic regression %.4f\" % np.mean(scores)"
   ]
  },
  {
   "cell_type": "code",
   "execution_count": 22,
   "metadata": {
    "collapsed": false
   },
   "outputs": [
    {
     "name": "stdout",
     "output_type": "stream",
     "text": [
      "Cross Validation Scores \n",
      "[0.78339049994803034, 0.78820960698689957, 0.78987315450197548, 0.78812148949448724, 0.78938605619146718, 0.78813735691987508]\n",
      " Mean accuracy with Logistic regression 0.7879\n"
     ]
    }
   ],
   "source": [
    "logistic_regr_pipeline_l1 = Pipeline([('vect',CountVectorizer(decode_error = 'ignore', binary=True)),\n",
    "                     ('tfidf', TfidfTransformer()),\n",
    "                     ('to_dense', DenseTransformer()),\n",
    "                     ('clf',LogisticRegression(multi_class='ovr',random_state=42,penalty='l1', tol=.01,C=1e5))])\n",
    "\n",
    "scores = kfold_pipeline_classifier(logistic_regr_pipeline_l1,df)\n",
    "print \"Cross Validation Scores \"\n",
    "print scores\n",
    "print \" Mean accuracy with Logistic regression %.4f\" % np.mean(scores)"
   ]
  },
  {
   "cell_type": "markdown",
   "metadata": {
    "collapsed": true
   },
   "source": [
    "### Support Vector Classifiers.\n",
    "So we achived a 75.5% accuracy on the model with the Multinomial NB and about 76.7% with the Logistic Regression for multi class classification. Lets see if we can do better with a more sophisticated algorithm such a support vector machines which is generally regarded as on of the best text classification algorithms. These are specially effective in high dimensional space as is the case here. Running the standard SVM classifiers to see the prediction scores."
   ]
  },
  {
   "cell_type": "code",
   "execution_count": 23,
   "metadata": {
    "collapsed": false
   },
   "outputs": [
    {
     "name": "stdout",
     "output_type": "stream",
     "text": [
      "Cross Validation Scores \n",
      "[0.75584658559401308, 0.75836972343522557, 0.75629028904138074, 0.75473268150613693, 0.75941727367325706, 0.75796045785639954]\n",
      " Mean accuracy with SGDClassifier 0.7571\n"
     ]
    }
   ],
   "source": [
    "sgd_pipeline = Pipeline([('vect',CountVectorizer(decode_error = 'ignore', binary=True)),\n",
    "                     ('tfidf', TfidfTransformer()),\n",
    "                     ('to_dense', DenseTransformer()),\n",
    "                    ('clf',SGDClassifier(loss='hinge', penalty='l2',alpha=1e-3, n_iter=5, random_state=42))])\n",
    "\n",
    "scores = kfold_pipeline_classifier(sgd_pipeline,df)\n",
    "print \"Cross Validation Scores \"\n",
    "print scores\n",
    "print \" Mean accuracy with SGDClassifier %.4f\" % np.mean(scores)"
   ]
  },
  {
   "cell_type": "code",
   "execution_count": 24,
   "metadata": {
    "collapsed": false
   },
   "outputs": [
    {
     "name": "stdout",
     "output_type": "stream",
     "text": [
      "Cross Validation Scores \n",
      "[0.76145930776426562, 0.74370971095861926, 0.72894572676232061, 0.74880382775119614, 0.53673257023933407, 0.76035379812695114]\n",
      " Mean accuracy with Linear SVC 0.7133\n"
     ]
    }
   ],
   "source": [
    "linear_svc_pipeline = Pipeline([('vect',CountVectorizer(decode_error = 'ignore', binary=True)),\n",
    "                     ('tfidf', TfidfTransformer()),\n",
    "                     ('to_dense', DenseTransformer()),\n",
    "                    ('clf',LinearSVC(penalty='l2',tol=.01,C=1e5,multi_class='ovr'))])\n",
    "\n",
    "scores = kfold_pipeline_classifier(linear_svc_pipeline,df)\n",
    "print \"Cross Validation Scores \"\n",
    "print scores\n",
    "print \" Mean accuracy with Linear SVC %.4f\" % np.mean(scores)"
   ]
  },
  {
   "cell_type": "markdown",
   "metadata": {},
   "source": [
    "###Initial GridSearch with MultinomialNB "
   ]
  },
  {
   "cell_type": "code",
   "execution_count": 25,
   "metadata": {
    "collapsed": false
   },
   "outputs": [
    {
     "name": "stdout",
     "output_type": "stream",
     "text": [
      "Fitting the classifier to the training set\n",
      "Fitting 3 folds for each of 12 candidates, totalling 36 fits\n"
     ]
    },
    {
     "name": "stderr",
     "output_type": "stream",
     "text": [
      "[Parallel(n_jobs=-1)]: Done   1 jobs       | elapsed:    1.3s\n",
      "[Parallel(n_jobs=-1)]: Done  30 out of  36 | elapsed:   11.1s remaining:    2.2s\n",
      "[Parallel(n_jobs=-1)]: Done  36 out of  36 | elapsed:   12.5s finished\n"
     ]
    },
    {
     "name": "stdout",
     "output_type": "stream",
     "text": [
      "done in 13.2581779957s\n",
      "Best score: 0.775276725355\n",
      "Best parameters set:\n",
      "\tclf__alpha: 0.01\n",
      "\ttfidf__norm: l2\n"
     ]
    }
   ],
   "source": [
    "print \"Fitting the classifier to the training set\"\n",
    "t0 = time()\n",
    "# Create GridSearchCV\n",
    "pipeline = Pipeline(\n",
    "    [('vec', CountVectorizer(encoding='cp874', decode_error='ignore', binary=True)), ('tfidf', TfidfTransformer(sublinear_tf=True,use_idf=True,)),\n",
    "     ('clf', MultinomialNB())])\n",
    "parameters = {\n",
    "    'tfidf__norm': ('l1', 'l2'),\n",
    "    'clf__alpha': (1, 0.1, 0.01, 0.001, 0.0001, 0.00001)\n",
    "}\n",
    "grid_search = GridSearchCV(pipeline, parameters, n_jobs=-1, verbose=1)\n",
    "t0 = time()\n",
    "grid_search.fit(X_train, y_train)\n",
    "print(\"done in {0}s\".format(time() - t0))\n",
    "print(\"Best score: {0}\".format(grid_search.best_score_))\n",
    "print(\"Best parameters set:\")\n",
    "best_parameters = grid_search.best_estimator_.get_params()\n",
    "for param_name in sorted(list(parameters.keys())):\n",
    "    print(\"\\t{0}: {1}\".format(param_name, best_parameters[param_name]))\n"
   ]
  },
  {
   "cell_type": "markdown",
   "metadata": {},
   "source": [
    "###Run a few ensemble classifiers before attempting Feature Engineering"
   ]
  },
  {
   "cell_type": "code",
   "execution_count": 26,
   "metadata": {
    "collapsed": false
   },
   "outputs": [
    {
     "name": "stdout",
     "output_type": "stream",
     "text": [
      "Cross Validation Scores \n",
      "[0.77143748051138139, 0.77282179247244753, 0.77573300062383033, 0.77584772207197839, 0.77398543184183144, 0.77492195629552552]\n",
      " Mean accuracy with Random Forest Classifier 0.7741\n"
     ]
    }
   ],
   "source": [
    "## RandomForest Classifier\n",
    "\n",
    "rf_pipeline = Pipeline([('vect',CountVectorizer(decode_error = 'ignore', binary=True)),\n",
    "                     ('tfidf', TfidfTransformer()),\n",
    "                     ('to_dense', DenseTransformer()),\n",
    "                    ('clf',RandomForestClassifier())])\n",
    "\n",
    "scores = kfold_pipeline_classifier(rf_pipeline,df)\n",
    "print \"Cross Validation Scores \"\n",
    "print scores\n",
    "print \" Mean accuracy with Random Forest Classifier %.4f\" % np.mean(scores)"
   ]
  },
  {
   "cell_type": "markdown",
   "metadata": {
    "collapsed": true
   },
   "source": []
  },
  {
   "cell_type": "code",
   "execution_count": 27,
   "metadata": {
    "collapsed": false
   },
   "outputs": [
    {
     "name": "stdout",
     "output_type": "stream",
     "text": [
      "Cross Validation Scores \n",
      "[0.75480719259952189, 0.75660220420045743, 0.75816177999584111, 0.76242978988974408, 0.7599375650364204, 0.75962539021852238]\n",
      " Mean accuracy with Random Forest Classifier 0.7586\n"
     ]
    }
   ],
   "source": [
    "dt_pipeline = Pipeline([('vect',CountVectorizer(decode_error = 'ignore', binary=True)),\n",
    "                     ('tfidf', TfidfTransformer()),\n",
    "                     ('to_dense', DenseTransformer()),\n",
    "                    ('clf',DecisionTreeClassifier(max_depth=10,min_samples_split=1))])\n",
    "\n",
    "scores = kfold_pipeline_classifier(dt_pipeline,df)\n",
    "print \"Cross Validation Scores \"\n",
    "print scores\n",
    "print \" Mean accuracy with Random Forest Classifier %.4f\" % np.mean(scores)"
   ]
  },
  {
   "cell_type": "code",
   "execution_count": 28,
   "metadata": {
    "collapsed": false
   },
   "outputs": [
    {
     "name": "stdout",
     "output_type": "stream",
     "text": [
      "Cross Validation Scores \n",
      "[0.77268475210477083, 0.77739654813890624, 0.78145144520690368, 0.7791762013729977, 0.77814776274713837, 0.77294484911550465]\n",
      " Mean accuracy with Random Forest Classifier 0.7770\n"
     ]
    }
   ],
   "source": [
    "## Extra Trees Classifier\n",
    "et_pipeline = Pipeline([('vect',CountVectorizer(decode_error = 'ignore', binary=True)),\n",
    "                     ('tfidf', TfidfTransformer()),\n",
    "                     ('to_dense', DenseTransformer()),\n",
    "                    ('clf',ExtraTreesClassifier(n_estimators=10))])\n",
    "\n",
    "scores = kfold_pipeline_classifier(et_pipeline,df)\n",
    "print \"Cross Validation Scores \"\n",
    "print scores\n",
    "print \" Mean accuracy with Random Forest Classifier %.4f\" % np.mean(scores)\n"
   ]
  },
  {
   "cell_type": "code",
   "execution_count": 29,
   "metadata": {
    "collapsed": false
   },
   "outputs": [
    {
     "data": {
      "text/plain": [
       "array([], dtype=object)"
      ]
     },
     "execution_count": 29,
     "metadata": {},
     "output_type": "execute_result"
    }
   ],
   "source": [
    "df[df.cuisine_group.isnull()].cuisine.unique()"
   ]
  },
  {
   "cell_type": "markdown",
   "metadata": {},
   "source": [
    "##Benchmarking Classifiers "
   ]
  },
  {
   "cell_type": "code",
   "execution_count": 30,
   "metadata": {
    "collapsed": false
   },
   "outputs": [
    {
     "name": "stdout",
     "output_type": "stream",
     "text": [
      "Extracting features from the training data using a sparse vectorizer\n",
      "n_samples: 40383, n_features: 378\n",
      "()\n",
      "Extracting features from the test data using the same vectorizer\n",
      "n_samples: 17308, n_features: 378\n",
      "()\n",
      "Extracting 1 best features by a chi-squared test\n",
      "done in 0.047420s\n",
      "()\n",
      "================================================================================\n",
      "Ridge Classifier\n",
      "________________________________________________________________________________\n",
      "Training: \n",
      "RidgeClassifier(alpha=1.0, class_weight=None, copy_X=True, fit_intercept=True,\n",
      "        max_iter=None, normalize=False, solver='lsqr', tol=0.01)\n",
      "train time: 0.046s\n",
      "test time:  0.003s\n",
      "accuracy:   0.739\n",
      "dimensionality: 1\n",
      "density: 1.000000\n",
      "top 10 keywords per class:\n",
      "SoutheastAsian: sesame_oil\n",
      "SouthAsian: sesame_oil\n",
      "SouthernEuropean: sesame_oil\n",
      "MiddleEastern: sesame_oil\n",
      "WesternEuropean: sesame_oil\n",
      "LatinAmerican: sesame_oil\n",
      "NorthAmerican: sesame_oil\n",
      "NorthernEuropean: sesame_oil\n",
      "African: sesame_oil\n",
      "EasternEuropean: sesame_oil\n",
      "EastAsian: sesame_oil\n",
      "()\n",
      "classification report:\n",
      "                  precision    recall  f1-score   support\n",
      "\n",
      "  SoutheastAsian       0.00      0.00      0.00       111\n",
      "      SouthAsian       0.77      0.34      0.48      1134\n",
      "SouthernEuropean       0.00      0.00      0.00        95\n",
      "   MiddleEastern       0.00      0.00      0.00       849\n",
      " WesternEuropean       0.00      0.00      0.00       190\n",
      "   LatinAmerican       0.74      0.99      0.85     12499\n",
      "   NorthAmerican       0.00      0.00      0.00        71\n",
      "NorthernEuropean       0.00      0.00      0.00       174\n",
      "         African       0.00      0.00      0.00       143\n",
      " EasternEuropean       0.00      0.00      0.00      1243\n",
      "       EastAsian       0.00      0.00      0.00       799\n",
      "\n",
      "     avg / total       0.58      0.74      0.64     17308\n",
      "\n",
      "confusion matrix:\n",
      "[[    0     0     0     0     0   111     0     0     0     0     0]\n",
      " [    0   389     0     0     0   745     0     0     0     0     0]\n",
      " [    0     0     0     0     0    95     0     0     0     0     0]\n",
      " [    0     2     0     0     0   847     0     0     0     0     0]\n",
      " [    0     0     0     0     0   190     0     0     0     0     0]\n",
      " [    0    95     0     0     0 12404     0     0     0     0     0]\n",
      " [    0     0     0     0     0    71     0     0     0     0     0]\n",
      " [    0     1     0     0     0   173     0     0     0     0     0]\n",
      " [    0    12     0     0     0   131     0     0     0     0     0]\n",
      " [    0     0     0     0     0  1243     0     0     0     0     0]\n",
      " [    0     4     0     0     0   795     0     0     0     0     0]]\n",
      "()\n",
      "================================================================================\n",
      "Perceptron\n",
      "________________________________________________________________________________\n",
      "Training: \n",
      "Perceptron(alpha=0.0001, class_weight=None, eta0=1.0, fit_intercept=True,\n",
      "      n_iter=50, n_jobs=1, penalty=None, random_state=0, shuffle=True,\n",
      "      verbose=0, warm_start=False)\n",
      "train time: 0.714s\n",
      "test time:  0.002s\n",
      "accuracy:   0.739\n",
      "dimensionality: 1\n",
      "density: 1.000000\n",
      "top 10 keywords per class:\n",
      "SoutheastAsian: sesame_oil\n",
      "SouthAsian: sesame_oil\n",
      "SouthernEuropean: sesame_oil\n",
      "MiddleEastern: sesame_oil\n",
      "WesternEuropean: sesame_oil\n",
      "LatinAmerican: sesame_oil\n",
      "NorthAmerican: sesame_oil\n",
      "NorthernEuropean: sesame_oil\n",
      "African: sesame_oil\n",
      "EasternEuropean: sesame_oil\n",
      "EastAsian: sesame_oil\n",
      "()\n",
      "classification report:\n",
      "                  precision    recall  f1-score   support\n",
      "\n",
      "  SoutheastAsian       0.00      0.00      0.00       111\n",
      "      SouthAsian       0.77      0.34      0.48      1134\n",
      "SouthernEuropean       0.00      0.00      0.00        95\n",
      "   MiddleEastern       0.00      0.00      0.00       849\n",
      " WesternEuropean       0.00      0.00      0.00       190\n",
      "   LatinAmerican       0.74      0.99      0.85     12499\n",
      "   NorthAmerican       0.00      0.00      0.00        71\n",
      "NorthernEuropean       0.00      0.00      0.00       174\n",
      "         African       0.00      0.00      0.00       143\n",
      " EasternEuropean       0.00      0.00      0.00      1243\n",
      "       EastAsian       0.00      0.00      0.00       799\n",
      "\n",
      "     avg / total       0.58      0.74      0.64     17308\n",
      "\n",
      "confusion matrix:\n",
      "[[    0     0     0     0     0   111     0     0     0     0     0]\n",
      " [    0   389     0     0     0   745     0     0     0     0     0]\n",
      " [    0     0     0     0     0    95     0     0     0     0     0]\n",
      " [    0     2     0     0     0   847     0     0     0     0     0]\n",
      " [    0     0     0     0     0   190     0     0     0     0     0]\n",
      " [    0    95     0     0     0 12404     0     0     0     0     0]\n",
      " [    0     0     0     0     0    71     0     0     0     0     0]\n",
      " [    0     1     0     0     0   173     0     0     0     0     0]\n",
      " [    0    12     0     0     0   131     0     0     0     0     0]\n",
      " [    0     0     0     0     0  1243     0     0     0     0     0]\n",
      " [    0     4     0     0     0   795     0     0     0     0     0]]\n",
      "()\n",
      "================================================================================\n",
      "Passive-Aggressive\n",
      "________________________________________________________________________________\n",
      "Training: \n",
      "PassiveAggressiveClassifier(C=1.0, fit_intercept=True, loss='hinge',\n",
      "              n_iter=50, n_jobs=1, random_state=None, shuffle=True,\n",
      "              verbose=0, warm_start=False)\n",
      "train time: 0.533s\n",
      "test time:  0.002s\n",
      "accuracy:   0.066\n",
      "dimensionality: 1\n",
      "density: 1.000000\n",
      "top 10 keywords per class:\n",
      "SoutheastAsian: sesame_oil\n",
      "SouthAsian: sesame_oil\n",
      "SouthernEuropean: sesame_oil\n",
      "MiddleEastern: sesame_oil\n",
      "WesternEuropean: sesame_oil\n",
      "LatinAmerican: sesame_oil\n",
      "NorthAmerican: sesame_oil\n",
      "NorthernEuropean: sesame_oil\n",
      "African: sesame_oil\n",
      "EasternEuropean: sesame_oil\n",
      "EastAsian: sesame_oil\n",
      "()\n",
      "classification report:\n",
      "                  precision    recall  f1-score   support\n",
      "\n",
      "  SoutheastAsian       0.00      0.00      0.00       111\n",
      "      SouthAsian       0.07      1.00      0.12      1134\n",
      "SouthernEuropean       0.00      0.00      0.00        95\n",
      "   MiddleEastern       0.00      0.00      0.00       849\n",
      " WesternEuropean       0.00      0.00      0.00       190\n",
      "   LatinAmerican       0.00      0.00      0.00     12499\n",
      "   NorthAmerican       0.00      0.00      0.00        71\n",
      "NorthernEuropean       0.00      0.00      0.00       174\n",
      "         African       0.00      0.00      0.00       143\n",
      " EasternEuropean       0.00      0.00      0.00      1243\n",
      "       EastAsian       0.00      0.00      0.00       799\n",
      "\n",
      "     avg / total       0.00      0.07      0.01     17308\n",
      "\n",
      "confusion matrix:\n",
      "[[    0   111     0     0     0     0     0     0     0     0     0]\n",
      " [    0  1134     0     0     0     0     0     0     0     0     0]\n",
      " [    0    95     0     0     0     0     0     0     0     0     0]\n",
      " [    0   849     0     0     0     0     0     0     0     0     0]\n",
      " [    0   190     0     0     0     0     0     0     0     0     0]\n",
      " [    0 12499     0     0     0     0     0     0     0     0     0]\n",
      " [    0    71     0     0     0     0     0     0     0     0     0]\n",
      " [    0   174     0     0     0     0     0     0     0     0     0]\n",
      " [    0   143     0     0     0     0     0     0     0     0     0]\n",
      " [    0  1243     0     0     0     0     0     0     0     0     0]\n",
      " [    0   799     0     0     0     0     0     0     0     0     0]]\n",
      "()\n",
      "================================================================================\n",
      "kNN\n",
      "________________________________________________________________________________\n",
      "Training: \n",
      "KNeighborsClassifier(algorithm='auto', leaf_size=30, metric='minkowski',\n",
      "           metric_params=None, n_neighbors=10, p=2, weights='uniform')\n",
      "train time: 0.006s\n",
      "test time:  38.867s\n",
      "accuracy:   0.739\n",
      "classification report:\n",
      "                  precision    recall  f1-score   support\n",
      "\n",
      "  SoutheastAsian       0.00      0.00      0.00       111\n",
      "      SouthAsian       0.78      0.34      0.47      1134\n",
      "SouthernEuropean       0.00      0.00      0.00        95\n",
      "   MiddleEastern       0.00      0.00      0.00       849\n",
      " WesternEuropean       0.00      0.00      0.00       190\n",
      "   LatinAmerican       0.74      0.99      0.85     12499\n",
      "   NorthAmerican       0.00      0.00      0.00        71\n",
      "NorthernEuropean       0.00      0.00      0.00       174\n",
      "         African       0.00      0.00      0.00       143\n",
      " EasternEuropean       0.00      0.00      0.00      1243\n",
      "       EastAsian       0.00      0.00      0.00       799\n",
      "\n",
      "     avg / total       0.58      0.74      0.64     17308\n",
      "\n",
      "confusion matrix:\n",
      "[[    0     0     0     0     0   111     0     0     0     0     0]\n",
      " [    0   384     0     0     0   750     0     0     0     0     0]\n",
      " [    0     0     0     0     0    95     0     0     0     0     0]\n",
      " [    0     2     0     0     0   847     0     0     0     0     0]\n",
      " [    0     0     0     0     0   190     0     0     0     0     0]\n",
      " [    0    91     0     0     0 12408     0     0     0     0     0]\n",
      " [    0     0     0     0     0    71     0     0     0     0     0]\n",
      " [    0     1     0     0     0   173     0     0     0     0     0]\n",
      " [    0    12     0     0     0   131     0     0     0     0     0]\n",
      " [    0     0     0     0     0  1243     0     0     0     0     0]\n",
      " [    0     4     0     0     0   795     0     0     0     0     0]]\n",
      "()\n",
      "================================================================================\n",
      "Random forest\n",
      "________________________________________________________________________________\n",
      "Training: \n",
      "RandomForestClassifier(bootstrap=True, class_weight=None, criterion='gini',\n",
      "            max_depth=None, max_features='auto', max_leaf_nodes=None,\n",
      "            min_samples_leaf=1, min_samples_split=2,\n",
      "            min_weight_fraction_leaf=0.0, n_estimators=100, n_jobs=1,\n",
      "            oob_score=False, random_state=None, verbose=0,\n",
      "            warm_start=False)\n",
      "train time: 1.254s\n",
      "test time:  0.286s"
     ]
    },
    {
     "name": "stderr",
     "output_type": "stream",
     "text": [
      "//anaconda/lib/python2.7/site-packages/sklearn/metrics/classification.py:958: UndefinedMetricWarning: Precision and F-score are ill-defined and being set to 0.0 in labels with no predicted samples.\n",
      "  'precision', 'predicted', average, warn_for)\n",
      "//anaconda/lib/python2.7/site-packages/sklearn/svm/classes.py:192: DeprecationWarning: loss='l2' has been deprecated in favor of loss='squared_hinge' as of 0.16. Backward compatibility for the loss='l2' will be removed in 1.0\n",
      "  DeprecationWarning)\n"
     ]
    },
    {
     "name": "stdout",
     "output_type": "stream",
     "text": [
      "\n",
      "accuracy:   0.737\n",
      "classification report:\n",
      "                  precision    recall  f1-score   support\n",
      "\n",
      "  SoutheastAsian       0.00      0.00      0.00       111\n",
      "      SouthAsian       0.81      0.29      0.43      1134\n",
      "SouthernEuropean       0.00      0.00      0.00        95\n",
      "   MiddleEastern       0.00      0.00      0.00       849\n",
      " WesternEuropean       0.00      0.00      0.00       190\n",
      "   LatinAmerican       0.74      0.99      0.85     12499\n",
      "   NorthAmerican       0.00      0.00      0.00        71\n",
      "NorthernEuropean       0.00      0.00      0.00       174\n",
      "         African       0.00      0.00      0.00       143\n",
      " EasternEuropean       0.00      0.00      0.00      1243\n",
      "       EastAsian       0.00      0.00      0.00       799\n",
      "\n",
      "     avg / total       0.59      0.74      0.64     17308\n",
      "\n",
      "confusion matrix:\n",
      "[[    0     0     0     0     0   111     0     0     0     0     0]\n",
      " [    0   332     0     0     0   787     0     0    14     0     1]\n",
      " [    0     0     0     0     0    95     0     0     0     0     0]\n",
      " [    0     0     0     0     0   849     0     0     0     0     0]\n",
      " [    0     0     0     0     0   190     0     0     0     0     0]\n",
      " [    0    63     0     0     0 12432     0     1     2     1     0]\n",
      " [    0     0     0     0     0    71     0     0     0     0     0]\n",
      " [    0     0     0     0     0   174     0     0     0     0     0]\n",
      " [    0    10     0     0     0   132     0     0     0     0     1]\n",
      " [    0     0     0     0     0  1243     0     0     0     0     0]\n",
      " [    0     4     0     0     0   795     0     0     0     0     0]]\n",
      "()\n",
      "================================================================================\n",
      "L2 penalty\n",
      "________________________________________________________________________________\n",
      "Training: \n",
      "LinearSVC(C=1.0, class_weight=None, dual=False, fit_intercept=True,\n",
      "     intercept_scaling=1, loss='l2', max_iter=1000, multi_class='ovr',\n",
      "     penalty='l2', random_state=None, tol=0.001, verbose=0)\n",
      "train time: 0.085s\n",
      "test time:  0.003s\n",
      "accuracy:   0.739\n",
      "dimensionality: 1\n",
      "density: 1.000000\n",
      "top 10 keywords per class:\n",
      "SoutheastAsian: sesame_oil\n",
      "SouthAsian: sesame_oil\n",
      "SouthernEuropean: sesame_oil\n",
      "MiddleEastern: sesame_oil\n",
      "WesternEuropean: sesame_oil\n",
      "LatinAmerican: sesame_oil\n",
      "NorthAmerican: sesame_oil\n",
      "NorthernEuropean: sesame_oil\n",
      "African: sesame_oil\n",
      "EasternEuropean: sesame_oil\n",
      "EastAsian: sesame_oil\n",
      "()\n",
      "classification report:\n",
      "                  precision    recall  f1-score   support\n",
      "\n",
      "  SoutheastAsian       0.00      0.00      0.00       111\n",
      "      SouthAsian       0.77      0.34      0.48      1134\n",
      "SouthernEuropean       0.00      0.00      0.00        95\n",
      "   MiddleEastern       0.00      0.00      0.00       849\n",
      " WesternEuropean       0.00      0.00      0.00       190\n",
      "   LatinAmerican       0.74      0.99      0.85     12499\n",
      "   NorthAmerican       0.00      0.00      0.00        71\n",
      "NorthernEuropean       0.00      0.00      0.00       174\n",
      "         African       0.00      0.00      0.00       143\n",
      " EasternEuropean       0.00      0.00      0.00      1243\n",
      "       EastAsian       0.00      0.00      0.00       799\n",
      "\n",
      "     avg / total       0.58      0.74      0.64     17308\n",
      "\n",
      "confusion matrix:\n",
      "[[    0     0     0     0     0   111     0     0     0     0     0]\n",
      " [    0   389     0     0     0   745     0     0     0     0     0]\n",
      " [    0     0     0     0     0    95     0     0     0     0     0]\n",
      " [    0     2     0     0     0   847     0     0     0     0     0]\n",
      " [    0     0     0     0     0   190     0     0     0     0     0]\n",
      " [    0    95     0     0     0 12404     0     0     0     0     0]\n",
      " [    0     0     0     0     0    71     0     0     0     0     0]\n",
      " [    0     1     0     0     0   173     0     0     0     0     0]\n",
      " [    0    12     0     0     0   131     0     0     0     0     0]\n",
      " [    0     0     0     0     0  1243     0     0     0     0     0]\n",
      " [    0     4     0     0     0   795     0     0     0     0     0]]\n",
      "()\n",
      "________________________________________________________________________________\n",
      "Training: \n",
      "SGDClassifier(alpha=0.0001, average=False, class_weight=None, epsilon=0.1,\n",
      "       eta0=0.0, fit_intercept=True, l1_ratio=0.15,\n",
      "       learning_rate='optimal', loss='hinge', n_iter=50, n_jobs=1,\n",
      "       penalty='l2', power_t=0.5, random_state=None, shuffle=True,\n",
      "       verbose=0, warm_start=False)\n",
      "train time: 0.879s\n",
      "test time:  0.001s\n",
      "accuracy:   0.739\n",
      "dimensionality: 1\n",
      "density: 1.000000\n",
      "top 10 keywords per class:\n",
      "SoutheastAsian: sesame_oil\n",
      "SouthAsian: sesame_oil\n",
      "SouthernEuropean: sesame_oil\n",
      "MiddleEastern: sesame_oil\n",
      "WesternEuropean: sesame_oil\n",
      "LatinAmerican: sesame_oil\n",
      "NorthAmerican: sesame_oil\n",
      "NorthernEuropean: sesame_oil\n",
      "African: sesame_oil\n",
      "EasternEuropean: sesame_oil\n",
      "EastAsian: sesame_oil\n",
      "()\n",
      "classification report:\n",
      "                  precision    recall  f1-score   support\n",
      "\n",
      "  SoutheastAsian       0.00      0.00      0.00       111\n",
      "      SouthAsian       0.77      0.34      0.48      1134\n",
      "SouthernEuropean       0.00      0.00      0.00        95\n",
      "   MiddleEastern       0.00      0.00      0.00       849\n",
      " WesternEuropean       0.00      0.00      0.00       190\n",
      "   LatinAmerican       0.74      0.99      0.85     12499\n",
      "   NorthAmerican       0.00      0.00      0.00        71\n",
      "NorthernEuropean       0.00      0.00      0.00       174\n",
      "         African       0.00      0.00      0.00       143\n",
      " EasternEuropean       0.00      0.00      0.00      1243\n",
      "       EastAsian       0.00      0.00      0.00       799\n",
      "\n",
      "     avg / total       0.58      0.74      0.64     17308\n",
      "\n",
      "confusion matrix:\n",
      "[[    0     0     0     0     0   111     0     0     0     0     0]\n",
      " [    0   389     0     0     0   745     0     0     0     0     0]\n",
      " [    0     0     0     0     0    95     0     0     0     0     0]\n",
      " [    0     2     0     0     0   847     0     0     0     0     0]\n",
      " [    0     0     0     0     0   190     0     0     0     0     0]\n",
      " [    0    95     0     0     0 12404     0     0     0     0     0]\n",
      " [    0     0     0     0     0    71     0     0     0     0     0]\n",
      " [    0     1     0     0     0   173     0     0     0     0     0]\n",
      " [    0    12     0     0     0   131     0     0     0     0     0]\n",
      " [    0     0     0     0     0  1243     0     0     0     0     0]\n",
      " [    0     4     0     0     0   795     0     0     0     0     0]]\n",
      "()\n",
      "================================================================================\n",
      "L1 penalty\n",
      "________________________________________________________________________________\n",
      "Training: \n",
      "LinearSVC(C=1.0, class_weight=None, dual=False, fit_intercept=True,\n",
      "     intercept_scaling=1, loss='l2', max_iter=1000, multi_class='ovr',\n",
      "     penalty='l1', random_state=None, tol=0.001, verbose=0)\n",
      "train time: 0.034s\n",
      "test time:  0.001s\n",
      "accuracy:   0.739\n",
      "dimensionality: 1\n",
      "density: 1.000000\n",
      "top 10 keywords per class:\n",
      "SoutheastAsian: sesame_oil\n",
      "SouthAsian: sesame_oil\n",
      "SouthernEuropean: sesame_oil\n",
      "MiddleEastern: sesame_oil\n",
      "WesternEuropean: sesame_oil\n",
      "LatinAmerican: sesame_oil\n",
      "NorthAmerican: sesame_oil\n",
      "NorthernEuropean: sesame_oil\n",
      "African: sesame_oil\n",
      "EasternEuropean: sesame_oil\n",
      "EastAsian: sesame_oil\n",
      "()\n",
      "classification report:\n",
      "                  precision    recall  f1-score   support\n",
      "\n",
      "  SoutheastAsian       0.00      0.00      0.00       111\n",
      "      SouthAsian       0.77      0.34      0.48      1134\n",
      "SouthernEuropean       0.00      0.00      0.00        95\n",
      "   MiddleEastern       0.00      0.00      0.00       849\n",
      " WesternEuropean       0.00      0.00      0.00       190\n",
      "   LatinAmerican       0.74      0.99      0.85     12499\n",
      "   NorthAmerican       0.00      0.00      0.00        71\n",
      "NorthernEuropean       0.00      0.00      0.00       174\n",
      "         African       0.00      0.00      0.00       143\n",
      " EasternEuropean       0.00      0.00      0.00      1243\n",
      "       EastAsian       0.00      0.00      0.00       799\n",
      "\n",
      "     avg / total       0.58      0.74      0.64     17308\n",
      "\n",
      "confusion matrix:\n",
      "[[    0     0     0     0     0   111     0     0     0     0     0]\n",
      " [    0   389     0     0     0   745     0     0     0     0     0]\n",
      " [    0     0     0     0     0    95     0     0     0     0     0]\n",
      " [    0     2     0     0     0   847     0     0     0     0     0]\n",
      " [    0     0     0     0     0   190     0     0     0     0     0]\n",
      " [    0    95     0     0     0 12404     0     0     0     0     0]\n",
      " [    0     0     0     0     0    71     0     0     0     0     0]\n",
      " [    0     1     0     0     0   173     0     0     0     0     0]\n",
      " [    0    12     0     0     0   131     0     0     0     0     0]\n",
      " [    0     0     0     0     0  1243     0     0     0     0     0]\n",
      " [    0     4     0     0     0   795     0     0     0     0     0]]\n",
      "()\n",
      "________________________________________________________________________________\n",
      "Training: \n",
      "SGDClassifier(alpha=0.0001, average=False, class_weight=None, epsilon=0.1,\n",
      "       eta0=0.0, fit_intercept=True, l1_ratio=0.15,\n",
      "       learning_rate='optimal', loss='hinge', n_iter=50, n_jobs=1,\n",
      "       penalty='l1', power_t=0.5, random_state=None, shuffle=True,\n",
      "       verbose=0, warm_start=False)\n",
      "train time: 0.793s\n",
      "test time:  0.001s\n",
      "accuracy:   0.739\n",
      "dimensionality: 1\n",
      "density: 0.272727\n",
      "top 10 keywords per class:\n",
      "SoutheastAsian: sesame_oil\n",
      "SouthAsian: sesame_oil\n",
      "SouthernEuropean: sesame_oil\n",
      "MiddleEastern: sesame_oil\n",
      "WesternEuropean: sesame_oil\n",
      "LatinAmerican: sesame_oil\n",
      "NorthAmerican: sesame_oil\n",
      "NorthernEuropean: sesame_oil\n",
      "African: sesame_oil\n",
      "EasternEuropean: sesame_oil\n",
      "EastAsian: sesame_oil\n",
      "()\n",
      "classification report:\n",
      "                  precision    recall  f1-score   support\n",
      "\n",
      "  SoutheastAsian       0.00      0.00      0.00       111\n",
      "      SouthAsian       0.77      0.34      0.48      1134\n",
      "SouthernEuropean       0.00      0.00      0.00        95\n",
      "   MiddleEastern       0.00      0.00      0.00       849\n",
      " WesternEuropean       0.00      0.00      0.00       190\n",
      "   LatinAmerican       0.74      0.99      0.85     12499\n",
      "   NorthAmerican       0.00      0.00      0.00        71\n",
      "NorthernEuropean       0.00      0.00      0.00       174\n",
      "         African       0.00      0.00      0.00       143\n",
      " EasternEuropean       0.00      0.00      0.00      1243\n",
      "       EastAsian       0.00      0.00      0.00       799\n",
      "\n",
      "     avg / total       0.58      0.74      0.64     17308\n",
      "\n",
      "confusion matrix:\n",
      "[[    0     0     0     0     0   111     0     0     0     0     0]\n",
      " [    0   389     0     0     0   745     0     0     0     0     0]\n",
      " [    0     0     0     0     0    95     0     0     0     0     0]\n",
      " [    0     2     0     0     0   847     0     0     0     0     0]\n",
      " [    0     0     0     0     0   190     0     0     0     0     0]\n",
      " [    0    95     0     0     0 12404     0     0     0     0     0]\n",
      " [    0     0     0     0     0    71     0     0     0     0     0]\n",
      " [    0     1     0     0     0   173     0     0     0     0     0]\n",
      " [    0    12     0     0     0   131     0     0     0     0     0]\n",
      " [    0     0     0     0     0  1243     0     0     0     0     0]\n",
      " [    0     4     0     0     0   795     0     0     0     0     0]]\n",
      "()\n",
      "================================================================================\n",
      "Elastic-Net penalty\n",
      "________________________________________________________________________________\n",
      "Training: \n",
      "SGDClassifier(alpha=0.0001, average=False, class_weight=None, epsilon=0.1,\n",
      "       eta0=0.0, fit_intercept=True, l1_ratio=0.15,\n",
      "       learning_rate='optimal', loss='hinge', n_iter=50, n_jobs=1,\n",
      "       penalty='elasticnet', power_t=0.5, random_state=None, shuffle=True,\n",
      "       verbose=0, warm_start=False)\n",
      "train time: 0.875s\n",
      "test time:  0.001s\n",
      "accuracy:   0.739\n",
      "dimensionality: 1\n",
      "density: 0.818182\n",
      "top 10 keywords per class:\n",
      "SoutheastAsian: sesame_oil\n",
      "SouthAsian: sesame_oil\n",
      "SouthernEuropean: sesame_oil\n",
      "MiddleEastern: sesame_oil\n",
      "WesternEuropean: sesame_oil\n",
      "LatinAmerican: sesame_oil\n",
      "NorthAmerican: sesame_oil\n",
      "NorthernEuropean: sesame_oil\n",
      "African: sesame_oil\n",
      "EasternEuropean: sesame_oil\n",
      "EastAsian: sesame_oil\n",
      "()\n",
      "classification report:\n",
      "                  precision    recall  f1-score   support\n",
      "\n",
      "  SoutheastAsian       0.00      0.00      0.00       111\n",
      "      SouthAsian       0.77      0.34      0.48      1134\n",
      "SouthernEuropean       0.00      0.00      0.00        95\n",
      "   MiddleEastern       0.00      0.00      0.00       849\n",
      " WesternEuropean       0.00      0.00      0.00       190\n",
      "   LatinAmerican       0.74      0.99      0.85     12499\n",
      "   NorthAmerican       0.00      0.00      0.00        71\n",
      "NorthernEuropean       0.00      0.00      0.00       174\n",
      "         African       0.00      0.00      0.00       143\n",
      " EasternEuropean       0.00      0.00      0.00      1243\n",
      "       EastAsian       0.00      0.00      0.00       799\n",
      "\n",
      "     avg / total       0.58      0.74      0.64     17308\n",
      "\n",
      "confusion matrix:\n",
      "[[    0     0     0     0     0   111     0     0     0     0     0]\n",
      " [    0   389     0     0     0   745     0     0     0     0     0]\n",
      " [    0     0     0     0     0    95     0     0     0     0     0]\n",
      " [    0     2     0     0     0   847     0     0     0     0     0]\n",
      " [    0     0     0     0     0   190     0     0     0     0     0]\n",
      " [    0    95     0     0     0 12404     0     0     0     0     0]\n",
      " [    0     0     0     0     0    71     0     0     0     0     0]\n",
      " [    0     1     0     0     0   173     0     0     0     0     0]\n",
      " [    0    12     0     0     0   131     0     0     0     0     0]\n",
      " [    0     0     0     0     0  1243     0     0     0     0     0]\n",
      " [    0     4     0     0     0   795     0     0     0     0     0]]\n",
      "()\n",
      "================================================================================\n",
      "NearestCentroid (aka Rocchio classifier)\n",
      "________________________________________________________________________________\n",
      "Training: \n",
      "NearestCentroid(metric='euclidean', shrink_threshold=None)\n",
      "train time: 0.017s\n",
      "test time:  0.005s\n",
      "accuracy:   0.029\n",
      "classification report:\n",
      "                  precision    recall  f1-score   support\n",
      "\n",
      "  SoutheastAsian       0.01      1.00      0.01       111\n",
      "      SouthAsian       0.77      0.34      0.48      1134\n",
      "SouthernEuropean       0.00      0.00      0.00        95\n",
      "   MiddleEastern       0.00      0.00      0.00       849\n",
      " WesternEuropean       0.00      0.00      0.00       190\n",
      "   LatinAmerican       0.00      0.00      0.00     12499\n",
      "   NorthAmerican       0.00      0.00      0.00        71\n",
      "NorthernEuropean       0.00      0.00      0.00       174\n",
      "         African       0.00      0.00      0.00       143\n",
      " EasternEuropean       0.00      0.00      0.00      1243\n",
      "       EastAsian       0.00      0.00      0.00       799\n",
      "\n",
      "     avg / total       0.05      0.03      0.03     17308\n",
      "\n",
      "confusion matrix:\n",
      "[[  111     0     0     0     0     0     0     0     0     0     0]\n",
      " [  745   389     0     0     0     0     0     0     0     0     0]\n",
      " [   95     0     0     0     0     0     0     0     0     0     0]\n",
      " [  847     2     0     0     0     0     0     0     0     0     0]\n",
      " [  190     0     0     0     0     0     0     0     0     0     0]\n",
      " [12404    95     0     0     0     0     0     0     0     0     0]\n",
      " [   71     0     0     0     0     0     0     0     0     0     0]\n",
      " [  173     1     0     0     0     0     0     0     0     0     0]\n",
      " [  131    12     0     0     0     0     0     0     0     0     0]\n",
      " [ 1243     0     0     0     0     0     0     0     0     0     0]\n",
      " [  795     4     0     0     0     0     0     0     0     0     0]]\n",
      "()\n",
      "================================================================================\n",
      "Naive Bayes\n",
      "________________________________________________________________________________\n",
      "Training: \n",
      "MultinomialNB(alpha=0.01, class_prior=None, fit_prior=True)\n",
      "train time: 0.015s\n",
      "test time:  0.002s\n",
      "accuracy:   0.722\n",
      "dimensionality: 1\n",
      "density: 0.000000\n",
      "top 10 keywords per class:\n",
      "SoutheastAsian: sesame_oil\n",
      "SouthAsian: sesame_oil\n",
      "SouthernEuropean: sesame_oil\n",
      "MiddleEastern: sesame_oil\n",
      "WesternEuropean: sesame_oil\n",
      "LatinAmerican: sesame_oil\n",
      "NorthAmerican: sesame_oil\n",
      "NorthernEuropean: sesame_oil\n",
      "African: sesame_oil\n",
      "EasternEuropean: sesame_oil\n",
      "EastAsian: sesame_oil\n",
      "()\n",
      "classification report:\n",
      "                  precision    recall  f1-score   support\n",
      "\n",
      "  SoutheastAsian       0.00      0.00      0.00       111\n",
      "      SouthAsian       0.00      0.00      0.00      1134\n",
      "SouthernEuropean       0.00      0.00      0.00        95\n",
      "   MiddleEastern       0.00      0.00      0.00       849\n",
      " WesternEuropean       0.00      0.00      0.00       190\n",
      "   LatinAmerican       0.72      1.00      0.84     12499\n",
      "   NorthAmerican       0.00      0.00      0.00        71\n",
      "NorthernEuropean       0.00      0.00      0.00       174\n",
      "         African       0.00      0.00      0.00       143\n",
      " EasternEuropean       0.00      0.00      0.00      1243\n",
      "       EastAsian       0.00      0.00      0.00       799\n",
      "\n",
      "     avg / total       0.52      0.72      0.61     17308\n",
      "\n",
      "confusion matrix:\n",
      "[[    0     0     0     0     0   111     0     0     0     0     0]\n",
      " [    0     0     0     0     0  1134     0     0     0     0     0]\n",
      " [    0     0     0     0     0    95     0     0     0     0     0]\n",
      " [    0     0     0     0     0   849     0     0     0     0     0]\n",
      " [    0     0     0     0     0   190     0     0     0     0     0]\n",
      " [    0     0     0     0     0 12499     0     0     0     0     0]\n",
      " [    0     0     0     0     0    71     0     0     0     0     0]\n",
      " [    0     0     0     0     0   174     0     0     0     0     0]\n",
      " [    0     0     0     0     0   143     0     0     0     0     0]\n",
      " [    0     0     0     0     0  1243     0     0     0     0     0]\n",
      " [    0     0     0     0     0   799     0     0     0     0     0]]\n",
      "()\n",
      "________________________________________________________________________________\n",
      "Training: \n",
      "BernoulliNB(alpha=0.01, binarize=0.0, class_prior=None, fit_prior=True)\n",
      "train time: 0.014s\n",
      "test time:  0.001s\n",
      "accuracy:   0.739\n",
      "dimensionality: 1\n",
      "density: 1.000000\n",
      "top 10 keywords per class:\n",
      "SoutheastAsian: sesame_oil\n",
      "SouthAsian: sesame_oil\n",
      "SouthernEuropean: sesame_oil\n",
      "MiddleEastern: sesame_oil\n",
      "WesternEuropean: sesame_oil\n",
      "LatinAmerican: sesame_oil\n",
      "NorthAmerican: sesame_oil\n",
      "NorthernEuropean: sesame_oil\n",
      "African: sesame_oil\n",
      "EasternEuropean: sesame_oil\n",
      "EastAsian: sesame_oil\n",
      "()\n",
      "classification report:\n",
      "                  precision    recall  f1-score   support\n",
      "\n",
      "  SoutheastAsian       0.00      0.00      0.00       111\n",
      "      SouthAsian       0.77      0.34      0.48      1134\n",
      "SouthernEuropean       0.00      0.00      0.00        95\n",
      "   MiddleEastern       0.00      0.00      0.00       849\n",
      " WesternEuropean       0.00      0.00      0.00       190\n",
      "   LatinAmerican       0.74      0.99      0.85     12499\n",
      "   NorthAmerican       0.00      0.00      0.00        71\n",
      "NorthernEuropean       0.00      0.00      0.00       174\n",
      "         African       0.00      0.00      0.00       143\n",
      " EasternEuropean       0.00      0.00      0.00      1243\n",
      "       EastAsian       0.00      0.00      0.00       799\n",
      "\n",
      "     avg / total       0.58      0.74      0.64     17308\n",
      "\n",
      "confusion matrix:\n",
      "[[    0     0     0     0     0   111     0     0     0     0     0]\n",
      " [    0   389     0     0     0   745     0     0     0     0     0]\n",
      " [    0     0     0     0     0    95     0     0     0     0     0]\n",
      " [    0     2     0     0     0   847     0     0     0     0     0]\n",
      " [    0     0     0     0     0   190     0     0     0     0     0]\n",
      " [    0    95     0     0     0 12404     0     0     0     0     0]\n",
      " [    0     0     0     0     0    71     0     0     0     0     0]\n",
      " [    0     1     0     0     0   173     0     0     0     0     0]\n",
      " [    0    12     0     0     0   131     0     0     0     0     0]\n",
      " [    0     0     0     0     0  1243     0     0     0     0     0]\n",
      " [    0     4     0     0     0   795     0     0     0     0     0]]\n",
      "()\n",
      "================================================================================\n",
      "LinearSVC with L1-based feature selection\n",
      "________________________________________________________________________________\n",
      "Training: \n",
      "Pipeline(steps=[('feature_selection', LinearSVC(C=1.0, class_weight=None, dual=False, fit_intercept=True,\n",
      "     intercept_scaling=1, loss='squared_hinge', max_iter=1000,\n",
      "     multi_class='ovr', penalty='l1', random_state=None, tol=0.001,\n",
      "     verbose=0)), ('classification', LinearSVC(C=1.0, class_weight=None, dual=True, fit_intercept=True,\n",
      "     intercept_scaling=1, loss='squared_hinge', max_iter=1000,\n",
      "     multi_class='ovr', penalty='l2', random_state=None, tol=0.0001,\n",
      "     verbose=0))])\n",
      "train time: 0.702s\n",
      "test time:  0.003s\n",
      "accuracy:   0.739\n",
      "classification report:\n",
      "                  precision    recall  f1-score   support\n",
      "\n",
      "  SoutheastAsian       0.00      0.00      0.00       111\n",
      "      SouthAsian       0.77      0.34      0.48      1134\n",
      "SouthernEuropean       0.00      0.00      0.00        95\n",
      "   MiddleEastern       0.00      0.00      0.00       849\n",
      " WesternEuropean       0.00      0.00      0.00       190\n",
      "   LatinAmerican       0.74      0.99      0.85     12499\n",
      "   NorthAmerican       0.00      0.00      0.00        71\n",
      "NorthernEuropean       0.00      0.00      0.00       174\n",
      "         African       0.00      0.00      0.00       143\n",
      " EasternEuropean       0.00      0.00      0.00      1243\n",
      "       EastAsian       0.00      0.00      0.00       799\n",
      "\n",
      "     avg / total       0.58      0.74      0.64     17308\n",
      "\n",
      "confusion matrix:\n",
      "[[    0     0     0     0     0   111     0     0     0     0     0]\n",
      " [    0   389     0     0     0   745     0     0     0     0     0]\n",
      " [    0     0     0     0     0    95     0     0     0     0     0]\n",
      " [    0     2     0     0     0   847     0     0     0     0     0]\n",
      " [    0     0     0     0     0   190     0     0     0     0     0]\n",
      " [    0    95     0     0     0 12404     0     0     0     0     0]\n",
      " [    0     0     0     0     0    71     0     0     0     0     0]\n",
      " [    0     1     0     0     0   173     0     0     0     0     0]\n",
      " [    0    12     0     0     0   131     0     0     0     0     0]\n",
      " [    0     0     0     0     0  1243     0     0     0     0     0]\n",
      " [    0     4     0     0     0   795     0     0     0     0     0]]\n",
      "()\n"
     ]
    },
    {
     "name": "stderr",
     "output_type": "stream",
     "text": [
      "//anaconda/lib/python2.7/site-packages/sklearn/svm/classes.py:192: DeprecationWarning: loss='l2' has been deprecated in favor of loss='squared_hinge' as of 0.16. Backward compatibility for the loss='l2' will be removed in 1.0\n",
      "  DeprecationWarning)\n"
     ]
    }
   ],
   "source": [
    "# Import train_test_split\n",
    "from sklearn.cross_validation import train_test_split\n",
    "# Split the data into a 70/30 train/test split\n",
    "X_train, X_test, y_train, y_test = train_test_split(df.ingredients, le.transform(df.cuisine_group), test_size=0.3)\n",
    "\n",
    "categories = df.cuisine_group.unique().tolist() \n",
    "\n",
    "use_hashing = False\n",
    "select_chi2= True\n",
    "print_top10 = True\n",
    "print_cm = True\n",
    "print_report = True\n",
    "\n",
    "# split a training set and a test set\n",
    "#y_train, y_test = data_train.target, data_test.target\n",
    "\n",
    "print(\"Extracting features from the training data using a sparse vectorizer\")\n",
    "t0 = time()\n",
    "if use_hashing:\n",
    "    vectorizer = HashingVectorizer(stop_words='english', non_negative=True\n",
    "                                   )\n",
    "    X_train = vectorizer.transform(X_train)\n",
    "else:\n",
    "    vectorizer = TfidfVectorizer(sublinear_tf=True, max_df=0.5,\n",
    "                                 stop_words='english')\n",
    "    X_train = vectorizer.fit_transform(X_train)\n",
    "duration = time() - t0\n",
    "#print(\"done in %fs at %0.3fMB/s\" % (duration, data_train_size_mb / duration))\n",
    "print(\"n_samples: %d, n_features: %d\" % X_train.shape)\n",
    "print()\n",
    "\n",
    "print(\"Extracting features from the test data using the same vectorizer\")\n",
    "t0 = time()\n",
    "X_test = vectorizer.transform(X_test)\n",
    "duration = time() - t0\n",
    "#print(\"done in %fs at %0.3fMB/s\" % (duration, data_test_size_mb / duration))\n",
    "print(\"n_samples: %d, n_features: %d\" % X_test.shape)\n",
    "print()\n",
    "\n",
    "# mapping from integer feature name to original token string\n",
    "if use_hashing:\n",
    "    feature_names = None\n",
    "else:\n",
    "    feature_names = vectorizer.get_feature_names()\n",
    "\n",
    "if select_chi2:\n",
    "    print(\"Extracting %d best features by a chi-squared test\" %\n",
    "          select_chi2)\n",
    "    t0 = time()\n",
    "    ch2 = SelectKBest(chi2, k=select_chi2)\n",
    "    X_train = ch2.fit_transform(X_train, y_train)\n",
    "    X_test = ch2.transform(X_test)\n",
    "    if feature_names:\n",
    "        # keep selected feature names\n",
    "        feature_names = [feature_names[i] for i\n",
    "                         in ch2.get_support(indices=True)]\n",
    "    print(\"done in %fs\" % (time() - t0))\n",
    "    print()\n",
    "\n",
    "if feature_names:\n",
    "    feature_names = np.asarray(feature_names)\n",
    "\n",
    "\n",
    "def trim(s):\n",
    "    \"\"\"Trim string to fit on terminal (assuming 80-column display)\"\"\"\n",
    "    return s if len(s) <= 80 else s[:77] + \"...\"\n",
    "\n",
    "\n",
    "###############################################################################\n",
    "# Benchmark classifiers\n",
    "def benchmark(clf):\n",
    "    print('_' * 80)\n",
    "    print(\"Training: \")\n",
    "    print(clf)\n",
    "    t0 = time()\n",
    "    clf.fit(X_train, y_train)\n",
    "    train_time = time() - t0\n",
    "    print(\"train time: %0.3fs\" % train_time)\n",
    "\n",
    "    t0 = time()\n",
    "    pred = clf.predict(X_test)\n",
    "    test_time = time() - t0\n",
    "    print(\"test time:  %0.3fs\" % test_time)\n",
    "\n",
    "    score = accuracy_score(y_test, pred)\n",
    "    print(\"accuracy:   %0.3f\" % score)\n",
    "\n",
    "    if hasattr(clf, 'coef_'):\n",
    "        print(\"dimensionality: %d\" % clf.coef_.shape[1])\n",
    "        print(\"density: %f\" % density(clf.coef_))\n",
    "\n",
    "        if print_top10 and feature_names is not None:\n",
    "            print(\"top 10 keywords per class:\")\n",
    "            for i, category in enumerate(categories):\n",
    "                top10 = np.argsort(clf.coef_[i])[-10:]\n",
    "                print(trim(\"%s: %s\"\n",
    "                      % (category, \", \".join(feature_names[top10]))))\n",
    "        print()\n",
    "\n",
    "    if print_report:\n",
    "        print(\"classification report:\")\n",
    "        print(classification_report(y_test, pred,\n",
    "                                            target_names=categories))\n",
    "\n",
    "    if print_cm:\n",
    "        print(\"confusion matrix:\")\n",
    "        print(confusion_matrix(y_test, pred))\n",
    "\n",
    "    print()\n",
    "    clf_descr = str(clf).split('(')[0]\n",
    "    return clf_descr, score, train_time, test_time\n",
    "\n",
    "\n",
    "results = []\n",
    "for clf, name in (\n",
    "        (RidgeClassifier(tol=1e-2, solver=\"lsqr\"), \"Ridge Classifier\"),\n",
    "        (Perceptron(n_iter=50), \"Perceptron\"),\n",
    "        (PassiveAggressiveClassifier(n_iter=50), \"Passive-Aggressive\"),\n",
    "        (KNeighborsClassifier(n_neighbors=10), \"kNN\"),\n",
    "        (RandomForestClassifier(n_estimators=100), \"Random forest\")):\n",
    "    print('=' * 80)\n",
    "    print(name)\n",
    "    results.append(benchmark(clf))\n",
    "\n",
    "for penalty in [\"l2\", \"l1\"]:\n",
    "    print('=' * 80)\n",
    "    print(\"%s penalty\" % penalty.upper())\n",
    "    # Train Liblinear model\n",
    "    results.append(benchmark(LinearSVC(loss='l2', penalty=penalty,\n",
    "                                            dual=False, tol=1e-3)))\n",
    "\n",
    "    # Train SGD model\n",
    "    results.append(benchmark(SGDClassifier(alpha=.0001, n_iter=50,\n",
    "                                           penalty=penalty)))\n",
    "\n",
    "# Train SGD with Elastic Net penalty\n",
    "print('=' * 80)\n",
    "print(\"Elastic-Net penalty\")\n",
    "results.append(benchmark(SGDClassifier(alpha=.0001, n_iter=50,\n",
    "                                       penalty=\"elasticnet\")))\n",
    "\n",
    "# Train NearestCentroid without threshold\n",
    "print('=' * 80)\n",
    "print(\"NearestCentroid (aka Rocchio classifier)\")\n",
    "results.append(benchmark(NearestCentroid()))\n",
    "\n",
    "# Train sparse Naive Bayes classifiers\n",
    "print('=' * 80)\n",
    "print(\"Naive Bayes\")\n",
    "results.append(benchmark(MultinomialNB(alpha=.01)))\n",
    "results.append(benchmark(BernoulliNB(alpha=.01)))\n",
    "\n",
    "print('=' * 80)\n",
    "print(\"LinearSVC with L1-based feature selection\")\n",
    "# The smaller C, the stronger the regularization.\n",
    "# The more regularization, the more sparsity.\n",
    "results.append(benchmark(Pipeline([\n",
    "  ('feature_selection', LinearSVC(penalty=\"l1\", dual=False, tol=1e-3)),\n",
    "  ('classification', LinearSVC())\n",
    "])))\n",
    "\n",
    "\n",
    "\n"
   ]
  },
  {
   "cell_type": "code",
   "execution_count": 31,
   "metadata": {
    "collapsed": false
   },
   "outputs": [
    {
     "data": {
      "image/png": "[encoded data removed]",
      "text/plain": [
       "<matplotlib.figure.Figure at 0x10a2ed0d0>"
      ]
     },
     "metadata": {},
     "output_type": "display_data"
    }
   ],
   "source": [
    "# make some plots\n",
    "\n",
    "indices = np.arange(len(results))\n",
    "\n",
    "results = [[x[i] for x in results] for i in range(4)]\n",
    "\n",
    "clf_names, score, training_time, test_time = results\n",
    "training_time = np.array(training_time) / np.max(training_time)\n",
    "test_time = np.array(test_time) / np.max(test_time)\n",
    "\n",
    "plt.figure(figsize=(12, 8))\n",
    "plt.title(\"Score\")\n",
    "plt.barh(indices, score, .2, label=\"score\", color='r')\n",
    "plt.barh(indices + .3, training_time, .2, label=\"training time\", color='g')\n",
    "plt.barh(indices + .6, test_time, .2, label=\"test time\", color='b')\n",
    "plt.yticks(())\n",
    "plt.legend(loc='best')\n",
    "plt.subplots_adjust(left=.25)\n",
    "plt.subplots_adjust(top=.95)\n",
    "plt.subplots_adjust(bottom=.05)\n",
    "\n",
    "for i, c in zip(indices, clf_names):\n",
    "    plt.text(-.3, i, c)\n",
    "\n",
    "plt.show()"
   ]
  },
  {
   "cell_type": "markdown",
   "metadata": {},
   "source": [
    "## Feature Engineering "
   ]
  },
  {
   "cell_type": "code",
   "execution_count": 32,
   "metadata": {
    "collapsed": false
   },
   "outputs": [
    {
     "name": "stdout",
     "output_type": "stream",
     "text": [
      "Cross Validation Scores \n",
      "[0.76665627273672177, 0.77084632979829482, 0.7675192347681431, 0.76919076346993964, 0.77023933402705513, 0.76982310093652451]\n",
      " Mean accuracy with PCA + Logistic Regression t Classifier 0.7690\n"
     ]
    }
   ],
   "source": [
    "logr_pca_pipeline = Pipeline([('vect',CountVectorizer(decode_error = 'ignore', binary=True)),\n",
    "                     ('tfidf', TfidfTransformer()),\n",
    "                     ('to_dense', DenseTransformer()),\n",
    "                     ('reduce_dim',PCA(copy=True,n_components=50,whiten=False)),        \n",
    "                     ('clf',LogisticRegression(multi_class='ovr',random_state=42,penalty='l1', tol=.01,C=1e5))])\n",
    "scores = kfold_pipeline_classifier(logr_pca_pipeline,df)\n",
    "print \"Cross Validation Scores \"\n",
    "print scores\n",
    "print \" Mean accuracy with PCA + Logistic Regression t Classifier %.4f\" % np.mean(scores)"
   ]
  },
  {
   "cell_type": "code",
   "execution_count": 33,
   "metadata": {
    "collapsed": false
   },
   "outputs": [
    {
     "name": "stdout",
     "output_type": "stream",
     "text": [
      "Cross Validation Scores \n",
      "[0.77258081280532165, 0.77739654813890624, 0.77708463297982944, 0.77397545246515498, 0.77471383975026009, 0.77471383975026009]\n",
      " Mean accuracy with PCA + Multinomial NB Regression t Classifier 0.7751\n"
     ]
    }
   ],
   "source": [
    "mnb_pca_pipeline = Pipeline([('vect',CountVectorizer(decode_error = 'ignore', binary=True)),\n",
    "                     ('tfidf', TfidfTransformer()),\n",
    "                     ('to_dense', DenseTransformer()),\n",
    "                    # ('reduce_dim',PCA(copy=True,n_components=10,whiten=False)),        \n",
    "                     ('clf',MultinomialNB(alpha=0.01))])\n",
    "scores = kfold_pipeline_classifier(mnb_pca_pipeline,df)\n",
    "print \"Cross Validation Scores \"\n",
    "print scores\n",
    "print \" Mean accuracy with PCA + Multinomial NB Regression t Classifier %.4f\" % np.mean(scores)"
   ]
  },
  {
   "cell_type": "code",
   "execution_count": null,
   "metadata": {
    "collapsed": true
   },
   "outputs": [],
   "source": []
  }
 ],
 "metadata": {
  "kernelspec": {
   "display_name": "Python 2",
   "language": "python",
   "name": "python2"
  },
  "language_info": {
   "codemirror_mode": {
    "name": "ipython",
    "version": 2
   },
   "file_extension": ".py",
   "mimetype": "text/x-python",
   "name": "python",
   "nbconvert_exporter": "python",
   "pygments_lexer": "ipython2",
   "version": "2.7.10"
  }
 },
 "nbformat": 4,
 "nbformat_minor": 0
}
