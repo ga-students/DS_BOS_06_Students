{
 "cells": [
  {
   "cell_type": "markdown",
   "metadata": {},
   "source": [
    "#Web Scraping with Beautiful Soup\n",
    "\n",
    "This tutorial will provide a very basic introduction to using the Beautiful Soup package to scrape text data from the web. \n",
    "\n",
    "##Installation\n",
    "\n",
    "In a terminal, install Beautiful Soup if necessary by running <pre><code>conda install beautiful-soup</code></pre>\n",
    "\n",
    "##Retrieving HTML\n",
    "\n",
    "The general idea behind web scraping is to retrieve data that exists on a website, and convert it into a format that is usable for analysis. Webpages are rendered by the brower from HTML and CSS code, but much of the information included in the HTML underlying any website is not interesting to us.\n",
    "\n",
    "We begin by reading in the source code for a given web page and creating a Beautiful Soup object with the BeautifulSoup function.\n",
    "\n",
    "###urllib2\n",
    "urllib2 is a module for working with urls, we will use it to open connections to urls and retrieve the webpage source."
   ]
  },
  {
   "cell_type": "code",
   "execution_count": 20,
   "metadata": {
    "collapsed": false
   },
   "outputs": [
    {
     "name": "stdout",
     "output_type": "stream",
     "text": [
      "<class 'bs4.BeautifulSoup'>\n"
     ]
    }
   ],
   "source": [
    "from bs4 import BeautifulSoup\n",
    "import urllib2\n",
    "page = urllib2.urlopen('http://espn.go.com/nba/statistics/player/_/stat/assists/qualified/false').read()\n",
    "soup = BeautifulSoup(page)\n",
    "print type(soup)"
   ]
  },
  {
   "cell_type": "markdown",
   "metadata": {},
   "source": [
    "# To inspect data on the internet, right click and \"inspect element\""
   ]
  },
  {
   "cell_type": "markdown",
   "metadata": {},
   "source": [
    "The soup object contains all of the HTML in the original document."
   ]
  },
  {
   "cell_type": "code",
   "execution_count": 21,
   "metadata": {
    "collapsed": false
   },
   "outputs": [
    {
     "name": "stdout",
     "output_type": "stream",
     "text": [
      "<!DOCTYPE html>\n",
      "<html xmlns:fb=\"http://www.facebook.com/2008/fbml\">\n",
      " <head>\n",
      "  <script src=\"http://sports-ak.espn.go.com/sports/optimizely.js\">\n",
      "  </script>\n",
      "  <meta charset=\"utf-8\"/>\n",
      "  <meta content=\"IE=edge,chrome=1\" http-equiv=\"X-UA-Compatible\"/>\n",
      "  <link href=\"http://a.espncdn.com/prod/assets/icons/E.svg\" mask=\"\" rel=\"icon\" sizes=\"any\"/>\n",
      "  <meta content=\"#CC0000\" name=\"theme-color\"/>\n",
      "  <script type=\"text/javascript\">\n",
      "   if(true && navigator && navigator.userAgent.toLowerCase().indexOf(\"teamstream\") >= 0) {\n",
      "        window.location = 'http://a.m.espn.go.com/mobilecache/general/apps/sc';\n",
      "    }\n",
      "  </script>\n",
      "  <title>\n",
      "   2014-15 Regular Season NBA Player Stats and League Leaders - Assists - National Basketball Association - ESPN\n",
      "  </title>\n",
      "  <meta content=\"xuj1ODRluWa0frM-BjIr_aSHoUC7HB5C1MgmYAM_GkA\" name=\"google-site-verification\"/>\n",
      "  <meta content=\"B1FEB7C682C46C8FCDA3130F3D18AC28\" name=\"msvalidate.01\"/>\n",
      "  <meta content=\"noodp\" name=\"googlebot\"/>\n",
      "  <meta content=\"index, follow\" name=\"robot\n"
     ]
    }
   ],
   "source": [
    "print soup.prettify()[0:1000]"
   ]
  },
  {
   "cell_type": "markdown",
   "metadata": {},
   "source": [
    "##Parsing HTML\n",
    "\n",
    "By \"parsing HTML\", we mean pulling out only the relevant tags/attributes for our analysis.  What Beautiful Soup does is provide a handy bunch of methods for doing this efficiently.\n",
    "\n",
    "###find method\n",
    "\n",
    "The find method will search for and return the first tag matching your corresponding search criteria, if it exists.  You can specify tag and attribute info etc.  There is also a findAll method that will return a collection of tags matching your query."
   ]
  },
  {
   "cell_type": "code",
   "execution_count": 22,
   "metadata": {
    "collapsed": false
   },
   "outputs": [
    {
     "name": "stdout",
     "output_type": "stream",
     "text": [
      "<div class=\"col-main\" id=\"my-players-table\">\n",
      " <div class=\"mod-container mod-table\">\n",
      "  <div class=\"mod-header stathead\">\n",
      "   <h4>\n",
      "    Assists Per Game Leaders - All Players\n",
      "   </h4>\n",
      "  </div>\n",
      "  <div class=\"mod-content\">\n",
      "   <table cellpadding=\"3\" cellspacing=\"1\" class=\"tablehead\">\n",
      "    <tr align=\"right\" class=\"colhead\">\n",
      "     <td align=\"left\" style=\"width:20px;\">\n",
      "      RK\n",
      "     </td>\n",
      "     <td align=\"left\">\n",
      "      PLAYER\n",
      "     </td>\n",
      "     <td align=\"left\">\n",
      "      TEAM\n",
      "     </td>\n",
      "     <td>\n",
      "      <a href=\"http://espn.go.com/nba/statistics/player/_/stat/assists/sort/gamesPlayed/qualified/false\" title=\"Games Played\">\n",
      "       GP\n",
      "      </a>\n",
      "     </td>\n",
      "     <td>\n",
      "      <a href=\"http://espn.go.com/nba/statistics/player/_/stat/assists/sort/avgMinutes/qualified/false\" title=\"Minutes Per Game\">\n",
      "       MPG\n",
      "      </a>\n",
      "     </td>\n",
      "     <td>\n",
      "      <a href=\"http://espn.go.com/nba/statistics/player/_/stat/assists/sort/assists/qualified/false\" title=\"Assists\">\n",
      "       AST\n",
      "      </a>\n",
      "     </td>\n",
      "     <td>\n",
      "      <a href=\"http://espn.go.com/nba/statistics/player/_/stat/assists/sort/avgAssists/qualified/false/order/false\" title=\"Assists Per Game\">\n",
      "       APG\n",
      "      </a>\n",
      "     </td>\n",
      "     <td>\n",
      "      <a href=\"http://espn.go.com/nba/statistics/player/_/stat/assists/sort/turnovers/qualified/false\" title=\"Turnovers\">\n",
      "       TO\n",
      "      </a>\n",
      "     </td>\n",
      "     <td>\n",
      "      <a href=\"http://espn.go.com/nba/statistics/player/_/stat/assists/sort/avgTurnovers/qualified/false\" title=\"Turnovers Per Game\">\n",
      "       TOPG\n",
      "      </a>\n",
      "     </td>\n",
      "     <td>\n",
      "      <a href=\"http://espn.go.com/nba/statistics/player/_/stat/assists/sort/avg48Assists/qualified/false\" title=\"Assists Per 48 Minutes\">\n",
      "       AP48M\n",
      "      </a>\n",
      "     </td>\n",
      "     <td>\n",
      "      <a href=\"http://espn.go.com/nba/statistics/player/_/stat/assists/sort/assistTurnoverRatio/qualified/false\" title=\"Assists Per Turnover\">\n",
      "       AST/TO\n",
      "      </a>\n",
      "     </td>\n",
      "    </tr>\n",
      "    <tr align=\"right\" class=\"oddrow player-46-2779\">\n",
      "     <td align=\"left\">\n",
      "      1\n",
      "     </td>\n",
      "     <td align=\"left\">\n",
      "      <a href=\"http://espn.go.com/nba/player/_/id/2779/chris-paul\">\n",
      "       Chris Paul\n",
      "      </a>\n",
      "      , PG\n",
      "     </td>\n",
      "     <td align=\"left\">\n",
      "      LAC\n",
      "     </td>\n",
      "     <td>\n",
      "      82\n",
      "     </td>\n",
      "     <td>\n",
      "      34.8\n",
      "     </td>\n",
      "     <td>\n",
      "      838\n",
      "     </td>\n",
      "     <td class=\"sortcell\">\n",
      "      10.2\n",
      "     </td>\n",
      "     <td>\n",
      "      190\n",
      "     </td>\n",
      "     <td>\n",
      "      2.3\n",
      "     </td>\n",
      "     <td>\n",
      "      14.1\n",
      "     </td>\n",
      "     <td>\n",
      "      4.41\n",
      "     </td>\n",
      "    </tr>\n",
      "    <tr align=\"right\" class=\"evenrow player-46-4237\">\n",
      "     <td align=\"left\">\n",
      "      2\n",
      "     </td>\n",
      "     <td align=\"left\">\n",
      "      <a href=\"http://espn.go.com/nba/player/_/id/4237/john-wall\">\n",
      "       John Wall\n",
      "      </a>\n",
      "      , PG\n",
      "     </td>\n",
      "     <td align=\"left\">\n",
      "      WSH\n",
      "     </td>\n",
      "     <td>\n",
      "      79\n",
      "     </td>\n",
      "     <td>\n",
      "      35.9\n",
      "     </td>\n",
      "     <td>\n",
      "      792\n",
      "     </td>\n",
      "     <td class=\"sortcell\">\n",
      "      10.0\n",
      "     </td>\n",
      "     <td>\n",
      "      304\n",
      "     </td>\n",
      "     <td>\n",
      "      3.8\n",
      "     </td>\n",
      "     <td>\n",
      "      13.4\n",
      "     </td>\n",
      "     <td>\n",
      "      2.61\n",
      "     </td>\n",
      "    </tr>\n",
      "    <tr align=\"right\" class=\"oddrow player-46-4000\">\n",
      "     <td align=\"left\">\n",
      "      3\n",
      "     </td>\n",
      "     <td align=\"left\">\n",
      "      <a href=\"http://espn.go.com/nba/player/_/id/4000/ty-lawson\">\n",
      "       Ty Lawson\n",
      "      </a>\n",
      "      , PG\n",
      "     </td>\n",
      "     <td align=\"left\">\n",
      "      DEN\n",
      "     </td>\n",
      "     <td>\n",
      "      75\n",
      "     </td>\n",
      "     <td>\n",
      "      35.5\n",
      "     </td>\n",
      "     <td>\n",
      "      720\n",
      "     </td>\n",
      "     <td class=\"sortcell\">\n",
      "      9.6\n",
      "     </td>\n",
      "     <td>\n",
      "      185\n",
      "     </td>\n",
      "     <td>\n",
      "      2.5\n",
      "     </td>\n",
      "     <td>\n",
      "      13.0\n",
      "     </td>\n",
      "     <td>\n",
      "      3.89\n",
      "     </td>\n",
      "    </tr>\n",
      "    <tr align=\"right\" class=\"evenrow player-46-4011\">\n",
      "     <td align=\"left\">\n",
      "      4\n",
      "     </td>\n",
      "     <td align=\"left\">\n",
      "      <a href=\"http://espn.go.com/nba/player/_/id/4011/ricky-rubio\">\n",
      "       Ricky Rubio\n",
      "      </a>\n",
      "      , PG\n",
      "     </td>\n",
      "     <td align=\"left\">\n",
      "      MIN\n",
      "     </td>\n",
      "     <td>\n",
      "      22\n",
      "     </td>\n",
      "     <td>\n",
      "      31.5\n",
      "     </td>\n",
      "     <td>\n",
      "      193\n",
      "     </td>\n",
      "     <td class=\"sortcell\">\n",
      "      8.8\n",
      "     </td>\n",
      "     <td>\n",
      "      64\n"
     ]
    }
   ],
   "source": [
    "table_div = soup.find(id='my-players-table')\n",
    "print table_div.prettify()[0:4000]"
   ]
  },
  {
   "cell_type": "markdown",
   "metadata": {},
   "source": [
    "Notice that the object returned by the find method is just another inner HTML structure, which we can step through just like we would have with the original soup object.  We've gone to the location in the webpage where the table that we seek starts, now we can use find again to get to the table data."
   ]
  },
  {
   "cell_type": "code",
   "execution_count": 23,
   "metadata": {
    "collapsed": false
   },
   "outputs": [
    {
     "name": "stdout",
     "output_type": "stream",
     "text": [
      "<table cellpadding=\"3\" cellspacing=\"1\" class=\"tablehead\">\n",
      "<tr align=\"right\" class=\"colhead\"><td align=\"left\" style=\"width:20px;\">RK</td><td align=\"left\">PLAYER</td><td align=\"left\">TEAM</td><td><a href=\"http://espn.go.com/nba/statistics/player/_/stat/assists/sort/gamesPlayed/qualified/false\" title=\"Games Played\">GP</a></td><td><a href=\"http://espn.go.com/nba/statistics/player/_/stat/assists/sort/avgMinutes/qualified/false\" title=\"Minutes Per Game\">MPG</a></td><td><a href=\"http://espn.go.com/nba/statistics/player/_/stat/assists/sort/assists/qualified/false\" title=\"Assists\">AST</a></td><td><a href=\"http://espn.go.com/nba/statistics/player/_/stat/assists/sort/avgAssists/qualified/false/order/false\" title=\"Assists Per Game\">APG</a></td><td><a href=\"http://espn.go.com/nba/statistics/player/_/stat/assists/sort/turnovers/qualified/false\" title=\"Turnovers\">TO</a></td><td><a href=\"http://espn.go.com/nba/statistics/player/_/stat/assists/sort/avgTurnovers/qualified/false\" title=\"Turnovers Per Game\">TOPG</a></td><td><a href=\"http://espn.go.com/nba/statistics/player/_/stat/assists/sort/avg48Assists/qualified/false\" title=\"Assists Per 48 Minutes\">AP48M</a></td><td><a href=\"http://espn.go.com/nba/statistics/player/_/stat/assists/sort/assistTurnoverRatio/qualified/false\" title=\"Assists Per Turnover\">AST/TO</a></td></tr><tr align=\"right\" class=\"oddrow player-46-2779\"><td align=\"left\">1</td><td align=\"left\"><a href=\"http://espn.go.com/nba/player/_/id/2779/chris-paul\">Chris Paul</a>, PG</td><td align=\"left\">LAC</td><td>82</td><td>34.8</td><td>838</td><td class=\"sortcell\">10.2</td><td>190</td><td>2.3</td><td>14.1</td><td>4.41</td></tr><tr align=\"right\" class=\"evenrow player-46-4237\"><td align=\"left\">2</td><td align=\"left\"><a href=\"http://espn.go.com/nba/player/_/id/4237/john-wall\">John Wall</a>, PG</td><td align=\"left\">WSH</td><td>79</td><td>35.9</td><td>792</td><td class=\"sortcell\">10.0</td><td>304</td><td>3.8</td><td>13.4</td><td>2.61</td></tr><tr align=\"right\" class=\"oddrow player-46-4000\"><td align=\"left\">3</td><td align=\"left\"><a href=\"http://espn.go.com/nba/player/_/id/4000/ty-lawson\">Ty Lawson</a>, PG</td><td align=\"left\">DEN</td><td>75</td><td>35.5</td><td>720</td><td class=\"sortcell\">9.6</td><td>185</td><td>2.5</td><td>13.0</td><td>3.89</td></tr><tr align=\"right\" class=\"evenrow player-46-4011\"><td align=\"left\">4</td><td align=\"left\"><a href=\"http://espn.go.com/nba/player/_/id/4011/ricky-rubio\">Ricky Rubio</a>, PG</td><td align=\"left\">MIN</td><td>22</td><td>31.5</td><td>193</td><td class=\"sortcell\">8.8</td><td>64</td><td>2.9</td><td>13.4</td><td>3.02</td></tr><tr align=\"right\" class=\"oddrow player-46-3468\"><td align=\"left\">5</td><td align=\"left\"><a href=\"http://espn.go.com/nba/player/_/id/3468/russell-westbrook\">Russell Westbrook</a>, PG</td><td align=\"left\">OKC</td><td>67</td><td>34.4</td><td>574</td><td class=\"sortcell\">8.6</td><td>293</td><td>4.4</td><td>12.0</td><td>1.96</td></tr><tr align=\"right\" class=\"evenrow player-46-3026\"><td align=\"left\">6</td><td align=\"left\"><a href=\"http://espn.go.com/nba/player/_/id/3026/rajon-rondo\">Rajon Rondo</a>, PG</td><td align=\"left\">BOS/DAL</td><td>68</td><td>29.7</td><td>538</td><td class=\"sortcell\">7.9</td><td>210</td><td>3.1</td><td>12.8</td><td>2.56</td></tr><tr align=\"right\" class=\"oddrow player-46-3975\"><td align=\"left\">7</td><td align=\"left\"><a href=\"http://espn.go.com/nba/player/_/id/3975/stephen-curry\">Stephen Curry</a>, PG</td><td align=\"left\">GS</td><td>80</td><td>32.7</td><td>619</td><td class=\"sortcell\">7.7</td><td>249</td><td>3.1</td><td>11.4</td><td>2.49</td></tr><tr align=\"right\" class=\"evenrow player-46-1966\"><td align=\"left\">8</td><td align=\"left\"><a href=\"http://espn.go.com/nba/player/_/id/1966/lebron-james\">LeBron James</a>, SF</td><td align=\"left\">CLE</td><td>69</td><td>36.1</td><td>511</td><td class=\"sortcell\">7.4</td><td>272</td><td>3.9</td><td>9.8</td><td>1.88</td></tr><tr align=\"right\" class=\"oddrow player-46-4015\"><td align=\"left\">9</td><td align=\"left\"><a href=\"http://espn.go.com/nba/player/_/id/4015/jeff-teague\">Jeff Teague</a>, PG</td><td align=\"left\">ATL</td><td>73</td><td>30.5</td><td>513</td><td class=\"sortcell\">7.0</td><td>205</td><td>2.8</td><td>11.1</td><td>2.50</td></tr><tr align=\"right\" class=\"evenrow player-46-3992\"><td align=\"left\"> </td><td align=\"left\"><a href=\"http://espn.go.com/nba/player/_/id/3992/james-harden\">James Harden</a>, SG</td><td align=\"left\">HOU</td><td>81</td><td>36.8</td><td>565</td><td class=\"sortcell\">7.0</td><td>321</td><td>4.0</td><td>9.1</td><td>1.76</td></tr><tr align=\"right\" class=\"colhead\"><td align=\"left\" style=\"width:20px;\">RK</td><td align=\"left\">PLAYER</td><td align=\"left\">TEAM</td><td><a href=\"http://espn.go.com/nba/statistics/player/_/stat/assists/sort/gamesPlayed/qualified/false\" title=\"Games Played\">GP</a></td><td><a href=\"http://espn.go.com/nba/statistics/player/_/stat/assists/sort/avgMinutes/qualified/false\" title=\"Minutes Per Game\">MPG</a></td><td><a href=\"http://espn.go.com/nba/statistics/player/_/stat/assists/sort/assists/qualified/false\" title=\"Assists\">AST</a></td><td><a href=\"http://espn.go.com/nba/statistics/player/_/stat/assists/sort/avgAssists/qualified/false/order/false\" title=\"Assists Per Game\">APG</a></td><td><a href=\"http://espn.go.com/nba/statistics/player/_/stat/assists/sort/turnovers/qualified/false\" title=\"Turnovers\">TO</a></td><td><a href=\"http://espn.go.com/nba/statistics/player/_/stat/assists/sort/avgTurnovers/qualified/false\" title=\"Turnovers Per Game\">TOPG</a></td><td><a href=\"http://espn.go.com/nba/statistics/player/_/stat/assists/sort/avg48Assists/qualified/false\" title=\"Assists Per 48 Minutes\">AP48M</a></td><td><a href=\"http://espn.go.com/nba/statistics/player/_/stat/assists/sort/assistTurnoverRatio/qualified/false\" title=\"Assists Per Turnover\">AST/TO</a></td></tr><tr align=\"right\" class=\"oddrow player-46-3995\"><td align=\"left\">11</td><td align=\"left\"><a href=\"http://espn.go.com/nba/player/_/id/3995/jrue-holiday\">Jrue Holiday</a>, PG</td><td align=\"left\">NO</td><td>40</td><td>32.6</td><td>274</td><td class=\"sortcell\">6.9</td><td>91</td><td>2.3</td><td>10.1</td><td>3.01</td></tr><tr align=\"right\" class=\"evenrow player-46-3012\"><td align=\"left\">12</td><td align=\"left\"><a href=\"http://espn.go.com/nba/player/_/id/3012/kyle-lowry\">Kyle Lowry</a>, PG</td><td align=\"left\">TOR</td><td>70</td><td>34.5</td><td>473</td><td class=\"sortcell\">6.8</td><td>173</td><td>2.5</td><td>9.4</td><td>2.73</td></tr><tr align=\"right\" class=\"oddrow player-46-2596108\"><td align=\"left\">13</td><td align=\"left\"><a href=\"http://espn.go.com/nba/player/_/id/2596108/michael-carter-williams\">Michael Carter-Williams</a>, PG</td><td align=\"left\">MIL/PHI</td><td>66</td><td>32.6</td><td>442</td><td class=\"sortcell\">6.7</td><td>253</td><td>3.8</td><td>9.9</td><td>1.75</td></tr><tr align=\"right\" class=\"evenrow player-46-3997\"><td align=\"left\">14</td><td align=\"left\"><a href=\"http://espn.go.com/nba/player/_/id/3997/brandon-jennings\">Brandon Jennings</a>, PG</td><td align=\"left\">DET</td><td>41</td><td>28.6</td><td>272</td><td class=\"sortcell\">6.6</td><td>90</td><td>2.2</td><td>11.1</td><td>3.02</td></tr><tr align=\"right\" class=\"oddrow player-46-3983\"><td align=\"left\"> </td><td align=\"left\"><a href=\"http://espn.go.com/nba/player/_/id/3983/tyreke-evans\">Tyreke Evans</a>, SG</td><td align=\"left\">NO</td><td>79</td><td>34.1</td><td>521</td><td class=\"sortcell\">6.6</td><td>246</td><td>3.1</td><td>9.3</td><td>2.12</td></tr><tr align=\"right\" class=\"evenrow player-46-2798\"><td align=\"left\"> </td><td align=\"left\"><a href=\"http://espn.go.com/nba/player/_/id/2798/deron-williams\">Deron Williams</a>, PG</td><td align=\"left\">BKN</td><td>68</td><td>31.1</td><td>448</td><td class=\"sortcell\">6.6</td><td>154</td><td>2.3</td><td>10.2</td><td>2.91</td></tr><tr align=\"right\" class=\"oddrow player-46-2583639\"><td align=\"left\">17</td><td align=\"left\"><a href=\"http://espn.go.com/nba/player/_/id/2583639/elfrid-payton\">Elfrid Payton</a>, PG</td><td align=\"left\">ORL</td><td>82</td><td>30.4</td><td>533</td><td class=\"sortcell\">6.5</td><td>203</td><td>2.5</td><td>10.3</td><td>2.63</td></tr><tr align=\"right\" class=\"evenrow player-46-2178\"><td align=\"left\">18</td><td align=\"left\"><a href=\"http://espn.go.com/nba/player/_/id/2178/mo-williams\">Mo Williams</a>, PG</td><td align=\"left\">MIN/CHA</td><td>68</td><td>29.1</td><td>424</td><td class=\"sortcell\">6.2</td><td>172</td><td>2.5</td><td>10.3</td><td>2.47</td></tr><tr align=\"right\" class=\"oddrow player-46-6606\"><td align=\"left\"> </td><td align=\"left\"><a href=\"http://espn.go.com/nba/player/_/id/6606/damian-lillard\">Damian Lillard</a>, PG</td><td align=\"left\">POR</td><td>82</td><td>35.7</td><td>507</td><td class=\"sortcell\">6.2</td><td>222</td><td>2.7</td><td>8.3</td><td>2.28</td></tr><tr align=\"right\" class=\"evenrow player-46-4238\"><td align=\"left\">20</td><td align=\"left\"><a href=\"http://espn.go.com/nba/player/_/id/4238/eric-bledsoe\">Eric Bledsoe</a>, PG</td><td align=\"left\">PHX</td><td>81</td><td>34.6</td><td>493</td><td class=\"sortcell\">6.1</td><td>274</td><td>3.4</td><td>8.5</td><td>1.80</td></tr><tr align=\"right\" class=\"colhead\"><td align=\"left\" style=\"width:20px;\">RK</td><td align=\"left\">PLAYER</td><td align=\"left\">TEAM</td><td><a href=\"http://espn.go.com/nba/statistics/player/_/stat/assists/sort/gamesPlayed/qualified/false\" title=\"Games Played\">GP</a></td><td><a href=\"http://espn.go.com/nba/statistics/player/_/stat/assists/sort/avgMinutes/qualified/false\" title=\"Minutes Per Game\">MPG</a></td><td><a href=\"http://espn.go.com/nba/statistics/player/_/stat/assists/sort/assists/qualified/false\" title=\"Assists\">AST</a></td><td><a href=\"http://espn.go.com/nba/statistics/player/_/stat/assists/sort/avgAssists/qualified/false/order/false\" title=\"Assists Per Game\">APG</a></td><td><a href=\"http://espn.go.com/nba/statistics/player/_/stat/assists/sort/turnovers/qualified/false\" title=\"Turnovers\">TO</a></td><td><a href=\"http://espn.go.com/nba/statistics/player/_/stat/assists/sort/avgTurnovers/qualified/false\" title=\"Turnovers Per Game\">TOPG</a></td><td><a href=\"http://espn.go.com/nba/statistics/player/_/stat/assists/sort/avg48Assists/qualified/false\" title=\"Assists Per 48 Minutes\">AP48M</a></td><td><a href=\"http://espn.go.com/nba/statistics/player/_/stat/assists/sort/assistTurnoverRatio/qualified/false\" title=\"Assists Per Turnover\">AST/TO</a></td></tr><tr align=\"right\" class=\"oddrow player-46-6443\"><td align=\"left\">21</td><td align=\"left\"><a href=\"http://espn.go.com/nba/player/_/id/6443/reggie-jackson\">Reggie Jackson</a>, PG</td><td align=\"left\">DET/OKC</td><td>77</td><td>29.5</td><td>462</td><td class=\"sortcell\">6.0</td><td>186</td><td>2.4</td><td>9.8</td><td>2.48</td></tr><tr align=\"right\" class=\"evenrow player-46-110\"><td align=\"left\">22</td><td align=\"left\"><a href=\"http://espn.go.com/nba/player/_/id/110/kobe-bryant\">Kobe Bryant</a>, SG</td><td align=\"left\">LAL</td><td>35</td><td>34.5</td><td>197</td><td class=\"sortcell\">5.6</td><td>128</td><td>3.7</td><td>7.8</td><td>1.54</td></tr><tr align=\"right\" class=\"oddrow player-46-3973\"><td align=\"left\"> </td><td align=\"left\"><a href=\"http://espn.go.com/nba/player/_/id/3973/darren-collison\">Darren Collison</a>, PG</td><td align=\"left\">SAC</td><td>45</td><td>34.8</td><td>252</td><td class=\"sortcell\">5.6</td><td>112</td><td>2.5</td><td>7.7</td><td>2.25</td></tr><tr align=\"right\" class=\"evenrow player-46-4239\"><td align=\"left\">24</td><td align=\"left\"><a href=\"http://espn.go.com/nba/player/_/id/4239/evan-turner\">Evan Turner</a>, SG</td><td align=\"left\">BOS</td><td>82</td><td>27.6</td><td>449</td><td class=\"sortcell\">5.5</td><td>198</td><td>2.4</td><td>9.5</td><td>2.27</td></tr><tr align=\"right\" class=\"oddrow player-46-2488945\"><td align=\"left\"> </td><td align=\"left\"><a href=\"http://espn.go.com/nba/player/_/id/2488945/tim-frazier\">Tim Frazier</a>, PG</td><td align=\"left\">PHI/POR</td><td>11</td><td>21.7</td><td>60</td><td class=\"sortcell\">5.5</td><td>25</td><td>2.3</td><td>12.1</td><td>2.40</td></tr><tr align=\"right\" class=\"evenrow player-46-3195\"><td align=\"left\">26</td><td align=\"left\"><a href=\"http://espn.go.com/nba/player/_/id/3195/mike-conley\">Mike Conley</a>, PG</td><td align=\"left\">MEM</td><td>70</td><td>31.8</td><td>375</td><td class=\"sortcell\">5.4</td><td>156</td><td>2.2</td><td>8.1</td><td>2.40</td></tr><tr align=\"right\" class=\"oddrow player-46-3989\"><td align=\"left\">27</td><td align=\"left\"><a href=\"http://espn.go.com/nba/player/_/id/3989/blake-griffin\">Blake Griffin</a>, PF</td><td align=\"left\">LAC</td><td>67</td><td>35.2</td><td>354</td><td class=\"sortcell\">5.3</td><td>152</td><td>2.3</td><td>7.2</td><td>2.33</td></tr><tr align=\"right\" class=\"evenrow player-46-6448\"><td align=\"left\">28</td><td align=\"left\"><a href=\"http://espn.go.com/nba/player/_/id/6448/brandon-knight\">Brandon Knight</a>, PG</td><td align=\"left\">MIL/PHX</td><td>63</td><td>32.3</td><td>330</td><td class=\"sortcell\">5.2</td><td>189</td><td>3.0</td><td>7.8</td><td>1.75</td></tr><tr align=\"right\" class=\"oddrow player-46-6630\"><td align=\"left\"> </td><td align=\"left\"><a href=\"http://espn.go.com/nba/player/_/id/6630/tony-wroten\">Tony Wroten</a>, SG</td><td align=\"left\">PHI</td><td>30</td><td>29.8</td><td>157</td><td class=\"sortcell\">5.2</td><td>113</td><td>3.8</td><td>8.4</td><td>1.39</td></tr><tr align=\"right\" class=\"evenrow player-46-6442\"><td align=\"left\"> </td><td align=\"left\"><a href=\"http://espn.go.com/nba/player/_/id/6442/kyrie-irving\">Kyrie Irving</a>, PG</td><td align=\"left\">CLE</td><td>75</td><td>36.4</td><td>389</td><td class=\"sortcell\">5.2</td><td>186</td><td>2.5</td><td>6.8</td><td>2.09</td></tr><tr align=\"right\" class=\"colhead\"><td align=\"left\" style=\"width:20px;\">RK</td><td align=\"left\">PLAYER</td><td align=\"left\">TEAM</td><td><a href=\"http://espn.go.com/nba/statistics/player/_/stat/assists/sort/gamesPlayed/qualified/false\" title=\"Games Played\">GP</a></td><td><a href=\"http://espn.go.com/nba/statistics/player/_/stat/assists/sort/avgMinutes/qualified/false\" title=\"Minutes Per Game\">MPG</a></td><td><a href=\"http://espn.go.com/nba/statistics/player/_/stat/assists/sort/assists/qualified/false\" title=\"Assists\">AST</a></td><td><a href=\"http://espn.go.com/nba/statistics/player/_/stat/assists/sort/avgAssists/qualified/false/order/false\" title=\"Assists Per Game\">APG</a></td><td><a href=\"http://espn.go.com/nba/statistics/player/_/stat/assists/sort/turnovers/qualified/false\" title=\"Turnovers\">TO</a></td><td><a href=\"http://espn.go.com/nba/statistics/player/_/stat/assists/sort/avgTurnovers/qualified/false\" title=\"Turnovers Per Game\">TOPG</a></td><td><a href=\"http://espn.go.com/nba/statistics/player/_/stat/assists/sort/avg48Assists/qualified/false\" title=\"Assists Per 48 Minutes\">AP48M</a></td><td><a href=\"http://espn.go.com/nba/statistics/player/_/stat/assists/sort/assistTurnoverRatio/qualified/false\" title=\"Assists Per Turnover\">AST/TO</a></td></tr><tr align=\"right\" class=\"oddrow player-46-6479\"><td align=\"left\">31</td><td align=\"left\"><a href=\"http://espn.go.com/nba/player/_/id/6479/kemba-walker\">Kemba Walker</a>, PG</td><td align=\"left\">CHA</td><td>62</td><td>34.2</td><td>318</td><td class=\"sortcell\">5.1</td><td>100</td><td>1.6</td><td>7.2</td><td>3.18</td></tr><tr align=\"right\" class=\"evenrow player-46-3438\"><td align=\"left\"> </td><td align=\"left\"><a href=\"http://espn.go.com/nba/player/_/id/3438/george-hill\">George Hill</a>, PG</td><td align=\"left\">IND</td><td>43</td><td>29.5</td><td>220</td><td class=\"sortcell\">5.1</td><td>69</td><td>1.6</td><td>8.3</td><td>3.19</td></tr><tr align=\"right\" class=\"oddrow player-46-1015\"><td align=\"left\">33</td><td align=\"left\"><a href=\"http://espn.go.com/nba/player/_/id/1015/tony-parker\">Tony Parker</a>, PG</td><td align=\"left\">SA</td><td>68</td><td>28.7</td><td>335</td><td class=\"sortcell\">4.9</td><td>146</td><td>2.1</td><td>8.2</td><td>2.29</td></tr><tr align=\"right\" class=\"evenrow player-46-3456\"><td align=\"left\"> </td><td align=\"left\"><a href=\"http://espn.go.com/nba/player/_/id/3456/derrick-rose\">Derrick Rose</a>, PG</td><td align=\"left\">CHI</td><td>51</td><td>30.0</td><td>251</td><td class=\"sortcell\">4.9</td><td>161</td><td>3.2</td><td>7.9</td><td>1.56</td></tr><tr align=\"right\" class=\"oddrow player-46-1987\"><td align=\"left\">35</td><td align=\"left\"><a href=\"http://espn.go.com/nba/player/_/id/1987/dwyane-wade\">Dwyane Wade</a>, SG</td><td align=\"left\">MIA</td><td>62</td><td>31.8</td><td>299</td><td class=\"sortcell\">4.8</td><td>209</td><td>3.4</td><td>7.3</td><td>1.43</td></tr><tr align=\"right\" class=\"evenrow player-46-3416\"><td align=\"left\"> </td><td align=\"left\"><a href=\"http://espn.go.com/nba/player/_/id/3416/nicolas-batum\">Nicolas Batum</a>, SF</td><td align=\"left\">POR</td><td>71</td><td>33.5</td><td>341</td><td class=\"sortcell\">4.8</td><td>132</td><td>1.9</td><td>6.9</td><td>2.58</td></tr><tr align=\"right\" class=\"oddrow player-46-2806\"><td align=\"left\">37</td><td align=\"left\"><a href=\"http://espn.go.com/nba/player/_/id/2806/jose-calderon\">Jose Calderon</a>, PG</td><td align=\"left\">NY</td><td>42</td><td>30.2</td><td>198</td><td class=\"sortcell\">4.7</td><td>75</td><td>1.8</td><td>7.5</td><td>2.64</td></tr><tr align=\"right\" class=\"evenrow player-46-2768\"><td align=\"left\"> </td><td align=\"left\"><a href=\"http://espn.go.com/nba/player/_/id/2768/jarrett-jack\">Jarrett Jack</a>, PG</td><td align=\"left\">BKN</td><td>80</td><td>28.0</td><td>373</td><td class=\"sortcell\">4.7</td><td>191</td><td>2.4</td><td>8.0</td><td>1.95</td></tr><tr align=\"right\" class=\"oddrow player-46-3224\"><td align=\"left\"> </td><td align=\"left\"><a href=\"http://espn.go.com/nba/player/_/id/3224/joakim-noah\">Joakim Noah</a>, C</td><td align=\"left\">CHI</td><td>67</td><td>30.6</td><td>312</td><td class=\"sortcell\">4.7</td><td>123</td><td>1.8</td><td>7.3</td><td>2.54</td></tr><tr align=\"right\" class=\"evenrow player-46-4299\"><td align=\"left\">40</td><td align=\"left\"><a href=\"http://espn.go.com/nba/player/_/id/4299/jeremy-lin\">Jeremy Lin</a>, PG</td><td align=\"left\">LAL</td><td>74</td><td>25.8</td><td>339</td><td class=\"sortcell\">4.6</td><td>166</td><td>2.2</td><td>8.5</td><td>2.04</td></tr>\n",
      "</table>\n"
     ]
    }
   ],
   "source": [
    "table = table_div.find(\"table\")\n",
    "print table"
   ]
  },
  {
   "cell_type": "markdown",
   "metadata": {},
   "source": [
    "###Searching by Attributes\n",
    "\n",
    "Now that we have the table object, we need to step through the rows.  First we'll find the header row so we can populate what the field names will be in our data.  Here we're searching for tags under the table tag whose class attritbute is \"colhead\".  "
   ]
  },
  {
   "cell_type": "code",
   "execution_count": 24,
   "metadata": {
    "collapsed": false
   },
   "outputs": [
    {
     "name": "stdout",
     "output_type": "stream",
     "text": [
      "<tr align=\"right\" class=\"colhead\">\n",
      " <td align=\"left\" style=\"width:20px;\">\n",
      "  RK\n",
      " </td>\n",
      " <td align=\"left\">\n",
      "  PLAYER\n",
      " </td>\n",
      " <td align=\"left\">\n",
      "  TEAM\n",
      " </td>\n",
      " <td>\n",
      "  <a href=\"http://espn.go.com/nba/statistics/player/_/stat/assists/sort/gamesPlayed/qualified/false\" title=\"Games Played\">\n",
      "   GP\n",
      "  </a>\n",
      " </td>\n",
      " <td>\n",
      "  <a href=\"http://espn.go.com/nba/statistics/player/_/stat/assists/sort/avgMinutes/qualified/false\" title=\"Minutes Per Game\">\n",
      "   MPG\n",
      "  </a>\n",
      " </td>\n",
      " <td>\n",
      "  <a href=\"http://espn.go.com/nba/statistics/player/_/stat/assists/sort/assists/qualified/false\" title=\"Assists\">\n",
      "   AST\n",
      "  </a>\n",
      " </td>\n",
      " <td>\n",
      "  <a href=\"http://espn.go.com/nba/statistics/player/_/stat/assists/sort/avgAssists/qualified/false/order/false\" title=\"Assists Per Game\">\n",
      "   APG\n",
      "  </a>\n",
      " </td>\n",
      " <td>\n",
      "  <a href=\"http://espn.go.com/nba/statistics/player/_/stat/assists/sort/turnovers/qualified/false\" title=\"Turnovers\">\n",
      "   TO\n",
      "  </a>\n",
      " </td>\n",
      " <td>\n",
      "  <a href=\"http://espn.go.com/nba/statistics/player/_/stat/assists/sort/avgTurnovers/qualified/false\" title=\"Turnovers Per Game\">\n",
      "   TOPG\n",
      "  </a>\n",
      " </td>\n",
      " <td>\n",
      "  <a href=\"http://espn.go.com/nba/statistics/player/_/stat/assists/sort/avg48Assists/qualified/false\" title=\"Assists Per 48 Minutes\">\n",
      "   AP48M\n",
      "  </a>\n",
      " </td>\n",
      " <td>\n",
      "  <a href=\"http://espn.go.com/nba/statistics/player/_/stat/assists/sort/assistTurnoverRatio/qualified/false\" title=\"Assists Per Turnover\">\n",
      "   AST/TO\n",
      "  </a>\n",
      " </td>\n",
      "</tr>\n",
      "\n"
     ]
    }
   ],
   "source": [
    "table_head = table.find(attrs={\"class\":'colhead'})\n",
    "print table_head.prettify()"
   ]
  },
  {
   "cell_type": "markdown",
   "metadata": {},
   "source": [
    "Now we find the actual values by searching for the 'td' tags, which is the tag for table data."
   ]
  },
  {
   "cell_type": "code",
   "execution_count": 25,
   "metadata": {
    "collapsed": false
   },
   "outputs": [
    {
     "name": "stdout",
     "output_type": "stream",
     "text": [
      "[<td align=\"left\" style=\"width:20px;\">RK</td>, <td align=\"left\">PLAYER</td>, <td align=\"left\">TEAM</td>, <td><a href=\"http://espn.go.com/nba/statistics/player/_/stat/assists/sort/gamesPlayed/qualified/false\" title=\"Games Played\">GP</a></td>, <td><a href=\"http://espn.go.com/nba/statistics/player/_/stat/assists/sort/avgMinutes/qualified/false\" title=\"Minutes Per Game\">MPG</a></td>, <td><a href=\"http://espn.go.com/nba/statistics/player/_/stat/assists/sort/assists/qualified/false\" title=\"Assists\">AST</a></td>, <td><a href=\"http://espn.go.com/nba/statistics/player/_/stat/assists/sort/avgAssists/qualified/false/order/false\" title=\"Assists Per Game\">APG</a></td>, <td><a href=\"http://espn.go.com/nba/statistics/player/_/stat/assists/sort/turnovers/qualified/false\" title=\"Turnovers\">TO</a></td>, <td><a href=\"http://espn.go.com/nba/statistics/player/_/stat/assists/sort/avgTurnovers/qualified/false\" title=\"Turnovers Per Game\">TOPG</a></td>, <td><a href=\"http://espn.go.com/nba/statistics/player/_/stat/assists/sort/avg48Assists/qualified/false\" title=\"Assists Per 48 Minutes\">AP48M</a></td>, <td><a href=\"http://espn.go.com/nba/statistics/player/_/stat/assists/sort/assistTurnoverRatio/qualified/false\" title=\"Assists Per Turnover\">AST/TO</a></td>]\n"
     ]
    }
   ],
   "source": [
    "header_cols = table_head.findAll('td')\n",
    "print header_cols"
   ]
  },
  {
   "cell_type": "markdown",
   "metadata": {},
   "source": [
    "Finally, we step through these columns and save them to a list to be used later.  We'll ignore the rank column (RK) because that doesn't give us anything we want later.  We also separate the **PLAYER** column into **PLAYER** and **POSITION**.  \n"
   ]
  },
  {
   "cell_type": "code",
   "execution_count": 26,
   "metadata": {
    "collapsed": true
   },
   "outputs": [],
   "source": [
    "#<tag> value <xtag>"
   ]
  },
  {
   "cell_type": "code",
   "execution_count": 27,
   "metadata": {
    "collapsed": false
   },
   "outputs": [
    {
     "name": "stdout",
     "output_type": "stream",
     "text": [
      "[u'PLAYER', 'POSITION', u'TEAM', u'GP', u'MPG', u'AST', u'APG', u'TO', u'TOPG', u'AP48M', u'AST/TO']\n"
     ]
    }
   ],
   "source": [
    "cols = []\n",
    "for header_col in header_cols:\n",
    "    val = header_col.string\n",
    "    if val != 'RK':\n",
    "        cols.append(val)\n",
    "    if val == 'PLAYER':\n",
    "        cols.append('POSITION')\n",
    "print cols"
   ]
  },
  {
   "cell_type": "markdown",
   "metadata": {},
   "source": [
    "###Stepping Through a Table\n",
    "\n",
    "The table rows are indicated by the tag 'tr'.  Again we can find them all and iterate through them.  Within each row we iterate through the respective columns."
   ]
  },
  {
   "cell_type": "code",
   "execution_count": 28,
   "metadata": {
    "collapsed": false
   },
   "outputs": [
    {
     "name": "stdout",
     "output_type": "stream",
     "text": [
      "[<tr align=\"right\" class=\"colhead\"><td align=\"left\" style=\"width:20px;\">RK</td><td align=\"left\">PLAYER</td><td align=\"left\">TEAM</td><td><a href=\"http://espn.go.com/nba/statistics/player/_/stat/assists/sort/gamesPlayed/qualified/false\" title=\"Games Played\">GP</a></td><td><a href=\"http://espn.go.com/nba/statistics/player/_/stat/assists/sort/avgMinutes/qualified/false\" title=\"Minutes Per Game\">MPG</a></td><td><a href=\"http://espn.go.com/nba/statistics/player/_/stat/assists/sort/assists/qualified/false\" title=\"Assists\">AST</a></td><td><a href=\"http://espn.go.com/nba/statistics/player/_/stat/assists/sort/avgAssists/qualified/false/order/false\" title=\"Assists Per Game\">APG</a></td><td><a href=\"http://espn.go.com/nba/statistics/player/_/stat/assists/sort/turnovers/qualified/false\" title=\"Turnovers\">TO</a></td><td><a href=\"http://espn.go.com/nba/statistics/player/_/stat/assists/sort/avgTurnovers/qualified/false\" title=\"Turnovers Per Game\">TOPG</a></td><td><a href=\"http://espn.go.com/nba/statistics/player/_/stat/assists/sort/avg48Assists/qualified/false\" title=\"Assists Per 48 Minutes\">AP48M</a></td><td><a href=\"http://espn.go.com/nba/statistics/player/_/stat/assists/sort/assistTurnoverRatio/qualified/false\" title=\"Assists Per Turnover\">AST/TO</a></td></tr>, <tr align=\"right\" class=\"oddrow player-46-2779\"><td align=\"left\">1</td><td align=\"left\"><a href=\"http://espn.go.com/nba/player/_/id/2779/chris-paul\">Chris Paul</a>, PG</td><td align=\"left\">LAC</td><td>82</td><td>34.8</td><td>838</td><td class=\"sortcell\">10.2</td><td>190</td><td>2.3</td><td>14.1</td><td>4.41</td></tr>, <tr align=\"right\" class=\"evenrow player-46-4237\"><td align=\"left\">2</td><td align=\"left\"><a href=\"http://espn.go.com/nba/player/_/id/4237/john-wall\">John Wall</a>, PG</td><td align=\"left\">WSH</td><td>79</td><td>35.9</td><td>792</td><td class=\"sortcell\">10.0</td><td>304</td><td>3.8</td><td>13.4</td><td>2.61</td></tr>, <tr align=\"right\" class=\"oddrow player-46-4000\"><td align=\"left\">3</td><td align=\"left\"><a href=\"http://espn.go.com/nba/player/_/id/4000/ty-lawson\">Ty Lawson</a>, PG</td><td align=\"left\">DEN</td><td>75</td><td>35.5</td><td>720</td><td class=\"sortcell\">9.6</td><td>185</td><td>2.5</td><td>13.0</td><td>3.89</td></tr>, <tr align=\"right\" class=\"evenrow player-46-4011\"><td align=\"left\">4</td><td align=\"left\"><a href=\"http://espn.go.com/nba/player/_/id/4011/ricky-rubio\">Ricky Rubio</a>, PG</td><td align=\"left\">MIN</td><td>22</td><td>31.5</td><td>193</td><td class=\"sortcell\">8.8</td><td>64</td><td>2.9</td><td>13.4</td><td>3.02</td></tr>, <tr align=\"right\" class=\"oddrow player-46-3468\"><td align=\"left\">5</td><td align=\"left\"><a href=\"http://espn.go.com/nba/player/_/id/3468/russell-westbrook\">Russell Westbrook</a>, PG</td><td align=\"left\">OKC</td><td>67</td><td>34.4</td><td>574</td><td class=\"sortcell\">8.6</td><td>293</td><td>4.4</td><td>12.0</td><td>1.96</td></tr>, <tr align=\"right\" class=\"evenrow player-46-3026\"><td align=\"left\">6</td><td align=\"left\"><a href=\"http://espn.go.com/nba/player/_/id/3026/rajon-rondo\">Rajon Rondo</a>, PG</td><td align=\"left\">BOS/DAL</td><td>68</td><td>29.7</td><td>538</td><td class=\"sortcell\">7.9</td><td>210</td><td>3.1</td><td>12.8</td><td>2.56</td></tr>, <tr align=\"right\" class=\"oddrow player-46-3975\"><td align=\"left\">7</td><td align=\"left\"><a href=\"http://espn.go.com/nba/player/_/id/3975/stephen-curry\">Stephen Curry</a>, PG</td><td align=\"left\">GS</td><td>80</td><td>32.7</td><td>619</td><td class=\"sortcell\">7.7</td><td>249</td><td>3.1</td><td>11.4</td><td>2.49</td></tr>, <tr align=\"right\" class=\"evenrow player-46-1966\"><td align=\"left\">8</td><td align=\"left\"><a href=\"http://espn.go.com/nba/player/_/id/1966/lebron-james\">LeBron James</a>, SF</td><td align=\"left\">CLE</td><td>69</td><td>36.1</td><td>511</td><td class=\"sortcell\">7.4</td><td>272</td><td>3.9</td><td>9.8</td><td>1.88</td></tr>, <tr align=\"right\" class=\"oddrow player-46-4015\"><td align=\"left\">9</td><td align=\"left\"><a href=\"http://espn.go.com/nba/player/_/id/4015/jeff-teague\">Jeff Teague</a>, PG</td><td align=\"left\">ATL</td><td>73</td><td>30.5</td><td>513</td><td class=\"sortcell\">7.0</td><td>205</td><td>2.8</td><td>11.1</td><td>2.50</td></tr>, <tr align=\"right\" class=\"evenrow player-46-3992\"><td align=\"left\"> </td><td align=\"left\"><a href=\"http://espn.go.com/nba/player/_/id/3992/james-harden\">James Harden</a>, SG</td><td align=\"left\">HOU</td><td>81</td><td>36.8</td><td>565</td><td class=\"sortcell\">7.0</td><td>321</td><td>4.0</td><td>9.1</td><td>1.76</td></tr>, <tr align=\"right\" class=\"colhead\"><td align=\"left\" style=\"width:20px;\">RK</td><td align=\"left\">PLAYER</td><td align=\"left\">TEAM</td><td><a href=\"http://espn.go.com/nba/statistics/player/_/stat/assists/sort/gamesPlayed/qualified/false\" title=\"Games Played\">GP</a></td><td><a href=\"http://espn.go.com/nba/statistics/player/_/stat/assists/sort/avgMinutes/qualified/false\" title=\"Minutes Per Game\">MPG</a></td><td><a href=\"http://espn.go.com/nba/statistics/player/_/stat/assists/sort/assists/qualified/false\" title=\"Assists\">AST</a></td><td><a href=\"http://espn.go.com/nba/statistics/player/_/stat/assists/sort/avgAssists/qualified/false/order/false\" title=\"Assists Per Game\">APG</a></td><td><a href=\"http://espn.go.com/nba/statistics/player/_/stat/assists/sort/turnovers/qualified/false\" title=\"Turnovers\">TO</a></td><td><a href=\"http://espn.go.com/nba/statistics/player/_/stat/assists/sort/avgTurnovers/qualified/false\" title=\"Turnovers Per Game\">TOPG</a></td><td><a href=\"http://espn.go.com/nba/statistics/player/_/stat/assists/sort/avg48Assists/qualified/false\" title=\"Assists Per 48 Minutes\">AP48M</a></td><td><a href=\"http://espn.go.com/nba/statistics/player/_/stat/assists/sort/assistTurnoverRatio/qualified/false\" title=\"Assists Per Turnover\">AST/TO</a></td></tr>, <tr align=\"right\" class=\"oddrow player-46-3995\"><td align=\"left\">11</td><td align=\"left\"><a href=\"http://espn.go.com/nba/player/_/id/3995/jrue-holiday\">Jrue Holiday</a>, PG</td><td align=\"left\">NO</td><td>40</td><td>32.6</td><td>274</td><td class=\"sortcell\">6.9</td><td>91</td><td>2.3</td><td>10.1</td><td>3.01</td></tr>, <tr align=\"right\" class=\"evenrow player-46-3012\"><td align=\"left\">12</td><td align=\"left\"><a href=\"http://espn.go.com/nba/player/_/id/3012/kyle-lowry\">Kyle Lowry</a>, PG</td><td align=\"left\">TOR</td><td>70</td><td>34.5</td><td>473</td><td class=\"sortcell\">6.8</td><td>173</td><td>2.5</td><td>9.4</td><td>2.73</td></tr>, <tr align=\"right\" class=\"oddrow player-46-2596108\"><td align=\"left\">13</td><td align=\"left\"><a href=\"http://espn.go.com/nba/player/_/id/2596108/michael-carter-williams\">Michael Carter-Williams</a>, PG</td><td align=\"left\">MIL/PHI</td><td>66</td><td>32.6</td><td>442</td><td class=\"sortcell\">6.7</td><td>253</td><td>3.8</td><td>9.9</td><td>1.75</td></tr>, <tr align=\"right\" class=\"evenrow player-46-3997\"><td align=\"left\">14</td><td align=\"left\"><a href=\"http://espn.go.com/nba/player/_/id/3997/brandon-jennings\">Brandon Jennings</a>, PG</td><td align=\"left\">DET</td><td>41</td><td>28.6</td><td>272</td><td class=\"sortcell\">6.6</td><td>90</td><td>2.2</td><td>11.1</td><td>3.02</td></tr>, <tr align=\"right\" class=\"oddrow player-46-3983\"><td align=\"left\"> </td><td align=\"left\"><a href=\"http://espn.go.com/nba/player/_/id/3983/tyreke-evans\">Tyreke Evans</a>, SG</td><td align=\"left\">NO</td><td>79</td><td>34.1</td><td>521</td><td class=\"sortcell\">6.6</td><td>246</td><td>3.1</td><td>9.3</td><td>2.12</td></tr>, <tr align=\"right\" class=\"evenrow player-46-2798\"><td align=\"left\"> </td><td align=\"left\"><a href=\"http://espn.go.com/nba/player/_/id/2798/deron-williams\">Deron Williams</a>, PG</td><td align=\"left\">BKN</td><td>68</td><td>31.1</td><td>448</td><td class=\"sortcell\">6.6</td><td>154</td><td>2.3</td><td>10.2</td><td>2.91</td></tr>, <tr align=\"right\" class=\"oddrow player-46-2583639\"><td align=\"left\">17</td><td align=\"left\"><a href=\"http://espn.go.com/nba/player/_/id/2583639/elfrid-payton\">Elfrid Payton</a>, PG</td><td align=\"left\">ORL</td><td>82</td><td>30.4</td><td>533</td><td class=\"sortcell\">6.5</td><td>203</td><td>2.5</td><td>10.3</td><td>2.63</td></tr>, <tr align=\"right\" class=\"evenrow player-46-2178\"><td align=\"left\">18</td><td align=\"left\"><a href=\"http://espn.go.com/nba/player/_/id/2178/mo-williams\">Mo Williams</a>, PG</td><td align=\"left\">MIN/CHA</td><td>68</td><td>29.1</td><td>424</td><td class=\"sortcell\">6.2</td><td>172</td><td>2.5</td><td>10.3</td><td>2.47</td></tr>, <tr align=\"right\" class=\"oddrow player-46-6606\"><td align=\"left\"> </td><td align=\"left\"><a href=\"http://espn.go.com/nba/player/_/id/6606/damian-lillard\">Damian Lillard</a>, PG</td><td align=\"left\">POR</td><td>82</td><td>35.7</td><td>507</td><td class=\"sortcell\">6.2</td><td>222</td><td>2.7</td><td>8.3</td><td>2.28</td></tr>, <tr align=\"right\" class=\"evenrow player-46-4238\"><td align=\"left\">20</td><td align=\"left\"><a href=\"http://espn.go.com/nba/player/_/id/4238/eric-bledsoe\">Eric Bledsoe</a>, PG</td><td align=\"left\">PHX</td><td>81</td><td>34.6</td><td>493</td><td class=\"sortcell\">6.1</td><td>274</td><td>3.4</td><td>8.5</td><td>1.80</td></tr>, <tr align=\"right\" class=\"colhead\"><td align=\"left\" style=\"width:20px;\">RK</td><td align=\"left\">PLAYER</td><td align=\"left\">TEAM</td><td><a href=\"http://espn.go.com/nba/statistics/player/_/stat/assists/sort/gamesPlayed/qualified/false\" title=\"Games Played\">GP</a></td><td><a href=\"http://espn.go.com/nba/statistics/player/_/stat/assists/sort/avgMinutes/qualified/false\" title=\"Minutes Per Game\">MPG</a></td><td><a href=\"http://espn.go.com/nba/statistics/player/_/stat/assists/sort/assists/qualified/false\" title=\"Assists\">AST</a></td><td><a href=\"http://espn.go.com/nba/statistics/player/_/stat/assists/sort/avgAssists/qualified/false/order/false\" title=\"Assists Per Game\">APG</a></td><td><a href=\"http://espn.go.com/nba/statistics/player/_/stat/assists/sort/turnovers/qualified/false\" title=\"Turnovers\">TO</a></td><td><a href=\"http://espn.go.com/nba/statistics/player/_/stat/assists/sort/avgTurnovers/qualified/false\" title=\"Turnovers Per Game\">TOPG</a></td><td><a href=\"http://espn.go.com/nba/statistics/player/_/stat/assists/sort/avg48Assists/qualified/false\" title=\"Assists Per 48 Minutes\">AP48M</a></td><td><a href=\"http://espn.go.com/nba/statistics/player/_/stat/assists/sort/assistTurnoverRatio/qualified/false\" title=\"Assists Per Turnover\">AST/TO</a></td></tr>, <tr align=\"right\" class=\"oddrow player-46-6443\"><td align=\"left\">21</td><td align=\"left\"><a href=\"http://espn.go.com/nba/player/_/id/6443/reggie-jackson\">Reggie Jackson</a>, PG</td><td align=\"left\">DET/OKC</td><td>77</td><td>29.5</td><td>462</td><td class=\"sortcell\">6.0</td><td>186</td><td>2.4</td><td>9.8</td><td>2.48</td></tr>, <tr align=\"right\" class=\"evenrow player-46-110\"><td align=\"left\">22</td><td align=\"left\"><a href=\"http://espn.go.com/nba/player/_/id/110/kobe-bryant\">Kobe Bryant</a>, SG</td><td align=\"left\">LAL</td><td>35</td><td>34.5</td><td>197</td><td class=\"sortcell\">5.6</td><td>128</td><td>3.7</td><td>7.8</td><td>1.54</td></tr>, <tr align=\"right\" class=\"oddrow player-46-3973\"><td align=\"left\"> </td><td align=\"left\"><a href=\"http://espn.go.com/nba/player/_/id/3973/darren-collison\">Darren Collison</a>, PG</td><td align=\"left\">SAC</td><td>45</td><td>34.8</td><td>252</td><td class=\"sortcell\">5.6</td><td>112</td><td>2.5</td><td>7.7</td><td>2.25</td></tr>, <tr align=\"right\" class=\"evenrow player-46-4239\"><td align=\"left\">24</td><td align=\"left\"><a href=\"http://espn.go.com/nba/player/_/id/4239/evan-turner\">Evan Turner</a>, SG</td><td align=\"left\">BOS</td><td>82</td><td>27.6</td><td>449</td><td class=\"sortcell\">5.5</td><td>198</td><td>2.4</td><td>9.5</td><td>2.27</td></tr>, <tr align=\"right\" class=\"oddrow player-46-2488945\"><td align=\"left\"> </td><td align=\"left\"><a href=\"http://espn.go.com/nba/player/_/id/2488945/tim-frazier\">Tim Frazier</a>, PG</td><td align=\"left\">PHI/POR</td><td>11</td><td>21.7</td><td>60</td><td class=\"sortcell\">5.5</td><td>25</td><td>2.3</td><td>12.1</td><td>2.40</td></tr>, <tr align=\"right\" class=\"evenrow player-46-3195\"><td align=\"left\">26</td><td align=\"left\"><a href=\"http://espn.go.com/nba/player/_/id/3195/mike-conley\">Mike Conley</a>, PG</td><td align=\"left\">MEM</td><td>70</td><td>31.8</td><td>375</td><td class=\"sortcell\">5.4</td><td>156</td><td>2.2</td><td>8.1</td><td>2.40</td></tr>, <tr align=\"right\" class=\"oddrow player-46-3989\"><td align=\"left\">27</td><td align=\"left\"><a href=\"http://espn.go.com/nba/player/_/id/3989/blake-griffin\">Blake Griffin</a>, PF</td><td align=\"left\">LAC</td><td>67</td><td>35.2</td><td>354</td><td class=\"sortcell\">5.3</td><td>152</td><td>2.3</td><td>7.2</td><td>2.33</td></tr>, <tr align=\"right\" class=\"evenrow player-46-6448\"><td align=\"left\">28</td><td align=\"left\"><a href=\"http://espn.go.com/nba/player/_/id/6448/brandon-knight\">Brandon Knight</a>, PG</td><td align=\"left\">MIL/PHX</td><td>63</td><td>32.3</td><td>330</td><td class=\"sortcell\">5.2</td><td>189</td><td>3.0</td><td>7.8</td><td>1.75</td></tr>, <tr align=\"right\" class=\"oddrow player-46-6630\"><td align=\"left\"> </td><td align=\"left\"><a href=\"http://espn.go.com/nba/player/_/id/6630/tony-wroten\">Tony Wroten</a>, SG</td><td align=\"left\">PHI</td><td>30</td><td>29.8</td><td>157</td><td class=\"sortcell\">5.2</td><td>113</td><td>3.8</td><td>8.4</td><td>1.39</td></tr>, <tr align=\"right\" class=\"evenrow player-46-6442\"><td align=\"left\"> </td><td align=\"left\"><a href=\"http://espn.go.com/nba/player/_/id/6442/kyrie-irving\">Kyrie Irving</a>, PG</td><td align=\"left\">CLE</td><td>75</td><td>36.4</td><td>389</td><td class=\"sortcell\">5.2</td><td>186</td><td>2.5</td><td>6.8</td><td>2.09</td></tr>, <tr align=\"right\" class=\"colhead\"><td align=\"left\" style=\"width:20px;\">RK</td><td align=\"left\">PLAYER</td><td align=\"left\">TEAM</td><td><a href=\"http://espn.go.com/nba/statistics/player/_/stat/assists/sort/gamesPlayed/qualified/false\" title=\"Games Played\">GP</a></td><td><a href=\"http://espn.go.com/nba/statistics/player/_/stat/assists/sort/avgMinutes/qualified/false\" title=\"Minutes Per Game\">MPG</a></td><td><a href=\"http://espn.go.com/nba/statistics/player/_/stat/assists/sort/assists/qualified/false\" title=\"Assists\">AST</a></td><td><a href=\"http://espn.go.com/nba/statistics/player/_/stat/assists/sort/avgAssists/qualified/false/order/false\" title=\"Assists Per Game\">APG</a></td><td><a href=\"http://espn.go.com/nba/statistics/player/_/stat/assists/sort/turnovers/qualified/false\" title=\"Turnovers\">TO</a></td><td><a href=\"http://espn.go.com/nba/statistics/player/_/stat/assists/sort/avgTurnovers/qualified/false\" title=\"Turnovers Per Game\">TOPG</a></td><td><a href=\"http://espn.go.com/nba/statistics/player/_/stat/assists/sort/avg48Assists/qualified/false\" title=\"Assists Per 48 Minutes\">AP48M</a></td><td><a href=\"http://espn.go.com/nba/statistics/player/_/stat/assists/sort/assistTurnoverRatio/qualified/false\" title=\"Assists Per Turnover\">AST/TO</a></td></tr>, <tr align=\"right\" class=\"oddrow player-46-6479\"><td align=\"left\">31</td><td align=\"left\"><a href=\"http://espn.go.com/nba/player/_/id/6479/kemba-walker\">Kemba Walker</a>, PG</td><td align=\"left\">CHA</td><td>62</td><td>34.2</td><td>318</td><td class=\"sortcell\">5.1</td><td>100</td><td>1.6</td><td>7.2</td><td>3.18</td></tr>, <tr align=\"right\" class=\"evenrow player-46-3438\"><td align=\"left\"> </td><td align=\"left\"><a href=\"http://espn.go.com/nba/player/_/id/3438/george-hill\">George Hill</a>, PG</td><td align=\"left\">IND</td><td>43</td><td>29.5</td><td>220</td><td class=\"sortcell\">5.1</td><td>69</td><td>1.6</td><td>8.3</td><td>3.19</td></tr>, <tr align=\"right\" class=\"oddrow player-46-1015\"><td align=\"left\">33</td><td align=\"left\"><a href=\"http://espn.go.com/nba/player/_/id/1015/tony-parker\">Tony Parker</a>, PG</td><td align=\"left\">SA</td><td>68</td><td>28.7</td><td>335</td><td class=\"sortcell\">4.9</td><td>146</td><td>2.1</td><td>8.2</td><td>2.29</td></tr>, <tr align=\"right\" class=\"evenrow player-46-3456\"><td align=\"left\"> </td><td align=\"left\"><a href=\"http://espn.go.com/nba/player/_/id/3456/derrick-rose\">Derrick Rose</a>, PG</td><td align=\"left\">CHI</td><td>51</td><td>30.0</td><td>251</td><td class=\"sortcell\">4.9</td><td>161</td><td>3.2</td><td>7.9</td><td>1.56</td></tr>, <tr align=\"right\" class=\"oddrow player-46-1987\"><td align=\"left\">35</td><td align=\"left\"><a href=\"http://espn.go.com/nba/player/_/id/1987/dwyane-wade\">Dwyane Wade</a>, SG</td><td align=\"left\">MIA</td><td>62</td><td>31.8</td><td>299</td><td class=\"sortcell\">4.8</td><td>209</td><td>3.4</td><td>7.3</td><td>1.43</td></tr>, <tr align=\"right\" class=\"evenrow player-46-3416\"><td align=\"left\"> </td><td align=\"left\"><a href=\"http://espn.go.com/nba/player/_/id/3416/nicolas-batum\">Nicolas Batum</a>, SF</td><td align=\"left\">POR</td><td>71</td><td>33.5</td><td>341</td><td class=\"sortcell\">4.8</td><td>132</td><td>1.9</td><td>6.9</td><td>2.58</td></tr>, <tr align=\"right\" class=\"oddrow player-46-2806\"><td align=\"left\">37</td><td align=\"left\"><a href=\"http://espn.go.com/nba/player/_/id/2806/jose-calderon\">Jose Calderon</a>, PG</td><td align=\"left\">NY</td><td>42</td><td>30.2</td><td>198</td><td class=\"sortcell\">4.7</td><td>75</td><td>1.8</td><td>7.5</td><td>2.64</td></tr>, <tr align=\"right\" class=\"evenrow player-46-2768\"><td align=\"left\"> </td><td align=\"left\"><a href=\"http://espn.go.com/nba/player/_/id/2768/jarrett-jack\">Jarrett Jack</a>, PG</td><td align=\"left\">BKN</td><td>80</td><td>28.0</td><td>373</td><td class=\"sortcell\">4.7</td><td>191</td><td>2.4</td><td>8.0</td><td>1.95</td></tr>, <tr align=\"right\" class=\"oddrow player-46-3224\"><td align=\"left\"> </td><td align=\"left\"><a href=\"http://espn.go.com/nba/player/_/id/3224/joakim-noah\">Joakim Noah</a>, C</td><td align=\"left\">CHI</td><td>67</td><td>30.6</td><td>312</td><td class=\"sortcell\">4.7</td><td>123</td><td>1.8</td><td>7.3</td><td>2.54</td></tr>, <tr align=\"right\" class=\"evenrow player-46-4299\"><td align=\"left\">40</td><td align=\"left\"><a href=\"http://espn.go.com/nba/player/_/id/4299/jeremy-lin\">Jeremy Lin</a>, PG</td><td align=\"left\">LAL</td><td>74</td><td>25.8</td><td>339</td><td class=\"sortcell\">4.6</td><td>166</td><td>2.2</td><td>8.5</td><td>2.04</td></tr>]\n"
     ]
    }
   ],
   "source": [
    "table_rows = table.findAll('tr') #tr = tag for rows\n",
    "print table_rows"
   ]
  },
  {
   "cell_type": "markdown",
   "metadata": {},
   "source": [
    "We will save our results in 2 different ways to demonstrate how we can handle both.  The first will be a list of dicts where the key is the field name and the value is the field value.  The second will just be a list of lists of stats with no field name values (we've already defined them earlier)."
   ]
  },
  {
   "cell_type": "code",
   "execution_count": 29,
   "metadata": {
    "collapsed": false
   },
   "outputs": [
    {
     "name": "stdout",
     "output_type": "stream",
     "text": [
      "[{u'MPG': u'34.8', u'GP': u'82', u'AST': u'838', u'PLAYER': u'Chris Paul', u'TO': u'190', u'AP48M': u'14.1', u'TEAM': u'LAC', u'TOPG': u'2.3', 'POSITION': u'PG', u'APG': u'10.2', u'AST/TO': u'4.41'}, {u'MPG': u'35.9', u'GP': u'79', u'AST': u'792', u'PLAYER': u'John Wall', u'TO': u'304', u'AP48M': u'13.4', u'TEAM': u'WSH', u'TOPG': u'3.8', 'POSITION': u'PG', u'APG': u'10.0', u'AST/TO': u'2.61'}, {u'MPG': u'35.5', u'GP': u'75', u'AST': u'720', u'PLAYER': u'Ty Lawson', u'TO': u'185', u'AP48M': u'13.0', u'TEAM': u'DEN', u'TOPG': u'2.5', 'POSITION': u'PG', u'APG': u'9.6', u'AST/TO': u'3.89'}, {u'MPG': u'31.5', u'GP': u'22', u'AST': u'193', u'PLAYER': u'Ricky Rubio', u'TO': u'64', u'AP48M': u'13.4', u'TEAM': u'MIN', u'TOPG': u'2.9', 'POSITION': u'PG', u'APG': u'8.8', u'AST/TO': u'3.02'}, {u'MPG': u'34.4', u'GP': u'67', u'AST': u'574', u'PLAYER': u'Russell Westbrook', u'TO': u'293', u'AP48M': u'12.0', u'TEAM': u'OKC', u'TOPG': u'4.4', 'POSITION': u'PG', u'APG': u'8.6', u'AST/TO': u'1.96'}]\n"
     ]
    }
   ],
   "source": [
    "players_stats_dicts = [] #list of dictionaries (headers and values) (one dict for each row)\n",
    "players_stats_array = [] #2d array (list of lists)\n",
    "for row in table_rows:\n",
    "    if row.attrs['class'][0]=='colhead': #if the first class atttibute is == colhead (**skipping header row**)\n",
    "        continue\n",
    "    player_stats = []\n",
    "    row_cols = row.find_all('td')\n",
    "    #col_vals = []\n",
    "    player_col = row_cols[1] #starting at one because we dont care about rank\n",
    "    player_name = player_col.find('a').string #a-tag for writing links (each player has a link)\n",
    "    player_position = player_col.contents[1] #contents\n",
    "    player_position = player_position.split(' ')[1] # splices (getting rid of the comma and space), returns list.\n",
    "    player_stats.append(player_name) #appending player name to stats\n",
    "    player_stats.append(player_position) #appending position to stats\n",
    "    for i in range(2, len(row_cols)): #giving values to 2x2 columns\n",
    "        stat = row_cols[i].string #value is string\n",
    "        player_stats.append(stat) #adding stat \n",
    "    players_stats_array.append(player_stats)\n",
    "    player_stats = dict(zip(cols, player_stats))\n",
    "    players_stats_dicts.append(player_stats)\n",
    "print players_stats_dicts[0:5]        "
   ]
  },
  {
   "cell_type": "markdown",
   "metadata": {},
   "source": [
    "Here we've used the zip function to combine pairs of lists into tuples, and then transformed that into a dict to get a dictionary of FIELD --> VALUE for every player in the table.\n",
    "\n",
    "Beautiful Soup has many other features, including the ability to step up, down, and sideways in the HTML tree and basically search for any tags, attributes, or values.  For more, take a look at the [Documentation](http://www.crummy.com/software/BeautifulSoup/bs4/doc/)"
   ]
  },
  {
   "cell_type": "markdown",
   "metadata": {},
   "source": [
    "##Load into Pandas\n",
    "\n",
    "Let's load our scraped data into Pandas and take a look at it.  Here is the first way we can do it, simply directly from the dictionary we defined."
   ]
  },
  {
   "cell_type": "code",
   "execution_count": 30,
   "metadata": {
    "collapsed": false
   },
   "outputs": [
    {
     "data": {
      "text/html": [
       "<div style=\"max-height:1000px;max-width:1500px;overflow:auto;\">\n",
       "<table border=\"1\" class=\"dataframe\">\n",
       "  <thead>\n",
       "    <tr style=\"text-align: right;\">\n",
       "      <th></th>\n",
       "      <th>AP48M</th>\n",
       "      <th>APG</th>\n",
       "      <th>AST</th>\n",
       "      <th>AST/TO</th>\n",
       "      <th>GP</th>\n",
       "      <th>MPG</th>\n",
       "      <th>PLAYER</th>\n",
       "      <th>POSITION</th>\n",
       "      <th>TEAM</th>\n",
       "      <th>TO</th>\n",
       "      <th>TOPG</th>\n",
       "    </tr>\n",
       "  </thead>\n",
       "  <tbody>\n",
       "    <tr>\n",
       "      <th>0</th>\n",
       "      <td> 14.1</td>\n",
       "      <td> 10.2</td>\n",
       "      <td> 838</td>\n",
       "      <td> 4.41</td>\n",
       "      <td> 82</td>\n",
       "      <td> 34.8</td>\n",
       "      <td>        Chris Paul</td>\n",
       "      <td> PG</td>\n",
       "      <td> LAC</td>\n",
       "      <td> 190</td>\n",
       "      <td> 2.3</td>\n",
       "    </tr>\n",
       "    <tr>\n",
       "      <th>1</th>\n",
       "      <td> 13.4</td>\n",
       "      <td> 10.0</td>\n",
       "      <td> 792</td>\n",
       "      <td> 2.61</td>\n",
       "      <td> 79</td>\n",
       "      <td> 35.9</td>\n",
       "      <td>         John Wall</td>\n",
       "      <td> PG</td>\n",
       "      <td> WSH</td>\n",
       "      <td> 304</td>\n",
       "      <td> 3.8</td>\n",
       "    </tr>\n",
       "    <tr>\n",
       "      <th>2</th>\n",
       "      <td> 13.0</td>\n",
       "      <td>  9.6</td>\n",
       "      <td> 720</td>\n",
       "      <td> 3.89</td>\n",
       "      <td> 75</td>\n",
       "      <td> 35.5</td>\n",
       "      <td>         Ty Lawson</td>\n",
       "      <td> PG</td>\n",
       "      <td> DEN</td>\n",
       "      <td> 185</td>\n",
       "      <td> 2.5</td>\n",
       "    </tr>\n",
       "    <tr>\n",
       "      <th>3</th>\n",
       "      <td> 13.4</td>\n",
       "      <td>  8.8</td>\n",
       "      <td> 193</td>\n",
       "      <td> 3.02</td>\n",
       "      <td> 22</td>\n",
       "      <td> 31.5</td>\n",
       "      <td>       Ricky Rubio</td>\n",
       "      <td> PG</td>\n",
       "      <td> MIN</td>\n",
       "      <td>  64</td>\n",
       "      <td> 2.9</td>\n",
       "    </tr>\n",
       "    <tr>\n",
       "      <th>4</th>\n",
       "      <td> 12.0</td>\n",
       "      <td>  8.6</td>\n",
       "      <td> 574</td>\n",
       "      <td> 1.96</td>\n",
       "      <td> 67</td>\n",
       "      <td> 34.4</td>\n",
       "      <td> Russell Westbrook</td>\n",
       "      <td> PG</td>\n",
       "      <td> OKC</td>\n",
       "      <td> 293</td>\n",
       "      <td> 4.4</td>\n",
       "    </tr>\n",
       "  </tbody>\n",
       "</table>\n",
       "</div>"
      ],
      "text/plain": [
       "  AP48M   APG  AST AST/TO  GP   MPG             PLAYER POSITION TEAM   TO TOPG\n",
       "0  14.1  10.2  838   4.41  82  34.8         Chris Paul       PG  LAC  190  2.3\n",
       "1  13.4  10.0  792   2.61  79  35.9          John Wall       PG  WSH  304  3.8\n",
       "2  13.0   9.6  720   3.89  75  35.5          Ty Lawson       PG  DEN  185  2.5\n",
       "3  13.4   8.8  193   3.02  22  31.5        Ricky Rubio       PG  MIN   64  2.9\n",
       "4  12.0   8.6  574   1.96  67  34.4  Russell Westbrook       PG  OKC  293  4.4"
      ]
     },
     "execution_count": 30,
     "metadata": {},
     "output_type": "execute_result"
    }
   ],
   "source": [
    "import pandas as pd\n",
    "import numpy as np\n",
    "\n",
    "df = pd.DataFrame.from_dict(players_stats_dicts)\n",
    "df.head()"
   ]
  },
  {
   "cell_type": "markdown",
   "metadata": {},
   "source": [
    "Now here is a 2nd way we can do it.  We convert the 2D stats array into a numpy array and create a Pandas dataframe from it along with the list of column headers we defined earlier."
   ]
  },
  {
   "cell_type": "code",
   "execution_count": 31,
   "metadata": {
    "collapsed": false
   },
   "outputs": [
    {
     "data": {
      "text/html": [
       "<div style=\"max-height:1000px;max-width:1500px;overflow:auto;\">\n",
       "<table border=\"1\" class=\"dataframe\">\n",
       "  <thead>\n",
       "    <tr style=\"text-align: right;\">\n",
       "      <th></th>\n",
       "      <th>PLAYER</th>\n",
       "      <th>POSITION</th>\n",
       "      <th>TEAM</th>\n",
       "      <th>GP</th>\n",
       "      <th>MPG</th>\n",
       "      <th>AST</th>\n",
       "      <th>APG</th>\n",
       "      <th>TO</th>\n",
       "      <th>TOPG</th>\n",
       "      <th>AP48M</th>\n",
       "      <th>AST/TO</th>\n",
       "    </tr>\n",
       "  </thead>\n",
       "  <tbody>\n",
       "    <tr>\n",
       "      <th>0</th>\n",
       "      <td>        Chris Paul</td>\n",
       "      <td> PG</td>\n",
       "      <td> LAC</td>\n",
       "      <td> 82</td>\n",
       "      <td> 34.8</td>\n",
       "      <td> 838</td>\n",
       "      <td> 10.2</td>\n",
       "      <td> 190</td>\n",
       "      <td> 2.3</td>\n",
       "      <td> 14.1</td>\n",
       "      <td> 4.41</td>\n",
       "    </tr>\n",
       "    <tr>\n",
       "      <th>1</th>\n",
       "      <td>         John Wall</td>\n",
       "      <td> PG</td>\n",
       "      <td> WSH</td>\n",
       "      <td> 79</td>\n",
       "      <td> 35.9</td>\n",
       "      <td> 792</td>\n",
       "      <td> 10.0</td>\n",
       "      <td> 304</td>\n",
       "      <td> 3.8</td>\n",
       "      <td> 13.4</td>\n",
       "      <td> 2.61</td>\n",
       "    </tr>\n",
       "    <tr>\n",
       "      <th>2</th>\n",
       "      <td>         Ty Lawson</td>\n",
       "      <td> PG</td>\n",
       "      <td> DEN</td>\n",
       "      <td> 75</td>\n",
       "      <td> 35.5</td>\n",
       "      <td> 720</td>\n",
       "      <td>  9.6</td>\n",
       "      <td> 185</td>\n",
       "      <td> 2.5</td>\n",
       "      <td> 13.0</td>\n",
       "      <td> 3.89</td>\n",
       "    </tr>\n",
       "    <tr>\n",
       "      <th>3</th>\n",
       "      <td>       Ricky Rubio</td>\n",
       "      <td> PG</td>\n",
       "      <td> MIN</td>\n",
       "      <td> 22</td>\n",
       "      <td> 31.5</td>\n",
       "      <td> 193</td>\n",
       "      <td>  8.8</td>\n",
       "      <td>  64</td>\n",
       "      <td> 2.9</td>\n",
       "      <td> 13.4</td>\n",
       "      <td> 3.02</td>\n",
       "    </tr>\n",
       "    <tr>\n",
       "      <th>4</th>\n",
       "      <td> Russell Westbrook</td>\n",
       "      <td> PG</td>\n",
       "      <td> OKC</td>\n",
       "      <td> 67</td>\n",
       "      <td> 34.4</td>\n",
       "      <td> 574</td>\n",
       "      <td>  8.6</td>\n",
       "      <td> 293</td>\n",
       "      <td> 4.4</td>\n",
       "      <td> 12.0</td>\n",
       "      <td> 1.96</td>\n",
       "    </tr>\n",
       "  </tbody>\n",
       "</table>\n",
       "</div>"
      ],
      "text/plain": [
       "              PLAYER POSITION TEAM  GP   MPG  AST   APG   TO TOPG AP48M AST/TO\n",
       "0         Chris Paul       PG  LAC  82  34.8  838  10.2  190  2.3  14.1   4.41\n",
       "1          John Wall       PG  WSH  79  35.9  792  10.0  304  3.8  13.4   2.61\n",
       "2          Ty Lawson       PG  DEN  75  35.5  720   9.6  185  2.5  13.0   3.89\n",
       "3        Ricky Rubio       PG  MIN  22  31.5  193   8.8   64  2.9  13.4   3.02\n",
       "4  Russell Westbrook       PG  OKC  67  34.4  574   8.6  293  4.4  12.0   1.96"
      ]
     },
     "execution_count": 31,
     "metadata": {},
     "output_type": "execute_result"
    }
   ],
   "source": [
    "np_array = np.array(players_stats_array)\n",
    "df = pd.DataFrame(np_array, columns=cols)\n",
    "df.head()"
   ]
  },
  {
   "cell_type": "markdown",
   "metadata": {},
   "source": [
    "##Exercise\n",
    "\n",
    "The goal of this exercise is to combine the scoring and assists statistics for every player in the NBA in 2014-2015.  The end result will have them in a pandas dataframe with the fields from both pages for every player.\n",
    "\n",
    "The general steps should be as follows:\n",
    "- Create a function get_cols that retrieves the names of the header columns given a table element (skip the ranks, split the positions)\n",
    "- Create a function get_data that retrieves the actual table data given a table element (skip the ranks, split the positions).  You can use either the dict approach or the numpy array approach.\n",
    "- Write a python loop to loop through the various pages and call these functions on the appropriate urls so that you can retrieve every player (rather than just the top few). #add 40 to each page (40 rows)\n",
    "- Repeat the above on both the scoring and assists URLs to get a pandas dataframe for both of them\n",
    "- Use the pandas.DataFrame.join() function to join your 2 pandas dataframes together and get a total result"
   ]
  },
  {
   "cell_type": "code",
   "execution_count": 46,
   "metadata": {
    "collapsed": false
   },
   "outputs": [],
   "source": [
    "#defining functions: retrieve column headers and table data\n",
    "\n",
    "def get_cols(x):\n",
    "    table_head = x.find(attrs={\"class\":'colhead'})\n",
    "    header_cols = table_head.findAll('td')\n",
    "\n",
    "    cols = []\n",
    "    for header_col in header_cols:\n",
    "        val = header_col.string\n",
    "        if val != 'RK':\n",
    "            cols.append(val)\n",
    "        if val == 'PLAYER':\n",
    "            cols.append('POSITION')\n",
    "    print(cols)\n",
    "\n",
    "def get_data(x):\n",
    "    table_rows = x.findAll('tr')\n",
    "\n",
    "    players_stats_dicts = [] #list of dictionaries (headers and values) (one dict for each row)\n",
    "    players_stats_array = [] #2d array (list of lists)\n",
    "    for row in table_rows:\n",
    "        if row.attrs['class'][0]=='colhead': #if the first class atttibute is == colhead (**skipping header row**)\n",
    "            continue\n",
    "        player_stats = []\n",
    "        row_cols = row.find_all('td')\n",
    "        #col_vals = []\n",
    "        player_col = row_cols[1] #starting at one because we dont care about rank\n",
    "        player_name = player_col.find('a').string #a-tag for writing links (each player has a link)\n",
    "        player_position = player_col.contents[1] #contents\n",
    "        player_position = player_position.split(' ')[1] # splices (getting rid of the comma and space), returns list.\n",
    "        player_stats.append(player_name) #appending player name to stats\n",
    "        player_stats.append(player_position) #appending position to stats\n",
    "        for i in range(2, len(row_cols)): #giving values to 2x2 columns\n",
    "            stat = row_cols[i].string #value is string\n",
    "            player_stats.append(stat) #adding stat \n",
    "        players_stats_array.append(player_stats)\n",
    "        player_stats = dict(zip(cols, player_stats))\n",
    "        players_stats_dicts.append(player_stats)\n",
    "    np_array = np.array(players_stats_array)\n",
    "    #df = pd.DataFrame(np_array, columns=cols)\n",
    "    d2 = pd.DataFrame.from_dict(players_stats_dicts)\n",
    "    print df.head()\n",
    "\n"
   ]
  },
  {
   "cell_type": "code",
   "execution_count": null,
   "metadata": {
    "collapsed": true
   },
   "outputs": [],
   "source": []
  },
  {
   "cell_type": "code",
   "execution_count": 50,
   "metadata": {
    "collapsed": false
   },
   "outputs": [
    {
     "name": "stdout",
     "output_type": "stream",
     "text": [
      "[u'PLAYER', 'POSITION', u'TEAM', u'GP', u'MPG', u'PTS', u'FGM-FGA', u'FG%', u'3PM-3PA', u'3P%', u'FTM-FTA', u'FT%']\n",
      "              PLAYER POSITION TEAM  GP   MPG  AST   APG   TO TOPG AP48M AST/TO\n",
      "0         Chris Paul       PG  LAC  82  34.8  838  10.2  190  2.3  14.1   4.41\n",
      "1          John Wall       PG  WSH  79  35.9  792  10.0  304  3.8  13.4   2.61\n",
      "2          Ty Lawson       PG  DEN  75  35.5  720   9.6  185  2.5  13.0   3.89\n",
      "3        Ricky Rubio       PG  MIN  22  31.5  193   8.8   64  2.9  13.4   3.02\n",
      "4  Russell Westbrook       PG  OKC  67  34.4  574   8.6  293  4.4  12.0   1.96\n",
      "[u'PLAYER', 'POSITION', u'TEAM', u'GP', u'MPG', u'PTS', u'FGM-FGA', u'FG%', u'3PM-3PA', u'3P%', u'FTM-FTA', u'FT%']\n",
      "              PLAYER POSITION TEAM  GP   MPG  AST   APG   TO TOPG AP48M AST/TO\n",
      "0         Chris Paul       PG  LAC  82  34.8  838  10.2  190  2.3  14.1   4.41\n",
      "1          John Wall       PG  WSH  79  35.9  792  10.0  304  3.8  13.4   2.61\n",
      "2          Ty Lawson       PG  DEN  75  35.5  720   9.6  185  2.5  13.0   3.89\n",
      "3        Ricky Rubio       PG  MIN  22  31.5  193   8.8   64  2.9  13.4   3.02\n",
      "4  Russell Westbrook       PG  OKC  67  34.4  574   8.6  293  4.4  12.0   1.96\n",
      "[u'PLAYER', 'POSITION', u'TEAM', u'GP', u'MPG', u'PTS', u'FGM-FGA', u'FG%', u'3PM-3PA', u'3P%', u'FTM-FTA', u'FT%']\n",
      "              PLAYER POSITION TEAM  GP   MPG  AST   APG   TO TOPG AP48M AST/TO\n",
      "0         Chris Paul       PG  LAC  82  34.8  838  10.2  190  2.3  14.1   4.41\n",
      "1          John Wall       PG  WSH  79  35.9  792  10.0  304  3.8  13.4   2.61\n",
      "2          Ty Lawson       PG  DEN  75  35.5  720   9.6  185  2.5  13.0   3.89\n",
      "3        Ricky Rubio       PG  MIN  22  31.5  193   8.8   64  2.9  13.4   3.02\n",
      "4  Russell Westbrook       PG  OKC  67  34.4  574   8.6  293  4.4  12.0   1.96\n",
      "[u'PLAYER', 'POSITION', u'TEAM', u'GP', u'MPG', u'PTS', u'FGM-FGA', u'FG%', u'3PM-3PA', u'3P%', u'FTM-FTA', u'FT%']\n",
      "              PLAYER POSITION TEAM  GP   MPG  AST   APG   TO TOPG AP48M AST/TO\n",
      "0         Chris Paul       PG  LAC  82  34.8  838  10.2  190  2.3  14.1   4.41\n",
      "1          John Wall       PG  WSH  79  35.9  792  10.0  304  3.8  13.4   2.61\n",
      "2          Ty Lawson       PG  DEN  75  35.5  720   9.6  185  2.5  13.0   3.89\n",
      "3        Ricky Rubio       PG  MIN  22  31.5  193   8.8   64  2.9  13.4   3.02\n",
      "4  Russell Westbrook       PG  OKC  67  34.4  574   8.6  293  4.4  12.0   1.96\n",
      "[u'PLAYER', 'POSITION', u'TEAM', u'GP', u'MPG', u'PTS', u'FGM-FGA', u'FG%', u'3PM-3PA', u'3P%', u'FTM-FTA', u'FT%']\n",
      "              PLAYER POSITION TEAM  GP   MPG  AST   APG   TO TOPG AP48M AST/TO\n",
      "0         Chris Paul       PG  LAC  82  34.8  838  10.2  190  2.3  14.1   4.41\n",
      "1          John Wall       PG  WSH  79  35.9  792  10.0  304  3.8  13.4   2.61\n",
      "2          Ty Lawson       PG  DEN  75  35.5  720   9.6  185  2.5  13.0   3.89\n",
      "3        Ricky Rubio       PG  MIN  22  31.5  193   8.8   64  2.9  13.4   3.02\n",
      "4  Russell Westbrook       PG  OKC  67  34.4  574   8.6  293  4.4  12.0   1.96\n",
      "[u'PLAYER', 'POSITION', u'TEAM', u'GP', u'MPG', u'PTS', u'FGM-FGA', u'FG%', u'3PM-3PA', u'3P%', u'FTM-FTA', u'FT%']\n",
      "              PLAYER POSITION TEAM  GP   MPG  AST   APG   TO TOPG AP48M AST/TO\n",
      "0         Chris Paul       PG  LAC  82  34.8  838  10.2  190  2.3  14.1   4.41\n",
      "1          John Wall       PG  WSH  79  35.9  792  10.0  304  3.8  13.4   2.61\n",
      "2          Ty Lawson       PG  DEN  75  35.5  720   9.6  185  2.5  13.0   3.89\n",
      "3        Ricky Rubio       PG  MIN  22  31.5  193   8.8   64  2.9  13.4   3.02\n",
      "4  Russell Westbrook       PG  OKC  67  34.4  574   8.6  293  4.4  12.0   1.96\n",
      "[u'PLAYER', 'POSITION', u'TEAM', u'GP', u'MPG', u'PTS', u'FGM-FGA', u'FG%', u'3PM-3PA', u'3P%', u'FTM-FTA', u'FT%']\n",
      "              PLAYER POSITION TEAM  GP   MPG  AST   APG   TO TOPG AP48M AST/TO\n",
      "0         Chris Paul       PG  LAC  82  34.8  838  10.2  190  2.3  14.1   4.41\n",
      "1          John Wall       PG  WSH  79  35.9  792  10.0  304  3.8  13.4   2.61\n",
      "2          Ty Lawson       PG  DEN  75  35.5  720   9.6  185  2.5  13.0   3.89\n",
      "3        Ricky Rubio       PG  MIN  22  31.5  193   8.8   64  2.9  13.4   3.02\n",
      "4  Russell Westbrook       PG  OKC  67  34.4  574   8.6  293  4.4  12.0   1.96\n",
      "[u'PLAYER', 'POSITION', u'TEAM', u'GP', u'MPG', u'PTS', u'FGM-FGA', u'FG%', u'3PM-3PA', u'3P%', u'FTM-FTA', u'FT%']\n",
      "              PLAYER POSITION TEAM  GP   MPG  AST   APG   TO TOPG AP48M AST/TO\n",
      "0         Chris Paul       PG  LAC  82  34.8  838  10.2  190  2.3  14.1   4.41\n",
      "1          John Wall       PG  WSH  79  35.9  792  10.0  304  3.8  13.4   2.61\n",
      "2          Ty Lawson       PG  DEN  75  35.5  720   9.6  185  2.5  13.0   3.89\n",
      "3        Ricky Rubio       PG  MIN  22  31.5  193   8.8   64  2.9  13.4   3.02\n",
      "4  Russell Westbrook       PG  OKC  67  34.4  574   8.6  293  4.4  12.0   1.96\n",
      "[u'PLAYER', 'POSITION', u'TEAM', u'GP', u'MPG', u'PTS', u'FGM-FGA', u'FG%', u'3PM-3PA', u'3P%', u'FTM-FTA', u'FT%']\n",
      "              PLAYER POSITION TEAM  GP   MPG  AST   APG   TO TOPG AP48M AST/TO\n",
      "0         Chris Paul       PG  LAC  82  34.8  838  10.2  190  2.3  14.1   4.41\n",
      "1          John Wall       PG  WSH  79  35.9  792  10.0  304  3.8  13.4   2.61\n",
      "2          Ty Lawson       PG  DEN  75  35.5  720   9.6  185  2.5  13.0   3.89\n",
      "3        Ricky Rubio       PG  MIN  22  31.5  193   8.8   64  2.9  13.4   3.02\n",
      "4  Russell Westbrook       PG  OKC  67  34.4  574   8.6  293  4.4  12.0   1.96\n",
      "[u'PLAYER', 'POSITION', u'TEAM', u'GP', u'MPG', u'PTS', u'FGM-FGA', u'FG%', u'3PM-3PA', u'3P%', u'FTM-FTA', u'FT%']\n",
      "              PLAYER POSITION TEAM  GP   MPG  AST   APG   TO TOPG AP48M AST/TO\n",
      "0         Chris Paul       PG  LAC  82  34.8  838  10.2  190  2.3  14.1   4.41\n",
      "1          John Wall       PG  WSH  79  35.9  792  10.0  304  3.8  13.4   2.61\n",
      "2          Ty Lawson       PG  DEN  75  35.5  720   9.6  185  2.5  13.0   3.89\n",
      "3        Ricky Rubio       PG  MIN  22  31.5  193   8.8   64  2.9  13.4   3.02\n",
      "4  Russell Westbrook       PG  OKC  67  34.4  574   8.6  293  4.4  12.0   1.96\n",
      "[u'PLAYER', 'POSITION', u'TEAM', u'GP', u'MPG', u'PTS', u'FGM-FGA', u'FG%', u'3PM-3PA', u'3P%', u'FTM-FTA', u'FT%']\n",
      "              PLAYER POSITION TEAM  GP   MPG  AST   APG   TO TOPG AP48M AST/TO\n",
      "0         Chris Paul       PG  LAC  82  34.8  838  10.2  190  2.3  14.1   4.41\n",
      "1          John Wall       PG  WSH  79  35.9  792  10.0  304  3.8  13.4   2.61\n",
      "2          Ty Lawson       PG  DEN  75  35.5  720   9.6  185  2.5  13.0   3.89\n",
      "3        Ricky Rubio       PG  MIN  22  31.5  193   8.8   64  2.9  13.4   3.02\n",
      "4  Russell Westbrook       PG  OKC  67  34.4  574   8.6  293  4.4  12.0   1.96\n"
     ]
    }
   ],
   "source": [
    "#loop through web pages\n",
    "a=1\n",
    "scoring_url = 'http://espn.go.com/nba/statistics/player/_/stat/scoring-per-game/sort/avgPoints/qualified/false'\n",
    "\n",
    "for i in range(11):\n",
    "    a = a + 40\n",
    "    page = urllib2.urlopen('http://espn.go.com/nba/statistics/player/_/stat/scoring-per-game/sort/avgPoints/qualified/false/count/%d' % a).read() \n",
    "    soup = BeautifulSoup(page)\n",
    "    table_div = soup.find(id='my-players-table')\n",
    "    table = table_div.find(\"table\")\n",
    "    get_cols(table) #calling functions from above to grab headers\n",
    "    get_data(table) #calling function from above to grab data and make df"
   ]
  },
  {
   "cell_type": "code",
   "execution_count": 48,
   "metadata": {
    "collapsed": true
   },
   "outputs": [],
   "source": [
    "#Repeat the above on both the scoring and assists URLs to get a pandas dataframe for both of them\n",
    "#Use the pandas.DataFrame.join() function to join your 2 pandas dataframes together and get a total result"
   ]
  },
  {
   "cell_type": "code",
   "execution_count": 49,
   "metadata": {
    "collapsed": false
   },
   "outputs": [
    {
     "name": "stdout",
     "output_type": "stream",
     "text": [
      "[u'PLAYER', 'POSITION', u'TEAM', u'GP', u'MPG', u'AST', u'APG', u'TO', u'TOPG', u'AP48M', u'AST/TO']\n",
      "              PLAYER POSITION TEAM  GP   MPG  AST   APG   TO TOPG AP48M AST/TO\n",
      "0         Chris Paul       PG  LAC  82  34.8  838  10.2  190  2.3  14.1   4.41\n",
      "1          John Wall       PG  WSH  79  35.9  792  10.0  304  3.8  13.4   2.61\n",
      "2          Ty Lawson       PG  DEN  75  35.5  720   9.6  185  2.5  13.0   3.89\n",
      "3        Ricky Rubio       PG  MIN  22  31.5  193   8.8   64  2.9  13.4   3.02\n",
      "4  Russell Westbrook       PG  OKC  67  34.4  574   8.6  293  4.4  12.0   1.96\n",
      "[u'PLAYER', 'POSITION', u'TEAM', u'GP', u'MPG', u'AST', u'APG', u'TO', u'TOPG', u'AP48M', u'AST/TO']\n",
      "              PLAYER POSITION TEAM  GP   MPG  AST   APG   TO TOPG AP48M AST/TO\n",
      "0         Chris Paul       PG  LAC  82  34.8  838  10.2  190  2.3  14.1   4.41\n",
      "1          John Wall       PG  WSH  79  35.9  792  10.0  304  3.8  13.4   2.61\n",
      "2          Ty Lawson       PG  DEN  75  35.5  720   9.6  185  2.5  13.0   3.89\n",
      "3        Ricky Rubio       PG  MIN  22  31.5  193   8.8   64  2.9  13.4   3.02\n",
      "4  Russell Westbrook       PG  OKC  67  34.4  574   8.6  293  4.4  12.0   1.96\n",
      "[u'PLAYER', 'POSITION', u'TEAM', u'GP', u'MPG', u'AST', u'APG', u'TO', u'TOPG', u'AP48M', u'AST/TO']\n",
      "              PLAYER POSITION TEAM  GP   MPG  AST   APG   TO TOPG AP48M AST/TO\n",
      "0         Chris Paul       PG  LAC  82  34.8  838  10.2  190  2.3  14.1   4.41\n",
      "1          John Wall       PG  WSH  79  35.9  792  10.0  304  3.8  13.4   2.61\n",
      "2          Ty Lawson       PG  DEN  75  35.5  720   9.6  185  2.5  13.0   3.89\n",
      "3        Ricky Rubio       PG  MIN  22  31.5  193   8.8   64  2.9  13.4   3.02\n",
      "4  Russell Westbrook       PG  OKC  67  34.4  574   8.6  293  4.4  12.0   1.96\n",
      "[u'PLAYER', 'POSITION', u'TEAM', u'GP', u'MPG', u'AST', u'APG', u'TO', u'TOPG', u'AP48M', u'AST/TO']\n",
      "              PLAYER POSITION TEAM  GP   MPG  AST   APG   TO TOPG AP48M AST/TO\n",
      "0         Chris Paul       PG  LAC  82  34.8  838  10.2  190  2.3  14.1   4.41\n",
      "1          John Wall       PG  WSH  79  35.9  792  10.0  304  3.8  13.4   2.61\n",
      "2          Ty Lawson       PG  DEN  75  35.5  720   9.6  185  2.5  13.0   3.89\n",
      "3        Ricky Rubio       PG  MIN  22  31.5  193   8.8   64  2.9  13.4   3.02\n",
      "4  Russell Westbrook       PG  OKC  67  34.4  574   8.6  293  4.4  12.0   1.96\n",
      "[u'PLAYER', 'POSITION', u'TEAM', u'GP', u'MPG', u'AST', u'APG', u'TO', u'TOPG', u'AP48M', u'AST/TO']\n",
      "              PLAYER POSITION TEAM  GP   MPG  AST   APG   TO TOPG AP48M AST/TO\n",
      "0         Chris Paul       PG  LAC  82  34.8  838  10.2  190  2.3  14.1   4.41\n",
      "1          John Wall       PG  WSH  79  35.9  792  10.0  304  3.8  13.4   2.61\n",
      "2          Ty Lawson       PG  DEN  75  35.5  720   9.6  185  2.5  13.0   3.89\n",
      "3        Ricky Rubio       PG  MIN  22  31.5  193   8.8   64  2.9  13.4   3.02\n",
      "4  Russell Westbrook       PG  OKC  67  34.4  574   8.6  293  4.4  12.0   1.96\n",
      "[u'PLAYER', 'POSITION', u'TEAM', u'GP', u'MPG', u'AST', u'APG', u'TO', u'TOPG', u'AP48M', u'AST/TO']\n",
      "              PLAYER POSITION TEAM  GP   MPG  AST   APG   TO TOPG AP48M AST/TO\n",
      "0         Chris Paul       PG  LAC  82  34.8  838  10.2  190  2.3  14.1   4.41\n",
      "1          John Wall       PG  WSH  79  35.9  792  10.0  304  3.8  13.4   2.61\n",
      "2          Ty Lawson       PG  DEN  75  35.5  720   9.6  185  2.5  13.0   3.89\n",
      "3        Ricky Rubio       PG  MIN  22  31.5  193   8.8   64  2.9  13.4   3.02\n",
      "4  Russell Westbrook       PG  OKC  67  34.4  574   8.6  293  4.4  12.0   1.96\n",
      "[u'PLAYER', 'POSITION', u'TEAM', u'GP', u'MPG', u'AST', u'APG', u'TO', u'TOPG', u'AP48M', u'AST/TO']\n",
      "              PLAYER POSITION TEAM  GP   MPG  AST   APG   TO TOPG AP48M AST/TO\n",
      "0         Chris Paul       PG  LAC  82  34.8  838  10.2  190  2.3  14.1   4.41\n",
      "1          John Wall       PG  WSH  79  35.9  792  10.0  304  3.8  13.4   2.61\n",
      "2          Ty Lawson       PG  DEN  75  35.5  720   9.6  185  2.5  13.0   3.89\n",
      "3        Ricky Rubio       PG  MIN  22  31.5  193   8.8   64  2.9  13.4   3.02\n",
      "4  Russell Westbrook       PG  OKC  67  34.4  574   8.6  293  4.4  12.0   1.96\n",
      "[u'PLAYER', 'POSITION', u'TEAM', u'GP', u'MPG', u'AST', u'APG', u'TO', u'TOPG', u'AP48M', u'AST/TO']\n",
      "              PLAYER POSITION TEAM  GP   MPG  AST   APG   TO TOPG AP48M AST/TO\n",
      "0         Chris Paul       PG  LAC  82  34.8  838  10.2  190  2.3  14.1   4.41\n",
      "1          John Wall       PG  WSH  79  35.9  792  10.0  304  3.8  13.4   2.61\n",
      "2          Ty Lawson       PG  DEN  75  35.5  720   9.6  185  2.5  13.0   3.89\n",
      "3        Ricky Rubio       PG  MIN  22  31.5  193   8.8   64  2.9  13.4   3.02\n",
      "4  Russell Westbrook       PG  OKC  67  34.4  574   8.6  293  4.4  12.0   1.96\n",
      "[u'PLAYER', 'POSITION', u'TEAM', u'GP', u'MPG', u'AST', u'APG', u'TO', u'TOPG', u'AP48M', u'AST/TO']\n",
      "              PLAYER POSITION TEAM  GP   MPG  AST   APG   TO TOPG AP48M AST/TO\n",
      "0         Chris Paul       PG  LAC  82  34.8  838  10.2  190  2.3  14.1   4.41\n",
      "1          John Wall       PG  WSH  79  35.9  792  10.0  304  3.8  13.4   2.61\n",
      "2          Ty Lawson       PG  DEN  75  35.5  720   9.6  185  2.5  13.0   3.89\n",
      "3        Ricky Rubio       PG  MIN  22  31.5  193   8.8   64  2.9  13.4   3.02\n",
      "4  Russell Westbrook       PG  OKC  67  34.4  574   8.6  293  4.4  12.0   1.96\n",
      "[u'PLAYER', 'POSITION', u'TEAM', u'GP', u'MPG', u'AST', u'APG', u'TO', u'TOPG', u'AP48M', u'AST/TO']\n",
      "              PLAYER POSITION TEAM  GP   MPG  AST   APG   TO TOPG AP48M AST/TO\n",
      "0         Chris Paul       PG  LAC  82  34.8  838  10.2  190  2.3  14.1   4.41\n",
      "1          John Wall       PG  WSH  79  35.9  792  10.0  304  3.8  13.4   2.61\n",
      "2          Ty Lawson       PG  DEN  75  35.5  720   9.6  185  2.5  13.0   3.89\n",
      "3        Ricky Rubio       PG  MIN  22  31.5  193   8.8   64  2.9  13.4   3.02\n",
      "4  Russell Westbrook       PG  OKC  67  34.4  574   8.6  293  4.4  12.0   1.96\n",
      "[u'PLAYER', 'POSITION', u'TEAM', u'GP', u'MPG', u'AST', u'APG', u'TO', u'TOPG', u'AP48M', u'AST/TO']\n",
      "              PLAYER POSITION TEAM  GP   MPG  AST   APG   TO TOPG AP48M AST/TO\n",
      "0         Chris Paul       PG  LAC  82  34.8  838  10.2  190  2.3  14.1   4.41\n",
      "1          John Wall       PG  WSH  79  35.9  792  10.0  304  3.8  13.4   2.61\n",
      "2          Ty Lawson       PG  DEN  75  35.5  720   9.6  185  2.5  13.0   3.89\n",
      "3        Ricky Rubio       PG  MIN  22  31.5  193   8.8   64  2.9  13.4   3.02\n",
      "4  Russell Westbrook       PG  OKC  67  34.4  574   8.6  293  4.4  12.0   1.96\n"
     ]
    }
   ],
   "source": [
    "assist_url = 'http://espn.go.com/nba/statistics/player/_/stat/assists/qualified/false'\n",
    "#loop through web pages\n",
    "a=1\n",
    "\n",
    "\n",
    "for i in range(11):\n",
    "    a = a + 40\n",
    "    page = urllib2.urlopen('http://espn.go.com/nba/statistics/player/_/stat/assists/qualified/false/count/%d' % (a))\n",
    "    soup = BeautifulSoup(page)\n",
    "    table_div = soup.find(id='my-players-table')\n",
    "    table = table_div.find(\"table\")\n",
    "    get_cols(table) #calling functions from above to grab headers\n",
    "    get_data(table) #calling function from above to grab data and make df"
   ]
  }
 ],
 "metadata": {
  "kernelspec": {
   "display_name": "Python 2",
   "language": "python",
   "name": "python2"
  },
  "language_info": {
   "codemirror_mode": {
    "name": "ipython",
    "version": 2
   },
   "file_extension": ".py",
   "mimetype": "text/x-python",
   "name": "python",
   "nbconvert_exporter": "python",
   "pygments_lexer": "ipython2",
   "version": "2.7.10"
  }
 },
 "nbformat": 4,
 "nbformat_minor": 0
}
