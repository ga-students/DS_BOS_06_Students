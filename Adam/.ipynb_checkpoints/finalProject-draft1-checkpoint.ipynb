{
 "cells": [
  {
   "cell_type": "raw",
   "metadata": {},
   "source": [
    "  "
   ]
  },
  {
   "cell_type": "code",
   "execution_count": null,
   "metadata": {
    "collapsed": false
   },
   "outputs": [],
   "source": [
    "#Class Project (Adam)\n",
    "#*********************Predicting the helpfulness of Amazon movie product reviews\n",
    "#*********************My developed classifier assesses a dataset of reviews\n",
    "#*********************I will outline my approach to predicting the helpfulness of a review\n",
    "#*********************the developed classifier will assess reviews randomly from the dataset \n",
    "#*********************and predict whether a given product review is either ”helpful” or ”unhelpful.” \n",
    "#*********************Will initially use reviewer/responder metrics along with star rankings of the reviewer \n",
    "#*********************relative to the polpulation - second phase  - will use text analysis on the actual\n",
    "#*********************reviews as well.  \n",
    "#*********************I was able to achieve up to ___ accuracy on movie reviews.\n",
    "#   Data Source: Amazon movie reviews past 12 years"
   ]
  },
  {
   "cell_type": "code",
   "execution_count": 12,
   "metadata": {
    "collapsed": false,
    "scrolled": true
   },
   "outputs": [
    {
     "data": {
      "text/html": [
       "<div>\n",
       "<table border=\"1\" class=\"dataframe\">\n",
       "  <thead>\n",
       "    <tr style=\"text-align: right;\">\n",
       "      <th></th>\n",
       "      <th>product/productId</th>\n",
       "      <th>review/helpfulness</th>\n",
       "      <th>review/profileName</th>\n",
       "      <th>review/score</th>\n",
       "      <th>review/summary</th>\n",
       "      <th>review/text</th>\n",
       "      <th>review/time</th>\n",
       "      <th>review/userId</th>\n",
       "    </tr>\n",
       "  </thead>\n",
       "  <tbody>\n",
       "    <tr>\n",
       "      <th>0</th>\n",
       "      <td>B003AI2VGA</td>\n",
       "      <td>7/7</td>\n",
       "      <td>Brian E. Erland \"Rainbow Sphinx\"</td>\n",
       "      <td>3.0</td>\n",
       "      <td>\"There Is So Much Darkness Now ~ Come For The ...</td>\n",
       "      <td>Synopsis: On the daily trek from Juarez, Mexic...</td>\n",
       "      <td>1182729600</td>\n",
       "      <td>A141HP4LYPWMSR</td>\n",
       "    </tr>\n",
       "    <tr>\n",
       "      <th>1</th>\n",
       "      <td>B003AI2VGA</td>\n",
       "      <td>4/4</td>\n",
       "      <td>Grady Harp</td>\n",
       "      <td>3.0</td>\n",
       "      <td>Worthwhile and Important Story Hampered by Poo...</td>\n",
       "      <td>THE VIRGIN OF JUAREZ is based on true events s...</td>\n",
       "      <td>1181952000</td>\n",
       "      <td>A328S9RN3U5M68</td>\n",
       "    </tr>\n",
       "    <tr>\n",
       "      <th>2</th>\n",
       "      <td>B003AI2VGA</td>\n",
       "      <td>8/10</td>\n",
       "      <td>Chrissy K. McVay \"Writer\"</td>\n",
       "      <td>5.0</td>\n",
       "      <td>This movie needed to be made.</td>\n",
       "      <td>The scenes in this film can be very disquietin...</td>\n",
       "      <td>1164844800</td>\n",
       "      <td>A1I7QGUDP043DG</td>\n",
       "    </tr>\n",
       "    <tr>\n",
       "      <th>3</th>\n",
       "      <td>B003AI2VGA</td>\n",
       "      <td>1/1</td>\n",
       "      <td>golgotha.gov</td>\n",
       "      <td>3.0</td>\n",
       "      <td>distantly based on a real tragedy</td>\n",
       "      <td>THE VIRGIN OF JUAREZ (2006)&lt;br /&gt;directed by K...</td>\n",
       "      <td>1197158400</td>\n",
       "      <td>A1M5405JH9THP9</td>\n",
       "    </tr>\n",
       "    <tr>\n",
       "      <th>4</th>\n",
       "      <td>B003AI2VGA</td>\n",
       "      <td>1/1</td>\n",
       "      <td>KerrLines \"&amp;#34;Movies,Music,Theatre&amp;#34;\"</td>\n",
       "      <td>3.0</td>\n",
       "      <td>\"What's going on down in Juarez and shining a ...</td>\n",
       "      <td>Informationally, this SHOWTIME original is ess...</td>\n",
       "      <td>1188345600</td>\n",
       "      <td>ATXL536YX71TR</td>\n",
       "    </tr>\n",
       "  </tbody>\n",
       "</table>\n",
       "</div>"
      ],
      "text/plain": [
       "  product/productId review/helpfulness  \\\n",
       "0        B003AI2VGA                7/7   \n",
       "1        B003AI2VGA                4/4   \n",
       "2        B003AI2VGA               8/10   \n",
       "3        B003AI2VGA                1/1   \n",
       "4        B003AI2VGA                1/1   \n",
       "\n",
       "                           review/profileName review/score  \\\n",
       "0            Brian E. Erland \"Rainbow Sphinx\"          3.0   \n",
       "1                                  Grady Harp          3.0   \n",
       "2                   Chrissy K. McVay \"Writer\"          5.0   \n",
       "3                                golgotha.gov          3.0   \n",
       "4  KerrLines \"&#34;Movies,Music,Theatre&#34;\"          3.0   \n",
       "\n",
       "                                      review/summary  \\\n",
       "0  \"There Is So Much Darkness Now ~ Come For The ...   \n",
       "1  Worthwhile and Important Story Hampered by Poo...   \n",
       "2                      This movie needed to be made.   \n",
       "3                  distantly based on a real tragedy   \n",
       "4  \"What's going on down in Juarez and shining a ...   \n",
       "\n",
       "                                         review/text review/time  \\\n",
       "0  Synopsis: On the daily trek from Juarez, Mexic...  1182729600   \n",
       "1  THE VIRGIN OF JUAREZ is based on true events s...  1181952000   \n",
       "2  The scenes in this film can be very disquietin...  1164844800   \n",
       "3  THE VIRGIN OF JUAREZ (2006)<br />directed by K...  1197158400   \n",
       "4  Informationally, this SHOWTIME original is ess...  1188345600   \n",
       "\n",
       "    review/userId  \n",
       "0  A141HP4LYPWMSR  \n",
       "1  A328S9RN3U5M68  \n",
       "2  A1I7QGUDP043DG  \n",
       "3  A1M5405JH9THP9  \n",
       "4   ATXL536YX71TR  "
      ]
     },
     "execution_count": 12,
     "metadata": {},
     "output_type": "execute_result"
    }
   ],
   "source": [
    "#preparing the data and creating a pandas data frame\n",
    "import pandas as pd\n",
    "with open(r'/Users/Adam/Documents/DataClass/project/movies_small.txt') as f:\n",
    "    dict_list = []\n",
    "    record_dict = {}\n",
    "    for line in f:\n",
    "#       print line\n",
    "        if line.strip() is '':\n",
    "            dict_list.append(record_dict)\n",
    "            record_dict = {} # reset record_dict\n",
    "        else:   \n",
    "            split_values = line.split(': ',1)\n",
    "            key = split_values[0]\n",
    "            try:\n",
    "                value = split_values[1].rstrip()\n",
    "            except IndexError:\n",
    "                value = ''\n",
    "            record_dict[key] = value\n",
    "\n",
    "df = pd.DataFrame(dict_list) # store in dataframe\n",
    "df.head()"
   ]
  },
  {
   "cell_type": "code",
   "execution_count": 13,
   "metadata": {
    "collapsed": false
   },
   "outputs": [],
   "source": [
    "#df.append(df['review/helpfulness'].apply(lambda x: pd.Series(x.split('/'), index = x.index)))\n",
    "df = df.join(pd.DataFrame(df['review/helpfulness'].str.split('/').tolist(), columns=['num_helpful','num_total']).astype(int))\n",
    "df.drop('review/helpfulness', inplace=True, axis=1)\n",
    "#df.loc[(df['num_total'] > 200)]"
   ]
  },
  {
   "cell_type": "code",
   "execution_count": 17,
   "metadata": {
    "collapsed": false
   },
   "outputs": [
    {
     "data": {
      "text/html": [
       "<div>\n",
       "<table border=\"1\" class=\"dataframe\">\n",
       "  <thead>\n",
       "    <tr style=\"text-align: right;\">\n",
       "      <th></th>\n",
       "      <th>review/score</th>\n",
       "      <th>num_helpful</th>\n",
       "      <th>num_total</th>\n",
       "      <th>helpful_ratio</th>\n",
       "    </tr>\n",
       "  </thead>\n",
       "  <tbody>\n",
       "    <tr>\n",
       "      <th>0</th>\n",
       "      <td>3.0</td>\n",
       "      <td>7</td>\n",
       "      <td>7</td>\n",
       "      <td>1.0</td>\n",
       "    </tr>\n",
       "    <tr>\n",
       "      <th>1</th>\n",
       "      <td>3.0</td>\n",
       "      <td>4</td>\n",
       "      <td>4</td>\n",
       "      <td>1.0</td>\n",
       "    </tr>\n",
       "    <tr>\n",
       "      <th>2</th>\n",
       "      <td>5.0</td>\n",
       "      <td>8</td>\n",
       "      <td>10</td>\n",
       "      <td>0.8</td>\n",
       "    </tr>\n",
       "    <tr>\n",
       "      <th>3</th>\n",
       "      <td>3.0</td>\n",
       "      <td>1</td>\n",
       "      <td>1</td>\n",
       "      <td>1.0</td>\n",
       "    </tr>\n",
       "    <tr>\n",
       "      <th>4</th>\n",
       "      <td>3.0</td>\n",
       "      <td>1</td>\n",
       "      <td>1</td>\n",
       "      <td>1.0</td>\n",
       "    </tr>\n",
       "  </tbody>\n",
       "</table>\n",
       "</div>"
      ],
      "text/plain": [
       "  review/score  num_helpful  num_total  helpful_ratio\n",
       "0          3.0            7          7            1.0\n",
       "1          3.0            4          4            1.0\n",
       "2          5.0            8         10            0.8\n",
       "3          3.0            1          1            1.0\n",
       "4          3.0            1          1            1.0"
      ]
     },
     "execution_count": 17,
     "metadata": {},
     "output_type": "execute_result"
    }
   ],
   "source": [
    "df['helpful_ratio'] = df['num_helpful']/df['num_total']\n",
    "df1 = df[['review/score','num_helpful','num_total','helpful_ratio']]\n",
    "df1.head()"
   ]
  },
  {
   "cell_type": "code",
   "execution_count": 18,
   "metadata": {
    "collapsed": false
   },
   "outputs": [],
   "source": [
    "import numpy as np\n",
    "import statsmodels.formula.api as smf\n",
    "import patsy\n",
    "import seaborn as sns\n",
    "from seaborn import plt\n",
    "from sklearn.linear_model import LinearRegression\n",
    "from sklearn.cross_validation import train_test_split\n",
    "from sklearn.linear_model import RidgeCV\n",
    "%matplotlib inline"
   ]
  },
  {
   "cell_type": "code",
   "execution_count": 19,
   "metadata": {
    "collapsed": false
   },
   "outputs": [
    {
     "name": "stdout",
     "output_type": "stream",
     "text": [
      "<class 'pandas.core.frame.DataFrame'>\n",
      "Int64Index: 43390 entries, 0 to 43389\n",
      "Data columns (total 4 columns):\n",
      "review/score     43390 non-null object\n",
      "num_helpful      43390 non-null int64\n",
      "num_total        43390 non-null int64\n",
      "helpful_ratio    31300 non-null float64\n",
      "dtypes: float64(1), int64(2), object(1)\n",
      "memory usage: 1.7+ MB\n"
     ]
    }
   ],
   "source": [
    "df1.info()"
   ]
  },
  {
   "cell_type": "code",
   "execution_count": 20,
   "metadata": {
    "collapsed": false
   },
   "outputs": [
    {
     "data": {
      "text/plain": [
       "(43390, 4)"
      ]
     },
     "execution_count": 20,
     "metadata": {},
     "output_type": "execute_result"
    }
   ],
   "source": [
    "# How many rows and columns does the dataset have?\n",
    "df1.shape"
   ]
  },
  {
   "cell_type": "code",
   "execution_count": 23,
   "metadata": {
    "collapsed": false
   },
   "outputs": [
    {
     "data": {
      "text/html": [
       "<div>\n",
       "<table border=\"1\" class=\"dataframe\">\n",
       "  <thead>\n",
       "    <tr style=\"text-align: right;\">\n",
       "      <th></th>\n",
       "      <th>num_helpful</th>\n",
       "      <th>num_total</th>\n",
       "      <th>helpful_ratio</th>\n",
       "    </tr>\n",
       "  </thead>\n",
       "  <tbody>\n",
       "    <tr>\n",
       "      <th>num_helpful</th>\n",
       "      <td>1.000000</td>\n",
       "      <td>0.954179</td>\n",
       "      <td>0.137273</td>\n",
       "    </tr>\n",
       "    <tr>\n",
       "      <th>num_total</th>\n",
       "      <td>0.954179</td>\n",
       "      <td>1.000000</td>\n",
       "      <td>0.027192</td>\n",
       "    </tr>\n",
       "    <tr>\n",
       "      <th>helpful_ratio</th>\n",
       "      <td>0.137273</td>\n",
       "      <td>0.027192</td>\n",
       "      <td>1.000000</td>\n",
       "    </tr>\n",
       "  </tbody>\n",
       "</table>\n",
       "</div>"
      ],
      "text/plain": [
       "               num_helpful  num_total  helpful_ratio\n",
       "num_helpful       1.000000   0.954179       0.137273\n",
       "num_total         0.954179   1.000000       0.027192\n",
       "helpful_ratio     0.137273   0.027192       1.000000"
      ]
     },
     "execution_count": 23,
     "metadata": {},
     "output_type": "execute_result"
    }
   ],
   "source": [
    "# View the correlations\n",
    "df1.corr()"
   ]
  },
  {
   "cell_type": "code",
   "execution_count": null,
   "metadata": {
    "collapsed": true
   },
   "outputs": [],
   "source": []
  }
 ],
 "metadata": {
  "kernelspec": {
   "display_name": "Python 2",
   "language": "python",
   "name": "python2"
  },
  "language_info": {
   "codemirror_mode": {
    "name": "ipython",
    "version": 2
   },
   "file_extension": ".py",
   "mimetype": "text/x-python",
   "name": "python",
   "nbconvert_exporter": "python",
   "pygments_lexer": "ipython2",
   "version": "2.7.10"
  }
 },
 "nbformat": 4,
 "nbformat_minor": 0
}
