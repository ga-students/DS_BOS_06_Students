{
 "cells": [
  {
   "cell_type": "raw",
   "metadata": {},
   "source": [
    "  "
   ]
  },
  {
   "cell_type": "code",
   "execution_count": null,
   "metadata": {
    "collapsed": false
   },
   "outputs": [],
   "source": [
    "#Class Project (Adam)\n",
    "#*********************Predicting the helpfulness of Amazon movie product reviews\n",
    "#*********************My developed classifier assesses a dataset of reviews\n",
    "#*********************I will outline my approach to predicting the helpfulness of a review\n",
    "#*********************the developed classifier will assess reviews randomly from the dataset \n",
    "#*********************and predict whether a given product review is either ”helpful” or ”unhelpful.” \n",
    "#*********************Will initially use reviewer/responder metrics along with star rankings of the reviewer \n",
    "#*********************relative to the polpulation - second phase  - will use text analysis on the actual\n",
    "#*********************reviews as well.  \n",
    "#*********************I was able to achieve up to ___ accuracy on movie reviews.\n",
    "#   Data Source: Amazon movie reviews past 12 years"
   ]
  },
  {
   "cell_type": "code",
   "execution_count": 12,
   "metadata": {
    "collapsed": false,
    "scrolled": true
   },
   "outputs": [
    {
     "data": {
      "text/html": [
       "<div>\n",
       "<table border=\"1\" class=\"dataframe\">\n",
       "  <thead>\n",
       "    <tr style=\"text-align: right;\">\n",
       "      <th></th>\n",
       "      <th>product/productId</th>\n",
       "      <th>review/helpfulness</th>\n",
       "      <th>review/profileName</th>\n",
       "      <th>review/score</th>\n",
       "      <th>review/summary</th>\n",
       "      <th>review/text</th>\n",
       "      <th>review/time</th>\n",
       "      <th>review/userId</th>\n",
       "    </tr>\n",
       "  </thead>\n",
       "  <tbody>\n",
       "    <tr>\n",
       "      <th>0</th>\n",
       "      <td>B003AI2VGA</td>\n",
       "      <td>7/7</td>\n",
       "      <td>Brian E. Erland \"Rainbow Sphinx\"</td>\n",
       "      <td>3.0</td>\n",
       "      <td>\"There Is So Much Darkness Now ~ Come For The ...</td>\n",
       "      <td>Synopsis: On the daily trek from Juarez, Mexic...</td>\n",
       "      <td>1182729600</td>\n",
       "      <td>A141HP4LYPWMSR</td>\n",
       "    </tr>\n",
       "    <tr>\n",
       "      <th>1</th>\n",
       "      <td>B003AI2VGA</td>\n",
       "      <td>4/4</td>\n",
       "      <td>Grady Harp</td>\n",
       "      <td>3.0</td>\n",
       "      <td>Worthwhile and Important Story Hampered by Poo...</td>\n",
       "      <td>THE VIRGIN OF JUAREZ is based on true events s...</td>\n",
       "      <td>1181952000</td>\n",
       "      <td>A328S9RN3U5M68</td>\n",
       "    </tr>\n",
       "    <tr>\n",
       "      <th>2</th>\n",
       "      <td>B003AI2VGA</td>\n",
       "      <td>8/10</td>\n",
       "      <td>Chrissy K. McVay \"Writer\"</td>\n",
       "      <td>5.0</td>\n",
       "      <td>This movie needed to be made.</td>\n",
       "      <td>The scenes in this film can be very disquietin...</td>\n",
       "      <td>1164844800</td>\n",
       "      <td>A1I7QGUDP043DG</td>\n",
       "    </tr>\n",
       "    <tr>\n",
       "      <th>3</th>\n",
       "      <td>B003AI2VGA</td>\n",
       "      <td>1/1</td>\n",
       "      <td>golgotha.gov</td>\n",
       "      <td>3.0</td>\n",
       "      <td>distantly based on a real tragedy</td>\n",
       "      <td>THE VIRGIN OF JUAREZ (2006)&lt;br /&gt;directed by K...</td>\n",
       "      <td>1197158400</td>\n",
       "      <td>A1M5405JH9THP9</td>\n",
       "    </tr>\n",
       "    <tr>\n",
       "      <th>4</th>\n",
       "      <td>B003AI2VGA</td>\n",
       "      <td>1/1</td>\n",
       "      <td>KerrLines \"&amp;#34;Movies,Music,Theatre&amp;#34;\"</td>\n",
       "      <td>3.0</td>\n",
       "      <td>\"What's going on down in Juarez and shining a ...</td>\n",
       "      <td>Informationally, this SHOWTIME original is ess...</td>\n",
       "      <td>1188345600</td>\n",
       "      <td>ATXL536YX71TR</td>\n",
       "    </tr>\n",
       "  </tbody>\n",
       "</table>\n",
       "</div>"
      ],
      "text/plain": [
       "  product/productId review/helpfulness  \\\n",
       "0        B003AI2VGA                7/7   \n",
       "1        B003AI2VGA                4/4   \n",
       "2        B003AI2VGA               8/10   \n",
       "3        B003AI2VGA                1/1   \n",
       "4        B003AI2VGA                1/1   \n",
       "\n",
       "                           review/profileName review/score  \\\n",
       "0            Brian E. Erland \"Rainbow Sphinx\"          3.0   \n",
       "1                                  Grady Harp          3.0   \n",
       "2                   Chrissy K. McVay \"Writer\"          5.0   \n",
       "3                                golgotha.gov          3.0   \n",
       "4  KerrLines \"&#34;Movies,Music,Theatre&#34;\"          3.0   \n",
       "\n",
       "                                      review/summary  \\\n",
       "0  \"There Is So Much Darkness Now ~ Come For The ...   \n",
       "1  Worthwhile and Important Story Hampered by Poo...   \n",
       "2                      This movie needed to be made.   \n",
       "3                  distantly based on a real tragedy   \n",
       "4  \"What's going on down in Juarez and shining a ...   \n",
       "\n",
       "                                         review/text review/time  \\\n",
       "0  Synopsis: On the daily trek from Juarez, Mexic...  1182729600   \n",
       "1  THE VIRGIN OF JUAREZ is based on true events s...  1181952000   \n",
       "2  The scenes in this film can be very disquietin...  1164844800   \n",
       "3  THE VIRGIN OF JUAREZ (2006)<br />directed by K...  1197158400   \n",
       "4  Informationally, this SHOWTIME original is ess...  1188345600   \n",
       "\n",
       "    review/userId  \n",
       "0  A141HP4LYPWMSR  \n",
       "1  A328S9RN3U5M68  \n",
       "2  A1I7QGUDP043DG  \n",
       "3  A1M5405JH9THP9  \n",
       "4   ATXL536YX71TR  "
      ]
     },
     "execution_count": 12,
     "metadata": {},
     "output_type": "execute_result"
    }
   ],
   "source": [
    "#preparing the data and creating a pandas data frame\n",
    "import pandas as pd\n",
    "with open(r'/Users/Adam/Documents/DataClass/project/movies_small.txt') as f:\n",
    "    dict_list = []\n",
    "    record_dict = {}\n",
    "    for line in f:\n",
    "#       print line\n",
    "        if line.strip() is '':\n",
    "            dict_list.append(record_dict)\n",
    "            record_dict = {} # reset record_dict\n",
    "        else:   \n",
    "            split_values = line.split(': ',1)\n",
    "            key = split_values[0]\n",
    "            try:\n",
    "                value = split_values[1].rstrip()\n",
    "            except IndexError:\n",
    "                value = ''\n",
    "            record_dict[key] = value\n",
    "\n",
    "df = pd.DataFrame(dict_list) # store in dataframe\n",
    "df.head()"
   ]
  },
  {
   "cell_type": "code",
   "execution_count": 13,
   "metadata": {
    "collapsed": false
   },
   "outputs": [],
   "source": [
    "#df.append(df['review/helpfulness'].apply(lambda x: pd.Series(x.split('/'), index = x.index)))\n",
    "df = df.join(pd.DataFrame(df['review/helpfulness'].str.split('/').tolist(), columns=['num_helpful','num_total']).astype(int))\n",
    "df.drop('review/helpfulness', inplace=True, axis=1)\n",
    "#df.loc[(df['num_total'] > 200)]"
   ]
  },
  {
   "cell_type": "code",
   "execution_count": 16,
   "metadata": {
    "collapsed": false
   },
   "outputs": [
    {
     "data": {
      "text/html": [
       "<div>\n",
       "<table border=\"1\" class=\"dataframe\">\n",
       "  <thead>\n",
       "    <tr style=\"text-align: right;\">\n",
       "      <th></th>\n",
       "      <th>review/score</th>\n",
       "      <th>num_helpful</th>\n",
       "      <th>num_total</th>\n",
       "    </tr>\n",
       "  </thead>\n",
       "  <tbody>\n",
       "    <tr>\n",
       "      <th>0</th>\n",
       "      <td>3.0</td>\n",
       "      <td>7</td>\n",
       "      <td>7</td>\n",
       "    </tr>\n",
       "    <tr>\n",
       "      <th>1</th>\n",
       "      <td>3.0</td>\n",
       "      <td>4</td>\n",
       "      <td>4</td>\n",
       "    </tr>\n",
       "    <tr>\n",
       "      <th>2</th>\n",
       "      <td>5.0</td>\n",
       "      <td>8</td>\n",
       "      <td>10</td>\n",
       "    </tr>\n",
       "    <tr>\n",
       "      <th>3</th>\n",
       "      <td>3.0</td>\n",
       "      <td>1</td>\n",
       "      <td>1</td>\n",
       "    </tr>\n",
       "    <tr>\n",
       "      <th>4</th>\n",
       "      <td>3.0</td>\n",
       "      <td>1</td>\n",
       "      <td>1</td>\n",
       "    </tr>\n",
       "  </tbody>\n",
       "</table>\n",
       "</div>"
      ],
      "text/plain": [
       "  review/score  num_helpful  num_total\n",
       "0          3.0            7          7\n",
       "1          3.0            4          4\n",
       "2          5.0            8         10\n",
       "3          3.0            1          1\n",
       "4          3.0            1          1"
      ]
     },
     "execution_count": 16,
     "metadata": {},
     "output_type": "execute_result"
    }
   ],
   "source": [
    "\n",
    "df1 = df[['review/score','num_helpful','num_total']]\n",
    "df1.head()"
   ]
  },
  {
   "cell_type": "code",
   "execution_count": 5,
   "metadata": {
    "collapsed": false
   },
   "outputs": [
    {
     "data": {
      "text/plain": [
       "product/productId\n",
       "0310582792      1\n",
       "073600193X      3\n",
       "0764004492      3\n",
       "0767002652     24\n",
       "076780046X     64\n",
       "0767805534    124\n",
       "0767825454      1\n",
       "0767845234     10\n",
       "078401115X     85\n",
       "0784011532     57\n",
       "0788600222     12\n",
       "0790701251    315\n",
       "0790732033     37\n",
       "0790733382     32\n",
       "0790747324    189\n",
       "0790750708     68\n",
       "0792151712     10\n",
       "0792845773     25\n",
       "0793903335      4\n",
       "0793927560      1\n",
       "0800103688     77\n",
       "0800126033     12\n",
       "0849986737      1\n",
       "0934837120      2\n",
       "0940871491      1\n",
       "0955766818      1\n",
       "0963199668      1\n",
       "0966012224      1\n",
       "0966199464      1\n",
       "0967877709      2\n",
       "             ... \n",
       "B008IG0F7G      5\n",
       "B008JAG4GW     17\n",
       "B008LYCDW0      1\n",
       "B008M34Y72     16\n",
       "B008NNY8CW      3\n",
       "B008Q00I2Q    132\n",
       "B008R52L48      1\n",
       "B008R52L4I      1\n",
       "B008ROG898      7\n",
       "B008SAPAYA      6\n",
       "B008SAPAYU      1\n",
       "B008UO5U9E    136\n",
       "B008X1O7KM    206\n",
       "B008YKQC6E      2\n",
       "B00925T8YI      1\n",
       "B0092MDYV4      8\n",
       "B00932ADHQ     11\n",
       "B0094MOQ0K     14\n",
       "B0095D5454    158\n",
       "B0096RC57O      4\n",
       "B0099VUXCQ      1\n",
       "B009B6XA1U     26\n",
       "B009CWWCYO      1\n",
       "B009D0AZI0      3\n",
       "B009HNDF3K     50\n",
       "B009K37SUS      2\n",
       "B009M8EA3Y      1\n",
       "B009N4Z9XW      1\n",
       "B009QW6BXS     43\n",
       "B009RAF860      3\n",
       "dtype: int64"
      ]
     },
     "execution_count": 5,
     "metadata": {},
     "output_type": "execute_result"
    }
   ],
   "source": [
    "# How many products were reviewed? How often? Distribution of products reviewed. Plot it.\n",
    "import matplotlib.pyplot as plt\n",
    "df.groupby('product/productId').size()"
   ]
  },
  {
   "cell_type": "code",
   "execution_count": 7,
   "metadata": {
    "collapsed": false
   },
   "outputs": [
    {
     "data": {
      "text/plain": [
       "1287"
      ]
     },
     "execution_count": 7,
     "metadata": {},
     "output_type": "execute_result"
    }
   ],
   "source": [
    "df.groupby('product/productId').size().count()"
   ]
  },
  {
   "cell_type": "code",
   "execution_count": 6,
   "metadata": {
    "collapsed": false
   },
   "outputs": [
    {
     "data": {
      "text/plain": [
       "review/userId   review/score\n",
       "A10033ZS10JQYA  4.0             1\n",
       "A10078GF4Z3GJN  5.0             1\n",
       "A1007T2IVFQKYN  5.0             1\n",
       "A100JCBNALJFAW  3.0             1\n",
       "                5.0             1\n",
       "A100MPD67FD3ID  5.0             1\n",
       "A100PY9HC7VVI8  5.0             1\n",
       "A100RFQHFO005W  3.0             1\n",
       "A100Y8WSLFJN7Q  5.0             1\n",
       "A101LE0G4T2RD0  5.0             1\n",
       "A101PLUE57KUSS  5.0             1\n",
       "A101XQF0IGPEO   5.0             1\n",
       "A1022GOAE7J1R1  5.0             1\n",
       "A1023CFGMARBHM  1.0             1\n",
       "A1027EV8A9PV1O  5.0             1\n",
       "A102TBYVX6319C  3.0             1\n",
       "A102YM3H3O003E  5.0             1\n",
       "A1031BCVB4XNKB  1.0             1\n",
       "A1033RWNZWEMR5  5.0             1\n",
       "A103EXN5Q7HX6Z  1.0             1\n",
       "A103IUREF6NQ5O  4.0             1\n",
       "A103NIIU3EJZIG  5.0             1\n",
       "A103QX7NUHBOUF  5.0             1\n",
       "A103VZ3KDF2RT5  1.0             1\n",
       "A103W7ZPKGOCC9  5.0             2\n",
       "A103ZG6ASSR7UT  3.0             1\n",
       "A1041HQGJDKFG5  5.0             1\n",
       "A1044O5YTKM1AJ  4.0             2\n",
       "A104J0XKZR32JS  5.0             1\n",
       "A104NCZUD52CWG  5.0             1\n",
       "                               ..\n",
       "AZXA77WWFK8IM   1.0             1\n",
       "AZXDEJR0I4L51   1.0             1\n",
       "AZXFMHSH6VSTS   4.0             1\n",
       "AZXHK8IO25FL6   3.0             1\n",
       "AZXLIDGMZHOER   5.0             1\n",
       "AZXTPGNAB366A   5.0             1\n",
       "AZXUFTJVXJWL0   5.0             1\n",
       "AZY0WAYW61R3Z   2.0             1\n",
       "AZY1OM4M0YXXI   5.0             1\n",
       "AZY5BQMFSI7CD   5.0             1\n",
       "AZYBYAJ4ZHSDT   4.0             1\n",
       "AZYCDQF15WXET   5.0             1\n",
       "AZYFQPBNJ8I7O   5.0             1\n",
       "AZYJ9TS07B02W   2.0             1\n",
       "                5.0             1\n",
       "AZYJG5MEQ7P1B   1.0             2\n",
       "AZYUZZXHRJRVX   5.0             1\n",
       "AZYWD0WPB2YFR   1.0             1\n",
       "AZYZILYSQA6VQ   5.0             2\n",
       "AZZ109YL80ZX0   5.0             1\n",
       "AZZ33FMPHXWEW   5.0             1\n",
       "AZZ5ENX41WOYZ   5.0             1\n",
       "AZZ8N5REH7J98   2.0             1\n",
       "AZZJX02B2F22D   5.0             1\n",
       "AZZQLMNX239VT   5.0             1\n",
       "AZZVZL4QEHEHO   5.0             1\n",
       "AZZW25TJ2KNKV   5.0             1\n",
       "AZZYMSP9YNZ5H   5.0             1\n",
       "AZZZA9JS7UPHO   4.0             1\n",
       "AZZZRU9BPN8UP   4.0             1\n",
       "dtype: int64"
      ]
     },
     "execution_count": 6,
     "metadata": {},
     "output_type": "execute_result"
    }
   ],
   "source": [
    "df.groupby(['review/userId','review/score']).size()"
   ]
  },
  {
   "cell_type": "code",
   "execution_count": null,
   "metadata": {
    "collapsed": true
   },
   "outputs": [],
   "source": []
  }
 ],
 "metadata": {
  "kernelspec": {
   "display_name": "Python 2",
   "language": "python",
   "name": "python2"
  },
  "language_info": {
   "codemirror_mode": {
    "name": "ipython",
    "version": 2
   },
   "file_extension": ".py",
   "mimetype": "text/x-python",
   "name": "python",
   "nbconvert_exporter": "python",
   "pygments_lexer": "ipython2",
   "version": "2.7.10"
  }
 },
 "nbformat": 4,
 "nbformat_minor": 0
}
