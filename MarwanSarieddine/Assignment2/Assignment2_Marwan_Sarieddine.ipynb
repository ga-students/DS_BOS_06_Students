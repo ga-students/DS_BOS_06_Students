{
 "cells": [
  {
   "cell_type": "markdown",
   "metadata": {},
   "source": [
    "#Web Scraping with Beautiful Soup\n",
    "\n",
    "This tutorial will provide a very basic introduction to using the Beautiful Soup package to scrape text data from the web. \n",
    "\n",
    "##Installation\n",
    "\n",
    "In a terminal, install Beautiful Soup if necessary by running <pre><code>conda install beautiful-soup</code></pre>\n",
    "\n",
    "##Retrieving HTML\n",
    "\n",
    "The general idea behind web scraping is to retrieve data that exists on a website, and convert it into a format that is usable for analysis. Webpages are rendered by the brower from HTML and CSS code, but much of the information included in the HTML underlying any website is not interesting to us.\n",
    "\n",
    "We begin by reading in the source code for a given web page and creating a Beautiful Soup object with the BeautifulSoup function.\n",
    "\n",
    "###urllib2\n",
    "urllib2 is a module for working with urls, we will use it to open connections to urls and retrieve the webpage source."
   ]
  },
  {
   "cell_type": "code",
   "execution_count": 1,
   "metadata": {
    "collapsed": false
   },
   "outputs": [
    {
     "name": "stdout",
     "output_type": "stream",
     "text": [
      "<class 'bs4.BeautifulSoup'>\n"
     ]
    }
   ],
   "source": [
    "from bs4 import BeautifulSoup\n",
    "import urllib2\n",
    "page = urllib2.urlopen('http://espn.go.com/nba/statistics/player/_/stat/scoring-per-game/sort/avgPoints/qualified/false').read()\n",
    "soup = BeautifulSoup(page)\n",
    "print type(soup)"
   ]
  },
  {
   "cell_type": "markdown",
   "metadata": {},
   "source": [
    "The soup object contains all of the HTML in the original document."
   ]
  },
  {
   "cell_type": "code",
   "execution_count": 2,
   "metadata": {
    "collapsed": false
   },
   "outputs": [
    {
     "name": "stdout",
     "output_type": "stream",
     "text": [
      "<!DOCTYPE html>\n",
      "<html xmlns:fb=\"http://www.facebook.com/2008/fbml\">\n",
      " <head>\n",
      "  <script src=\"http://sports-ak.espn.go.com/sports/optimizely.js\">\n",
      "  </script>\n",
      "  <meta charset=\"utf-8\"/>\n",
      "  <meta content=\"IE=edge,chrome=1\" http-equiv=\"X-UA-Compatible\"/>\n",
      "  <link href=\"http://a.espncdn.com/prod/assets/icons/E.svg\" mask=\"\" rel=\"icon\" sizes=\"any\"/>\n",
      "  <meta content=\"#CC0000\" name=\"theme-color\"/>\n",
      "  <script type=\"text/javascript\">\n",
      "   if(true && navigator && navigator.userAgent.toLowerCase().indexOf(\"teamstream\") >= 0) {\n",
      "        window.location = 'http://a.m.espn.go.com/mobilecache/general/apps/sc';\n",
      "    }\n",
      "  </script>\n",
      "  <title>\n",
      "   2014-15 Regular Season NBA Player Stats and League Leaders - Scoring Per Game - National Basketball Association - ESPN\n",
      "  </title>\n",
      "  <meta content=\"xuj1ODRluWa0frM-BjIr_aSHoUC7HB5C1MgmYAM_GkA\" name=\"google-site-verification\"/>\n",
      "  <meta content=\"B1FEB7C682C46C8FCDA3130F3D18AC28\" name=\"msvalidate.01\"/>\n",
      "  <meta content=\"noodp\" name=\"googlebot\"/>\n",
      "  <meta content=\"index, follow\" na\n"
     ]
    }
   ],
   "source": [
    "print soup.prettify()[0:1000]"
   ]
  },
  {
   "cell_type": "markdown",
   "metadata": {},
   "source": [
    "##Parsing HTML\n",
    "\n",
    "By \"parsing HTML\", we mean pulling out only the relevant tags/attributes for our analysis.  What Beautiful Soup does is provide a handy bunch of methods for doing this efficiently.\n",
    "\n",
    "###find method\n",
    "\n",
    "The find method will search for and return the first tag matching your corresponding search criteria, if it exists.  You can specify tag and attribute info etc.  There is also a findAll method that will return a collection of tags matching your query."
   ]
  },
  {
   "cell_type": "code",
   "execution_count": 3,
   "metadata": {
    "collapsed": false
   },
   "outputs": [
    {
     "name": "stdout",
     "output_type": "stream",
     "text": [
      "<div class=\"col-main\" id=\"my-players-table\">\n",
      " <div class=\"mod-container mod-table\">\n",
      "  <div class=\"mod-header stathead\">\n",
      "   <h4>\n",
      "    Points Per Game Leaders - All Players\n",
      "   </h4>\n",
      "  </div>\n",
      "  <div class=\"mod-content\">\n",
      "   <table cellpadding=\"3\" cellspacing=\"1\" class=\"tablehead\">\n",
      "    <tr align=\"right\" class=\"colhead\">\n",
      "     <td align=\"left\" style=\"width:20px;\">\n",
      "      RK\n",
      "     </td>\n",
      "     <td align=\"left\">\n",
      "      PLAYER\n",
      "     </td>\n",
      "     <td align=\"left\">\n",
      "      TEAM\n",
      "     </td>\n",
      "     <td>\n",
      "      <a href=\"http://espn.go.com/nba/statistics/player/_/stat/scoring-per-game/sort/gamesPlayed/qualified/false\" title=\"Games Played\">\n",
      "       GP\n",
      "      </a>\n",
      "     </td>\n",
      "     <td>\n",
      "      <a href=\"http://espn.go.com/nba/statistics/player/_/stat/scoring-per-game/sort/avgMinutes/qualified/false\" title=\"Minutes Per Game\">\n",
      "       MPG\n",
      "      </a>\n",
      "     </td>\n",
      "     <td>\n",
      "      <a href=\"http://espn.go.com/nba/statistics/player/_/stat/scoring-per-game/sort/avgPoints/qualified/false/order/false\" title=\"Points Per Game\">\n",
      "       PTS\n",
      "      </a>\n",
      "     </td>\n",
      "     <td>\n",
      "      <span title=\"Field Goals Made-Attempted Per Game\">\n",
      "       FGM-FGA\n",
      "      </span>\n",
      "     </td>\n",
      "     <td>\n",
      "      <a href=\"http://espn.go.com/nba/statistics/player/_/stat/scoring-per-game/sort/fieldGoalPct/qualified/false\" title=\"Field Goal Percentage\">\n",
      "       FG%\n",
      "      </a>\n",
      "     </td>\n",
      "     <td>\n",
      "      <span title=\"3-Point Field Goals Made-Attempted Per Game\">\n",
      "       3PM-3PA\n",
      "      </span>\n",
      "     </td>\n",
      "     <td>\n",
      "      <a href=\"http://espn.go.com/nba/statistics/player/_/stat/scoring-per-game/sort/threePointFieldGoalPct/qualified/false\" title=\"3-Point Field Goal Percentage\">\n",
      "       3P%\n",
      "      </a>\n",
      "     </td>\n",
      "     <td>\n",
      "      <span title=\"Free Throws Made-Attempted Per Game\">\n",
      "       FTM-FTA\n",
      "      </span>\n",
      "     </td>\n",
      "     <td>\n",
      "      <a href=\"http://espn.go.com/nba/statistics/player/_/stat/scoring-per-game/sort/freeThrowPct/qualified/false\" title=\"Free Throws Percentage\">\n",
      "       FT%\n",
      "      </a>\n",
      "     </td>\n",
      "    </tr>\n",
      "    <tr align=\"right\" class=\"oddrow player-46-3468\">\n",
      "     <td align=\"left\">\n",
      "      1\n",
      "     </td>\n",
      "     <td align=\"left\">\n",
      "      <a href=\"http://espn.go.com/nba/player/_/id/3468/russell-westbrook\">\n",
      "       Russell Westbrook\n",
      "      </a>\n",
      "      , PG\n",
      "     </td>\n",
      "     <td align=\"left\">\n",
      "      OKC\n",
      "     </td>\n",
      "     <td>\n",
      "      67\n",
      "     </td>\n",
      "     <td>\n",
      "      34.4\n",
      "     </td>\n",
      "     <td class=\"sortcell\">\n",
      "      28.1\n",
      "     </td>\n",
      "     <td>\n",
      "      9.4-22.0\n",
      "     </td>\n",
      "     <td>\n",
      "      .426\n",
      "     </td>\n",
      "     <td>\n",
      "      1.3-4.3\n",
      "     </td>\n",
      "     <td>\n",
      "      .299\n",
      "     </td>\n",
      "     <td>\n",
      "      8.1-9.8\n",
      "     </td>\n",
      "     <td>\n",
      "      .835\n",
      "     </td>\n",
      "    </tr>\n",
      "    <tr align=\"right\" class=\"evenrow player-46-3992\">\n",
      "     <td align=\"left\">\n",
      "      2\n",
      "     </td>\n",
      "     <td align=\"left\">\n",
      "      <a href=\"http://espn.go.com/nba/player/_/id/3992/james-harden\">\n",
      "       James Harden\n",
      "      </a>\n",
      "      , SG\n",
      "     </td>\n",
      "     <td align=\"left\">\n",
      "      HOU\n",
      "     </td>\n",
      "     <td>\n",
      "      81\n",
      "     </td>\n",
      "     <td>\n",
      "      36.8\n",
      "     </td>\n",
      "     <td class=\"sortcell\">\n",
      "      27.4\n",
      "     </td>\n",
      "     <td>\n",
      "      8.0-18.1\n",
      "     </td>\n",
      "     <td>\n",
      "      .440\n",
      "     </td>\n",
      "     <td>\n",
      "      2.6-6.9\n",
      "     </td>\n",
      "     <td>\n",
      "      .375\n",
      "     </td>\n",
      "     <td>\n",
      "      8.8-10.2\n",
      "     </td>\n",
      "     <td>\n",
      "      .868\n",
      "     </td>\n",
      "    </tr>\n",
      "    <tr align=\"right\" class=\"oddrow player-46-3202\">\n",
      "     <td align=\"left\">\n",
      "      3\n",
      "     </td>\n",
      "     <td align=\"left\">\n",
      "      <a href=\"http://espn.go.com/nba/player/_/id/3202/kevin-durant\">\n",
      "       Kevin Durant\n",
      "      </a>\n",
      "      , SF\n",
      "     </td>\n",
      "     <td align=\"left\">\n",
      "      OKC\n",
      "     </td>\n",
      "     <td>\n",
      "      27\n",
      "     </td>\n",
      "     <td>\n",
      "      33.8\n",
      "     </td>\n",
      "     <td class=\"sortcell\">\n",
      "      25.4\n",
      "     </td>\n",
      "     <td>\n",
      "      8.8-17.3\n",
      "     </td>\n",
      "     <td>\n",
      "      .510\n",
      "     </td>\n",
      "     <td>\n",
      "      2.4-5.9\n",
      "     </td>\n",
      "     <td>\n",
      "      .403\n",
      "     </td>\n",
      "     <td>\n",
      "      5.4-6.3\n",
      "     </td>\n",
      "     <td>\n",
      "      .854\n",
      "     </td>\n",
      "    </tr>\n",
      "    <tr align=\"right\" class=\"evenrow player-46-1966\">\n",
      "     <td align=\"left\">\n",
      "      4\n",
      "     </td>\n",
      "     <td align=\"left\">\n",
      "      <a href=\"http://espn.go.com/nba/player/_/id/1966/lebron-james\">\n",
      "       LeBron James\n",
      "      <\n"
     ]
    }
   ],
   "source": [
    "table_div = soup.find(id='my-players-table')\n",
    "print table_div.prettify()[0:4000]"
   ]
  },
  {
   "cell_type": "markdown",
   "metadata": {},
   "source": [
    "Notice that the object returned by the find method is just another inner HTML structure, which we can step through just like we would have with the original soup object.  We've gone to the location in the webpage where the table that we seek starts, now we can use find again to get to the table data."
   ]
  },
  {
   "cell_type": "code",
   "execution_count": 4,
   "metadata": {
    "collapsed": false
   },
   "outputs": [
    {
     "name": "stdout",
     "output_type": "stream",
     "text": [
      "<table cellpadding=\"3\" cellspacing=\"1\" class=\"tablehead\">\n",
      "<tr align=\"right\" class=\"colhead\"><td align=\"left\" style=\"width:20px;\">RK</td><td align=\"left\">PLAYER</td><td align=\"left\">TEAM</td><td><a href=\"http://espn.go.com/nba/statistics/player/_/stat/scoring-per-game/sort/gamesPlayed/qualified/false\" title=\"Games Played\">GP</a></td><td><a href=\"http://espn.go.com/nba/statistics/player/_/stat/scoring-per-game/sort/avgMinutes/qualified/false\" title=\"Minutes Per Game\">MPG</a></td><td><a href=\"http://espn.go.com/nba/statistics/player/_/stat/scoring-per-game/sort/avgPoints/qualified/false/order/false\" title=\"Points Per Game\">PTS</a></td><td><span title=\"Field Goals Made-Attempted Per Game\">FGM-FGA</span></td><td><a href=\"http://espn.go.com/nba/statistics/player/_/stat/scoring-per-game/sort/fieldGoalPct/qualified/false\" title=\"Field Goal Percentage\">FG%</a></td><td><span title=\"3-Point Field Goals Made-Attempted Per Game\">3PM-3PA</span></td><td><a href=\"http://espn.go.com/nba/statistics/player/_/stat/scoring-per-game/sort/threePointFieldGoalPct/qualified/false\" title=\"3-Point Field Goal Percentage\">3P%</a></td><td><span title=\"Free Throws Made-Attempted Per Game\">FTM-FTA</span></td><td><a href=\"http://espn.go.com/nba/statistics/player/_/stat/scoring-per-game/sort/freeThrowPct/qualified/false\" title=\"Free Throws Percentage\">FT%</a></td></tr><tr align=\"right\" class=\"oddrow player-46-3468\"><td align=\"left\">1</td><td align=\"left\"><a href=\"http://espn.go.com/nba/player/_/id/3468/russell-westbrook\">Russell Westbrook</a>, PG</td><td align=\"left\">OKC</td><td>67</td><td>34.4</td><td class=\"sortcell\">28.1</td><td>9.4-22.0</td><td>.426</td><td>1.3-4.3</td><td>.299</td><td>8.1-9.8</td><td>.835</td></tr><tr align=\"right\" class=\"evenrow player-46-3992\"><td align=\"left\">2</td><td align=\"left\"><a href=\"http://espn.go.com/nba/player/_/id/3992/james-harden\">James Harden</a>, SG</td><td align=\"left\">HOU</td><td>81</td><td>36.8</td><td class=\"sortcell\">27.4</td><td>8.0-18.1</td><td>.440</td><td>2.6-6.9</td><td>.375</td><td>8.8-10.2</td><td>.868</td></tr><tr align=\"right\" class=\"oddrow player-46-3202\"><td align=\"left\">3</td><td align=\"left\"><a href=\"http://espn.go.com/nba/player/_/id/3202/kevin-durant\">Kevin Durant</a>, SF</td><td align=\"left\">OKC</td><td>27</td><td>33.8</td><td class=\"sortcell\">25.4</td><td>8.8-17.3</td><td>.510</td><td>2.4-5.9</td><td>.403</td><td>5.4-6.3</td><td>.854</td></tr><tr align=\"right\" class=\"evenrow player-46-1966\"><td align=\"left\">4</td><td align=\"left\"><a href=\"http://espn.go.com/nba/player/_/id/1966/lebron-james\">LeBron James</a>, SF</td><td align=\"left\">CLE</td><td>69</td><td>36.1</td><td class=\"sortcell\">25.3</td><td>9.0-18.5</td><td>.488</td><td>1.7-4.9</td><td>.354</td><td>5.4-7.7</td><td>.710</td></tr><tr align=\"right\" class=\"oddrow player-46-6583\"><td align=\"left\">5</td><td align=\"left\"><a href=\"http://espn.go.com/nba/player/_/id/6583/anthony-davis\">Anthony Davis</a>, PF</td><td align=\"left\">NO</td><td>68</td><td>36.1</td><td class=\"sortcell\">24.4</td><td>9.4-17.6</td><td>.535</td><td>0.0-0.2</td><td>.083</td><td>5.5-6.8</td><td>.805</td></tr><tr align=\"right\" class=\"evenrow player-46-1975\"><td align=\"left\">6</td><td align=\"left\"><a href=\"http://espn.go.com/nba/player/_/id/1975/carmelo-anthony\">Carmelo Anthony</a>, SF</td><td align=\"left\">NY</td><td>40</td><td>35.7</td><td class=\"sortcell\">24.2</td><td>9.0-20.2</td><td>.444</td><td>1.5-4.5</td><td>.341</td><td>4.7-5.9</td><td>.797</td></tr><tr align=\"right\" class=\"oddrow player-46-4258\"><td align=\"left\">7</td><td align=\"left\"><a href=\"http://espn.go.com/nba/player/_/id/4258/demarcus-cousins\">DeMarcus Cousins</a>, C</td><td align=\"left\">SAC</td><td>59</td><td>34.1</td><td class=\"sortcell\">24.1</td><td>8.4-18.1</td><td>.467</td><td>0.0-0.1</td><td>.250</td><td>7.2-9.2</td><td>.782</td></tr><tr align=\"right\" class=\"evenrow player-46-3975\"><td align=\"left\">8</td><td align=\"left\"><a href=\"http://espn.go.com/nba/player/_/id/3975/stephen-curry\">Stephen Curry</a>, PG</td><td align=\"left\">GS</td><td>80</td><td>32.7</td><td class=\"sortcell\">23.8</td><td>8.2-16.8</td><td>.487</td><td>3.6-8.1</td><td>.443</td><td>3.9-4.2</td><td>.914</td></tr><tr align=\"right\" class=\"oddrow player-46-2983\"><td align=\"left\">9</td><td align=\"left\"><a href=\"http://espn.go.com/nba/player/_/id/2983/lamarcus-aldridge\">LaMarcus Aldridge</a>, PF</td><td align=\"left\">POR</td><td>71</td><td>35.4</td><td class=\"sortcell\">23.4</td><td>9.3-19.9</td><td>.466</td><td>0.5-1.5</td><td>.352</td><td>4.3-5.1</td><td>.845</td></tr><tr align=\"right\" class=\"evenrow player-46-110\"><td align=\"left\">10</td><td align=\"left\"><a href=\"http://espn.go.com/nba/player/_/id/110/kobe-bryant\">Kobe Bryant</a>, SG</td><td align=\"left\">LAL</td><td>35</td><td>34.5</td><td class=\"sortcell\">22.3</td><td>7.6-20.4</td><td>.373</td><td>1.5-5.3</td><td>.293</td><td>5.6-6.9</td><td>.813</td></tr><tr align=\"right\" class=\"colhead\"><td align=\"left\" style=\"width:20px;\">RK</td><td align=\"left\">PLAYER</td><td align=\"left\">TEAM</td><td><a href=\"http://espn.go.com/nba/statistics/player/_/stat/scoring-per-game/sort/gamesPlayed/qualified/false\" title=\"Games Played\">GP</a></td><td><a href=\"http://espn.go.com/nba/statistics/player/_/stat/scoring-per-game/sort/avgMinutes/qualified/false\" title=\"Minutes Per Game\">MPG</a></td><td><a href=\"http://espn.go.com/nba/statistics/player/_/stat/scoring-per-game/sort/avgPoints/qualified/false/order/false\" title=\"Points Per Game\">PTS</a></td><td><span title=\"Field Goals Made-Attempted Per Game\">FGM-FGA</span></td><td><a href=\"http://espn.go.com/nba/statistics/player/_/stat/scoring-per-game/sort/fieldGoalPct/qualified/false\" title=\"Field Goal Percentage\">FG%</a></td><td><span title=\"3-Point Field Goals Made-Attempted Per Game\">3PM-3PA</span></td><td><a href=\"http://espn.go.com/nba/statistics/player/_/stat/scoring-per-game/sort/threePointFieldGoalPct/qualified/false\" title=\"3-Point Field Goal Percentage\">3P%</a></td><td><span title=\"Free Throws Made-Attempted Per Game\">FTM-FTA</span></td><td><a href=\"http://espn.go.com/nba/statistics/player/_/stat/scoring-per-game/sort/freeThrowPct/qualified/false\" title=\"Free Throws Percentage\">FT%</a></td></tr><tr align=\"right\" class=\"oddrow player-46-3989\"><td align=\"left\">11</td><td align=\"left\"><a href=\"http://espn.go.com/nba/player/_/id/3989/blake-griffin\">Blake Griffin</a>, PF</td><td align=\"left\">LAC</td><td>67</td><td>35.2</td><td class=\"sortcell\">21.9</td><td>8.6-17.1</td><td>.502</td><td>0.1-0.4</td><td>.400</td><td>4.6-6.4</td><td>.728</td></tr><tr align=\"right\" class=\"evenrow player-46-6442\"><td align=\"left\">12</td><td align=\"left\"><a href=\"http://espn.go.com/nba/player/_/id/6442/kyrie-irving\">Kyrie Irving</a>, PG</td><td align=\"left\">CLE</td><td>75</td><td>36.4</td><td class=\"sortcell\">21.7</td><td>7.7-16.5</td><td>.468</td><td>2.1-5.0</td><td>.415</td><td>4.2-4.9</td><td>.863</td></tr><tr align=\"right\" class=\"oddrow player-46-6475\"><td align=\"left\"> </td><td align=\"left\"><a href=\"http://espn.go.com/nba/player/_/id/6475/klay-thompson\">Klay Thompson</a>, SG</td><td align=\"left\">GS</td><td>77</td><td>31.9</td><td class=\"sortcell\">21.7</td><td>7.8-16.9</td><td>.463</td><td>3.1-7.1</td><td>.439</td><td>2.9-3.3</td><td>.879</td></tr><tr align=\"right\" class=\"evenrow player-46-1987\"><td align=\"left\">14</td><td align=\"left\"><a href=\"http://espn.go.com/nba/player/_/id/1987/dwyane-wade\">Dwyane Wade</a>, SG</td><td align=\"left\">MIA</td><td>62</td><td>31.8</td><td class=\"sortcell\">21.5</td><td>8.2-17.5</td><td>.470</td><td>0.5-1.6</td><td>.284</td><td>4.6-6.0</td><td>.768</td></tr><tr align=\"right\" class=\"oddrow player-46-1977\"><td align=\"left\">15</td><td align=\"left\"><a href=\"http://espn.go.com/nba/player/_/id/1977/chris-bosh\">Chris Bosh</a>, C</td><td align=\"left\">MIA</td><td>44</td><td>35.4</td><td class=\"sortcell\">21.1</td><td>7.8-16.9</td><td>.460</td><td>1.4-3.8</td><td>.375</td><td>4.1-5.3</td><td>.772</td></tr><tr align=\"right\" class=\"evenrow player-46-3005\"><td align=\"left\"> </td><td align=\"left\"><a href=\"http://espn.go.com/nba/player/_/id/3005/rudy-gay\">Rudy Gay</a>, SF</td><td align=\"left\">SAC</td><td>68</td><td>35.4</td><td class=\"sortcell\">21.1</td><td>7.5-16.4</td><td>.455</td><td>1.2-3.2</td><td>.359</td><td>5.0-5.8</td><td>.858</td></tr><tr align=\"right\" class=\"oddrow player-46-6606\"><td align=\"left\">17</td><td align=\"left\"><a href=\"http://espn.go.com/nba/player/_/id/6606/damian-lillard\">Damian Lillard</a>, PG</td><td align=\"left\">POR</td><td>82</td><td>35.7</td><td class=\"sortcell\">21.0</td><td>7.2-16.6</td><td>.434</td><td>2.4-7.0</td><td>.343</td><td>4.2-4.9</td><td>.864</td></tr><tr align=\"right\" class=\"evenrow player-46-3978\"><td align=\"left\">18</td><td align=\"left\"><a href=\"http://espn.go.com/nba/player/_/id/3978/demar-derozan\">DeMar DeRozan</a>, SG</td><td align=\"left\">TOR</td><td>60</td><td>35.0</td><td class=\"sortcell\">20.1</td><td>6.8-16.5</td><td>.413</td><td>0.4-1.5</td><td>.284</td><td>6.0-7.2</td><td>.832</td></tr><tr align=\"right\" class=\"oddrow player-46-6430\"><td align=\"left\">19</td><td align=\"left\"><a href=\"http://espn.go.com/nba/player/_/id/6430/jimmy-butler\">Jimmy Butler</a>, SG</td><td align=\"left\">CHI</td><td>65</td><td>38.7</td><td class=\"sortcell\">20.0</td><td>6.5-14.0</td><td>.462</td><td>1.1-3.0</td><td>.378</td><td>5.9-7.1</td><td>.834</td></tr><tr align=\"right\" class=\"evenrow player-46-2394\"><td align=\"left\"> </td><td align=\"left\"><a href=\"http://espn.go.com/nba/player/_/id/2394/kevin-martin\">Kevin Martin</a>, SG</td><td align=\"left\">MIN</td><td>39</td><td>33.4</td><td class=\"sortcell\">20.0</td><td>6.8-16.0</td><td>.427</td><td>1.9-4.9</td><td>.393</td><td>4.4-4.9</td><td>.881</td></tr><tr align=\"right\" class=\"colhead\"><td align=\"left\" style=\"width:20px;\">RK</td><td align=\"left\">PLAYER</td><td align=\"left\">TEAM</td><td><a href=\"http://espn.go.com/nba/statistics/player/_/stat/scoring-per-game/sort/gamesPlayed/qualified/false\" title=\"Games Played\">GP</a></td><td><a href=\"http://espn.go.com/nba/statistics/player/_/stat/scoring-per-game/sort/avgMinutes/qualified/false\" title=\"Minutes Per Game\">MPG</a></td><td><a href=\"http://espn.go.com/nba/statistics/player/_/stat/scoring-per-game/sort/avgPoints/qualified/false/order/false\" title=\"Points Per Game\">PTS</a></td><td><span title=\"Field Goals Made-Attempted Per Game\">FGM-FGA</span></td><td><a href=\"http://espn.go.com/nba/statistics/player/_/stat/scoring-per-game/sort/fieldGoalPct/qualified/false\" title=\"Field Goal Percentage\">FG%</a></td><td><span title=\"3-Point Field Goals Made-Attempted Per Game\">3PM-3PA</span></td><td><a href=\"http://espn.go.com/nba/statistics/player/_/stat/scoring-per-game/sort/threePointFieldGoalPct/qualified/false\" title=\"3-Point Field Goal Percentage\">3P%</a></td><td><span title=\"Free Throws Made-Attempted Per Game\">FTM-FTA</span></td><td><a href=\"http://espn.go.com/nba/statistics/player/_/stat/scoring-per-game/sort/freeThrowPct/qualified/false\" title=\"Free Throws Percentage\">FT%</a></td></tr><tr align=\"right\" class=\"oddrow player-46-6478\"><td align=\"left\">21</td><td align=\"left\"><a href=\"http://espn.go.com/nba/player/_/id/6478/nikola-vucevic\">Nikola Vucevic</a>, C</td><td align=\"left\">ORL</td><td>74</td><td>34.2</td><td class=\"sortcell\">19.3</td><td>8.5-16.3</td><td>.523</td><td>0.0-0.1</td><td>.333</td><td>2.2-2.9</td><td>.752</td></tr><tr align=\"right\" class=\"evenrow player-46-4249\"><td align=\"left\"> </td><td align=\"left\"><a href=\"http://espn.go.com/nba/player/_/id/4249/gordon-hayward\">Gordon Hayward</a>, SF</td><td align=\"left\">UTAH</td><td>76</td><td>34.4</td><td class=\"sortcell\">19.3</td><td>6.4-14.3</td><td>.445</td><td>1.6-4.3</td><td>.364</td><td>4.9-6.1</td><td>.812</td></tr><tr align=\"right\" class=\"oddrow player-46-2779\"><td align=\"left\">23</td><td align=\"left\"><a href=\"http://espn.go.com/nba/player/_/id/2779/chris-paul\">Chris Paul</a>, PG</td><td align=\"left\">LAC</td><td>82</td><td>34.8</td><td class=\"sortcell\">19.1</td><td>6.9-14.3</td><td>.485</td><td>1.7-4.3</td><td>.398</td><td>3.5-3.9</td><td>.900</td></tr><tr align=\"right\" class=\"evenrow player-46-2751\"><td align=\"left\">24</td><td align=\"left\"><a href=\"http://espn.go.com/nba/player/_/id/2751/monta-ellis\">Monta Ellis</a>, SG</td><td align=\"left\">DAL</td><td>80</td><td>33.7</td><td class=\"sortcell\">18.9</td><td>7.5-16.9</td><td>.445</td><td>1.0-3.6</td><td>.285</td><td>2.9-3.8</td><td>.752</td></tr><tr align=\"right\" class=\"oddrow player-46-996\"><td align=\"left\">25</td><td align=\"left\"><a href=\"http://espn.go.com/nba/player/_/id/996/pau-gasol\">Pau Gasol</a>, PF</td><td align=\"left\">CHI</td><td>78</td><td>34.4</td><td class=\"sortcell\">18.5</td><td>7.3-14.8</td><td>.494</td><td>0.2-0.3</td><td>.462</td><td>3.8-4.7</td><td>.803</td></tr><tr align=\"right\" class=\"evenrow player-46-2527963\"><td align=\"left\">26</td><td align=\"left\"><a href=\"http://espn.go.com/nba/player/_/id/2527963/victor-oladipo\">Victor Oladipo</a>, SG</td><td align=\"left\">ORL</td><td>72</td><td>35.7</td><td class=\"sortcell\">17.9</td><td>6.6-15.1</td><td>.436</td><td>1.2-3.4</td><td>.339</td><td>3.6-4.4</td><td>.819</td></tr><tr align=\"right\" class=\"oddrow player-46-3012\"><td align=\"left\">27</td><td align=\"left\"><a href=\"http://espn.go.com/nba/player/_/id/3012/kyle-lowry\">Kyle Lowry</a>, PG</td><td align=\"left\">TOR</td><td>70</td><td>34.5</td><td class=\"sortcell\">17.8</td><td>6.1-14.9</td><td>.412</td><td>1.9-5.6</td><td>.338</td><td>3.6-4.5</td><td>.808</td></tr><tr align=\"right\" class=\"evenrow player-46-3456\"><td align=\"left\">28</td><td align=\"left\"><a href=\"http://espn.go.com/nba/player/_/id/3456/derrick-rose\">Derrick Rose</a>, PG</td><td align=\"left\">CHI</td><td>51</td><td>30.0</td><td class=\"sortcell\">17.7</td><td>6.6-16.4</td><td>.405</td><td>1.5-5.3</td><td>.280</td><td>3.0-3.7</td><td>.813</td></tr><tr align=\"right\" class=\"oddrow player-46-4237\"><td align=\"left\">29</td><td align=\"left\"><a href=\"http://espn.go.com/nba/player/_/id/4237/john-wall\">John Wall</a>, PG</td><td align=\"left\">WSH</td><td>79</td><td>35.9</td><td class=\"sortcell\">17.6</td><td>6.6-14.8</td><td>.445</td><td>0.8-2.7</td><td>.300</td><td>3.6-4.6</td><td>.785</td></tr><tr align=\"right\" class=\"evenrow player-46-3206\"><td align=\"left\">30</td><td align=\"left\"><a href=\"http://espn.go.com/nba/player/_/id/3206/marc-gasol\">Marc Gasol</a>, C</td><td align=\"left\">MEM</td><td>81</td><td>33.2</td><td class=\"sortcell\">17.4</td><td>6.5-13.2</td><td>.494</td><td>0.0-0.2</td><td>.176</td><td>4.3-5.4</td><td>.795</td></tr><tr align=\"right\" class=\"colhead\"><td align=\"left\" style=\"width:20px;\">RK</td><td align=\"left\">PLAYER</td><td align=\"left\">TEAM</td><td><a href=\"http://espn.go.com/nba/statistics/player/_/stat/scoring-per-game/sort/gamesPlayed/qualified/false\" title=\"Games Played\">GP</a></td><td><a href=\"http://espn.go.com/nba/statistics/player/_/stat/scoring-per-game/sort/avgMinutes/qualified/false\" title=\"Minutes Per Game\">MPG</a></td><td><a href=\"http://espn.go.com/nba/statistics/player/_/stat/scoring-per-game/sort/avgPoints/qualified/false/order/false\" title=\"Points Per Game\">PTS</a></td><td><span title=\"Field Goals Made-Attempted Per Game\">FGM-FGA</span></td><td><a href=\"http://espn.go.com/nba/statistics/player/_/stat/scoring-per-game/sort/fieldGoalPct/qualified/false\" title=\"Field Goal Percentage\">FG%</a></td><td><span title=\"3-Point Field Goals Made-Attempted Per Game\">3PM-3PA</span></td><td><a href=\"http://espn.go.com/nba/statistics/player/_/stat/scoring-per-game/sort/threePointFieldGoalPct/qualified/false\" title=\"3-Point Field Goal Percentage\">3P%</a></td><td><span title=\"Free Throws Made-Attempted Per Game\">FTM-FTA</span></td><td><a href=\"http://espn.go.com/nba/statistics/player/_/stat/scoring-per-game/sort/freeThrowPct/qualified/false\" title=\"Free Throws Percentage\">FT%</a></td></tr><tr align=\"right\" class=\"oddrow player-46-6479\"><td align=\"left\">31</td><td align=\"left\"><a href=\"http://espn.go.com/nba/player/_/id/6479/kemba-walker\">Kemba Walker</a>, PG</td><td align=\"left\">CHA</td><td>62</td><td>34.2</td><td class=\"sortcell\">17.3</td><td>6.1-15.8</td><td>.385</td><td>1.4-4.5</td><td>.304</td><td>3.8-4.6</td><td>.827</td></tr><tr align=\"right\" class=\"evenrow player-46-609\"><td align=\"left\"> </td><td align=\"left\"><a href=\"http://espn.go.com/nba/player/_/id/609/dirk-nowitzki\">Dirk Nowitzki</a>, PF</td><td align=\"left\">DAL</td><td>77</td><td>29.6</td><td class=\"sortcell\">17.3</td><td>6.3-13.8</td><td>.459</td><td>1.4-3.6</td><td>.380</td><td>3.3-3.8</td><td>.882</td></tr><tr align=\"right\" class=\"oddrow player-46-3448\"><td align=\"left\">33</td><td align=\"left\"><a href=\"http://espn.go.com/nba/player/_/id/3448/brook-lopez\">Brook Lopez</a>, C</td><td align=\"left\">BKN</td><td>72</td><td>29.2</td><td class=\"sortcell\">17.2</td><td>7.0-13.7</td><td>.513</td><td>0.0-0.1</td><td>.100</td><td>3.1-3.8</td><td>.814</td></tr><tr align=\"right\" class=\"evenrow player-46-6440\"><td align=\"left\">34</td><td align=\"left\"><a href=\"http://espn.go.com/nba/player/_/id/6440/tobias-harris\">Tobias Harris</a>, SF</td><td align=\"left\">ORL</td><td>68</td><td>34.8</td><td class=\"sortcell\">17.1</td><td>6.5-14.0</td><td>.466</td><td>1.3-3.5</td><td>.364</td><td>2.8-3.6</td><td>.788</td></tr><tr align=\"right\" class=\"oddrow player-46-4238\"><td align=\"left\">35</td><td align=\"left\"><a href=\"http://espn.go.com/nba/player/_/id/4238/eric-bledsoe\">Eric Bledsoe</a>, PG</td><td align=\"left\">PHX</td><td>81</td><td>34.6</td><td class=\"sortcell\">17.0</td><td>5.8-12.9</td><td>.447</td><td>1.1-3.4</td><td>.324</td><td>4.4-5.4</td><td>.800</td></tr><tr align=\"right\" class=\"evenrow player-46-6448\"><td align=\"left\"> </td><td align=\"left\"><a href=\"http://espn.go.com/nba/player/_/id/6448/brandon-knight\">Brandon Knight</a>, PG</td><td align=\"left\">MIL/PHX</td><td>63</td><td>32.3</td><td class=\"sortcell\">17.0</td><td>6.0-14.1</td><td>.422</td><td>2.0-5.1</td><td>.389</td><td>3.1-3.5</td><td>.874</td></tr><tr align=\"right\" class=\"oddrow player-46-3059319\"><td align=\"left\">37</td><td align=\"left\"><a href=\"http://espn.go.com/nba/player/_/id/3059319/andrew-wiggins\">Andrew Wiggins</a>, SF</td><td align=\"left\">MIN</td><td>82</td><td>36.2</td><td class=\"sortcell\">16.9</td><td>6.1-13.9</td><td>.437</td><td>0.5-1.5</td><td>.310</td><td>4.3-5.7</td><td>.760</td></tr><tr align=\"right\" class=\"evenrow player-46-6630\"><td align=\"left\"> </td><td align=\"left\"><a href=\"http://espn.go.com/nba/player/_/id/6630/tony-wroten\">Tony Wroten</a>, SG</td><td align=\"left\">PHI</td><td>30</td><td>29.8</td><td class=\"sortcell\">16.9</td><td>5.8-14.5</td><td>.403</td><td>1.2-4.7</td><td>.261</td><td>4.0-6.0</td><td>.667</td></tr><tr align=\"right\" class=\"oddrow player-46-3015\"><td align=\"left\">39</td><td align=\"left\"><a href=\"http://espn.go.com/nba/player/_/id/3015/paul-millsap\">Paul Millsap</a>, PF</td><td align=\"left\">ATL</td><td>73</td><td>32.7</td><td class=\"sortcell\">16.7</td><td>6.1-12.7</td><td>.476</td><td>1.1-3.0</td><td>.356</td><td>3.5-4.6</td><td>.757</td></tr><tr align=\"right\" class=\"evenrow player-46-2389\"><td align=\"left\">40</td><td align=\"left\"><a href=\"http://espn.go.com/nba/player/_/id/2389/al-jefferson\">Al Jefferson</a>, C</td><td align=\"left\">CHA</td><td>65</td><td>30.6</td><td class=\"sortcell\">16.6</td><td>7.5-15.5</td><td>.481</td><td>0.0-0.1</td><td>.400</td><td>1.7-2.5</td><td>.655</td></tr>\n",
      "</table>\n"
     ]
    }
   ],
   "source": [
    "table = table_div.find(\"table\")\n",
    "print table"
   ]
  },
  {
   "cell_type": "markdown",
   "metadata": {},
   "source": [
    "###Searching by Attributes\n",
    "\n",
    "Now that we have the table object, we need to step through the rows.  First we'll find the header row so we can populate what the field names will be in our data.  Here we're searching for tags under the table tag whose class attritbute is \"colhead\".  "
   ]
  },
  {
   "cell_type": "code",
   "execution_count": 5,
   "metadata": {
    "collapsed": false
   },
   "outputs": [
    {
     "name": "stdout",
     "output_type": "stream",
     "text": [
      "<tr align=\"right\" class=\"colhead\">\n",
      " <td align=\"left\" style=\"width:20px;\">\n",
      "  RK\n",
      " </td>\n",
      " <td align=\"left\">\n",
      "  PLAYER\n",
      " </td>\n",
      " <td align=\"left\">\n",
      "  TEAM\n",
      " </td>\n",
      " <td>\n",
      "  <a href=\"http://espn.go.com/nba/statistics/player/_/stat/scoring-per-game/sort/gamesPlayed/qualified/false\" title=\"Games Played\">\n",
      "   GP\n",
      "  </a>\n",
      " </td>\n",
      " <td>\n",
      "  <a href=\"http://espn.go.com/nba/statistics/player/_/stat/scoring-per-game/sort/avgMinutes/qualified/false\" title=\"Minutes Per Game\">\n",
      "   MPG\n",
      "  </a>\n",
      " </td>\n",
      " <td>\n",
      "  <a href=\"http://espn.go.com/nba/statistics/player/_/stat/scoring-per-game/sort/avgPoints/qualified/false/order/false\" title=\"Points Per Game\">\n",
      "   PTS\n",
      "  </a>\n",
      " </td>\n",
      " <td>\n",
      "  <span title=\"Field Goals Made-Attempted Per Game\">\n",
      "   FGM-FGA\n",
      "  </span>\n",
      " </td>\n",
      " <td>\n",
      "  <a href=\"http://espn.go.com/nba/statistics/player/_/stat/scoring-per-game/sort/fieldGoalPct/qualified/false\" title=\"Field Goal Percentage\">\n",
      "   FG%\n",
      "  </a>\n",
      " </td>\n",
      " <td>\n",
      "  <span title=\"3-Point Field Goals Made-Attempted Per Game\">\n",
      "   3PM-3PA\n",
      "  </span>\n",
      " </td>\n",
      " <td>\n",
      "  <a href=\"http://espn.go.com/nba/statistics/player/_/stat/scoring-per-game/sort/threePointFieldGoalPct/qualified/false\" title=\"3-Point Field Goal Percentage\">\n",
      "   3P%\n",
      "  </a>\n",
      " </td>\n",
      " <td>\n",
      "  <span title=\"Free Throws Made-Attempted Per Game\">\n",
      "   FTM-FTA\n",
      "  </span>\n",
      " </td>\n",
      " <td>\n",
      "  <a href=\"http://espn.go.com/nba/statistics/player/_/stat/scoring-per-game/sort/freeThrowPct/qualified/false\" title=\"Free Throws Percentage\">\n",
      "   FT%\n",
      "  </a>\n",
      " </td>\n",
      "</tr>\n",
      "\n"
     ]
    }
   ],
   "source": [
    "table_head = table.find(attrs={\"class\":'colhead'})\n",
    "print table_head.prettify()"
   ]
  },
  {
   "cell_type": "markdown",
   "metadata": {},
   "source": [
    "Now we find the actual values by searching for the 'td' tags, which is the tag for table data."
   ]
  },
  {
   "cell_type": "code",
   "execution_count": 6,
   "metadata": {
    "collapsed": false
   },
   "outputs": [
    {
     "name": "stdout",
     "output_type": "stream",
     "text": [
      "[<td align=\"left\" style=\"width:20px;\">RK</td>, <td align=\"left\">PLAYER</td>, <td align=\"left\">TEAM</td>, <td><a href=\"http://espn.go.com/nba/statistics/player/_/stat/scoring-per-game/sort/gamesPlayed/qualified/false\" title=\"Games Played\">GP</a></td>, <td><a href=\"http://espn.go.com/nba/statistics/player/_/stat/scoring-per-game/sort/avgMinutes/qualified/false\" title=\"Minutes Per Game\">MPG</a></td>, <td><a href=\"http://espn.go.com/nba/statistics/player/_/stat/scoring-per-game/sort/avgPoints/qualified/false/order/false\" title=\"Points Per Game\">PTS</a></td>, <td><span title=\"Field Goals Made-Attempted Per Game\">FGM-FGA</span></td>, <td><a href=\"http://espn.go.com/nba/statistics/player/_/stat/scoring-per-game/sort/fieldGoalPct/qualified/false\" title=\"Field Goal Percentage\">FG%</a></td>, <td><span title=\"3-Point Field Goals Made-Attempted Per Game\">3PM-3PA</span></td>, <td><a href=\"http://espn.go.com/nba/statistics/player/_/stat/scoring-per-game/sort/threePointFieldGoalPct/qualified/false\" title=\"3-Point Field Goal Percentage\">3P%</a></td>, <td><span title=\"Free Throws Made-Attempted Per Game\">FTM-FTA</span></td>, <td><a href=\"http://espn.go.com/nba/statistics/player/_/stat/scoring-per-game/sort/freeThrowPct/qualified/false\" title=\"Free Throws Percentage\">FT%</a></td>]\n"
     ]
    }
   ],
   "source": [
    "header_cols = table_head.findAll('td')\n",
    "print header_cols"
   ]
  },
  {
   "cell_type": "markdown",
   "metadata": {},
   "source": [
    "Finally, we step through these columns and save them to a list to be used later.  We'll ignore the rank column (RK) because that doesn't give us anything we want later.  We also separate the **PLAYER** column into **PLAYER** and **POSITION**."
   ]
  },
  {
   "cell_type": "code",
   "execution_count": 7,
   "metadata": {
    "collapsed": false
   },
   "outputs": [
    {
     "name": "stdout",
     "output_type": "stream",
     "text": [
      "[u'PLAYER', 'POSITION', u'TEAM', u'GP', u'MPG', u'PTS', u'FGM-FGA', u'FG%', u'3PM-3PA', u'3P%', u'FTM-FTA', u'FT%']\n"
     ]
    }
   ],
   "source": [
    "cols = []\n",
    "for header_col in header_cols:\n",
    "    val = header_col.string\n",
    "    if val != 'RK':\n",
    "        cols.append(val)\n",
    "    if val == 'PLAYER':\n",
    "        cols.append('POSITION')\n",
    "print cols"
   ]
  },
  {
   "cell_type": "markdown",
   "metadata": {},
   "source": [
    "###Stepping Through a Table\n",
    "\n",
    "The table rows are indicated by the tag 'tr'.  Again we can find them all and iterate through them.  Within each row we iterate through the respective columns."
   ]
  },
  {
   "cell_type": "code",
   "execution_count": 8,
   "metadata": {
    "collapsed": false
   },
   "outputs": [
    {
     "name": "stdout",
     "output_type": "stream",
     "text": [
      "[<tr align=\"right\" class=\"colhead\"><td align=\"left\" style=\"width:20px;\">RK</td><td align=\"left\">PLAYER</td><td align=\"left\">TEAM</td><td><a href=\"http://espn.go.com/nba/statistics/player/_/stat/scoring-per-game/sort/gamesPlayed/qualified/false\" title=\"Games Played\">GP</a></td><td><a href=\"http://espn.go.com/nba/statistics/player/_/stat/scoring-per-game/sort/avgMinutes/qualified/false\" title=\"Minutes Per Game\">MPG</a></td><td><a href=\"http://espn.go.com/nba/statistics/player/_/stat/scoring-per-game/sort/avgPoints/qualified/false/order/false\" title=\"Points Per Game\">PTS</a></td><td><span title=\"Field Goals Made-Attempted Per Game\">FGM-FGA</span></td><td><a href=\"http://espn.go.com/nba/statistics/player/_/stat/scoring-per-game/sort/fieldGoalPct/qualified/false\" title=\"Field Goal Percentage\">FG%</a></td><td><span title=\"3-Point Field Goals Made-Attempted Per Game\">3PM-3PA</span></td><td><a href=\"http://espn.go.com/nba/statistics/player/_/stat/scoring-per-game/sort/threePointFieldGoalPct/qualified/false\" title=\"3-Point Field Goal Percentage\">3P%</a></td><td><span title=\"Free Throws Made-Attempted Per Game\">FTM-FTA</span></td><td><a href=\"http://espn.go.com/nba/statistics/player/_/stat/scoring-per-game/sort/freeThrowPct/qualified/false\" title=\"Free Throws Percentage\">FT%</a></td></tr>, <tr align=\"right\" class=\"oddrow player-46-3468\"><td align=\"left\">1</td><td align=\"left\"><a href=\"http://espn.go.com/nba/player/_/id/3468/russell-westbrook\">Russell Westbrook</a>, PG</td><td align=\"left\">OKC</td><td>67</td><td>34.4</td><td class=\"sortcell\">28.1</td><td>9.4-22.0</td><td>.426</td><td>1.3-4.3</td><td>.299</td><td>8.1-9.8</td><td>.835</td></tr>, <tr align=\"right\" class=\"evenrow player-46-3992\"><td align=\"left\">2</td><td align=\"left\"><a href=\"http://espn.go.com/nba/player/_/id/3992/james-harden\">James Harden</a>, SG</td><td align=\"left\">HOU</td><td>81</td><td>36.8</td><td class=\"sortcell\">27.4</td><td>8.0-18.1</td><td>.440</td><td>2.6-6.9</td><td>.375</td><td>8.8-10.2</td><td>.868</td></tr>, <tr align=\"right\" class=\"oddrow player-46-3202\"><td align=\"left\">3</td><td align=\"left\"><a href=\"http://espn.go.com/nba/player/_/id/3202/kevin-durant\">Kevin Durant</a>, SF</td><td align=\"left\">OKC</td><td>27</td><td>33.8</td><td class=\"sortcell\">25.4</td><td>8.8-17.3</td><td>.510</td><td>2.4-5.9</td><td>.403</td><td>5.4-6.3</td><td>.854</td></tr>, <tr align=\"right\" class=\"evenrow player-46-1966\"><td align=\"left\">4</td><td align=\"left\"><a href=\"http://espn.go.com/nba/player/_/id/1966/lebron-james\">LeBron James</a>, SF</td><td align=\"left\">CLE</td><td>69</td><td>36.1</td><td class=\"sortcell\">25.3</td><td>9.0-18.5</td><td>.488</td><td>1.7-4.9</td><td>.354</td><td>5.4-7.7</td><td>.710</td></tr>, <tr align=\"right\" class=\"oddrow player-46-6583\"><td align=\"left\">5</td><td align=\"left\"><a href=\"http://espn.go.com/nba/player/_/id/6583/anthony-davis\">Anthony Davis</a>, PF</td><td align=\"left\">NO</td><td>68</td><td>36.1</td><td class=\"sortcell\">24.4</td><td>9.4-17.6</td><td>.535</td><td>0.0-0.2</td><td>.083</td><td>5.5-6.8</td><td>.805</td></tr>, <tr align=\"right\" class=\"evenrow player-46-1975\"><td align=\"left\">6</td><td align=\"left\"><a href=\"http://espn.go.com/nba/player/_/id/1975/carmelo-anthony\">Carmelo Anthony</a>, SF</td><td align=\"left\">NY</td><td>40</td><td>35.7</td><td class=\"sortcell\">24.2</td><td>9.0-20.2</td><td>.444</td><td>1.5-4.5</td><td>.341</td><td>4.7-5.9</td><td>.797</td></tr>, <tr align=\"right\" class=\"oddrow player-46-4258\"><td align=\"left\">7</td><td align=\"left\"><a href=\"http://espn.go.com/nba/player/_/id/4258/demarcus-cousins\">DeMarcus Cousins</a>, C</td><td align=\"left\">SAC</td><td>59</td><td>34.1</td><td class=\"sortcell\">24.1</td><td>8.4-18.1</td><td>.467</td><td>0.0-0.1</td><td>.250</td><td>7.2-9.2</td><td>.782</td></tr>, <tr align=\"right\" class=\"evenrow player-46-3975\"><td align=\"left\">8</td><td align=\"left\"><a href=\"http://espn.go.com/nba/player/_/id/3975/stephen-curry\">Stephen Curry</a>, PG</td><td align=\"left\">GS</td><td>80</td><td>32.7</td><td class=\"sortcell\">23.8</td><td>8.2-16.8</td><td>.487</td><td>3.6-8.1</td><td>.443</td><td>3.9-4.2</td><td>.914</td></tr>, <tr align=\"right\" class=\"oddrow player-46-2983\"><td align=\"left\">9</td><td align=\"left\"><a href=\"http://espn.go.com/nba/player/_/id/2983/lamarcus-aldridge\">LaMarcus Aldridge</a>, PF</td><td align=\"left\">POR</td><td>71</td><td>35.4</td><td class=\"sortcell\">23.4</td><td>9.3-19.9</td><td>.466</td><td>0.5-1.5</td><td>.352</td><td>4.3-5.1</td><td>.845</td></tr>, <tr align=\"right\" class=\"evenrow player-46-110\"><td align=\"left\">10</td><td align=\"left\"><a href=\"http://espn.go.com/nba/player/_/id/110/kobe-bryant\">Kobe Bryant</a>, SG</td><td align=\"left\">LAL</td><td>35</td><td>34.5</td><td class=\"sortcell\">22.3</td><td>7.6-20.4</td><td>.373</td><td>1.5-5.3</td><td>.293</td><td>5.6-6.9</td><td>.813</td></tr>, <tr align=\"right\" class=\"colhead\"><td align=\"left\" style=\"width:20px;\">RK</td><td align=\"left\">PLAYER</td><td align=\"left\">TEAM</td><td><a href=\"http://espn.go.com/nba/statistics/player/_/stat/scoring-per-game/sort/gamesPlayed/qualified/false\" title=\"Games Played\">GP</a></td><td><a href=\"http://espn.go.com/nba/statistics/player/_/stat/scoring-per-game/sort/avgMinutes/qualified/false\" title=\"Minutes Per Game\">MPG</a></td><td><a href=\"http://espn.go.com/nba/statistics/player/_/stat/scoring-per-game/sort/avgPoints/qualified/false/order/false\" title=\"Points Per Game\">PTS</a></td><td><span title=\"Field Goals Made-Attempted Per Game\">FGM-FGA</span></td><td><a href=\"http://espn.go.com/nba/statistics/player/_/stat/scoring-per-game/sort/fieldGoalPct/qualified/false\" title=\"Field Goal Percentage\">FG%</a></td><td><span title=\"3-Point Field Goals Made-Attempted Per Game\">3PM-3PA</span></td><td><a href=\"http://espn.go.com/nba/statistics/player/_/stat/scoring-per-game/sort/threePointFieldGoalPct/qualified/false\" title=\"3-Point Field Goal Percentage\">3P%</a></td><td><span title=\"Free Throws Made-Attempted Per Game\">FTM-FTA</span></td><td><a href=\"http://espn.go.com/nba/statistics/player/_/stat/scoring-per-game/sort/freeThrowPct/qualified/false\" title=\"Free Throws Percentage\">FT%</a></td></tr>, <tr align=\"right\" class=\"oddrow player-46-3989\"><td align=\"left\">11</td><td align=\"left\"><a href=\"http://espn.go.com/nba/player/_/id/3989/blake-griffin\">Blake Griffin</a>, PF</td><td align=\"left\">LAC</td><td>67</td><td>35.2</td><td class=\"sortcell\">21.9</td><td>8.6-17.1</td><td>.502</td><td>0.1-0.4</td><td>.400</td><td>4.6-6.4</td><td>.728</td></tr>, <tr align=\"right\" class=\"evenrow player-46-6442\"><td align=\"left\">12</td><td align=\"left\"><a href=\"http://espn.go.com/nba/player/_/id/6442/kyrie-irving\">Kyrie Irving</a>, PG</td><td align=\"left\">CLE</td><td>75</td><td>36.4</td><td class=\"sortcell\">21.7</td><td>7.7-16.5</td><td>.468</td><td>2.1-5.0</td><td>.415</td><td>4.2-4.9</td><td>.863</td></tr>, <tr align=\"right\" class=\"oddrow player-46-6475\"><td align=\"left\"> </td><td align=\"left\"><a href=\"http://espn.go.com/nba/player/_/id/6475/klay-thompson\">Klay Thompson</a>, SG</td><td align=\"left\">GS</td><td>77</td><td>31.9</td><td class=\"sortcell\">21.7</td><td>7.8-16.9</td><td>.463</td><td>3.1-7.1</td><td>.439</td><td>2.9-3.3</td><td>.879</td></tr>, <tr align=\"right\" class=\"evenrow player-46-1987\"><td align=\"left\">14</td><td align=\"left\"><a href=\"http://espn.go.com/nba/player/_/id/1987/dwyane-wade\">Dwyane Wade</a>, SG</td><td align=\"left\">MIA</td><td>62</td><td>31.8</td><td class=\"sortcell\">21.5</td><td>8.2-17.5</td><td>.470</td><td>0.5-1.6</td><td>.284</td><td>4.6-6.0</td><td>.768</td></tr>, <tr align=\"right\" class=\"oddrow player-46-1977\"><td align=\"left\">15</td><td align=\"left\"><a href=\"http://espn.go.com/nba/player/_/id/1977/chris-bosh\">Chris Bosh</a>, C</td><td align=\"left\">MIA</td><td>44</td><td>35.4</td><td class=\"sortcell\">21.1</td><td>7.8-16.9</td><td>.460</td><td>1.4-3.8</td><td>.375</td><td>4.1-5.3</td><td>.772</td></tr>, <tr align=\"right\" class=\"evenrow player-46-3005\"><td align=\"left\"> </td><td align=\"left\"><a href=\"http://espn.go.com/nba/player/_/id/3005/rudy-gay\">Rudy Gay</a>, SF</td><td align=\"left\">SAC</td><td>68</td><td>35.4</td><td class=\"sortcell\">21.1</td><td>7.5-16.4</td><td>.455</td><td>1.2-3.2</td><td>.359</td><td>5.0-5.8</td><td>.858</td></tr>, <tr align=\"right\" class=\"oddrow player-46-6606\"><td align=\"left\">17</td><td align=\"left\"><a href=\"http://espn.go.com/nba/player/_/id/6606/damian-lillard\">Damian Lillard</a>, PG</td><td align=\"left\">POR</td><td>82</td><td>35.7</td><td class=\"sortcell\">21.0</td><td>7.2-16.6</td><td>.434</td><td>2.4-7.0</td><td>.343</td><td>4.2-4.9</td><td>.864</td></tr>, <tr align=\"right\" class=\"evenrow player-46-3978\"><td align=\"left\">18</td><td align=\"left\"><a href=\"http://espn.go.com/nba/player/_/id/3978/demar-derozan\">DeMar DeRozan</a>, SG</td><td align=\"left\">TOR</td><td>60</td><td>35.0</td><td class=\"sortcell\">20.1</td><td>6.8-16.5</td><td>.413</td><td>0.4-1.5</td><td>.284</td><td>6.0-7.2</td><td>.832</td></tr>, <tr align=\"right\" class=\"oddrow player-46-6430\"><td align=\"left\">19</td><td align=\"left\"><a href=\"http://espn.go.com/nba/player/_/id/6430/jimmy-butler\">Jimmy Butler</a>, SG</td><td align=\"left\">CHI</td><td>65</td><td>38.7</td><td class=\"sortcell\">20.0</td><td>6.5-14.0</td><td>.462</td><td>1.1-3.0</td><td>.378</td><td>5.9-7.1</td><td>.834</td></tr>, <tr align=\"right\" class=\"evenrow player-46-2394\"><td align=\"left\"> </td><td align=\"left\"><a href=\"http://espn.go.com/nba/player/_/id/2394/kevin-martin\">Kevin Martin</a>, SG</td><td align=\"left\">MIN</td><td>39</td><td>33.4</td><td class=\"sortcell\">20.0</td><td>6.8-16.0</td><td>.427</td><td>1.9-4.9</td><td>.393</td><td>4.4-4.9</td><td>.881</td></tr>, <tr align=\"right\" class=\"colhead\"><td align=\"left\" style=\"width:20px;\">RK</td><td align=\"left\">PLAYER</td><td align=\"left\">TEAM</td><td><a href=\"http://espn.go.com/nba/statistics/player/_/stat/scoring-per-game/sort/gamesPlayed/qualified/false\" title=\"Games Played\">GP</a></td><td><a href=\"http://espn.go.com/nba/statistics/player/_/stat/scoring-per-game/sort/avgMinutes/qualified/false\" title=\"Minutes Per Game\">MPG</a></td><td><a href=\"http://espn.go.com/nba/statistics/player/_/stat/scoring-per-game/sort/avgPoints/qualified/false/order/false\" title=\"Points Per Game\">PTS</a></td><td><span title=\"Field Goals Made-Attempted Per Game\">FGM-FGA</span></td><td><a href=\"http://espn.go.com/nba/statistics/player/_/stat/scoring-per-game/sort/fieldGoalPct/qualified/false\" title=\"Field Goal Percentage\">FG%</a></td><td><span title=\"3-Point Field Goals Made-Attempted Per Game\">3PM-3PA</span></td><td><a href=\"http://espn.go.com/nba/statistics/player/_/stat/scoring-per-game/sort/threePointFieldGoalPct/qualified/false\" title=\"3-Point Field Goal Percentage\">3P%</a></td><td><span title=\"Free Throws Made-Attempted Per Game\">FTM-FTA</span></td><td><a href=\"http://espn.go.com/nba/statistics/player/_/stat/scoring-per-game/sort/freeThrowPct/qualified/false\" title=\"Free Throws Percentage\">FT%</a></td></tr>, <tr align=\"right\" class=\"oddrow player-46-6478\"><td align=\"left\">21</td><td align=\"left\"><a href=\"http://espn.go.com/nba/player/_/id/6478/nikola-vucevic\">Nikola Vucevic</a>, C</td><td align=\"left\">ORL</td><td>74</td><td>34.2</td><td class=\"sortcell\">19.3</td><td>8.5-16.3</td><td>.523</td><td>0.0-0.1</td><td>.333</td><td>2.2-2.9</td><td>.752</td></tr>, <tr align=\"right\" class=\"evenrow player-46-4249\"><td align=\"left\"> </td><td align=\"left\"><a href=\"http://espn.go.com/nba/player/_/id/4249/gordon-hayward\">Gordon Hayward</a>, SF</td><td align=\"left\">UTAH</td><td>76</td><td>34.4</td><td class=\"sortcell\">19.3</td><td>6.4-14.3</td><td>.445</td><td>1.6-4.3</td><td>.364</td><td>4.9-6.1</td><td>.812</td></tr>, <tr align=\"right\" class=\"oddrow player-46-2779\"><td align=\"left\">23</td><td align=\"left\"><a href=\"http://espn.go.com/nba/player/_/id/2779/chris-paul\">Chris Paul</a>, PG</td><td align=\"left\">LAC</td><td>82</td><td>34.8</td><td class=\"sortcell\">19.1</td><td>6.9-14.3</td><td>.485</td><td>1.7-4.3</td><td>.398</td><td>3.5-3.9</td><td>.900</td></tr>, <tr align=\"right\" class=\"evenrow player-46-2751\"><td align=\"left\">24</td><td align=\"left\"><a href=\"http://espn.go.com/nba/player/_/id/2751/monta-ellis\">Monta Ellis</a>, SG</td><td align=\"left\">DAL</td><td>80</td><td>33.7</td><td class=\"sortcell\">18.9</td><td>7.5-16.9</td><td>.445</td><td>1.0-3.6</td><td>.285</td><td>2.9-3.8</td><td>.752</td></tr>, <tr align=\"right\" class=\"oddrow player-46-996\"><td align=\"left\">25</td><td align=\"left\"><a href=\"http://espn.go.com/nba/player/_/id/996/pau-gasol\">Pau Gasol</a>, PF</td><td align=\"left\">CHI</td><td>78</td><td>34.4</td><td class=\"sortcell\">18.5</td><td>7.3-14.8</td><td>.494</td><td>0.2-0.3</td><td>.462</td><td>3.8-4.7</td><td>.803</td></tr>, <tr align=\"right\" class=\"evenrow player-46-2527963\"><td align=\"left\">26</td><td align=\"left\"><a href=\"http://espn.go.com/nba/player/_/id/2527963/victor-oladipo\">Victor Oladipo</a>, SG</td><td align=\"left\">ORL</td><td>72</td><td>35.7</td><td class=\"sortcell\">17.9</td><td>6.6-15.1</td><td>.436</td><td>1.2-3.4</td><td>.339</td><td>3.6-4.4</td><td>.819</td></tr>, <tr align=\"right\" class=\"oddrow player-46-3012\"><td align=\"left\">27</td><td align=\"left\"><a href=\"http://espn.go.com/nba/player/_/id/3012/kyle-lowry\">Kyle Lowry</a>, PG</td><td align=\"left\">TOR</td><td>70</td><td>34.5</td><td class=\"sortcell\">17.8</td><td>6.1-14.9</td><td>.412</td><td>1.9-5.6</td><td>.338</td><td>3.6-4.5</td><td>.808</td></tr>, <tr align=\"right\" class=\"evenrow player-46-3456\"><td align=\"left\">28</td><td align=\"left\"><a href=\"http://espn.go.com/nba/player/_/id/3456/derrick-rose\">Derrick Rose</a>, PG</td><td align=\"left\">CHI</td><td>51</td><td>30.0</td><td class=\"sortcell\">17.7</td><td>6.6-16.4</td><td>.405</td><td>1.5-5.3</td><td>.280</td><td>3.0-3.7</td><td>.813</td></tr>, <tr align=\"right\" class=\"oddrow player-46-4237\"><td align=\"left\">29</td><td align=\"left\"><a href=\"http://espn.go.com/nba/player/_/id/4237/john-wall\">John Wall</a>, PG</td><td align=\"left\">WSH</td><td>79</td><td>35.9</td><td class=\"sortcell\">17.6</td><td>6.6-14.8</td><td>.445</td><td>0.8-2.7</td><td>.300</td><td>3.6-4.6</td><td>.785</td></tr>, <tr align=\"right\" class=\"evenrow player-46-3206\"><td align=\"left\">30</td><td align=\"left\"><a href=\"http://espn.go.com/nba/player/_/id/3206/marc-gasol\">Marc Gasol</a>, C</td><td align=\"left\">MEM</td><td>81</td><td>33.2</td><td class=\"sortcell\">17.4</td><td>6.5-13.2</td><td>.494</td><td>0.0-0.2</td><td>.176</td><td>4.3-5.4</td><td>.795</td></tr>, <tr align=\"right\" class=\"colhead\"><td align=\"left\" style=\"width:20px;\">RK</td><td align=\"left\">PLAYER</td><td align=\"left\">TEAM</td><td><a href=\"http://espn.go.com/nba/statistics/player/_/stat/scoring-per-game/sort/gamesPlayed/qualified/false\" title=\"Games Played\">GP</a></td><td><a href=\"http://espn.go.com/nba/statistics/player/_/stat/scoring-per-game/sort/avgMinutes/qualified/false\" title=\"Minutes Per Game\">MPG</a></td><td><a href=\"http://espn.go.com/nba/statistics/player/_/stat/scoring-per-game/sort/avgPoints/qualified/false/order/false\" title=\"Points Per Game\">PTS</a></td><td><span title=\"Field Goals Made-Attempted Per Game\">FGM-FGA</span></td><td><a href=\"http://espn.go.com/nba/statistics/player/_/stat/scoring-per-game/sort/fieldGoalPct/qualified/false\" title=\"Field Goal Percentage\">FG%</a></td><td><span title=\"3-Point Field Goals Made-Attempted Per Game\">3PM-3PA</span></td><td><a href=\"http://espn.go.com/nba/statistics/player/_/stat/scoring-per-game/sort/threePointFieldGoalPct/qualified/false\" title=\"3-Point Field Goal Percentage\">3P%</a></td><td><span title=\"Free Throws Made-Attempted Per Game\">FTM-FTA</span></td><td><a href=\"http://espn.go.com/nba/statistics/player/_/stat/scoring-per-game/sort/freeThrowPct/qualified/false\" title=\"Free Throws Percentage\">FT%</a></td></tr>, <tr align=\"right\" class=\"oddrow player-46-6479\"><td align=\"left\">31</td><td align=\"left\"><a href=\"http://espn.go.com/nba/player/_/id/6479/kemba-walker\">Kemba Walker</a>, PG</td><td align=\"left\">CHA</td><td>62</td><td>34.2</td><td class=\"sortcell\">17.3</td><td>6.1-15.8</td><td>.385</td><td>1.4-4.5</td><td>.304</td><td>3.8-4.6</td><td>.827</td></tr>, <tr align=\"right\" class=\"evenrow player-46-609\"><td align=\"left\"> </td><td align=\"left\"><a href=\"http://espn.go.com/nba/player/_/id/609/dirk-nowitzki\">Dirk Nowitzki</a>, PF</td><td align=\"left\">DAL</td><td>77</td><td>29.6</td><td class=\"sortcell\">17.3</td><td>6.3-13.8</td><td>.459</td><td>1.4-3.6</td><td>.380</td><td>3.3-3.8</td><td>.882</td></tr>, <tr align=\"right\" class=\"oddrow player-46-3448\"><td align=\"left\">33</td><td align=\"left\"><a href=\"http://espn.go.com/nba/player/_/id/3448/brook-lopez\">Brook Lopez</a>, C</td><td align=\"left\">BKN</td><td>72</td><td>29.2</td><td class=\"sortcell\">17.2</td><td>7.0-13.7</td><td>.513</td><td>0.0-0.1</td><td>.100</td><td>3.1-3.8</td><td>.814</td></tr>, <tr align=\"right\" class=\"evenrow player-46-6440\"><td align=\"left\">34</td><td align=\"left\"><a href=\"http://espn.go.com/nba/player/_/id/6440/tobias-harris\">Tobias Harris</a>, SF</td><td align=\"left\">ORL</td><td>68</td><td>34.8</td><td class=\"sortcell\">17.1</td><td>6.5-14.0</td><td>.466</td><td>1.3-3.5</td><td>.364</td><td>2.8-3.6</td><td>.788</td></tr>, <tr align=\"right\" class=\"oddrow player-46-4238\"><td align=\"left\">35</td><td align=\"left\"><a href=\"http://espn.go.com/nba/player/_/id/4238/eric-bledsoe\">Eric Bledsoe</a>, PG</td><td align=\"left\">PHX</td><td>81</td><td>34.6</td><td class=\"sortcell\">17.0</td><td>5.8-12.9</td><td>.447</td><td>1.1-3.4</td><td>.324</td><td>4.4-5.4</td><td>.800</td></tr>, <tr align=\"right\" class=\"evenrow player-46-6448\"><td align=\"left\"> </td><td align=\"left\"><a href=\"http://espn.go.com/nba/player/_/id/6448/brandon-knight\">Brandon Knight</a>, PG</td><td align=\"left\">MIL/PHX</td><td>63</td><td>32.3</td><td class=\"sortcell\">17.0</td><td>6.0-14.1</td><td>.422</td><td>2.0-5.1</td><td>.389</td><td>3.1-3.5</td><td>.874</td></tr>, <tr align=\"right\" class=\"oddrow player-46-3059319\"><td align=\"left\">37</td><td align=\"left\"><a href=\"http://espn.go.com/nba/player/_/id/3059319/andrew-wiggins\">Andrew Wiggins</a>, SF</td><td align=\"left\">MIN</td><td>82</td><td>36.2</td><td class=\"sortcell\">16.9</td><td>6.1-13.9</td><td>.437</td><td>0.5-1.5</td><td>.310</td><td>4.3-5.7</td><td>.760</td></tr>, <tr align=\"right\" class=\"evenrow player-46-6630\"><td align=\"left\"> </td><td align=\"left\"><a href=\"http://espn.go.com/nba/player/_/id/6630/tony-wroten\">Tony Wroten</a>, SG</td><td align=\"left\">PHI</td><td>30</td><td>29.8</td><td class=\"sortcell\">16.9</td><td>5.8-14.5</td><td>.403</td><td>1.2-4.7</td><td>.261</td><td>4.0-6.0</td><td>.667</td></tr>, <tr align=\"right\" class=\"oddrow player-46-3015\"><td align=\"left\">39</td><td align=\"left\"><a href=\"http://espn.go.com/nba/player/_/id/3015/paul-millsap\">Paul Millsap</a>, PF</td><td align=\"left\">ATL</td><td>73</td><td>32.7</td><td class=\"sortcell\">16.7</td><td>6.1-12.7</td><td>.476</td><td>1.1-3.0</td><td>.356</td><td>3.5-4.6</td><td>.757</td></tr>, <tr align=\"right\" class=\"evenrow player-46-2389\"><td align=\"left\">40</td><td align=\"left\"><a href=\"http://espn.go.com/nba/player/_/id/2389/al-jefferson\">Al Jefferson</a>, C</td><td align=\"left\">CHA</td><td>65</td><td>30.6</td><td class=\"sortcell\">16.6</td><td>7.5-15.5</td><td>.481</td><td>0.0-0.1</td><td>.400</td><td>1.7-2.5</td><td>.655</td></tr>]\n"
     ]
    }
   ],
   "source": [
    "table_rows = table.findAll('tr')\n",
    "print table_rows"
   ]
  },
  {
   "cell_type": "markdown",
   "metadata": {},
   "source": [
    "We will save our results in 2 different ways to demonstrate how we can handle both.  The first will be a list of dicts where the key is the field name and the value is the field value.  The second will just be a list of lists of stats with no field name values (we've already defined them earlier)."
   ]
  },
  {
   "cell_type": "code",
   "execution_count": 9,
   "metadata": {
    "collapsed": false
   },
   "outputs": [
    {
     "name": "stdout",
     "output_type": "stream",
     "text": [
      "[{u'FGM-FGA': u'9.4-22.0', u'MPG': u'34.4', u'FTM-FTA': u'8.1-9.8', u'FG%': u'.426', u'GP': u'67', u'PLAYER': u'Russell Westbrook', u'FT%': u'.835', u'TEAM': u'OKC', u'3PM-3PA': u'1.3-4.3', 'POSITION': u'PG', u'PTS': u'28.1', u'3P%': u'.299'}, {u'FGM-FGA': u'8.0-18.1', u'MPG': u'36.8', u'FTM-FTA': u'8.8-10.2', u'FG%': u'.440', u'GP': u'81', u'PLAYER': u'James Harden', u'FT%': u'.868', u'TEAM': u'HOU', u'3PM-3PA': u'2.6-6.9', 'POSITION': u'SG', u'PTS': u'27.4', u'3P%': u'.375'}, {u'FGM-FGA': u'8.8-17.3', u'MPG': u'33.8', u'FTM-FTA': u'5.4-6.3', u'FG%': u'.510', u'GP': u'27', u'PLAYER': u'Kevin Durant', u'FT%': u'.854', u'TEAM': u'OKC', u'3PM-3PA': u'2.4-5.9', 'POSITION': u'SF', u'PTS': u'25.4', u'3P%': u'.403'}, {u'FGM-FGA': u'9.0-18.5', u'MPG': u'36.1', u'FTM-FTA': u'5.4-7.7', u'FG%': u'.488', u'GP': u'69', u'PLAYER': u'LeBron James', u'FT%': u'.710', u'TEAM': u'CLE', u'3PM-3PA': u'1.7-4.9', 'POSITION': u'SF', u'PTS': u'25.3', u'3P%': u'.354'}, {u'FGM-FGA': u'9.4-17.6', u'MPG': u'36.1', u'FTM-FTA': u'5.5-6.8', u'FG%': u'.535', u'GP': u'68', u'PLAYER': u'Anthony Davis', u'FT%': u'.805', u'TEAM': u'NO', u'3PM-3PA': u'0.0-0.2', 'POSITION': u'PF', u'PTS': u'24.4', u'3P%': u'.083'}]\n"
     ]
    }
   ],
   "source": [
    "players_stats_dicts = []\n",
    "players_stats_array = []\n",
    "for row in table_rows:\n",
    "    if row.attrs['class'][0]=='colhead':\n",
    "        continue\n",
    "    player_stats = []\n",
    "    row_cols = row.find_all('td')\n",
    "    col_vals = []\n",
    "    player_col = row_cols[1]\n",
    "    player_name = player_col.find('a').string\n",
    "    player_position = player_col.contents[1]\n",
    "    player_position = player_position.split(' ')[1]\n",
    "    player_stats.append(player_name)\n",
    "    player_stats.append(player_position)\n",
    "    for i in range(2, len(row_cols)):\n",
    "        stat = row_cols[i].string\n",
    "        player_stats.append(stat)\n",
    "    players_stats_array.append(player_stats)\n",
    "    player_stats = dict(zip(cols, player_stats))\n",
    "    players_stats_dicts.append(player_stats)\n",
    "print players_stats_dicts[0:5]        "
   ]
  },
  {
   "cell_type": "markdown",
   "metadata": {},
   "source": [
    "Here we've used the zip function to combine pairs of lists into tuples, and then transformed that into a dict to get a dictionary of FIELD --> VALUE for every player in the table.\n",
    "\n",
    "Beautiful Soup has many other features, including the ability to step up, down, and sideways in the HTML tree and basically search for any tags, attributes, or values.  For more, take a look at the [Documentation](http://www.crummy.com/software/BeautifulSoup/bs4/doc/)"
   ]
  },
  {
   "cell_type": "markdown",
   "metadata": {},
   "source": [
    "##Load into Pandas\n",
    "\n",
    "Let's load our scraped data into Pandas and take a look at it.  Here is the first way we can do it, simply directly from the dictionary we defined."
   ]
  },
  {
   "cell_type": "code",
   "execution_count": 10,
   "metadata": {
    "collapsed": false
   },
   "outputs": [
    {
     "data": {
      "text/html": [
       "<div>\n",
       "<table border=\"1\" class=\"dataframe\">\n",
       "  <thead>\n",
       "    <tr style=\"text-align: right;\">\n",
       "      <th></th>\n",
       "      <th>3P%</th>\n",
       "      <th>3PM-3PA</th>\n",
       "      <th>FG%</th>\n",
       "      <th>FGM-FGA</th>\n",
       "      <th>FT%</th>\n",
       "      <th>FTM-FTA</th>\n",
       "      <th>GP</th>\n",
       "      <th>MPG</th>\n",
       "      <th>PLAYER</th>\n",
       "      <th>POSITION</th>\n",
       "      <th>PTS</th>\n",
       "      <th>TEAM</th>\n",
       "    </tr>\n",
       "  </thead>\n",
       "  <tbody>\n",
       "    <tr>\n",
       "      <th>0</th>\n",
       "      <td>.299</td>\n",
       "      <td>1.3-4.3</td>\n",
       "      <td>.426</td>\n",
       "      <td>9.4-22.0</td>\n",
       "      <td>.835</td>\n",
       "      <td>8.1-9.8</td>\n",
       "      <td>67</td>\n",
       "      <td>34.4</td>\n",
       "      <td>Russell Westbrook</td>\n",
       "      <td>PG</td>\n",
       "      <td>28.1</td>\n",
       "      <td>OKC</td>\n",
       "    </tr>\n",
       "    <tr>\n",
       "      <th>1</th>\n",
       "      <td>.375</td>\n",
       "      <td>2.6-6.9</td>\n",
       "      <td>.440</td>\n",
       "      <td>8.0-18.1</td>\n",
       "      <td>.868</td>\n",
       "      <td>8.8-10.2</td>\n",
       "      <td>81</td>\n",
       "      <td>36.8</td>\n",
       "      <td>James Harden</td>\n",
       "      <td>SG</td>\n",
       "      <td>27.4</td>\n",
       "      <td>HOU</td>\n",
       "    </tr>\n",
       "    <tr>\n",
       "      <th>2</th>\n",
       "      <td>.403</td>\n",
       "      <td>2.4-5.9</td>\n",
       "      <td>.510</td>\n",
       "      <td>8.8-17.3</td>\n",
       "      <td>.854</td>\n",
       "      <td>5.4-6.3</td>\n",
       "      <td>27</td>\n",
       "      <td>33.8</td>\n",
       "      <td>Kevin Durant</td>\n",
       "      <td>SF</td>\n",
       "      <td>25.4</td>\n",
       "      <td>OKC</td>\n",
       "    </tr>\n",
       "    <tr>\n",
       "      <th>3</th>\n",
       "      <td>.354</td>\n",
       "      <td>1.7-4.9</td>\n",
       "      <td>.488</td>\n",
       "      <td>9.0-18.5</td>\n",
       "      <td>.710</td>\n",
       "      <td>5.4-7.7</td>\n",
       "      <td>69</td>\n",
       "      <td>36.1</td>\n",
       "      <td>LeBron James</td>\n",
       "      <td>SF</td>\n",
       "      <td>25.3</td>\n",
       "      <td>CLE</td>\n",
       "    </tr>\n",
       "    <tr>\n",
       "      <th>4</th>\n",
       "      <td>.083</td>\n",
       "      <td>0.0-0.2</td>\n",
       "      <td>.535</td>\n",
       "      <td>9.4-17.6</td>\n",
       "      <td>.805</td>\n",
       "      <td>5.5-6.8</td>\n",
       "      <td>68</td>\n",
       "      <td>36.1</td>\n",
       "      <td>Anthony Davis</td>\n",
       "      <td>PF</td>\n",
       "      <td>24.4</td>\n",
       "      <td>NO</td>\n",
       "    </tr>\n",
       "  </tbody>\n",
       "</table>\n",
       "</div>"
      ],
      "text/plain": [
       "    3P%  3PM-3PA   FG%   FGM-FGA   FT%   FTM-FTA  GP   MPG             PLAYER  \\\n",
       "0  .299  1.3-4.3  .426  9.4-22.0  .835   8.1-9.8  67  34.4  Russell Westbrook   \n",
       "1  .375  2.6-6.9  .440  8.0-18.1  .868  8.8-10.2  81  36.8       James Harden   \n",
       "2  .403  2.4-5.9  .510  8.8-17.3  .854   5.4-6.3  27  33.8       Kevin Durant   \n",
       "3  .354  1.7-4.9  .488  9.0-18.5  .710   5.4-7.7  69  36.1       LeBron James   \n",
       "4  .083  0.0-0.2  .535  9.4-17.6  .805   5.5-6.8  68  36.1      Anthony Davis   \n",
       "\n",
       "  POSITION   PTS TEAM  \n",
       "0       PG  28.1  OKC  \n",
       "1       SG  27.4  HOU  \n",
       "2       SF  25.4  OKC  \n",
       "3       SF  25.3  CLE  \n",
       "4       PF  24.4   NO  "
      ]
     },
     "execution_count": 10,
     "metadata": {},
     "output_type": "execute_result"
    }
   ],
   "source": [
    "import pandas as pd\n",
    "import numpy as np\n",
    "\n",
    "df = pd.DataFrame.from_dict(players_stats_dicts)\n",
    "df.head()"
   ]
  },
  {
   "cell_type": "markdown",
   "metadata": {},
   "source": [
    "Now here is a 2nd way we can do it.  We convert the 2D stats array into a numpy array and create a Pandas dataframe from it along with the list of column headers we defined earlier."
   ]
  },
  {
   "cell_type": "code",
   "execution_count": 11,
   "metadata": {
    "collapsed": false
   },
   "outputs": [
    {
     "data": {
      "text/html": [
       "<div>\n",
       "<table border=\"1\" class=\"dataframe\">\n",
       "  <thead>\n",
       "    <tr style=\"text-align: right;\">\n",
       "      <th></th>\n",
       "      <th>PLAYER</th>\n",
       "      <th>POSITION</th>\n",
       "      <th>TEAM</th>\n",
       "      <th>GP</th>\n",
       "      <th>MPG</th>\n",
       "      <th>PTS</th>\n",
       "      <th>FGM-FGA</th>\n",
       "      <th>FG%</th>\n",
       "      <th>3PM-3PA</th>\n",
       "      <th>3P%</th>\n",
       "      <th>FTM-FTA</th>\n",
       "      <th>FT%</th>\n",
       "    </tr>\n",
       "  </thead>\n",
       "  <tbody>\n",
       "    <tr>\n",
       "      <th>0</th>\n",
       "      <td>Russell Westbrook</td>\n",
       "      <td>PG</td>\n",
       "      <td>OKC</td>\n",
       "      <td>67</td>\n",
       "      <td>34.4</td>\n",
       "      <td>28.1</td>\n",
       "      <td>9.4-22.0</td>\n",
       "      <td>.426</td>\n",
       "      <td>1.3-4.3</td>\n",
       "      <td>.299</td>\n",
       "      <td>8.1-9.8</td>\n",
       "      <td>.835</td>\n",
       "    </tr>\n",
       "    <tr>\n",
       "      <th>1</th>\n",
       "      <td>James Harden</td>\n",
       "      <td>SG</td>\n",
       "      <td>HOU</td>\n",
       "      <td>81</td>\n",
       "      <td>36.8</td>\n",
       "      <td>27.4</td>\n",
       "      <td>8.0-18.1</td>\n",
       "      <td>.440</td>\n",
       "      <td>2.6-6.9</td>\n",
       "      <td>.375</td>\n",
       "      <td>8.8-10.2</td>\n",
       "      <td>.868</td>\n",
       "    </tr>\n",
       "    <tr>\n",
       "      <th>2</th>\n",
       "      <td>Kevin Durant</td>\n",
       "      <td>SF</td>\n",
       "      <td>OKC</td>\n",
       "      <td>27</td>\n",
       "      <td>33.8</td>\n",
       "      <td>25.4</td>\n",
       "      <td>8.8-17.3</td>\n",
       "      <td>.510</td>\n",
       "      <td>2.4-5.9</td>\n",
       "      <td>.403</td>\n",
       "      <td>5.4-6.3</td>\n",
       "      <td>.854</td>\n",
       "    </tr>\n",
       "    <tr>\n",
       "      <th>3</th>\n",
       "      <td>LeBron James</td>\n",
       "      <td>SF</td>\n",
       "      <td>CLE</td>\n",
       "      <td>69</td>\n",
       "      <td>36.1</td>\n",
       "      <td>25.3</td>\n",
       "      <td>9.0-18.5</td>\n",
       "      <td>.488</td>\n",
       "      <td>1.7-4.9</td>\n",
       "      <td>.354</td>\n",
       "      <td>5.4-7.7</td>\n",
       "      <td>.710</td>\n",
       "    </tr>\n",
       "    <tr>\n",
       "      <th>4</th>\n",
       "      <td>Anthony Davis</td>\n",
       "      <td>PF</td>\n",
       "      <td>NO</td>\n",
       "      <td>68</td>\n",
       "      <td>36.1</td>\n",
       "      <td>24.4</td>\n",
       "      <td>9.4-17.6</td>\n",
       "      <td>.535</td>\n",
       "      <td>0.0-0.2</td>\n",
       "      <td>.083</td>\n",
       "      <td>5.5-6.8</td>\n",
       "      <td>.805</td>\n",
       "    </tr>\n",
       "  </tbody>\n",
       "</table>\n",
       "</div>"
      ],
      "text/plain": [
       "              PLAYER POSITION TEAM  GP   MPG   PTS   FGM-FGA   FG%  3PM-3PA  \\\n",
       "0  Russell Westbrook       PG  OKC  67  34.4  28.1  9.4-22.0  .426  1.3-4.3   \n",
       "1       James Harden       SG  HOU  81  36.8  27.4  8.0-18.1  .440  2.6-6.9   \n",
       "2       Kevin Durant       SF  OKC  27  33.8  25.4  8.8-17.3  .510  2.4-5.9   \n",
       "3       LeBron James       SF  CLE  69  36.1  25.3  9.0-18.5  .488  1.7-4.9   \n",
       "4      Anthony Davis       PF   NO  68  36.1  24.4  9.4-17.6  .535  0.0-0.2   \n",
       "\n",
       "    3P%   FTM-FTA   FT%  \n",
       "0  .299   8.1-9.8  .835  \n",
       "1  .375  8.8-10.2  .868  \n",
       "2  .403   5.4-6.3  .854  \n",
       "3  .354   5.4-7.7  .710  \n",
       "4  .083   5.5-6.8  .805  "
      ]
     },
     "execution_count": 11,
     "metadata": {},
     "output_type": "execute_result"
    }
   ],
   "source": [
    "np_array = np.array(players_stats_array)\n",
    "df = pd.DataFrame(np_array, columns=cols)\n",
    "df.head()"
   ]
  },
  {
   "cell_type": "markdown",
   "metadata": {},
   "source": [
    "##Exercise\n",
    "\n",
    "The goal of this exercise is to combine the scoring and assists statistics for every player in the NBA in 2014-2015.  The end result will have them in a pandas dataframe with the fields from both pages for every player.\n",
    "\n",
    "The general steps should be as follows:\n",
    "- Create a function get_cols that retrieves the names of the header columns given a table element (skip the ranks, split the positions)\n",
    "- Create a function get_data that retrieves the actual table data given a table element (skip the ranks, split the positions).  You can use either the dict approach or the numpy array approach.\n",
    "- Write a python loop to loop through the various pages and call these functions on the appropriate urls so that you can retrieve every player (rather than just the top few).\n",
    "- Repeat the above on both the scoring and assists URLs to get a pandas dataframe for both of them\n",
    "- Use the pandas.DataFrame.join() function to join your 2 pandas dataframes together and get a total result"
   ]
  },
  {
   "cell_type": "markdown",
   "metadata": {},
   "source": [
    "### Function get_cols that grabs the column names [skips the rank column name, and splits the positions]"
   ]
  },
  {
   "cell_type": "code",
   "execution_count": 12,
   "metadata": {
    "collapsed": true
   },
   "outputs": [],
   "source": [
    "def get_cols(table):\n",
    "    table_head = table.find(attrs={\"class\":'colhead'})\n",
    "    header_cols = table_head.findAll('td')\n",
    "    cols = []\n",
    "    for header_col in header_cols:\n",
    "        val = header_col.string\n",
    "        if val != 'RK':\n",
    "            cols.append(val)\n",
    "        if val == 'PLAYER':\n",
    "            cols.append('POSITION')\n",
    "    return cols"
   ]
  },
  {
   "cell_type": "markdown",
   "metadata": {},
   "source": [
    "### Function get_data returns array with the actual table data"
   ]
  },
  {
   "cell_type": "code",
   "execution_count": 13,
   "metadata": {
    "collapsed": true
   },
   "outputs": [],
   "source": [
    "def get_data(table):\n",
    "    table_rows = table.findAll('tr')\n",
    "    players_stats_array = []\n",
    "    for row in table_rows:\n",
    "        if row.attrs['class'][0]=='colhead':\n",
    "            continue\n",
    "        player_stats = []\n",
    "        row_cols = row.find_all('td')\n",
    "        col_vals = []\n",
    "        player_col = row_cols[1]\n",
    "        player_name = player_col.find('a').string\n",
    "        player_position = player_col.contents[1]\n",
    "        player_position = player_position.split(' ')[1]\n",
    "        player_stats.append(player_name)\n",
    "        player_stats.append(player_position)\n",
    "        for i in range(2, len(row_cols)):\n",
    "            stat = row_cols[i].string\n",
    "            player_stats.append(stat)\n",
    "        players_stats_array.append(player_stats)\n",
    "    return players_stats_array"
   ]
  },
  {
   "cell_type": "markdown",
   "metadata": {},
   "source": [
    "### Get the final page number"
   ]
  },
  {
   "cell_type": "code",
   "execution_count": 46,
   "metadata": {
    "collapsed": false
   },
   "outputs": [],
   "source": [
    "final_page = int(soup.find(class_='page-numbers').contents[0].split(' of ')[-1])"
   ]
  },
  {
   "cell_type": "markdown",
   "metadata": {},
   "source": [
    "### Populate the data in an array"
   ]
  },
  {
   "cell_type": "code",
   "execution_count": 47,
   "metadata": {
    "collapsed": false
   },
   "outputs": [],
   "source": [
    "Final_data=[]\n",
    "counter=1\n",
    "for i in range(final_page):\n",
    "    url= 'http://espn.go.com/nba/statistics/player/_/stat/scoring-per-game/sort/avgPoints/qualified/false/count/{}'.format(counter)\n",
    "    counter+=40\n",
    "    page = urllib2.urlopen(url).read()\n",
    "    soup = BeautifulSoup(page)\n",
    "    Final_data.extend(get_data(soup.find(id='my-players-table').find(\"table\")))\n",
    "    "
   ]
  },
  {
   "cell_type": "markdown",
   "metadata": {},
   "source": [
    "### Place the data in a pandas DataFrame"
   ]
  },
  {
   "cell_type": "code",
   "execution_count": 48,
   "metadata": {
    "collapsed": false
   },
   "outputs": [
    {
     "data": {
      "text/html": [
       "<div>\n",
       "<table border=\"1\" class=\"dataframe\">\n",
       "  <thead>\n",
       "    <tr style=\"text-align: right;\">\n",
       "      <th></th>\n",
       "      <th>PLAYER</th>\n",
       "      <th>POSITION</th>\n",
       "      <th>TEAM</th>\n",
       "      <th>GP</th>\n",
       "      <th>MPG</th>\n",
       "      <th>PTS</th>\n",
       "      <th>FGM-FGA</th>\n",
       "      <th>FG%</th>\n",
       "      <th>3PM-3PA</th>\n",
       "      <th>3P%</th>\n",
       "      <th>FTM-FTA</th>\n",
       "      <th>FT%</th>\n",
       "    </tr>\n",
       "  </thead>\n",
       "  <tbody>\n",
       "    <tr>\n",
       "      <th>487</th>\n",
       "      <td>Malcolm Lee</td>\n",
       "      <td>SG</td>\n",
       "      <td>PHI</td>\n",
       "      <td>1</td>\n",
       "      <td>2.0</td>\n",
       "      <td>0.0</td>\n",
       "      <td>0.0-1.0</td>\n",
       "      <td>.000</td>\n",
       "      <td>0.0-0.0</td>\n",
       "      <td>.000</td>\n",
       "      <td>0.0-0.0</td>\n",
       "      <td>.000</td>\n",
       "    </tr>\n",
       "    <tr>\n",
       "      <th>488</th>\n",
       "      <td>Kalin Lucas</td>\n",
       "      <td>PG</td>\n",
       "      <td>MEM</td>\n",
       "      <td>1</td>\n",
       "      <td>6.0</td>\n",
       "      <td>0.0</td>\n",
       "      <td>0.0-1.0</td>\n",
       "      <td>.000</td>\n",
       "      <td>0.0-0.0</td>\n",
       "      <td>.000</td>\n",
       "      <td>0.0-0.0</td>\n",
       "      <td>.000</td>\n",
       "    </tr>\n",
       "    <tr>\n",
       "      <th>489</th>\n",
       "      <td>Seth Curry</td>\n",
       "      <td>SG</td>\n",
       "      <td>PHX</td>\n",
       "      <td>2</td>\n",
       "      <td>4.0</td>\n",
       "      <td>0.0</td>\n",
       "      <td>0.0-1.5</td>\n",
       "      <td>.000</td>\n",
       "      <td>0.0-0.5</td>\n",
       "      <td>.000</td>\n",
       "      <td>0.0-0.0</td>\n",
       "      <td>.000</td>\n",
       "    </tr>\n",
       "    <tr>\n",
       "      <th>490</th>\n",
       "      <td>David Wear</td>\n",
       "      <td>PF</td>\n",
       "      <td>SAC</td>\n",
       "      <td>2</td>\n",
       "      <td>3.5</td>\n",
       "      <td>0.0</td>\n",
       "      <td>0.0-1.0</td>\n",
       "      <td>.000</td>\n",
       "      <td>0.0-0.5</td>\n",
       "      <td>.000</td>\n",
       "      <td>0.0-0.0</td>\n",
       "      <td>.000</td>\n",
       "    </tr>\n",
       "    <tr>\n",
       "      <th>491</th>\n",
       "      <td>Jerrelle Benimon</td>\n",
       "      <td>PF</td>\n",
       "      <td>UTAH</td>\n",
       "      <td>2</td>\n",
       "      <td>1.5</td>\n",
       "      <td>0.0</td>\n",
       "      <td>0.0-0.0</td>\n",
       "      <td>.000</td>\n",
       "      <td>0.0-0.0</td>\n",
       "      <td>.000</td>\n",
       "      <td>0.0-0.0</td>\n",
       "      <td>.000</td>\n",
       "    </tr>\n",
       "  </tbody>\n",
       "</table>\n",
       "</div>"
      ],
      "text/plain": [
       "               PLAYER POSITION  TEAM GP  MPG  PTS  FGM-FGA   FG%  3PM-3PA  \\\n",
       "487       Malcolm Lee       SG   PHI  1  2.0  0.0  0.0-1.0  .000  0.0-0.0   \n",
       "488       Kalin Lucas       PG   MEM  1  6.0  0.0  0.0-1.0  .000  0.0-0.0   \n",
       "489        Seth Curry       SG   PHX  2  4.0  0.0  0.0-1.5  .000  0.0-0.5   \n",
       "490        David Wear       PF   SAC  2  3.5  0.0  0.0-1.0  .000  0.0-0.5   \n",
       "491  Jerrelle Benimon       PF  UTAH  2  1.5  0.0  0.0-0.0  .000  0.0-0.0   \n",
       "\n",
       "      3P%  FTM-FTA   FT%  \n",
       "487  .000  0.0-0.0  .000  \n",
       "488  .000  0.0-0.0  .000  \n",
       "489  .000  0.0-0.0  .000  \n",
       "490  .000  0.0-0.0  .000  \n",
       "491  .000  0.0-0.0  .000  "
      ]
     },
     "execution_count": 48,
     "metadata": {},
     "output_type": "execute_result"
    }
   ],
   "source": [
    "np_array_final = np.array(Final_data)\n",
    "df_final = pd.DataFrame(np_array_final, columns=cols)\n",
    "df_final.tail()"
   ]
  },
  {
   "cell_type": "markdown",
   "metadata": {},
   "source": [
    "### Repeat Steps for scoring and assists data"
   ]
  },
  {
   "cell_type": "code",
   "execution_count": 49,
   "metadata": {
    "collapsed": false
   },
   "outputs": [],
   "source": [
    "scoring_data = []\n",
    "counter=1\n",
    "for i in range(final_page):\n",
    "    url= 'http://espn.go.com/nba/statistics/player/_/stat/scoring/qualified/false/count/{}'.format(counter)\n",
    "    counter+=40\n",
    "    page = urllib2.urlopen(url).read()\n",
    "    soup = BeautifulSoup(page)\n",
    "    scoring_data.extend(get_data(soup.find(id='my-players-table').find(\"table\")))"
   ]
  },
  {
   "cell_type": "code",
   "execution_count": 50,
   "metadata": {
    "collapsed": false
   },
   "outputs": [
    {
     "data": {
      "text/html": [
       "<div>\n",
       "<table border=\"1\" class=\"dataframe\">\n",
       "  <thead>\n",
       "    <tr style=\"text-align: right;\">\n",
       "      <th></th>\n",
       "      <th>PLAYER</th>\n",
       "      <th>POSITION</th>\n",
       "      <th>TEAM</th>\n",
       "      <th>GP</th>\n",
       "      <th>MPG</th>\n",
       "      <th>PTS</th>\n",
       "      <th>FGM-FGA</th>\n",
       "      <th>FG%</th>\n",
       "      <th>3PM-3PA</th>\n",
       "      <th>3P%</th>\n",
       "      <th>FTM-FTA</th>\n",
       "      <th>FT%</th>\n",
       "    </tr>\n",
       "  </thead>\n",
       "  <tbody>\n",
       "    <tr>\n",
       "      <th>487</th>\n",
       "      <td>Malcolm Lee</td>\n",
       "      <td>SG</td>\n",
       "      <td>PHI</td>\n",
       "      <td>1</td>\n",
       "      <td>2.0</td>\n",
       "      <td>0</td>\n",
       "      <td>0-1</td>\n",
       "      <td>.000</td>\n",
       "      <td>0-0</td>\n",
       "      <td>.000</td>\n",
       "      <td>0-0</td>\n",
       "      <td>.000</td>\n",
       "    </tr>\n",
       "    <tr>\n",
       "      <th>488</th>\n",
       "      <td>Kalin Lucas</td>\n",
       "      <td>PG</td>\n",
       "      <td>MEM</td>\n",
       "      <td>1</td>\n",
       "      <td>6.0</td>\n",
       "      <td>0</td>\n",
       "      <td>0-1</td>\n",
       "      <td>.000</td>\n",
       "      <td>0-0</td>\n",
       "      <td>.000</td>\n",
       "      <td>0-0</td>\n",
       "      <td>.000</td>\n",
       "    </tr>\n",
       "    <tr>\n",
       "      <th>489</th>\n",
       "      <td>Seth Curry</td>\n",
       "      <td>SG</td>\n",
       "      <td>PHX</td>\n",
       "      <td>2</td>\n",
       "      <td>4.0</td>\n",
       "      <td>0</td>\n",
       "      <td>0-3</td>\n",
       "      <td>.000</td>\n",
       "      <td>0-1</td>\n",
       "      <td>.000</td>\n",
       "      <td>0-0</td>\n",
       "      <td>.000</td>\n",
       "    </tr>\n",
       "    <tr>\n",
       "      <th>490</th>\n",
       "      <td>David Wear</td>\n",
       "      <td>PF</td>\n",
       "      <td>SAC</td>\n",
       "      <td>2</td>\n",
       "      <td>3.5</td>\n",
       "      <td>0</td>\n",
       "      <td>0-2</td>\n",
       "      <td>.000</td>\n",
       "      <td>0-1</td>\n",
       "      <td>.000</td>\n",
       "      <td>0-0</td>\n",
       "      <td>.000</td>\n",
       "    </tr>\n",
       "    <tr>\n",
       "      <th>491</th>\n",
       "      <td>Jerrelle Benimon</td>\n",
       "      <td>PF</td>\n",
       "      <td>UTAH</td>\n",
       "      <td>2</td>\n",
       "      <td>1.5</td>\n",
       "      <td>0</td>\n",
       "      <td>0-0</td>\n",
       "      <td>.000</td>\n",
       "      <td>0-0</td>\n",
       "      <td>.000</td>\n",
       "      <td>0-0</td>\n",
       "      <td>.000</td>\n",
       "    </tr>\n",
       "  </tbody>\n",
       "</table>\n",
       "</div>"
      ],
      "text/plain": [
       "               PLAYER POSITION  TEAM GP  MPG PTS FGM-FGA   FG% 3PM-3PA   3P%  \\\n",
       "487       Malcolm Lee       SG   PHI  1  2.0   0     0-1  .000     0-0  .000   \n",
       "488       Kalin Lucas       PG   MEM  1  6.0   0     0-1  .000     0-0  .000   \n",
       "489        Seth Curry       SG   PHX  2  4.0   0     0-3  .000     0-1  .000   \n",
       "490        David Wear       PF   SAC  2  3.5   0     0-2  .000     0-1  .000   \n",
       "491  Jerrelle Benimon       PF  UTAH  2  1.5   0     0-0  .000     0-0  .000   \n",
       "\n",
       "    FTM-FTA   FT%  \n",
       "487     0-0  .000  \n",
       "488     0-0  .000  \n",
       "489     0-0  .000  \n",
       "490     0-0  .000  \n",
       "491     0-0  .000  "
      ]
     },
     "execution_count": 50,
     "metadata": {},
     "output_type": "execute_result"
    }
   ],
   "source": [
    "np_scoring_array = np.array(scoring_data)\n",
    "df_scoring = pd.DataFrame(np_scoring_array, columns=cols)\n",
    "df_scoring.tail()"
   ]
  },
  {
   "cell_type": "code",
   "execution_count": 52,
   "metadata": {
    "collapsed": true
   },
   "outputs": [],
   "source": [
    "assists_data = []\n",
    "counter=1\n",
    "for i in range(final_page):\n",
    "    url= 'http://espn.go.com/nba/statistics/player/_/stat/assists/qualified/false/count/{}'.format(counter)\n",
    "    counter+=40\n",
    "    page = urllib2.urlopen(url).read()\n",
    "    soup = BeautifulSoup(page)\n",
    "    assists_data.extend(get_data(soup.find(id='my-players-table').find(\"table\")))\n"
   ]
  },
  {
   "cell_type": "code",
   "execution_count": 61,
   "metadata": {
    "collapsed": false
   },
   "outputs": [
    {
     "data": {
      "text/html": [
       "<div>\n",
       "<table border=\"1\" class=\"dataframe\">\n",
       "  <thead>\n",
       "    <tr style=\"text-align: right;\">\n",
       "      <th></th>\n",
       "      <th>PLAYER</th>\n",
       "      <th>POSITION</th>\n",
       "      <th>TEAM</th>\n",
       "      <th>GP</th>\n",
       "      <th>MPG</th>\n",
       "      <th>AST</th>\n",
       "      <th>APG</th>\n",
       "      <th>TO</th>\n",
       "      <th>TOPG</th>\n",
       "      <th>AP48M</th>\n",
       "      <th>AST/TO</th>\n",
       "    </tr>\n",
       "  </thead>\n",
       "  <tbody>\n",
       "    <tr>\n",
       "      <th>487</th>\n",
       "      <td>Jerrelle Benimon</td>\n",
       "      <td>PF</td>\n",
       "      <td>UTAH</td>\n",
       "      <td>2</td>\n",
       "      <td>1.5</td>\n",
       "      <td>0</td>\n",
       "      <td>0.0</td>\n",
       "      <td>1</td>\n",
       "      <td>0.5</td>\n",
       "      <td>0.0</td>\n",
       "      <td>0.00</td>\n",
       "    </tr>\n",
       "    <tr>\n",
       "      <th>488</th>\n",
       "      <td>Eric Moreland</td>\n",
       "      <td>PF</td>\n",
       "      <td>SAC</td>\n",
       "      <td>3</td>\n",
       "      <td>0.7</td>\n",
       "      <td>0</td>\n",
       "      <td>0.0</td>\n",
       "      <td>0</td>\n",
       "      <td>0.0</td>\n",
       "      <td>0.0</td>\n",
       "      <td>0.00</td>\n",
       "    </tr>\n",
       "    <tr>\n",
       "      <th>489</th>\n",
       "      <td>Miroslav Raduljica</td>\n",
       "      <td>C</td>\n",
       "      <td>MIN</td>\n",
       "      <td>5</td>\n",
       "      <td>4.6</td>\n",
       "      <td>0</td>\n",
       "      <td>0.0</td>\n",
       "      <td>2</td>\n",
       "      <td>0.4</td>\n",
       "      <td>0.0</td>\n",
       "      <td>0.00</td>\n",
       "    </tr>\n",
       "    <tr>\n",
       "      <th>490</th>\n",
       "      <td>Julius Randle</td>\n",
       "      <td>PF</td>\n",
       "      <td>LAL</td>\n",
       "      <td>1</td>\n",
       "      <td>14.0</td>\n",
       "      <td>0</td>\n",
       "      <td>0.0</td>\n",
       "      <td>1</td>\n",
       "      <td>1.0</td>\n",
       "      <td>0.0</td>\n",
       "      <td>0.00</td>\n",
       "    </tr>\n",
       "    <tr>\n",
       "      <th>491</th>\n",
       "      <td>Bruno Caboclo</td>\n",
       "      <td>SF</td>\n",
       "      <td>TOR</td>\n",
       "      <td>8</td>\n",
       "      <td>2.9</td>\n",
       "      <td>0</td>\n",
       "      <td>0.0</td>\n",
       "      <td>4</td>\n",
       "      <td>0.5</td>\n",
       "      <td>0.0</td>\n",
       "      <td>0.00</td>\n",
       "    </tr>\n",
       "  </tbody>\n",
       "</table>\n",
       "</div>"
      ],
      "text/plain": [
       "                 PLAYER POSITION  TEAM GP   MPG AST  APG TO TOPG AP48M AST/TO\n",
       "487    Jerrelle Benimon       PF  UTAH  2   1.5   0  0.0  1  0.5   0.0   0.00\n",
       "488       Eric Moreland       PF   SAC  3   0.7   0  0.0  0  0.0   0.0   0.00\n",
       "489  Miroslav Raduljica        C   MIN  5   4.6   0  0.0  2  0.4   0.0   0.00\n",
       "490       Julius Randle       PF   LAL  1  14.0   0  0.0  1  1.0   0.0   0.00\n",
       "491       Bruno Caboclo       SF   TOR  8   2.9   0  0.0  4  0.5   0.0   0.00"
      ]
     },
     "execution_count": 61,
     "metadata": {},
     "output_type": "execute_result"
    }
   ],
   "source": [
    "col_assists=['PLAYER','POSITION','TEAM','GP','MPG','AST','APG','TO','TOPG','AP48M','AST/TO']\n",
    "np_assists_array = np.array(assists_data)\n",
    "df_assists = pd.DataFrame(np_assists_array, columns=col_assists)\n",
    "df_assists.tail()"
   ]
  },
  {
   "cell_type": "markdown",
   "metadata": {},
   "source": [
    "### Joining the two dataframes"
   ]
  },
  {
   "cell_type": "code",
   "execution_count": 65,
   "metadata": {
    "collapsed": false
   },
   "outputs": [],
   "source": [
    "df_joined= df_scoring.merge(df_assists)"
   ]
  },
  {
   "cell_type": "code",
   "execution_count": 67,
   "metadata": {
    "collapsed": false
   },
   "outputs": [
    {
     "data": {
      "text/html": [
       "<div>\n",
       "<table border=\"1\" class=\"dataframe\">\n",
       "  <thead>\n",
       "    <tr style=\"text-align: right;\">\n",
       "      <th></th>\n",
       "      <th>PLAYER</th>\n",
       "      <th>POSITION</th>\n",
       "      <th>TEAM</th>\n",
       "      <th>GP</th>\n",
       "      <th>MPG</th>\n",
       "      <th>PTS</th>\n",
       "      <th>FGM-FGA</th>\n",
       "      <th>FG%</th>\n",
       "      <th>3PM-3PA</th>\n",
       "      <th>3P%</th>\n",
       "      <th>FTM-FTA</th>\n",
       "      <th>FT%</th>\n",
       "      <th>AST</th>\n",
       "      <th>APG</th>\n",
       "      <th>TO</th>\n",
       "      <th>TOPG</th>\n",
       "      <th>AP48M</th>\n",
       "      <th>AST/TO</th>\n",
       "    </tr>\n",
       "  </thead>\n",
       "  <tbody>\n",
       "    <tr>\n",
       "      <th>0</th>\n",
       "      <td>James Harden</td>\n",
       "      <td>SG</td>\n",
       "      <td>HOU</td>\n",
       "      <td>81</td>\n",
       "      <td>36.8</td>\n",
       "      <td>2217</td>\n",
       "      <td>647-1470</td>\n",
       "      <td>.440</td>\n",
       "      <td>208-555</td>\n",
       "      <td>.375</td>\n",
       "      <td>715-824</td>\n",
       "      <td>.868</td>\n",
       "      <td>565</td>\n",
       "      <td>7.0</td>\n",
       "      <td>321</td>\n",
       "      <td>4.0</td>\n",
       "      <td>9.1</td>\n",
       "      <td>1.76</td>\n",
       "    </tr>\n",
       "    <tr>\n",
       "      <th>1</th>\n",
       "      <td>Stephen Curry</td>\n",
       "      <td>PG</td>\n",
       "      <td>GS</td>\n",
       "      <td>80</td>\n",
       "      <td>32.7</td>\n",
       "      <td>1900</td>\n",
       "      <td>653-1341</td>\n",
       "      <td>.487</td>\n",
       "      <td>286-646</td>\n",
       "      <td>.443</td>\n",
       "      <td>308-337</td>\n",
       "      <td>.914</td>\n",
       "      <td>619</td>\n",
       "      <td>7.7</td>\n",
       "      <td>249</td>\n",
       "      <td>3.1</td>\n",
       "      <td>11.4</td>\n",
       "      <td>2.49</td>\n",
       "    </tr>\n",
       "    <tr>\n",
       "      <th>2</th>\n",
       "      <td>Russell Westbrook</td>\n",
       "      <td>PG</td>\n",
       "      <td>OKC</td>\n",
       "      <td>67</td>\n",
       "      <td>34.4</td>\n",
       "      <td>1886</td>\n",
       "      <td>627-1471</td>\n",
       "      <td>.426</td>\n",
       "      <td>86-288</td>\n",
       "      <td>.299</td>\n",
       "      <td>546-654</td>\n",
       "      <td>.835</td>\n",
       "      <td>574</td>\n",
       "      <td>8.6</td>\n",
       "      <td>293</td>\n",
       "      <td>4.4</td>\n",
       "      <td>12.0</td>\n",
       "      <td>1.96</td>\n",
       "    </tr>\n",
       "    <tr>\n",
       "      <th>3</th>\n",
       "      <td>LeBron James</td>\n",
       "      <td>SF</td>\n",
       "      <td>CLE</td>\n",
       "      <td>69</td>\n",
       "      <td>36.1</td>\n",
       "      <td>1743</td>\n",
       "      <td>624-1279</td>\n",
       "      <td>.488</td>\n",
       "      <td>120-339</td>\n",
       "      <td>.354</td>\n",
       "      <td>375-528</td>\n",
       "      <td>.710</td>\n",
       "      <td>511</td>\n",
       "      <td>7.4</td>\n",
       "      <td>272</td>\n",
       "      <td>3.9</td>\n",
       "      <td>9.8</td>\n",
       "      <td>1.88</td>\n",
       "    </tr>\n",
       "    <tr>\n",
       "      <th>4</th>\n",
       "      <td>Damian Lillard</td>\n",
       "      <td>PG</td>\n",
       "      <td>POR</td>\n",
       "      <td>82</td>\n",
       "      <td>35.7</td>\n",
       "      <td>1720</td>\n",
       "      <td>590-1360</td>\n",
       "      <td>.434</td>\n",
       "      <td>196-572</td>\n",
       "      <td>.343</td>\n",
       "      <td>344-398</td>\n",
       "      <td>.864</td>\n",
       "      <td>507</td>\n",
       "      <td>6.2</td>\n",
       "      <td>222</td>\n",
       "      <td>2.7</td>\n",
       "      <td>8.3</td>\n",
       "      <td>2.28</td>\n",
       "    </tr>\n",
       "  </tbody>\n",
       "</table>\n",
       "</div>"
      ],
      "text/plain": [
       "              PLAYER POSITION TEAM  GP   MPG   PTS   FGM-FGA   FG%  3PM-3PA  \\\n",
       "0       James Harden       SG  HOU  81  36.8  2217  647-1470  .440  208-555   \n",
       "1      Stephen Curry       PG   GS  80  32.7  1900  653-1341  .487  286-646   \n",
       "2  Russell Westbrook       PG  OKC  67  34.4  1886  627-1471  .426   86-288   \n",
       "3       LeBron James       SF  CLE  69  36.1  1743  624-1279  .488  120-339   \n",
       "4     Damian Lillard       PG  POR  82  35.7  1720  590-1360  .434  196-572   \n",
       "\n",
       "    3P%  FTM-FTA   FT%  AST  APG   TO TOPG AP48M AST/TO  \n",
       "0  .375  715-824  .868  565  7.0  321  4.0   9.1   1.76  \n",
       "1  .443  308-337  .914  619  7.7  249  3.1  11.4   2.49  \n",
       "2  .299  546-654  .835  574  8.6  293  4.4  12.0   1.96  \n",
       "3  .354  375-528  .710  511  7.4  272  3.9   9.8   1.88  \n",
       "4  .343  344-398  .864  507  6.2  222  2.7   8.3   2.28  "
      ]
     },
     "execution_count": 67,
     "metadata": {},
     "output_type": "execute_result"
    }
   ],
   "source": [
    "df_joined.head()"
   ]
  },
  {
   "cell_type": "code",
   "execution_count": null,
   "metadata": {
    "collapsed": true
   },
   "outputs": [],
   "source": []
  }
 ],
 "metadata": {
  "kernelspec": {
   "display_name": "Python 2",
   "language": "python",
   "name": "python2"
  },
  "language_info": {
   "codemirror_mode": {
    "name": "ipython",
    "version": 2
   },
   "file_extension": ".py",
   "mimetype": "text/x-python",
   "name": "python",
   "nbconvert_exporter": "python",
   "pygments_lexer": "ipython2",
   "version": "2.7.10"
  }
 },
 "nbformat": 4,
 "nbformat_minor": 0
}
