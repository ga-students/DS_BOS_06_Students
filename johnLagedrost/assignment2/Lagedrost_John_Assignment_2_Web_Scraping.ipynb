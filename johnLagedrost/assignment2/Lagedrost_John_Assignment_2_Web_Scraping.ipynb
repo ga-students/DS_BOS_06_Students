{
 "cells": [
  {
   "cell_type": "markdown",
   "metadata": {},
   "source": [
    "#Web Scraping with Beautiful Soup\n",
    "\n",
    "This tutorial will provide a very basic introduction to using the Beautiful Soup package to scrape text data from the web. \n",
    "\n",
    "##Installation\n",
    "\n",
    "In a terminal, install Beautiful Soup if necessary by running <pre><code>conda install beautiful-soup</code></pre>\n",
    "\n",
    "##Retrieving HTML\n",
    "\n",
    "The general idea behind web scraping is to retrieve data that exists on a website, and convert it into a format that is usable for analysis. Webpages are rendered by the brower from HTML and CSS code, but much of the information included in the HTML underlying any website is not interesting to us.\n",
    "\n",
    "We begin by reading in the source code for a given web page and creating a Beautiful Soup object with the BeautifulSoup function.\n",
    "\n",
    "###urllib2\n",
    "urllib2 is a module for working with urls, we will use it to open connections to urls and retrieve the webpage source."
   ]
  },
  {
   "cell_type": "code",
   "execution_count": 2,
   "metadata": {
    "collapsed": false
   },
   "outputs": [
    {
     "name": "stdout",
     "output_type": "stream",
     "text": [
      "<class 'bs4.BeautifulSoup'>\n"
     ]
    }
   ],
   "source": [
    "from bs4 import BeautifulSoup\n",
    "import urllib2\n",
    "#make connection to web page, and gives the raw text back with the addition of read\n",
    "page = urllib2.urlopen('http://espn.go.com/nba/statistics/player/_/stat/scoring-per-game/sort/avgPoints/qualified/false').read() \n",
    "#make a BeautifulSoup object\n",
    "soup = BeautifulSoup(page)\n",
    "print type(soup)"
   ]
  },
  {
   "cell_type": "markdown",
   "metadata": {},
   "source": [
    "The soup object contains all of the HTML in the original document."
   ]
  },
  {
   "cell_type": "code",
   "execution_count": 5,
   "metadata": {
    "collapsed": false
   },
   "outputs": [
    {
     "name": "stdout",
     "output_type": "stream",
     "text": [
      "<!DOCTYPE html>\n",
      "<html xmlns:fb=\"http://www.facebook.com/2008/fbml\">\n",
      " <head>\n",
      "  <script src=\"http://sports-ak.espn.go.com/sports/optimizely.js\">\n",
      "  </script>\n",
      "  <meta charset=\"utf-8\"/>\n",
      "  <meta content=\"IE=edge,chrome=1\" http-equiv=\"X-UA-Compatible\"/>\n",
      "  <link href=\"http://a.espncdn.com/prod/assets/icons/E.svg\" mask=\"\" rel=\"icon\" sizes=\"any\"/>\n",
      "  <meta content=\"#CC0000\" name=\"theme-color\"/>\n",
      "  <script type=\"text/javascript\">\n",
      "   if(true && navigator && navigator.userAgent.toLowerCase().indexOf(\"teamstream\") >= 0) {\n",
      "        window.location = 'http://a.m.espn.go.com/mobilecache/general/apps/sc';\n",
      "    }\n",
      "  </script>\n",
      "  <title>\n",
      "   2014-15 Regular Season NBA Player Stats and League Leaders - Scoring Per Game - National Basketball Association - ESPN\n",
      "  </title>\n",
      "  <meta content=\"xuj1ODRluWa0frM-BjIr_aSHoUC7HB5C1MgmYAM_GkA\" name=\"google-site-verification\"/>\n",
      "  <meta content=\"B1FEB7C682C46C8FCDA3130F3D18AC28\" name=\"msvalidate.01\"/>\n",
      "  <meta content=\"noodp\" name=\"googlebot\"/>\n",
      "  <meta content=\"index, follow\" na\n"
     ]
    }
   ],
   "source": [
    "#soup object represents an HTML tree\n",
    "print soup.prettify()[0:1000]"
   ]
  },
  {
   "cell_type": "markdown",
   "metadata": {},
   "source": [
    "##Parsing HTML\n",
    "\n",
    "By \"parsing HTML\", we mean pulling out only the relevant tags/attributes for our analysis.  What Beautiful Soup does is provide a handy bunch of methods for doing this efficiently.\n",
    "\n",
    "###find method\n",
    "\n",
    "The find method will search for and return the first tag matching your corresponding search criteria, if it exists.  You can specify tag and attribute info etc.  There is also a findAll method that will return a collection of tags matching your query."
   ]
  },
  {
   "cell_type": "code",
   "execution_count": 8,
   "metadata": {
    "collapsed": false
   },
   "outputs": [
    {
     "name": "stdout",
     "output_type": "stream",
     "text": [
      "<div class=\"col-main\" id=\"my-players-table\">\n",
      " <div class=\"mod-container mod-table\">\n",
      "  <div class=\"mod-header stathead\">\n",
      "   <h4>\n",
      "    Points Per Game Leaders - All Players\n",
      "   </h4>\n",
      "  </div>\n",
      "  <div class=\"mod-content\">\n",
      "   <table cellpadding=\"3\" cellspacing=\"1\" class=\"tablehead\">\n",
      "    <tr align=\"right\" class=\"colhead\">\n",
      "     <td align=\"left\" style=\"width:20px;\">\n",
      "      RK\n",
      "     </td>\n",
      "     <td align=\"left\">\n",
      "      PLAYER\n",
      "     </td>\n",
      "     <td align=\"left\">\n",
      "      TEAM\n",
      "     </td>\n",
      "     <td>\n",
      "      <a href=\"http://espn.go.com/nba/statistics/player/_/stat/scoring-per-game/sort/gamesPlayed/qualified/false\" title=\"Games Played\">\n",
      "       GP\n",
      "      </a>\n",
      "     </td>\n",
      "     <td>\n",
      "      <a href=\"http://espn.go.com/nba/statistics/player/_/stat/scoring-per-game/sort/avgMinutes/qualified/false\" title=\"Minutes Per Game\">\n",
      "       MPG\n",
      "      </a>\n",
      "     </td>\n",
      "     <td>\n",
      "      <a href=\"http://espn.go.com/nba/statistics/player/_/stat/scoring-per-game/sort/avgPoints/qualified/false/order/false\" title=\"Points Per Game\">\n",
      "       PTS\n",
      "      </a>\n",
      "     </td>\n",
      "     <td>\n",
      "      <span title=\"Field Goals Made-Attempted Per Game\">\n",
      "       FGM-FGA\n",
      "      </span>\n",
      "     </td>\n",
      "     <td>\n",
      "      <a href=\"http://espn.go.com/nba/statistics/player/_/stat/scoring-per-game/sort/fieldGoalPct/qualified/false\" title=\"Field Goal Percentage\">\n",
      "       FG%\n",
      "      </a>\n",
      "     </td>\n",
      "     <td>\n",
      "      <span title=\"3-Point Field Goals Made-Attempted Per Game\">\n",
      "       3PM-3PA\n",
      "      </span>\n",
      "     </td>\n",
      "     <td>\n",
      "      <a href=\"http://espn.go.com/nba/statistics/player/_/stat/scoring-per-game/sort/threePointFieldGoalPct/qualified/false\" title=\"3-Point Field Goal Percentage\">\n",
      "       3P%\n",
      "      </a>\n",
      "     </td>\n",
      "     <td>\n",
      "      <span title=\"Free Throws Made-Attempted Per Game\">\n",
      "       FTM-FTA\n",
      "      </span>\n",
      "     </td>\n",
      "     <td>\n",
      "      <a href=\"http://espn.go.com/nba/statistics/player/_/stat/scoring-per-game/sort/freeThrowPct/qualified/false\" title=\"Free Throws Percentage\">\n",
      "       FT%\n",
      "      </a>\n",
      "     </td>\n",
      "    </tr>\n",
      "    <tr align=\"right\" class=\"oddrow player-46-3468\">\n",
      "     <td align=\"left\">\n",
      "      1\n",
      "     </td>\n",
      "     <td align=\"left\">\n",
      "      <a href=\"http://espn.go.com/nba/player/_/id/3468/russell-westbrook\">\n",
      "       Russell Westbrook\n",
      "      </a>\n",
      "      , PG\n",
      "     </td>\n",
      "     <td align=\"left\">\n",
      "      OKC\n",
      "     </td>\n",
      "     <td>\n",
      "      67\n",
      "     </td>\n",
      "     <td>\n",
      "      34.4\n",
      "     </td>\n",
      "     <td class=\"sortcell\">\n",
      "      28.1\n",
      "     </td>\n",
      "     <td>\n",
      "      9.4-22.0\n",
      "     </td>\n",
      "     <td>\n",
      "      .426\n",
      "     </td>\n",
      "     <td>\n",
      "      1.3-4.3\n",
      "     </td>\n",
      "     <td>\n",
      "      .299\n",
      "     </td>\n",
      "     <td>\n",
      "      8.1-9.8\n",
      "     </td>\n",
      "     <td>\n",
      "      .835\n",
      "     </td>\n",
      "    </tr>\n",
      "    <tr align=\"right\" class=\"evenrow player-46-3992\">\n",
      "     <td align=\"left\">\n",
      "      2\n",
      "     </td>\n",
      "     <td align=\"left\">\n",
      "      <a href=\"http://espn.go.com/nba/player/_/id/3992/james-harden\">\n",
      "       James Harden\n",
      "      </a>\n",
      "      , SG\n",
      "     </td>\n",
      "     <td align=\"left\">\n",
      "      HOU\n",
      "     </td>\n",
      "     <td>\n",
      "      81\n",
      "     </td>\n",
      "     <td>\n",
      "      36.8\n",
      "     </td>\n",
      "     <td class=\"sortcell\">\n",
      "      27.4\n",
      "     </td>\n",
      "     <td>\n",
      "      8.0-18.1\n",
      "     </td>\n",
      "     <td>\n",
      "      .440\n",
      "     </td>\n",
      "     <td>\n",
      "      2.6-6.9\n",
      "     </td>\n",
      "     <td>\n",
      "      .375\n",
      "     </td>\n",
      "     <td>\n",
      "      8.8-10.2\n",
      "     </td>\n",
      "     <td>\n",
      "      .868\n",
      "     </td>\n",
      "    </tr>\n",
      "    <tr align=\"right\" class=\"oddrow player-46-3202\">\n",
      "     <td align=\"left\">\n",
      "      3\n",
      "     </td>\n",
      "     <td align=\"left\">\n",
      "      <a href=\"http://espn.go.com/nba/player/_/id/3202/kevin-durant\">\n",
      "       Kevin Durant\n",
      "      </a>\n",
      "      , SF\n",
      "     </td>\n",
      "     <td align=\"left\">\n",
      "      OKC\n",
      "     </td>\n",
      "     <td>\n",
      "      27\n",
      "     </td>\n",
      "     <td>\n",
      "      33.8\n",
      "     </td>\n",
      "     <td class=\"sortcell\">\n",
      "      25.4\n",
      "     </td>\n",
      "     <td>\n",
      "      8.8-17.3\n",
      "     </td>\n",
      "     <td>\n",
      "      .510\n",
      "     </td>\n",
      "     <td>\n",
      "      2.4-5.9\n",
      "     </td>\n",
      "     <td>\n",
      "      .403\n",
      "     </td>\n",
      "     <td>\n",
      "      5.4-6.3\n",
      "     </td>\n",
      "     <td>\n",
      "      .854\n",
      "     </td>\n",
      "    </tr>\n",
      "    <tr align=\"right\" class=\"evenrow player-46-1966\">\n",
      "     <td align=\"left\">\n",
      "      4\n",
      "     </td>\n",
      "     <td align=\"left\">\n",
      "      <a href=\"http://espn.go.com/nba/player/_/id/1966/lebron-james\">\n",
      "       LeBron James\n",
      "      <\n"
     ]
    }
   ],
   "source": [
    "#find returns a specific object; find all returns all objects\n",
    "\n",
    "table_div = soup.find(id='my-players-table')\n",
    "#pull out everything closed within the div tag, so now we know the table is in there\n",
    "#this returns a new BS object that contains stuff within that div tag\n",
    "#prettify turns into a string; here we take the first 4000 characters\n",
    "print table_div.prettify()[0:4000]"
   ]
  },
  {
   "cell_type": "markdown",
   "metadata": {},
   "source": [
    "Notice that the object returned by the find method is just another inner HTML structure, which we can step through just like we would have with the original soup object.  We've gone to the location in the webpage where the table that we seek starts, now we can use find again to get to the table data."
   ]
  },
  {
   "cell_type": "code",
   "execution_count": 9,
   "metadata": {
    "collapsed": false
   },
   "outputs": [
    {
     "name": "stdout",
     "output_type": "stream",
     "text": [
      "<table cellpadding=\"3\" cellspacing=\"1\" class=\"tablehead\">\n",
      "<tr align=\"right\" class=\"colhead\"><td align=\"left\" style=\"width:20px;\">RK</td><td align=\"left\">PLAYER</td><td align=\"left\">TEAM</td><td><a href=\"http://espn.go.com/nba/statistics/player/_/stat/scoring-per-game/sort/gamesPlayed/qualified/false\" title=\"Games Played\">GP</a></td><td><a href=\"http://espn.go.com/nba/statistics/player/_/stat/scoring-per-game/sort/avgMinutes/qualified/false\" title=\"Minutes Per Game\">MPG</a></td><td><a href=\"http://espn.go.com/nba/statistics/player/_/stat/scoring-per-game/sort/avgPoints/qualified/false/order/false\" title=\"Points Per Game\">PTS</a></td><td><span title=\"Field Goals Made-Attempted Per Game\">FGM-FGA</span></td><td><a href=\"http://espn.go.com/nba/statistics/player/_/stat/scoring-per-game/sort/fieldGoalPct/qualified/false\" title=\"Field Goal Percentage\">FG%</a></td><td><span title=\"3-Point Field Goals Made-Attempted Per Game\">3PM-3PA</span></td><td><a href=\"http://espn.go.com/nba/statistics/player/_/stat/scoring-per-game/sort/threePointFieldGoalPct/qualified/false\" title=\"3-Point Field Goal Percentage\">3P%</a></td><td><span title=\"Free Throws Made-Attempted Per Game\">FTM-FTA</span></td><td><a href=\"http://espn.go.com/nba/statistics/player/_/stat/scoring-per-game/sort/freeThrowPct/qualified/false\" title=\"Free Throws Percentage\">FT%</a></td></tr><tr align=\"right\" class=\"oddrow player-46-3468\"><td align=\"left\">1</td><td align=\"left\"><a href=\"http://espn.go.com/nba/player/_/id/3468/russell-westbrook\">Russell Westbrook</a>, PG</td><td align=\"left\">OKC</td><td>67</td><td>34.4</td><td class=\"sortcell\">28.1</td><td>9.4-22.0</td><td>.426</td><td>1.3-4.3</td><td>.299</td><td>8.1-9.8</td><td>.835</td></tr><tr align=\"right\" class=\"evenrow player-46-3992\"><td align=\"left\">2</td><td align=\"left\"><a href=\"http://espn.go.com/nba/player/_/id/3992/james-harden\">James Harden</a>, SG</td><td align=\"left\">HOU</td><td>81</td><td>36.8</td><td class=\"sortcell\">27.4</td><td>8.0-18.1</td><td>.440</td><td>2.6-6.9</td><td>.375</td><td>8.8-10.2</td><td>.868</td></tr><tr align=\"right\" class=\"oddrow player-46-3202\"><td align=\"left\">3</td><td align=\"left\"><a href=\"http://espn.go.com/nba/player/_/id/3202/kevin-durant\">Kevin Durant</a>, SF</td><td align=\"left\">OKC</td><td>27</td><td>33.8</td><td class=\"sortcell\">25.4</td><td>8.8-17.3</td><td>.510</td><td>2.4-5.9</td><td>.403</td><td>5.4-6.3</td><td>.854</td></tr><tr align=\"right\" class=\"evenrow player-46-1966\"><td align=\"left\">4</td><td align=\"left\"><a href=\"http://espn.go.com/nba/player/_/id/1966/lebron-james\">LeBron James</a>, SF</td><td align=\"left\">CLE</td><td>69</td><td>36.1</td><td class=\"sortcell\">25.3</td><td>9.0-18.5</td><td>.488</td><td>1.7-4.9</td><td>.354</td><td>5.4-7.7</td><td>.710</td></tr><tr align=\"right\" class=\"oddrow player-46-6583\"><td align=\"left\">5</td><td align=\"left\"><a href=\"http://espn.go.com/nba/player/_/id/6583/anthony-davis\">Anthony Davis</a>, PF</td><td align=\"left\">NO</td><td>68</td><td>36.1</td><td class=\"sortcell\">24.4</td><td>9.4-17.6</td><td>.535</td><td>0.0-0.2</td><td>.083</td><td>5.5-6.8</td><td>.805</td></tr><tr align=\"right\" class=\"evenrow player-46-1975\"><td align=\"left\">6</td><td align=\"left\"><a href=\"http://espn.go.com/nba/player/_/id/1975/carmelo-anthony\">Carmelo Anthony</a>, SF</td><td align=\"left\">NY</td><td>40</td><td>35.7</td><td class=\"sortcell\">24.2</td><td>9.0-20.2</td><td>.444</td><td>1.5-4.5</td><td>.341</td><td>4.7-5.9</td><td>.797</td></tr><tr align=\"right\" class=\"oddrow player-46-4258\"><td align=\"left\">7</td><td align=\"left\"><a href=\"http://espn.go.com/nba/player/_/id/4258/demarcus-cousins\">DeMarcus Cousins</a>, C</td><td align=\"left\">SAC</td><td>59</td><td>34.1</td><td class=\"sortcell\">24.1</td><td>8.4-18.1</td><td>.467</td><td>0.0-0.1</td><td>.250</td><td>7.2-9.2</td><td>.782</td></tr><tr align=\"right\" class=\"evenrow player-46-3975\"><td align=\"left\">8</td><td align=\"left\"><a href=\"http://espn.go.com/nba/player/_/id/3975/stephen-curry\">Stephen Curry</a>, PG</td><td align=\"left\">GS</td><td>80</td><td>32.7</td><td class=\"sortcell\">23.8</td><td>8.2-16.8</td><td>.487</td><td>3.6-8.1</td><td>.443</td><td>3.9-4.2</td><td>.914</td></tr><tr align=\"right\" class=\"oddrow player-46-2983\"><td align=\"left\">9</td><td align=\"left\"><a href=\"http://espn.go.com/nba/player/_/id/2983/lamarcus-aldridge\">LaMarcus Aldridge</a>, PF</td><td align=\"left\">POR</td><td>71</td><td>35.4</td><td class=\"sortcell\">23.4</td><td>9.3-19.9</td><td>.466</td><td>0.5-1.5</td><td>.352</td><td>4.3-5.1</td><td>.845</td></tr><tr align=\"right\" class=\"evenrow player-46-110\"><td align=\"left\">10</td><td align=\"left\"><a href=\"http://espn.go.com/nba/player/_/id/110/kobe-bryant\">Kobe Bryant</a>, SG</td><td align=\"left\">LAL</td><td>35</td><td>34.5</td><td class=\"sortcell\">22.3</td><td>7.6-20.4</td><td>.373</td><td>1.5-5.3</td><td>.293</td><td>5.6-6.9</td><td>.813</td></tr><tr align=\"right\" class=\"colhead\"><td align=\"left\" style=\"width:20px;\">RK</td><td align=\"left\">PLAYER</td><td align=\"left\">TEAM</td><td><a href=\"http://espn.go.com/nba/statistics/player/_/stat/scoring-per-game/sort/gamesPlayed/qualified/false\" title=\"Games Played\">GP</a></td><td><a href=\"http://espn.go.com/nba/statistics/player/_/stat/scoring-per-game/sort/avgMinutes/qualified/false\" title=\"Minutes Per Game\">MPG</a></td><td><a href=\"http://espn.go.com/nba/statistics/player/_/stat/scoring-per-game/sort/avgPoints/qualified/false/order/false\" title=\"Points Per Game\">PTS</a></td><td><span title=\"Field Goals Made-Attempted Per Game\">FGM-FGA</span></td><td><a href=\"http://espn.go.com/nba/statistics/player/_/stat/scoring-per-game/sort/fieldGoalPct/qualified/false\" title=\"Field Goal Percentage\">FG%</a></td><td><span title=\"3-Point Field Goals Made-Attempted Per Game\">3PM-3PA</span></td><td><a href=\"http://espn.go.com/nba/statistics/player/_/stat/scoring-per-game/sort/threePointFieldGoalPct/qualified/false\" title=\"3-Point Field Goal Percentage\">3P%</a></td><td><span title=\"Free Throws Made-Attempted Per Game\">FTM-FTA</span></td><td><a href=\"http://espn.go.com/nba/statistics/player/_/stat/scoring-per-game/sort/freeThrowPct/qualified/false\" title=\"Free Throws Percentage\">FT%</a></td></tr><tr align=\"right\" class=\"oddrow player-46-3989\"><td align=\"left\">11</td><td align=\"left\"><a href=\"http://espn.go.com/nba/player/_/id/3989/blake-griffin\">Blake Griffin</a>, PF</td><td align=\"left\">LAC</td><td>67</td><td>35.2</td><td class=\"sortcell\">21.9</td><td>8.6-17.1</td><td>.502</td><td>0.1-0.4</td><td>.400</td><td>4.6-6.4</td><td>.728</td></tr><tr align=\"right\" class=\"evenrow player-46-6442\"><td align=\"left\">12</td><td align=\"left\"><a href=\"http://espn.go.com/nba/player/_/id/6442/kyrie-irving\">Kyrie Irving</a>, PG</td><td align=\"left\">CLE</td><td>75</td><td>36.4</td><td class=\"sortcell\">21.7</td><td>7.7-16.5</td><td>.468</td><td>2.1-5.0</td><td>.415</td><td>4.2-4.9</td><td>.863</td></tr><tr align=\"right\" class=\"oddrow player-46-6475\"><td align=\"left\"> </td><td align=\"left\"><a href=\"http://espn.go.com/nba/player/_/id/6475/klay-thompson\">Klay Thompson</a>, SG</td><td align=\"left\">GS</td><td>77</td><td>31.9</td><td class=\"sortcell\">21.7</td><td>7.8-16.9</td><td>.463</td><td>3.1-7.1</td><td>.439</td><td>2.9-3.3</td><td>.879</td></tr><tr align=\"right\" class=\"evenrow player-46-1987\"><td align=\"left\">14</td><td align=\"left\"><a href=\"http://espn.go.com/nba/player/_/id/1987/dwyane-wade\">Dwyane Wade</a>, SG</td><td align=\"left\">MIA</td><td>62</td><td>31.8</td><td class=\"sortcell\">21.5</td><td>8.2-17.5</td><td>.470</td><td>0.5-1.6</td><td>.284</td><td>4.6-6.0</td><td>.768</td></tr><tr align=\"right\" class=\"oddrow player-46-1977\"><td align=\"left\">15</td><td align=\"left\"><a href=\"http://espn.go.com/nba/player/_/id/1977/chris-bosh\">Chris Bosh</a>, C</td><td align=\"left\">MIA</td><td>44</td><td>35.4</td><td class=\"sortcell\">21.1</td><td>7.8-16.9</td><td>.460</td><td>1.4-3.8</td><td>.375</td><td>4.1-5.3</td><td>.772</td></tr><tr align=\"right\" class=\"evenrow player-46-3005\"><td align=\"left\"> </td><td align=\"left\"><a href=\"http://espn.go.com/nba/player/_/id/3005/rudy-gay\">Rudy Gay</a>, SF</td><td align=\"left\">SAC</td><td>68</td><td>35.4</td><td class=\"sortcell\">21.1</td><td>7.5-16.4</td><td>.455</td><td>1.2-3.2</td><td>.359</td><td>5.0-5.8</td><td>.858</td></tr><tr align=\"right\" class=\"oddrow player-46-6606\"><td align=\"left\">17</td><td align=\"left\"><a href=\"http://espn.go.com/nba/player/_/id/6606/damian-lillard\">Damian Lillard</a>, PG</td><td align=\"left\">POR</td><td>82</td><td>35.7</td><td class=\"sortcell\">21.0</td><td>7.2-16.6</td><td>.434</td><td>2.4-7.0</td><td>.343</td><td>4.2-4.9</td><td>.864</td></tr><tr align=\"right\" class=\"evenrow player-46-3978\"><td align=\"left\">18</td><td align=\"left\"><a href=\"http://espn.go.com/nba/player/_/id/3978/demar-derozan\">DeMar DeRozan</a>, SG</td><td align=\"left\">TOR</td><td>60</td><td>35.0</td><td class=\"sortcell\">20.1</td><td>6.8-16.5</td><td>.413</td><td>0.4-1.5</td><td>.284</td><td>6.0-7.2</td><td>.832</td></tr><tr align=\"right\" class=\"oddrow player-46-6430\"><td align=\"left\">19</td><td align=\"left\"><a href=\"http://espn.go.com/nba/player/_/id/6430/jimmy-butler\">Jimmy Butler</a>, SG</td><td align=\"left\">CHI</td><td>65</td><td>38.7</td><td class=\"sortcell\">20.0</td><td>6.5-14.0</td><td>.462</td><td>1.1-3.0</td><td>.378</td><td>5.9-7.1</td><td>.834</td></tr><tr align=\"right\" class=\"evenrow player-46-2394\"><td align=\"left\"> </td><td align=\"left\"><a href=\"http://espn.go.com/nba/player/_/id/2394/kevin-martin\">Kevin Martin</a>, SG</td><td align=\"left\">MIN</td><td>39</td><td>33.4</td><td class=\"sortcell\">20.0</td><td>6.8-16.0</td><td>.427</td><td>1.9-4.9</td><td>.393</td><td>4.4-4.9</td><td>.881</td></tr><tr align=\"right\" class=\"colhead\"><td align=\"left\" style=\"width:20px;\">RK</td><td align=\"left\">PLAYER</td><td align=\"left\">TEAM</td><td><a href=\"http://espn.go.com/nba/statistics/player/_/stat/scoring-per-game/sort/gamesPlayed/qualified/false\" title=\"Games Played\">GP</a></td><td><a href=\"http://espn.go.com/nba/statistics/player/_/stat/scoring-per-game/sort/avgMinutes/qualified/false\" title=\"Minutes Per Game\">MPG</a></td><td><a href=\"http://espn.go.com/nba/statistics/player/_/stat/scoring-per-game/sort/avgPoints/qualified/false/order/false\" title=\"Points Per Game\">PTS</a></td><td><span title=\"Field Goals Made-Attempted Per Game\">FGM-FGA</span></td><td><a href=\"http://espn.go.com/nba/statistics/player/_/stat/scoring-per-game/sort/fieldGoalPct/qualified/false\" title=\"Field Goal Percentage\">FG%</a></td><td><span title=\"3-Point Field Goals Made-Attempted Per Game\">3PM-3PA</span></td><td><a href=\"http://espn.go.com/nba/statistics/player/_/stat/scoring-per-game/sort/threePointFieldGoalPct/qualified/false\" title=\"3-Point Field Goal Percentage\">3P%</a></td><td><span title=\"Free Throws Made-Attempted Per Game\">FTM-FTA</span></td><td><a href=\"http://espn.go.com/nba/statistics/player/_/stat/scoring-per-game/sort/freeThrowPct/qualified/false\" title=\"Free Throws Percentage\">FT%</a></td></tr><tr align=\"right\" class=\"oddrow player-46-6478\"><td align=\"left\">21</td><td align=\"left\"><a href=\"http://espn.go.com/nba/player/_/id/6478/nikola-vucevic\">Nikola Vucevic</a>, C</td><td align=\"left\">ORL</td><td>74</td><td>34.2</td><td class=\"sortcell\">19.3</td><td>8.5-16.3</td><td>.523</td><td>0.0-0.1</td><td>.333</td><td>2.2-2.9</td><td>.752</td></tr><tr align=\"right\" class=\"evenrow player-46-4249\"><td align=\"left\"> </td><td align=\"left\"><a href=\"http://espn.go.com/nba/player/_/id/4249/gordon-hayward\">Gordon Hayward</a>, SF</td><td align=\"left\">UTAH</td><td>76</td><td>34.4</td><td class=\"sortcell\">19.3</td><td>6.4-14.3</td><td>.445</td><td>1.6-4.3</td><td>.364</td><td>4.9-6.1</td><td>.812</td></tr><tr align=\"right\" class=\"oddrow player-46-2779\"><td align=\"left\">23</td><td align=\"left\"><a href=\"http://espn.go.com/nba/player/_/id/2779/chris-paul\">Chris Paul</a>, PG</td><td align=\"left\">LAC</td><td>82</td><td>34.8</td><td class=\"sortcell\">19.1</td><td>6.9-14.3</td><td>.485</td><td>1.7-4.3</td><td>.398</td><td>3.5-3.9</td><td>.900</td></tr><tr align=\"right\" class=\"evenrow player-46-2751\"><td align=\"left\">24</td><td align=\"left\"><a href=\"http://espn.go.com/nba/player/_/id/2751/monta-ellis\">Monta Ellis</a>, SG</td><td align=\"left\">DAL</td><td>80</td><td>33.7</td><td class=\"sortcell\">18.9</td><td>7.5-16.9</td><td>.445</td><td>1.0-3.6</td><td>.285</td><td>2.9-3.8</td><td>.752</td></tr><tr align=\"right\" class=\"oddrow player-46-996\"><td align=\"left\">25</td><td align=\"left\"><a href=\"http://espn.go.com/nba/player/_/id/996/pau-gasol\">Pau Gasol</a>, PF</td><td align=\"left\">CHI</td><td>78</td><td>34.4</td><td class=\"sortcell\">18.5</td><td>7.3-14.8</td><td>.494</td><td>0.2-0.3</td><td>.462</td><td>3.8-4.7</td><td>.803</td></tr><tr align=\"right\" class=\"evenrow player-46-2527963\"><td align=\"left\">26</td><td align=\"left\"><a href=\"http://espn.go.com/nba/player/_/id/2527963/victor-oladipo\">Victor Oladipo</a>, SG</td><td align=\"left\">ORL</td><td>72</td><td>35.7</td><td class=\"sortcell\">17.9</td><td>6.6-15.1</td><td>.436</td><td>1.2-3.4</td><td>.339</td><td>3.6-4.4</td><td>.819</td></tr><tr align=\"right\" class=\"oddrow player-46-3012\"><td align=\"left\">27</td><td align=\"left\"><a href=\"http://espn.go.com/nba/player/_/id/3012/kyle-lowry\">Kyle Lowry</a>, PG</td><td align=\"left\">TOR</td><td>70</td><td>34.5</td><td class=\"sortcell\">17.8</td><td>6.1-14.9</td><td>.412</td><td>1.9-5.6</td><td>.338</td><td>3.6-4.5</td><td>.808</td></tr><tr align=\"right\" class=\"evenrow player-46-3456\"><td align=\"left\">28</td><td align=\"left\"><a href=\"http://espn.go.com/nba/player/_/id/3456/derrick-rose\">Derrick Rose</a>, PG</td><td align=\"left\">CHI</td><td>51</td><td>30.0</td><td class=\"sortcell\">17.7</td><td>6.6-16.4</td><td>.405</td><td>1.5-5.3</td><td>.280</td><td>3.0-3.7</td><td>.813</td></tr><tr align=\"right\" class=\"oddrow player-46-4237\"><td align=\"left\">29</td><td align=\"left\"><a href=\"http://espn.go.com/nba/player/_/id/4237/john-wall\">John Wall</a>, PG</td><td align=\"left\">WSH</td><td>79</td><td>35.9</td><td class=\"sortcell\">17.6</td><td>6.6-14.8</td><td>.445</td><td>0.8-2.7</td><td>.300</td><td>3.6-4.6</td><td>.785</td></tr><tr align=\"right\" class=\"evenrow player-46-3206\"><td align=\"left\">30</td><td align=\"left\"><a href=\"http://espn.go.com/nba/player/_/id/3206/marc-gasol\">Marc Gasol</a>, C</td><td align=\"left\">MEM</td><td>81</td><td>33.2</td><td class=\"sortcell\">17.4</td><td>6.5-13.2</td><td>.494</td><td>0.0-0.2</td><td>.176</td><td>4.3-5.4</td><td>.795</td></tr><tr align=\"right\" class=\"colhead\"><td align=\"left\" style=\"width:20px;\">RK</td><td align=\"left\">PLAYER</td><td align=\"left\">TEAM</td><td><a href=\"http://espn.go.com/nba/statistics/player/_/stat/scoring-per-game/sort/gamesPlayed/qualified/false\" title=\"Games Played\">GP</a></td><td><a href=\"http://espn.go.com/nba/statistics/player/_/stat/scoring-per-game/sort/avgMinutes/qualified/false\" title=\"Minutes Per Game\">MPG</a></td><td><a href=\"http://espn.go.com/nba/statistics/player/_/stat/scoring-per-game/sort/avgPoints/qualified/false/order/false\" title=\"Points Per Game\">PTS</a></td><td><span title=\"Field Goals Made-Attempted Per Game\">FGM-FGA</span></td><td><a href=\"http://espn.go.com/nba/statistics/player/_/stat/scoring-per-game/sort/fieldGoalPct/qualified/false\" title=\"Field Goal Percentage\">FG%</a></td><td><span title=\"3-Point Field Goals Made-Attempted Per Game\">3PM-3PA</span></td><td><a href=\"http://espn.go.com/nba/statistics/player/_/stat/scoring-per-game/sort/threePointFieldGoalPct/qualified/false\" title=\"3-Point Field Goal Percentage\">3P%</a></td><td><span title=\"Free Throws Made-Attempted Per Game\">FTM-FTA</span></td><td><a href=\"http://espn.go.com/nba/statistics/player/_/stat/scoring-per-game/sort/freeThrowPct/qualified/false\" title=\"Free Throws Percentage\">FT%</a></td></tr><tr align=\"right\" class=\"oddrow player-46-6479\"><td align=\"left\">31</td><td align=\"left\"><a href=\"http://espn.go.com/nba/player/_/id/6479/kemba-walker\">Kemba Walker</a>, PG</td><td align=\"left\">CHA</td><td>62</td><td>34.2</td><td class=\"sortcell\">17.3</td><td>6.1-15.8</td><td>.385</td><td>1.4-4.5</td><td>.304</td><td>3.8-4.6</td><td>.827</td></tr><tr align=\"right\" class=\"evenrow player-46-609\"><td align=\"left\"> </td><td align=\"left\"><a href=\"http://espn.go.com/nba/player/_/id/609/dirk-nowitzki\">Dirk Nowitzki</a>, PF</td><td align=\"left\">DAL</td><td>77</td><td>29.6</td><td class=\"sortcell\">17.3</td><td>6.3-13.8</td><td>.459</td><td>1.4-3.6</td><td>.380</td><td>3.3-3.8</td><td>.882</td></tr><tr align=\"right\" class=\"oddrow player-46-3448\"><td align=\"left\">33</td><td align=\"left\"><a href=\"http://espn.go.com/nba/player/_/id/3448/brook-lopez\">Brook Lopez</a>, C</td><td align=\"left\">BKN</td><td>72</td><td>29.2</td><td class=\"sortcell\">17.2</td><td>7.0-13.7</td><td>.513</td><td>0.0-0.1</td><td>.100</td><td>3.1-3.8</td><td>.814</td></tr><tr align=\"right\" class=\"evenrow player-46-6440\"><td align=\"left\">34</td><td align=\"left\"><a href=\"http://espn.go.com/nba/player/_/id/6440/tobias-harris\">Tobias Harris</a>, SF</td><td align=\"left\">ORL</td><td>68</td><td>34.8</td><td class=\"sortcell\">17.1</td><td>6.5-14.0</td><td>.466</td><td>1.3-3.5</td><td>.364</td><td>2.8-3.6</td><td>.788</td></tr><tr align=\"right\" class=\"oddrow player-46-4238\"><td align=\"left\">35</td><td align=\"left\"><a href=\"http://espn.go.com/nba/player/_/id/4238/eric-bledsoe\">Eric Bledsoe</a>, PG</td><td align=\"left\">PHX</td><td>81</td><td>34.6</td><td class=\"sortcell\">17.0</td><td>5.8-12.9</td><td>.447</td><td>1.1-3.4</td><td>.324</td><td>4.4-5.4</td><td>.800</td></tr><tr align=\"right\" class=\"evenrow player-46-6448\"><td align=\"left\"> </td><td align=\"left\"><a href=\"http://espn.go.com/nba/player/_/id/6448/brandon-knight\">Brandon Knight</a>, PG</td><td align=\"left\">MIL/PHX</td><td>63</td><td>32.3</td><td class=\"sortcell\">17.0</td><td>6.0-14.1</td><td>.422</td><td>2.0-5.1</td><td>.389</td><td>3.1-3.5</td><td>.874</td></tr><tr align=\"right\" class=\"oddrow player-46-3059319\"><td align=\"left\">37</td><td align=\"left\"><a href=\"http://espn.go.com/nba/player/_/id/3059319/andrew-wiggins\">Andrew Wiggins</a>, SF</td><td align=\"left\">MIN</td><td>82</td><td>36.2</td><td class=\"sortcell\">16.9</td><td>6.1-13.9</td><td>.437</td><td>0.5-1.5</td><td>.310</td><td>4.3-5.7</td><td>.760</td></tr><tr align=\"right\" class=\"evenrow player-46-6630\"><td align=\"left\"> </td><td align=\"left\"><a href=\"http://espn.go.com/nba/player/_/id/6630/tony-wroten\">Tony Wroten</a>, SG</td><td align=\"left\">PHI</td><td>30</td><td>29.8</td><td class=\"sortcell\">16.9</td><td>5.8-14.5</td><td>.403</td><td>1.2-4.7</td><td>.261</td><td>4.0-6.0</td><td>.667</td></tr><tr align=\"right\" class=\"oddrow player-46-3015\"><td align=\"left\">39</td><td align=\"left\"><a href=\"http://espn.go.com/nba/player/_/id/3015/paul-millsap\">Paul Millsap</a>, PF</td><td align=\"left\">ATL</td><td>73</td><td>32.7</td><td class=\"sortcell\">16.7</td><td>6.1-12.7</td><td>.476</td><td>1.1-3.0</td><td>.356</td><td>3.5-4.6</td><td>.757</td></tr><tr align=\"right\" class=\"evenrow player-46-2389\"><td align=\"left\">40</td><td align=\"left\"><a href=\"http://espn.go.com/nba/player/_/id/2389/al-jefferson\">Al Jefferson</a>, C</td><td align=\"left\">CHA</td><td>65</td><td>30.6</td><td class=\"sortcell\">16.6</td><td>7.5-15.5</td><td>.481</td><td>0.0-0.1</td><td>.400</td><td>1.7-2.5</td><td>.655</td></tr>\n",
      "</table>\n"
     ]
    }
   ],
   "source": [
    "#now we search for the next table tag\n",
    "table = table_div.find(\"table\")\n",
    "print table"
   ]
  },
  {
   "cell_type": "markdown",
   "metadata": {},
   "source": [
    "###Searching by Attributes\n",
    "\n",
    "Now that we have the table object, we need to step through the rows.  First we'll find the header row so we can populate what the field names will be in our data.  Here we're searching for tags under the table tag whose class attritbute is \"colhead\".  "
   ]
  },
  {
   "cell_type": "code",
   "execution_count": 10,
   "metadata": {
    "collapsed": false
   },
   "outputs": [
    {
     "name": "stdout",
     "output_type": "stream",
     "text": [
      "<tr align=\"right\" class=\"colhead\">\n",
      " <td align=\"left\" style=\"width:20px;\">\n",
      "  RK\n",
      " </td>\n",
      " <td align=\"left\">\n",
      "  PLAYER\n",
      " </td>\n",
      " <td align=\"left\">\n",
      "  TEAM\n",
      " </td>\n",
      " <td>\n",
      "  <a href=\"http://espn.go.com/nba/statistics/player/_/stat/scoring-per-game/sort/gamesPlayed/qualified/false\" title=\"Games Played\">\n",
      "   GP\n",
      "  </a>\n",
      " </td>\n",
      " <td>\n",
      "  <a href=\"http://espn.go.com/nba/statistics/player/_/stat/scoring-per-game/sort/avgMinutes/qualified/false\" title=\"Minutes Per Game\">\n",
      "   MPG\n",
      "  </a>\n",
      " </td>\n",
      " <td>\n",
      "  <a href=\"http://espn.go.com/nba/statistics/player/_/stat/scoring-per-game/sort/avgPoints/qualified/false/order/false\" title=\"Points Per Game\">\n",
      "   PTS\n",
      "  </a>\n",
      " </td>\n",
      " <td>\n",
      "  <span title=\"Field Goals Made-Attempted Per Game\">\n",
      "   FGM-FGA\n",
      "  </span>\n",
      " </td>\n",
      " <td>\n",
      "  <a href=\"http://espn.go.com/nba/statistics/player/_/stat/scoring-per-game/sort/fieldGoalPct/qualified/false\" title=\"Field Goal Percentage\">\n",
      "   FG%\n",
      "  </a>\n",
      " </td>\n",
      " <td>\n",
      "  <span title=\"3-Point Field Goals Made-Attempted Per Game\">\n",
      "   3PM-3PA\n",
      "  </span>\n",
      " </td>\n",
      " <td>\n",
      "  <a href=\"http://espn.go.com/nba/statistics/player/_/stat/scoring-per-game/sort/threePointFieldGoalPct/qualified/false\" title=\"3-Point Field Goal Percentage\">\n",
      "   3P%\n",
      "  </a>\n",
      " </td>\n",
      " <td>\n",
      "  <span title=\"Free Throws Made-Attempted Per Game\">\n",
      "   FTM-FTA\n",
      "  </span>\n",
      " </td>\n",
      " <td>\n",
      "  <a href=\"http://espn.go.com/nba/statistics/player/_/stat/scoring-per-game/sort/freeThrowPct/qualified/false\" title=\"Free Throws Percentage\">\n",
      "   FT%\n",
      "  </a>\n",
      " </td>\n",
      "</tr>\n",
      "\n"
     ]
    }
   ],
   "source": [
    "#we are looking for distinguishing header row from other rows; in this case, it is distinguised by class \"colhead\"\n",
    "table_head = table.find(attrs={\"class\":'colhead'}) #find rows where class = colhead\n",
    "print table_head.prettify()"
   ]
  },
  {
   "cell_type": "markdown",
   "metadata": {},
   "source": [
    "Now we find the actual values by searching for the 'td' tags, which is the tag for table data."
   ]
  },
  {
   "cell_type": "code",
   "execution_count": 11,
   "metadata": {
    "collapsed": false
   },
   "outputs": [
    {
     "name": "stdout",
     "output_type": "stream",
     "text": [
      "[<td align=\"left\" style=\"width:20px;\">RK</td>, <td align=\"left\">PLAYER</td>, <td align=\"left\">TEAM</td>, <td><a href=\"http://espn.go.com/nba/statistics/player/_/stat/scoring-per-game/sort/gamesPlayed/qualified/false\" title=\"Games Played\">GP</a></td>, <td><a href=\"http://espn.go.com/nba/statistics/player/_/stat/scoring-per-game/sort/avgMinutes/qualified/false\" title=\"Minutes Per Game\">MPG</a></td>, <td><a href=\"http://espn.go.com/nba/statistics/player/_/stat/scoring-per-game/sort/avgPoints/qualified/false/order/false\" title=\"Points Per Game\">PTS</a></td>, <td><span title=\"Field Goals Made-Attempted Per Game\">FGM-FGA</span></td>, <td><a href=\"http://espn.go.com/nba/statistics/player/_/stat/scoring-per-game/sort/fieldGoalPct/qualified/false\" title=\"Field Goal Percentage\">FG%</a></td>, <td><span title=\"3-Point Field Goals Made-Attempted Per Game\">3PM-3PA</span></td>, <td><a href=\"http://espn.go.com/nba/statistics/player/_/stat/scoring-per-game/sort/threePointFieldGoalPct/qualified/false\" title=\"3-Point Field Goal Percentage\">3P%</a></td>, <td><span title=\"Free Throws Made-Attempted Per Game\">FTM-FTA</span></td>, <td><a href=\"http://espn.go.com/nba/statistics/player/_/stat/scoring-per-game/sort/freeThrowPct/qualified/false\" title=\"Free Throws Percentage\">FT%</a></td>]\n"
     ]
    }
   ],
   "source": [
    "#now we've picked the row with each of the headers, and we need to go through and get each of its children\n",
    "#findAll returns a list\n",
    "header_cols = table_head.findAll('td') #td = table data = an HTML tag\n",
    "print header_cols"
   ]
  },
  {
   "cell_type": "markdown",
   "metadata": {},
   "source": [
    "Finally, we step through these columns and save them to a list to be used later.  We'll ignore the rank column (RK) because that doesn't give us anything we want later.  We also separate the **PLAYER** column into **PLAYER** and **POSITION**."
   ]
  },
  {
   "cell_type": "code",
   "execution_count": 12,
   "metadata": {
    "collapsed": false
   },
   "outputs": [
    {
     "name": "stdout",
     "output_type": "stream",
     "text": [
      "[u'PLAYER', 'POSITION', u'TEAM', u'GP', u'MPG', u'PTS', u'FGM-FGA', u'FG%', u'3PM-3PA', u'3P%', u'FTM-FTA', u'FT%']\n"
     ]
    }
   ],
   "source": [
    "cols = [] #empty list that will create all the headers\n",
    "for header_col in header_cols: #headercols = list of td tags\n",
    "    val = header_col.string\n",
    "    if val != 'RK':\n",
    "        cols.append(val)\n",
    "    if val == 'PLAYER':\n",
    "        cols.append('POSITION')\n",
    "print cols"
   ]
  },
  {
   "cell_type": "markdown",
   "metadata": {},
   "source": [
    "###Stepping Through a Table\n",
    "\n",
    "The table rows are indicated by the tag 'tr'.  Again we can find them all and iterate through them.  Within each row we iterate through the respective columns."
   ]
  },
  {
   "cell_type": "code",
   "execution_count": 13,
   "metadata": {
    "collapsed": false
   },
   "outputs": [
    {
     "name": "stdout",
     "output_type": "stream",
     "text": [
      "[<tr align=\"right\" class=\"colhead\"><td align=\"left\" style=\"width:20px;\">RK</td><td align=\"left\">PLAYER</td><td align=\"left\">TEAM</td><td><a href=\"http://espn.go.com/nba/statistics/player/_/stat/scoring-per-game/sort/gamesPlayed/qualified/false\" title=\"Games Played\">GP</a></td><td><a href=\"http://espn.go.com/nba/statistics/player/_/stat/scoring-per-game/sort/avgMinutes/qualified/false\" title=\"Minutes Per Game\">MPG</a></td><td><a href=\"http://espn.go.com/nba/statistics/player/_/stat/scoring-per-game/sort/avgPoints/qualified/false/order/false\" title=\"Points Per Game\">PTS</a></td><td><span title=\"Field Goals Made-Attempted Per Game\">FGM-FGA</span></td><td><a href=\"http://espn.go.com/nba/statistics/player/_/stat/scoring-per-game/sort/fieldGoalPct/qualified/false\" title=\"Field Goal Percentage\">FG%</a></td><td><span title=\"3-Point Field Goals Made-Attempted Per Game\">3PM-3PA</span></td><td><a href=\"http://espn.go.com/nba/statistics/player/_/stat/scoring-per-game/sort/threePointFieldGoalPct/qualified/false\" title=\"3-Point Field Goal Percentage\">3P%</a></td><td><span title=\"Free Throws Made-Attempted Per Game\">FTM-FTA</span></td><td><a href=\"http://espn.go.com/nba/statistics/player/_/stat/scoring-per-game/sort/freeThrowPct/qualified/false\" title=\"Free Throws Percentage\">FT%</a></td></tr>, <tr align=\"right\" class=\"oddrow player-46-3468\"><td align=\"left\">1</td><td align=\"left\"><a href=\"http://espn.go.com/nba/player/_/id/3468/russell-westbrook\">Russell Westbrook</a>, PG</td><td align=\"left\">OKC</td><td>67</td><td>34.4</td><td class=\"sortcell\">28.1</td><td>9.4-22.0</td><td>.426</td><td>1.3-4.3</td><td>.299</td><td>8.1-9.8</td><td>.835</td></tr>, <tr align=\"right\" class=\"evenrow player-46-3992\"><td align=\"left\">2</td><td align=\"left\"><a href=\"http://espn.go.com/nba/player/_/id/3992/james-harden\">James Harden</a>, SG</td><td align=\"left\">HOU</td><td>81</td><td>36.8</td><td class=\"sortcell\">27.4</td><td>8.0-18.1</td><td>.440</td><td>2.6-6.9</td><td>.375</td><td>8.8-10.2</td><td>.868</td></tr>, <tr align=\"right\" class=\"oddrow player-46-3202\"><td align=\"left\">3</td><td align=\"left\"><a href=\"http://espn.go.com/nba/player/_/id/3202/kevin-durant\">Kevin Durant</a>, SF</td><td align=\"left\">OKC</td><td>27</td><td>33.8</td><td class=\"sortcell\">25.4</td><td>8.8-17.3</td><td>.510</td><td>2.4-5.9</td><td>.403</td><td>5.4-6.3</td><td>.854</td></tr>, <tr align=\"right\" class=\"evenrow player-46-1966\"><td align=\"left\">4</td><td align=\"left\"><a href=\"http://espn.go.com/nba/player/_/id/1966/lebron-james\">LeBron James</a>, SF</td><td align=\"left\">CLE</td><td>69</td><td>36.1</td><td class=\"sortcell\">25.3</td><td>9.0-18.5</td><td>.488</td><td>1.7-4.9</td><td>.354</td><td>5.4-7.7</td><td>.710</td></tr>, <tr align=\"right\" class=\"oddrow player-46-6583\"><td align=\"left\">5</td><td align=\"left\"><a href=\"http://espn.go.com/nba/player/_/id/6583/anthony-davis\">Anthony Davis</a>, PF</td><td align=\"left\">NO</td><td>68</td><td>36.1</td><td class=\"sortcell\">24.4</td><td>9.4-17.6</td><td>.535</td><td>0.0-0.2</td><td>.083</td><td>5.5-6.8</td><td>.805</td></tr>, <tr align=\"right\" class=\"evenrow player-46-1975\"><td align=\"left\">6</td><td align=\"left\"><a href=\"http://espn.go.com/nba/player/_/id/1975/carmelo-anthony\">Carmelo Anthony</a>, SF</td><td align=\"left\">NY</td><td>40</td><td>35.7</td><td class=\"sortcell\">24.2</td><td>9.0-20.2</td><td>.444</td><td>1.5-4.5</td><td>.341</td><td>4.7-5.9</td><td>.797</td></tr>, <tr align=\"right\" class=\"oddrow player-46-4258\"><td align=\"left\">7</td><td align=\"left\"><a href=\"http://espn.go.com/nba/player/_/id/4258/demarcus-cousins\">DeMarcus Cousins</a>, C</td><td align=\"left\">SAC</td><td>59</td><td>34.1</td><td class=\"sortcell\">24.1</td><td>8.4-18.1</td><td>.467</td><td>0.0-0.1</td><td>.250</td><td>7.2-9.2</td><td>.782</td></tr>, <tr align=\"right\" class=\"evenrow player-46-3975\"><td align=\"left\">8</td><td align=\"left\"><a href=\"http://espn.go.com/nba/player/_/id/3975/stephen-curry\">Stephen Curry</a>, PG</td><td align=\"left\">GS</td><td>80</td><td>32.7</td><td class=\"sortcell\">23.8</td><td>8.2-16.8</td><td>.487</td><td>3.6-8.1</td><td>.443</td><td>3.9-4.2</td><td>.914</td></tr>, <tr align=\"right\" class=\"oddrow player-46-2983\"><td align=\"left\">9</td><td align=\"left\"><a href=\"http://espn.go.com/nba/player/_/id/2983/lamarcus-aldridge\">LaMarcus Aldridge</a>, PF</td><td align=\"left\">POR</td><td>71</td><td>35.4</td><td class=\"sortcell\">23.4</td><td>9.3-19.9</td><td>.466</td><td>0.5-1.5</td><td>.352</td><td>4.3-5.1</td><td>.845</td></tr>, <tr align=\"right\" class=\"evenrow player-46-110\"><td align=\"left\">10</td><td align=\"left\"><a href=\"http://espn.go.com/nba/player/_/id/110/kobe-bryant\">Kobe Bryant</a>, SG</td><td align=\"left\">LAL</td><td>35</td><td>34.5</td><td class=\"sortcell\">22.3</td><td>7.6-20.4</td><td>.373</td><td>1.5-5.3</td><td>.293</td><td>5.6-6.9</td><td>.813</td></tr>, <tr align=\"right\" class=\"colhead\"><td align=\"left\" style=\"width:20px;\">RK</td><td align=\"left\">PLAYER</td><td align=\"left\">TEAM</td><td><a href=\"http://espn.go.com/nba/statistics/player/_/stat/scoring-per-game/sort/gamesPlayed/qualified/false\" title=\"Games Played\">GP</a></td><td><a href=\"http://espn.go.com/nba/statistics/player/_/stat/scoring-per-game/sort/avgMinutes/qualified/false\" title=\"Minutes Per Game\">MPG</a></td><td><a href=\"http://espn.go.com/nba/statistics/player/_/stat/scoring-per-game/sort/avgPoints/qualified/false/order/false\" title=\"Points Per Game\">PTS</a></td><td><span title=\"Field Goals Made-Attempted Per Game\">FGM-FGA</span></td><td><a href=\"http://espn.go.com/nba/statistics/player/_/stat/scoring-per-game/sort/fieldGoalPct/qualified/false\" title=\"Field Goal Percentage\">FG%</a></td><td><span title=\"3-Point Field Goals Made-Attempted Per Game\">3PM-3PA</span></td><td><a href=\"http://espn.go.com/nba/statistics/player/_/stat/scoring-per-game/sort/threePointFieldGoalPct/qualified/false\" title=\"3-Point Field Goal Percentage\">3P%</a></td><td><span title=\"Free Throws Made-Attempted Per Game\">FTM-FTA</span></td><td><a href=\"http://espn.go.com/nba/statistics/player/_/stat/scoring-per-game/sort/freeThrowPct/qualified/false\" title=\"Free Throws Percentage\">FT%</a></td></tr>, <tr align=\"right\" class=\"oddrow player-46-3989\"><td align=\"left\">11</td><td align=\"left\"><a href=\"http://espn.go.com/nba/player/_/id/3989/blake-griffin\">Blake Griffin</a>, PF</td><td align=\"left\">LAC</td><td>67</td><td>35.2</td><td class=\"sortcell\">21.9</td><td>8.6-17.1</td><td>.502</td><td>0.1-0.4</td><td>.400</td><td>4.6-6.4</td><td>.728</td></tr>, <tr align=\"right\" class=\"evenrow player-46-6442\"><td align=\"left\">12</td><td align=\"left\"><a href=\"http://espn.go.com/nba/player/_/id/6442/kyrie-irving\">Kyrie Irving</a>, PG</td><td align=\"left\">CLE</td><td>75</td><td>36.4</td><td class=\"sortcell\">21.7</td><td>7.7-16.5</td><td>.468</td><td>2.1-5.0</td><td>.415</td><td>4.2-4.9</td><td>.863</td></tr>, <tr align=\"right\" class=\"oddrow player-46-6475\"><td align=\"left\"> </td><td align=\"left\"><a href=\"http://espn.go.com/nba/player/_/id/6475/klay-thompson\">Klay Thompson</a>, SG</td><td align=\"left\">GS</td><td>77</td><td>31.9</td><td class=\"sortcell\">21.7</td><td>7.8-16.9</td><td>.463</td><td>3.1-7.1</td><td>.439</td><td>2.9-3.3</td><td>.879</td></tr>, <tr align=\"right\" class=\"evenrow player-46-1987\"><td align=\"left\">14</td><td align=\"left\"><a href=\"http://espn.go.com/nba/player/_/id/1987/dwyane-wade\">Dwyane Wade</a>, SG</td><td align=\"left\">MIA</td><td>62</td><td>31.8</td><td class=\"sortcell\">21.5</td><td>8.2-17.5</td><td>.470</td><td>0.5-1.6</td><td>.284</td><td>4.6-6.0</td><td>.768</td></tr>, <tr align=\"right\" class=\"oddrow player-46-1977\"><td align=\"left\">15</td><td align=\"left\"><a href=\"http://espn.go.com/nba/player/_/id/1977/chris-bosh\">Chris Bosh</a>, C</td><td align=\"left\">MIA</td><td>44</td><td>35.4</td><td class=\"sortcell\">21.1</td><td>7.8-16.9</td><td>.460</td><td>1.4-3.8</td><td>.375</td><td>4.1-5.3</td><td>.772</td></tr>, <tr align=\"right\" class=\"evenrow player-46-3005\"><td align=\"left\"> </td><td align=\"left\"><a href=\"http://espn.go.com/nba/player/_/id/3005/rudy-gay\">Rudy Gay</a>, SF</td><td align=\"left\">SAC</td><td>68</td><td>35.4</td><td class=\"sortcell\">21.1</td><td>7.5-16.4</td><td>.455</td><td>1.2-3.2</td><td>.359</td><td>5.0-5.8</td><td>.858</td></tr>, <tr align=\"right\" class=\"oddrow player-46-6606\"><td align=\"left\">17</td><td align=\"left\"><a href=\"http://espn.go.com/nba/player/_/id/6606/damian-lillard\">Damian Lillard</a>, PG</td><td align=\"left\">POR</td><td>82</td><td>35.7</td><td class=\"sortcell\">21.0</td><td>7.2-16.6</td><td>.434</td><td>2.4-7.0</td><td>.343</td><td>4.2-4.9</td><td>.864</td></tr>, <tr align=\"right\" class=\"evenrow player-46-3978\"><td align=\"left\">18</td><td align=\"left\"><a href=\"http://espn.go.com/nba/player/_/id/3978/demar-derozan\">DeMar DeRozan</a>, SG</td><td align=\"left\">TOR</td><td>60</td><td>35.0</td><td class=\"sortcell\">20.1</td><td>6.8-16.5</td><td>.413</td><td>0.4-1.5</td><td>.284</td><td>6.0-7.2</td><td>.832</td></tr>, <tr align=\"right\" class=\"oddrow player-46-6430\"><td align=\"left\">19</td><td align=\"left\"><a href=\"http://espn.go.com/nba/player/_/id/6430/jimmy-butler\">Jimmy Butler</a>, SG</td><td align=\"left\">CHI</td><td>65</td><td>38.7</td><td class=\"sortcell\">20.0</td><td>6.5-14.0</td><td>.462</td><td>1.1-3.0</td><td>.378</td><td>5.9-7.1</td><td>.834</td></tr>, <tr align=\"right\" class=\"evenrow player-46-2394\"><td align=\"left\"> </td><td align=\"left\"><a href=\"http://espn.go.com/nba/player/_/id/2394/kevin-martin\">Kevin Martin</a>, SG</td><td align=\"left\">MIN</td><td>39</td><td>33.4</td><td class=\"sortcell\">20.0</td><td>6.8-16.0</td><td>.427</td><td>1.9-4.9</td><td>.393</td><td>4.4-4.9</td><td>.881</td></tr>, <tr align=\"right\" class=\"colhead\"><td align=\"left\" style=\"width:20px;\">RK</td><td align=\"left\">PLAYER</td><td align=\"left\">TEAM</td><td><a href=\"http://espn.go.com/nba/statistics/player/_/stat/scoring-per-game/sort/gamesPlayed/qualified/false\" title=\"Games Played\">GP</a></td><td><a href=\"http://espn.go.com/nba/statistics/player/_/stat/scoring-per-game/sort/avgMinutes/qualified/false\" title=\"Minutes Per Game\">MPG</a></td><td><a href=\"http://espn.go.com/nba/statistics/player/_/stat/scoring-per-game/sort/avgPoints/qualified/false/order/false\" title=\"Points Per Game\">PTS</a></td><td><span title=\"Field Goals Made-Attempted Per Game\">FGM-FGA</span></td><td><a href=\"http://espn.go.com/nba/statistics/player/_/stat/scoring-per-game/sort/fieldGoalPct/qualified/false\" title=\"Field Goal Percentage\">FG%</a></td><td><span title=\"3-Point Field Goals Made-Attempted Per Game\">3PM-3PA</span></td><td><a href=\"http://espn.go.com/nba/statistics/player/_/stat/scoring-per-game/sort/threePointFieldGoalPct/qualified/false\" title=\"3-Point Field Goal Percentage\">3P%</a></td><td><span title=\"Free Throws Made-Attempted Per Game\">FTM-FTA</span></td><td><a href=\"http://espn.go.com/nba/statistics/player/_/stat/scoring-per-game/sort/freeThrowPct/qualified/false\" title=\"Free Throws Percentage\">FT%</a></td></tr>, <tr align=\"right\" class=\"oddrow player-46-6478\"><td align=\"left\">21</td><td align=\"left\"><a href=\"http://espn.go.com/nba/player/_/id/6478/nikola-vucevic\">Nikola Vucevic</a>, C</td><td align=\"left\">ORL</td><td>74</td><td>34.2</td><td class=\"sortcell\">19.3</td><td>8.5-16.3</td><td>.523</td><td>0.0-0.1</td><td>.333</td><td>2.2-2.9</td><td>.752</td></tr>, <tr align=\"right\" class=\"evenrow player-46-4249\"><td align=\"left\"> </td><td align=\"left\"><a href=\"http://espn.go.com/nba/player/_/id/4249/gordon-hayward\">Gordon Hayward</a>, SF</td><td align=\"left\">UTAH</td><td>76</td><td>34.4</td><td class=\"sortcell\">19.3</td><td>6.4-14.3</td><td>.445</td><td>1.6-4.3</td><td>.364</td><td>4.9-6.1</td><td>.812</td></tr>, <tr align=\"right\" class=\"oddrow player-46-2779\"><td align=\"left\">23</td><td align=\"left\"><a href=\"http://espn.go.com/nba/player/_/id/2779/chris-paul\">Chris Paul</a>, PG</td><td align=\"left\">LAC</td><td>82</td><td>34.8</td><td class=\"sortcell\">19.1</td><td>6.9-14.3</td><td>.485</td><td>1.7-4.3</td><td>.398</td><td>3.5-3.9</td><td>.900</td></tr>, <tr align=\"right\" class=\"evenrow player-46-2751\"><td align=\"left\">24</td><td align=\"left\"><a href=\"http://espn.go.com/nba/player/_/id/2751/monta-ellis\">Monta Ellis</a>, SG</td><td align=\"left\">DAL</td><td>80</td><td>33.7</td><td class=\"sortcell\">18.9</td><td>7.5-16.9</td><td>.445</td><td>1.0-3.6</td><td>.285</td><td>2.9-3.8</td><td>.752</td></tr>, <tr align=\"right\" class=\"oddrow player-46-996\"><td align=\"left\">25</td><td align=\"left\"><a href=\"http://espn.go.com/nba/player/_/id/996/pau-gasol\">Pau Gasol</a>, PF</td><td align=\"left\">CHI</td><td>78</td><td>34.4</td><td class=\"sortcell\">18.5</td><td>7.3-14.8</td><td>.494</td><td>0.2-0.3</td><td>.462</td><td>3.8-4.7</td><td>.803</td></tr>, <tr align=\"right\" class=\"evenrow player-46-2527963\"><td align=\"left\">26</td><td align=\"left\"><a href=\"http://espn.go.com/nba/player/_/id/2527963/victor-oladipo\">Victor Oladipo</a>, SG</td><td align=\"left\">ORL</td><td>72</td><td>35.7</td><td class=\"sortcell\">17.9</td><td>6.6-15.1</td><td>.436</td><td>1.2-3.4</td><td>.339</td><td>3.6-4.4</td><td>.819</td></tr>, <tr align=\"right\" class=\"oddrow player-46-3012\"><td align=\"left\">27</td><td align=\"left\"><a href=\"http://espn.go.com/nba/player/_/id/3012/kyle-lowry\">Kyle Lowry</a>, PG</td><td align=\"left\">TOR</td><td>70</td><td>34.5</td><td class=\"sortcell\">17.8</td><td>6.1-14.9</td><td>.412</td><td>1.9-5.6</td><td>.338</td><td>3.6-4.5</td><td>.808</td></tr>, <tr align=\"right\" class=\"evenrow player-46-3456\"><td align=\"left\">28</td><td align=\"left\"><a href=\"http://espn.go.com/nba/player/_/id/3456/derrick-rose\">Derrick Rose</a>, PG</td><td align=\"left\">CHI</td><td>51</td><td>30.0</td><td class=\"sortcell\">17.7</td><td>6.6-16.4</td><td>.405</td><td>1.5-5.3</td><td>.280</td><td>3.0-3.7</td><td>.813</td></tr>, <tr align=\"right\" class=\"oddrow player-46-4237\"><td align=\"left\">29</td><td align=\"left\"><a href=\"http://espn.go.com/nba/player/_/id/4237/john-wall\">John Wall</a>, PG</td><td align=\"left\">WSH</td><td>79</td><td>35.9</td><td class=\"sortcell\">17.6</td><td>6.6-14.8</td><td>.445</td><td>0.8-2.7</td><td>.300</td><td>3.6-4.6</td><td>.785</td></tr>, <tr align=\"right\" class=\"evenrow player-46-3206\"><td align=\"left\">30</td><td align=\"left\"><a href=\"http://espn.go.com/nba/player/_/id/3206/marc-gasol\">Marc Gasol</a>, C</td><td align=\"left\">MEM</td><td>81</td><td>33.2</td><td class=\"sortcell\">17.4</td><td>6.5-13.2</td><td>.494</td><td>0.0-0.2</td><td>.176</td><td>4.3-5.4</td><td>.795</td></tr>, <tr align=\"right\" class=\"colhead\"><td align=\"left\" style=\"width:20px;\">RK</td><td align=\"left\">PLAYER</td><td align=\"left\">TEAM</td><td><a href=\"http://espn.go.com/nba/statistics/player/_/stat/scoring-per-game/sort/gamesPlayed/qualified/false\" title=\"Games Played\">GP</a></td><td><a href=\"http://espn.go.com/nba/statistics/player/_/stat/scoring-per-game/sort/avgMinutes/qualified/false\" title=\"Minutes Per Game\">MPG</a></td><td><a href=\"http://espn.go.com/nba/statistics/player/_/stat/scoring-per-game/sort/avgPoints/qualified/false/order/false\" title=\"Points Per Game\">PTS</a></td><td><span title=\"Field Goals Made-Attempted Per Game\">FGM-FGA</span></td><td><a href=\"http://espn.go.com/nba/statistics/player/_/stat/scoring-per-game/sort/fieldGoalPct/qualified/false\" title=\"Field Goal Percentage\">FG%</a></td><td><span title=\"3-Point Field Goals Made-Attempted Per Game\">3PM-3PA</span></td><td><a href=\"http://espn.go.com/nba/statistics/player/_/stat/scoring-per-game/sort/threePointFieldGoalPct/qualified/false\" title=\"3-Point Field Goal Percentage\">3P%</a></td><td><span title=\"Free Throws Made-Attempted Per Game\">FTM-FTA</span></td><td><a href=\"http://espn.go.com/nba/statistics/player/_/stat/scoring-per-game/sort/freeThrowPct/qualified/false\" title=\"Free Throws Percentage\">FT%</a></td></tr>, <tr align=\"right\" class=\"oddrow player-46-6479\"><td align=\"left\">31</td><td align=\"left\"><a href=\"http://espn.go.com/nba/player/_/id/6479/kemba-walker\">Kemba Walker</a>, PG</td><td align=\"left\">CHA</td><td>62</td><td>34.2</td><td class=\"sortcell\">17.3</td><td>6.1-15.8</td><td>.385</td><td>1.4-4.5</td><td>.304</td><td>3.8-4.6</td><td>.827</td></tr>, <tr align=\"right\" class=\"evenrow player-46-609\"><td align=\"left\"> </td><td align=\"left\"><a href=\"http://espn.go.com/nba/player/_/id/609/dirk-nowitzki\">Dirk Nowitzki</a>, PF</td><td align=\"left\">DAL</td><td>77</td><td>29.6</td><td class=\"sortcell\">17.3</td><td>6.3-13.8</td><td>.459</td><td>1.4-3.6</td><td>.380</td><td>3.3-3.8</td><td>.882</td></tr>, <tr align=\"right\" class=\"oddrow player-46-3448\"><td align=\"left\">33</td><td align=\"left\"><a href=\"http://espn.go.com/nba/player/_/id/3448/brook-lopez\">Brook Lopez</a>, C</td><td align=\"left\">BKN</td><td>72</td><td>29.2</td><td class=\"sortcell\">17.2</td><td>7.0-13.7</td><td>.513</td><td>0.0-0.1</td><td>.100</td><td>3.1-3.8</td><td>.814</td></tr>, <tr align=\"right\" class=\"evenrow player-46-6440\"><td align=\"left\">34</td><td align=\"left\"><a href=\"http://espn.go.com/nba/player/_/id/6440/tobias-harris\">Tobias Harris</a>, SF</td><td align=\"left\">ORL</td><td>68</td><td>34.8</td><td class=\"sortcell\">17.1</td><td>6.5-14.0</td><td>.466</td><td>1.3-3.5</td><td>.364</td><td>2.8-3.6</td><td>.788</td></tr>, <tr align=\"right\" class=\"oddrow player-46-4238\"><td align=\"left\">35</td><td align=\"left\"><a href=\"http://espn.go.com/nba/player/_/id/4238/eric-bledsoe\">Eric Bledsoe</a>, PG</td><td align=\"left\">PHX</td><td>81</td><td>34.6</td><td class=\"sortcell\">17.0</td><td>5.8-12.9</td><td>.447</td><td>1.1-3.4</td><td>.324</td><td>4.4-5.4</td><td>.800</td></tr>, <tr align=\"right\" class=\"evenrow player-46-6448\"><td align=\"left\"> </td><td align=\"left\"><a href=\"http://espn.go.com/nba/player/_/id/6448/brandon-knight\">Brandon Knight</a>, PG</td><td align=\"left\">MIL/PHX</td><td>63</td><td>32.3</td><td class=\"sortcell\">17.0</td><td>6.0-14.1</td><td>.422</td><td>2.0-5.1</td><td>.389</td><td>3.1-3.5</td><td>.874</td></tr>, <tr align=\"right\" class=\"oddrow player-46-3059319\"><td align=\"left\">37</td><td align=\"left\"><a href=\"http://espn.go.com/nba/player/_/id/3059319/andrew-wiggins\">Andrew Wiggins</a>, SF</td><td align=\"left\">MIN</td><td>82</td><td>36.2</td><td class=\"sortcell\">16.9</td><td>6.1-13.9</td><td>.437</td><td>0.5-1.5</td><td>.310</td><td>4.3-5.7</td><td>.760</td></tr>, <tr align=\"right\" class=\"evenrow player-46-6630\"><td align=\"left\"> </td><td align=\"left\"><a href=\"http://espn.go.com/nba/player/_/id/6630/tony-wroten\">Tony Wroten</a>, SG</td><td align=\"left\">PHI</td><td>30</td><td>29.8</td><td class=\"sortcell\">16.9</td><td>5.8-14.5</td><td>.403</td><td>1.2-4.7</td><td>.261</td><td>4.0-6.0</td><td>.667</td></tr>, <tr align=\"right\" class=\"oddrow player-46-3015\"><td align=\"left\">39</td><td align=\"left\"><a href=\"http://espn.go.com/nba/player/_/id/3015/paul-millsap\">Paul Millsap</a>, PF</td><td align=\"left\">ATL</td><td>73</td><td>32.7</td><td class=\"sortcell\">16.7</td><td>6.1-12.7</td><td>.476</td><td>1.1-3.0</td><td>.356</td><td>3.5-4.6</td><td>.757</td></tr>, <tr align=\"right\" class=\"evenrow player-46-2389\"><td align=\"left\">40</td><td align=\"left\"><a href=\"http://espn.go.com/nba/player/_/id/2389/al-jefferson\">Al Jefferson</a>, C</td><td align=\"left\">CHA</td><td>65</td><td>30.6</td><td class=\"sortcell\">16.6</td><td>7.5-15.5</td><td>.481</td><td>0.0-0.1</td><td>.400</td><td>1.7-2.5</td><td>.655</td></tr>]\n"
     ]
    }
   ],
   "source": [
    "table_rows = table.findAll('tr')\n",
    "print table_rows"
   ]
  },
  {
   "cell_type": "markdown",
   "metadata": {},
   "source": [
    "We will save our results in 2 different ways to demonstrate how we can handle both.  The first will be a list of dicts where the key is the field name and the value is the field value.  The second will just be a list of lists of stats with no field name values (we've already defined them earlier)."
   ]
  },
  {
   "cell_type": "code",
   "execution_count": 20,
   "metadata": {
    "collapsed": false
   },
   "outputs": [
    {
     "name": "stdout",
     "output_type": "stream",
     "text": [
      "[{u'FGM-FGA': u'9.4-22.0', u'MPG': u'34.4', u'FTM-FTA': u'8.1-9.8', u'FG%': u'.426', u'GP': u'67', u'PLAYER': u'Russell Westbrook', u'FT%': u'.835', u'TEAM': u'OKC', u'3PM-3PA': u'1.3-4.3', 'POSITION': u'PG', u'PTS': u'28.1', u'3P%': u'.299'}, {u'FGM-FGA': u'8.0-18.1', u'MPG': u'36.8', u'FTM-FTA': u'8.8-10.2', u'FG%': u'.440', u'GP': u'81', u'PLAYER': u'James Harden', u'FT%': u'.868', u'TEAM': u'HOU', u'3PM-3PA': u'2.6-6.9', 'POSITION': u'SG', u'PTS': u'27.4', u'3P%': u'.375'}, {u'FGM-FGA': u'8.8-17.3', u'MPG': u'33.8', u'FTM-FTA': u'5.4-6.3', u'FG%': u'.510', u'GP': u'27', u'PLAYER': u'Kevin Durant', u'FT%': u'.854', u'TEAM': u'OKC', u'3PM-3PA': u'2.4-5.9', 'POSITION': u'SF', u'PTS': u'25.4', u'3P%': u'.403'}, {u'FGM-FGA': u'9.0-18.5', u'MPG': u'36.1', u'FTM-FTA': u'5.4-7.7', u'FG%': u'.488', u'GP': u'69', u'PLAYER': u'LeBron James', u'FT%': u'.710', u'TEAM': u'CLE', u'3PM-3PA': u'1.7-4.9', 'POSITION': u'SF', u'PTS': u'25.3', u'3P%': u'.354'}, {u'FGM-FGA': u'9.4-17.6', u'MPG': u'36.1', u'FTM-FTA': u'5.5-6.8', u'FG%': u'.535', u'GP': u'68', u'PLAYER': u'Anthony Davis', u'FT%': u'.805', u'TEAM': u'NO', u'3PM-3PA': u'0.0-0.2', 'POSITION': u'PF', u'PTS': u'24.4', u'3P%': u'.083'}]\n"
     ]
    }
   ],
   "source": [
    "players_stats_dicts = [] #one dictionary for each player\n",
    "players_stats_array = [] #first item is stats for 1st row; 2nd item is stats for 2nd row; list of lists\n",
    "for row in table_rows:\n",
    "    #if row.attrs['class'][0] is just one element\n",
    "    if row.attrs['class'][0]=='colhead': #check if attribute of class is colhead\n",
    "        continue\n",
    "    player_stats = []\n",
    "    row_cols = row.find_all('td')\n",
    "    col_vals = []\n",
    "    #first column is rank (we dont care)\n",
    "    player_col = row_cols[1]\n",
    "    #a tags are for adding hyperlinks; actual value is within a tag\n",
    "    player_name = player_col.find('a').string\n",
    "    #player position is outside a tag but within player_col tag\n",
    "    player_position = player_col.contents[1]\n",
    "    #player position is structed ', [position]' so we need to get rid of comma and space\n",
    "    #splitting on space returns list of elements, where first element is ',' and 2nd element is [position]\n",
    "    #split splits a string by some delimiter and returns all the elements in between\n",
    "    player_position = player_position.split(' ')[1]\n",
    "    player_stats.append(player_name)\n",
    "    player_stats.append(player_position)\n",
    "    #loop through remaining columns and add stats\n",
    "    for i in range(2, len(row_cols)):\n",
    "        stat = row_cols[i].string\n",
    "        player_stats.append(stat)\n",
    "    players_stats_array.append(player_stats)\n",
    "    #zip takes 2 lists (eg cols and player_status) and turns into a tuple: a set of key-value pairs; if lists are different length, it will take length of shorter\n",
    "    player_stats = dict(zip(cols, player_stats))\n",
    "    players_stats_dicts.append(player_stats)\n",
    "print players_stats_dicts[0:5]  \n",
    "#the thing returned by this is out of order; something to consider; dictionary is not inherintly ordered; don't worry for now\n",
    "#lists are inherintly ordered; dictionaries are not\n",
    "#in 2nd method, we already have header from earlier; now we have list of lists"
   ]
  },
  {
   "cell_type": "markdown",
   "metadata": {},
   "source": [
    "Here we've used the zip function to combine pairs of lists into tuples, and then transformed that into a dict to get a dictionary of FIELD --> VALUE for every player in the table.\n",
    "\n",
    "Beautiful Soup has many other features, including the ability to step up, down, and sideways in the HTML tree and basically search for any tags, attributes, or values.  For more, take a look at the [Documentation](http://www.crummy.com/software/BeautifulSoup/bs4/doc/)"
   ]
  },
  {
   "cell_type": "markdown",
   "metadata": {},
   "source": [
    "##Load into Pandas\n",
    "\n",
    "Let's load our scraped data into Pandas and take a look at it.  Here is the first way we can do it, simply directly from the dictionary we defined."
   ]
  },
  {
   "cell_type": "code",
   "execution_count": 15,
   "metadata": {
    "collapsed": false
   },
   "outputs": [
    {
     "data": {
      "text/html": [
       "<div>\n",
       "<table border=\"1\" class=\"dataframe\">\n",
       "  <thead>\n",
       "    <tr style=\"text-align: right;\">\n",
       "      <th></th>\n",
       "      <th>3P%</th>\n",
       "      <th>3PM-3PA</th>\n",
       "      <th>FG%</th>\n",
       "      <th>FGM-FGA</th>\n",
       "      <th>FT%</th>\n",
       "      <th>FTM-FTA</th>\n",
       "      <th>GP</th>\n",
       "      <th>MPG</th>\n",
       "      <th>PLAYER</th>\n",
       "      <th>POSITION</th>\n",
       "      <th>PTS</th>\n",
       "      <th>TEAM</th>\n",
       "    </tr>\n",
       "  </thead>\n",
       "  <tbody>\n",
       "    <tr>\n",
       "      <th>0</th>\n",
       "      <td>.299</td>\n",
       "      <td>1.3-4.3</td>\n",
       "      <td>.426</td>\n",
       "      <td>9.4-22.0</td>\n",
       "      <td>.835</td>\n",
       "      <td>8.1-9.8</td>\n",
       "      <td>67</td>\n",
       "      <td>34.4</td>\n",
       "      <td>Russell Westbrook</td>\n",
       "      <td>PG</td>\n",
       "      <td>28.1</td>\n",
       "      <td>OKC</td>\n",
       "    </tr>\n",
       "    <tr>\n",
       "      <th>1</th>\n",
       "      <td>.375</td>\n",
       "      <td>2.6-6.9</td>\n",
       "      <td>.440</td>\n",
       "      <td>8.0-18.1</td>\n",
       "      <td>.868</td>\n",
       "      <td>8.8-10.2</td>\n",
       "      <td>81</td>\n",
       "      <td>36.8</td>\n",
       "      <td>James Harden</td>\n",
       "      <td>SG</td>\n",
       "      <td>27.4</td>\n",
       "      <td>HOU</td>\n",
       "    </tr>\n",
       "    <tr>\n",
       "      <th>2</th>\n",
       "      <td>.403</td>\n",
       "      <td>2.4-5.9</td>\n",
       "      <td>.510</td>\n",
       "      <td>8.8-17.3</td>\n",
       "      <td>.854</td>\n",
       "      <td>5.4-6.3</td>\n",
       "      <td>27</td>\n",
       "      <td>33.8</td>\n",
       "      <td>Kevin Durant</td>\n",
       "      <td>SF</td>\n",
       "      <td>25.4</td>\n",
       "      <td>OKC</td>\n",
       "    </tr>\n",
       "    <tr>\n",
       "      <th>3</th>\n",
       "      <td>.354</td>\n",
       "      <td>1.7-4.9</td>\n",
       "      <td>.488</td>\n",
       "      <td>9.0-18.5</td>\n",
       "      <td>.710</td>\n",
       "      <td>5.4-7.7</td>\n",
       "      <td>69</td>\n",
       "      <td>36.1</td>\n",
       "      <td>LeBron James</td>\n",
       "      <td>SF</td>\n",
       "      <td>25.3</td>\n",
       "      <td>CLE</td>\n",
       "    </tr>\n",
       "    <tr>\n",
       "      <th>4</th>\n",
       "      <td>.083</td>\n",
       "      <td>0.0-0.2</td>\n",
       "      <td>.535</td>\n",
       "      <td>9.4-17.6</td>\n",
       "      <td>.805</td>\n",
       "      <td>5.5-6.8</td>\n",
       "      <td>68</td>\n",
       "      <td>36.1</td>\n",
       "      <td>Anthony Davis</td>\n",
       "      <td>PF</td>\n",
       "      <td>24.4</td>\n",
       "      <td>NO</td>\n",
       "    </tr>\n",
       "  </tbody>\n",
       "</table>\n",
       "</div>"
      ],
      "text/plain": [
       "    3P%  3PM-3PA   FG%   FGM-FGA   FT%   FTM-FTA  GP   MPG             PLAYER  \\\n",
       "0  .299  1.3-4.3  .426  9.4-22.0  .835   8.1-9.8  67  34.4  Russell Westbrook   \n",
       "1  .375  2.6-6.9  .440  8.0-18.1  .868  8.8-10.2  81  36.8       James Harden   \n",
       "2  .403  2.4-5.9  .510  8.8-17.3  .854   5.4-6.3  27  33.8       Kevin Durant   \n",
       "3  .354  1.7-4.9  .488  9.0-18.5  .710   5.4-7.7  69  36.1       LeBron James   \n",
       "4  .083  0.0-0.2  .535  9.4-17.6  .805   5.5-6.8  68  36.1      Anthony Davis   \n",
       "\n",
       "  POSITION   PTS TEAM  \n",
       "0       PG  28.1  OKC  \n",
       "1       SG  27.4  HOU  \n",
       "2       SF  25.4  OKC  \n",
       "3       SF  25.3  CLE  \n",
       "4       PF  24.4   NO  "
      ]
     },
     "execution_count": 15,
     "metadata": {},
     "output_type": "execute_result"
    }
   ],
   "source": [
    "import pandas as pd\n",
    "import numpy as np\n",
    "\n",
    "df = pd.DataFrame.from_dict(players_stats_dicts)\n",
    "df.head()"
   ]
  },
  {
   "cell_type": "markdown",
   "metadata": {},
   "source": [
    "Now here is a 2nd way we can do it.  We convert the 2D stats array into a numpy array and create a Pandas dataframe from it along with the list of column headers we defined earlier."
   ]
  },
  {
   "cell_type": "code",
   "execution_count": 16,
   "metadata": {
    "collapsed": false
   },
   "outputs": [
    {
     "data": {
      "text/html": [
       "<div>\n",
       "<table border=\"1\" class=\"dataframe\">\n",
       "  <thead>\n",
       "    <tr style=\"text-align: right;\">\n",
       "      <th></th>\n",
       "      <th>PLAYER</th>\n",
       "      <th>POSITION</th>\n",
       "      <th>TEAM</th>\n",
       "      <th>GP</th>\n",
       "      <th>MPG</th>\n",
       "      <th>PTS</th>\n",
       "      <th>FGM-FGA</th>\n",
       "      <th>FG%</th>\n",
       "      <th>3PM-3PA</th>\n",
       "      <th>3P%</th>\n",
       "      <th>FTM-FTA</th>\n",
       "      <th>FT%</th>\n",
       "    </tr>\n",
       "  </thead>\n",
       "  <tbody>\n",
       "    <tr>\n",
       "      <th>0</th>\n",
       "      <td>Russell Westbrook</td>\n",
       "      <td>PG</td>\n",
       "      <td>OKC</td>\n",
       "      <td>67</td>\n",
       "      <td>34.4</td>\n",
       "      <td>28.1</td>\n",
       "      <td>9.4-22.0</td>\n",
       "      <td>.426</td>\n",
       "      <td>1.3-4.3</td>\n",
       "      <td>.299</td>\n",
       "      <td>8.1-9.8</td>\n",
       "      <td>.835</td>\n",
       "    </tr>\n",
       "    <tr>\n",
       "      <th>1</th>\n",
       "      <td>James Harden</td>\n",
       "      <td>SG</td>\n",
       "      <td>HOU</td>\n",
       "      <td>81</td>\n",
       "      <td>36.8</td>\n",
       "      <td>27.4</td>\n",
       "      <td>8.0-18.1</td>\n",
       "      <td>.440</td>\n",
       "      <td>2.6-6.9</td>\n",
       "      <td>.375</td>\n",
       "      <td>8.8-10.2</td>\n",
       "      <td>.868</td>\n",
       "    </tr>\n",
       "    <tr>\n",
       "      <th>2</th>\n",
       "      <td>Kevin Durant</td>\n",
       "      <td>SF</td>\n",
       "      <td>OKC</td>\n",
       "      <td>27</td>\n",
       "      <td>33.8</td>\n",
       "      <td>25.4</td>\n",
       "      <td>8.8-17.3</td>\n",
       "      <td>.510</td>\n",
       "      <td>2.4-5.9</td>\n",
       "      <td>.403</td>\n",
       "      <td>5.4-6.3</td>\n",
       "      <td>.854</td>\n",
       "    </tr>\n",
       "    <tr>\n",
       "      <th>3</th>\n",
       "      <td>LeBron James</td>\n",
       "      <td>SF</td>\n",
       "      <td>CLE</td>\n",
       "      <td>69</td>\n",
       "      <td>36.1</td>\n",
       "      <td>25.3</td>\n",
       "      <td>9.0-18.5</td>\n",
       "      <td>.488</td>\n",
       "      <td>1.7-4.9</td>\n",
       "      <td>.354</td>\n",
       "      <td>5.4-7.7</td>\n",
       "      <td>.710</td>\n",
       "    </tr>\n",
       "    <tr>\n",
       "      <th>4</th>\n",
       "      <td>Anthony Davis</td>\n",
       "      <td>PF</td>\n",
       "      <td>NO</td>\n",
       "      <td>68</td>\n",
       "      <td>36.1</td>\n",
       "      <td>24.4</td>\n",
       "      <td>9.4-17.6</td>\n",
       "      <td>.535</td>\n",
       "      <td>0.0-0.2</td>\n",
       "      <td>.083</td>\n",
       "      <td>5.5-6.8</td>\n",
       "      <td>.805</td>\n",
       "    </tr>\n",
       "  </tbody>\n",
       "</table>\n",
       "</div>"
      ],
      "text/plain": [
       "              PLAYER POSITION TEAM  GP   MPG   PTS   FGM-FGA   FG%  3PM-3PA  \\\n",
       "0  Russell Westbrook       PG  OKC  67  34.4  28.1  9.4-22.0  .426  1.3-4.3   \n",
       "1       James Harden       SG  HOU  81  36.8  27.4  8.0-18.1  .440  2.6-6.9   \n",
       "2       Kevin Durant       SF  OKC  27  33.8  25.4  8.8-17.3  .510  2.4-5.9   \n",
       "3       LeBron James       SF  CLE  69  36.1  25.3  9.0-18.5  .488  1.7-4.9   \n",
       "4      Anthony Davis       PF   NO  68  36.1  24.4  9.4-17.6  .535  0.0-0.2   \n",
       "\n",
       "    3P%   FTM-FTA   FT%  \n",
       "0  .299   8.1-9.8  .835  \n",
       "1  .375  8.8-10.2  .868  \n",
       "2  .403   5.4-6.3  .854  \n",
       "3  .354   5.4-7.7  .710  \n",
       "4  .083   5.5-6.8  .805  "
      ]
     },
     "execution_count": 16,
     "metadata": {},
     "output_type": "execute_result"
    }
   ],
   "source": [
    "np_array = np.array(players_stats_array)\n",
    "df = pd.DataFrame(np_array, columns=cols) #dictate what column names should be when we create dataframe\n",
    "df.head()\n",
    "#this is quicker and in proper order"
   ]
  },
  {
   "cell_type": "markdown",
   "metadata": {},
   "source": [
    "##Exercise\n",
    "\n",
    "The goal of this exercise is to combine the scoring and assists statistics for every player in the NBA in 2014-2015.  The end result will have them in a pandas dataframe with the fields from both pages for every player.\n",
    "\n",
    "The general steps should be as follows:\n",
    "- Create a function get_cols that retrieves the names of the header columns given a table element (skip the ranks, split the positions)\n",
    "- Create a function get_data that retrieves the actual table data given a table element (skip the ranks, split the positions).  You can use either the dict approach or the numpy array approach.\n",
    "- Write a python loop to loop through the various pages and call these functions on the appropriate urls so that you can retrieve every player (rather than just the top few).\n",
    "- Repeat the above on both the scoring and assists URLs to get a pandas dataframe for both of them\n",
    "- Use the pandas.DataFrame.join() function to join your 2 pandas dataframes together and get a total result"
   ]
  },
  {
   "cell_type": "code",
   "execution_count": 32,
   "metadata": {
    "collapsed": false
   },
   "outputs": [],
   "source": [
    "#create function that retrieves the names of the header cols given a table element (skip ranks, split positions)\n",
    "#finds the header, returns a list of headers\n",
    "def get_cols(tbl):\n",
    "    #we are looking for distinguishing header row from other rows; in this case, it is distinguised by class \"colhead\"\n",
    "    table_head = tbl.find(attrs={\"class\":'colhead'}) #find rows where class = colhead\n",
    "    \n",
    "    header_cols = table_head.findAll('td') #td = table data = an HTML tag\n",
    "    \n",
    "    cols = [] #empty list that will create all the headers\n",
    "    for header_col in header_cols: #headercols = list of td tags\n",
    "        val = header_col.string\n",
    "        if val != 'RK':\n",
    "            cols.append(val)\n",
    "        if val == 'PLAYER':\n",
    "            cols.append('POSITION')\n",
    "    return cols\n",
    "\n",
    "#create function that retrieves the actual table data given a table element (skip ranks, split positions)\n",
    "#step through data and return list of lists OR dictionary\n",
    "def get_data(tbl):\n",
    "    table_rows = tbl.findAll('tr')\n",
    "    player_stats_dicts = []\n",
    "    for row in table_rows:\n",
    "        if row.attrs['class'][0]=='colhead': #check if attribute of class is colhead\n",
    "            continue\n",
    "        player_stats = []\n",
    "        row_cols = row.find_all('td')\n",
    "        col_vals = []\n",
    "        #first column is rank (we dont care)\n",
    "        player_col = row_cols[1]\n",
    "        #a tags are for adding hyperlinks; actual value is within a tag\n",
    "        player_name = player_col.find('a').string\n",
    "        #player position is outside a tag but within player_col tag\n",
    "        player_position = player_col.contents[1]\n",
    "        #player position is structed ', [position]' so we need to get rid of comma and space\n",
    "        #splitting on space returns list of elements, where first element is ',' and 2nd element is [position]\n",
    "        #split splits a string by some delimiter and returns all the elements in between\n",
    "        player_position = player_position.split(' ')[1]\n",
    "        player_stats.append(player_name)\n",
    "        player_stats.append(player_position)\n",
    "        #loop through remaining columns and add stats\n",
    "        for i in range(2, len(row_cols)):\n",
    "            stat = row_cols[i].string\n",
    "            player_stats.append(stat)\n",
    "        #zip takes 2 lists (eg cols and player_status) and turns into a tuple: a set of key-value pairs; if lists are different length, it will take length of shorter\n",
    "        player_stats = dict(zip(get_cols(tbl), player_stats))\n",
    "        player_stats_dicts.append(player_stats)\n",
    "    return player_stats_dicts\n",
    "\n",
    "#all tables in ESPN stats have same format\n",
    "#use for Loop to step through each page; some parameter in the URL will be different between different pages\n",
    "#assist stats are off to the right; very comparable; use join similar to SQL\n",
    "#need to loop through pages for regular + assists\n",
    "#end result will be combined dataframe: for each player, show scoring + assists\n",
    "#header is same on every page (?)....but data is different\n",
    "#do both tables by playerName; don't worry about duplicate players\n",
    "\n",
    "import pandas as pd\n",
    "import numpy as np\n",
    "from bs4 import BeautifulSoup\n",
    "import urllib2\n",
    "\n",
    "df_scoring_total = pd.DataFrame()\n",
    "df_assists_total = pd.DataFrame()\n",
    "\n",
    "#python loop to go through pages and retrieve scoring and assist data on every player\n",
    "for i in range(0, 13):\n",
    "    if i == 0:\n",
    "        scoring_URL = 'http://espn.go.com/nba/statistics/player/_/stat/scoring-per-game/qualified/false'\n",
    "        assists_URL = 'http://espn.go.com/nba/statistics/player/_/stat/assists/qualified/false'\n",
    "    else:\n",
    "        scoring_URL = 'http://espn.go.com/nba/statistics/player/_/stat/scoring-per-game/sort/avgPoints/qualified/false/count/' + str(1 + (i * 40))\n",
    "        assists_URL = 'http://espn.go.com/nba/statistics/player/_/stat/assists/sort/avgAssists/qualified/false/count/' + str(1 + (i * 40))\n",
    "    \n",
    "    page_scoring = urllib2.urlopen(scoring_URL).read()\n",
    "    page_assists = urllib2.urlopen(assists_URL).read() \n",
    "    #make BeautifulSoup objects\n",
    "    soup_scoring = BeautifulSoup(page_scoring)\n",
    "    soup_assists = BeautifulSoup(page_assists)\n",
    "    \n",
    "    table_div_scoring = soup_scoring.find(id='my-players-table')\n",
    "    table_div_assists = soup_assists.find(id='my-players-table')\n",
    "    \n",
    "    tbl_scoring = table_div_scoring.find(\"table\")\n",
    "    tbl_assists = table_div_assists.find(\"table\")\n",
    "    \n",
    "    df_scoring = pd.DataFrame.from_dict(get_data(tbl_scoring))\n",
    "    df_assists = pd.DataFrame.from_dict(get_data(tbl_assists))\n",
    "    \n",
    "    if i == 0:\n",
    "        df_scoring_total = df_scoring\n",
    "        df_assists_total = df_assists\n",
    "    else:\n",
    "        x = [df_scoring_total, df_scoring]\n",
    "        df_scoring_total = pd.concat(x)\n",
    "        y = [df_assists_total, df_assists]\n",
    "        df_assists_total = pd.concat(y)\n",
    "        #df_scoring_total.append(df_scoring)\n",
    "        #df_assists_total.append(df_assists)\n",
    "        \n",
    "#df_combined = df_scoring_total.join(df_assists_total, on = u'PLAYER', how = 'inner', lsuffix = '_left', rsuffix = '_right')\n",
    "#the above line returns no rows for some reason, even though I checked that both DF's being joined contain data before being joined\n",
    "\n",
    "df_combined = pd.merge(df_scoring_total, df_assists_total, on = 'PLAYER')\n",
    "df_combined.to_csv('test.csv')\n",
    "    "
   ]
  },
  {
   "cell_type": "code",
   "execution_count": null,
   "metadata": {
    "collapsed": true
   },
   "outputs": [],
   "source": []
  }
 ],
 "metadata": {
  "kernelspec": {
   "display_name": "Python 2",
   "language": "python",
   "name": "python2"
  },
  "language_info": {
   "codemirror_mode": {
    "name": "ipython",
    "version": 2
   },
   "file_extension": ".py",
   "mimetype": "text/x-python",
   "name": "python",
   "nbconvert_exporter": "python",
   "pygments_lexer": "ipython2",
   "version": "2.7.9"
  }
 },
 "nbformat": 4,
 "nbformat_minor": 0
}
